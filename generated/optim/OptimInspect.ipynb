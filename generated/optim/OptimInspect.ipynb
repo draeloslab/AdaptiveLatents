{
 "cells": [
  {
   "cell_type": "markdown",
   "id": "0",
   "metadata": {},
   "source": [
    "# bw hyperparameters"
   ]
  },
  {
   "cell_type": "code",
   "execution_count": null,
   "id": "1",
   "metadata": {
    "tags": []
   },
   "outputs": [],
   "source": [
    "# import sys\n",
    "# sys.path.append(\"/home/jgould/Documents/Bubblewrap/scripts/\")\n",
    "# from optim import evaluate\n",
    "\n",
    "from ax.storage.json_store.load import load_experiment\n",
    "import ax\n",
    "from ax.service.ax_client import AxClient\n",
    "\n",
    "from ax.plot.scatter import (\n",
    "    interact_fitted,\n",
    "    plot_objective_vs_constraints,\n",
    "    tile_fitted,\n",
    ")"
   ]
  },
  {
   "cell_type": "code",
   "execution_count": null,
   "id": "2",
   "metadata": {
    "tags": []
   },
   "outputs": [],
   "source": [
    "ax_client = AxClient.load_from_json_file(\"ax_bw_2step_mse_snapshot.json\");"
   ]
  },
  {
   "cell_type": "code",
   "execution_count": null,
   "id": "3",
   "metadata": {
    "tags": []
   },
   "outputs": [],
   "source": [
    "df = ax_client.get_trials_data_frame()\n",
    "df"
   ]
  },
  {
   "cell_type": "code",
   "execution_count": null,
   "id": "4",
   "metadata": {
    "tags": []
   },
   "outputs": [],
   "source": [
    "df.plot.scatter(\"bw_log_pred_pr\", \"regression_mse\")"
   ]
  },
  {
   "cell_type": "code",
   "execution_count": null,
   "id": "5",
   "metadata": {
    "tags": []
   },
   "outputs": [],
   "source": [
    "ax_client.get_next_trial();"
   ]
  },
  {
   "cell_type": "code",
   "execution_count": null,
   "id": "6",
   "metadata": {
    "tags": []
   },
   "outputs": [],
   "source": [
    "%%time\n",
    "best_parameters, values = ax_client.get_best_parameters(use_model_predictions=True)\n",
    "print(f\"Best parameters: {best_parameters}\")\n",
    "print(f\"Corresponding mean: {values[0]}, covariance: {values[1]}\")"
   ]
  },
  {
   "cell_type": "code",
   "execution_count": null,
   "id": "7",
   "metadata": {
    "tags": []
   },
   "outputs": [],
   "source": [
    "from ax.utils.notebook.plotting import render"
   ]
  },
  {
   "cell_type": "code",
   "execution_count": null,
   "id": "8",
   "metadata": {
    "tags": []
   },
   "outputs": [],
   "source": [
    "pnames = [\"num\", \"B_thresh\", \"eps\"]"
   ]
  },
  {
   "cell_type": "code",
   "execution_count": null,
   "id": "9",
   "metadata": {
    "tags": []
   },
   "outputs": [],
   "source": [
    "def contour(x, y, z, parameters=best_parameters):\n",
    "    render(ax.plot.contour.plot_contour(ax_client.generation_strategy.model, x, y, z, slice_values=parameters, lower_is_better=True))"
   ]
  },
  {
   "cell_type": "code",
   "execution_count": null,
   "id": "10",
   "metadata": {
    "tags": []
   },
   "outputs": [],
   "source": [
    "contour(pnames[0], pnames[1], \"regression_mse\")"
   ]
  },
  {
   "cell_type": "code",
   "execution_count": null,
   "id": "11",
   "metadata": {
    "tags": []
   },
   "outputs": [],
   "source": [
    "render(ax_client.get_optimization_trace())"
   ]
  },
  {
   "cell_type": "code",
   "execution_count": null,
   "id": "12",
   "metadata": {
    "tags": []
   },
   "outputs": [],
   "source": [
    "from ax.plot.slice import plot_slice"
   ]
  },
  {
   "cell_type": "code",
   "execution_count": null,
   "id": "13",
   "metadata": {
    "tags": []
   },
   "outputs": [],
   "source": [
    "render(plot_slice(ax_client.generation_strategy.model, \"num\", \"regression_mse\", slice_values=best_parameters))"
   ]
  },
  {
   "cell_type": "code",
   "execution_count": null,
   "id": "14",
   "metadata": {
    "tags": []
   },
   "outputs": [],
   "source": [
    "render(interact_fitted(ax_client.generation_strategy.model, rel=False))"
   ]
  },
  {
   "cell_type": "markdown",
   "id": "15",
   "metadata": {},
   "source": [
    "# regression hyperparameters"
   ]
  },
  {
   "cell_type": "code",
   "execution_count": null,
   "id": "16",
   "metadata": {
    "tags": []
   },
   "outputs": [],
   "source": [
    "ax_client = AxClient.load_from_json_file(\"ax_sn_2step_jpca_defaults_snapshot.json\");"
   ]
  },
  {
   "cell_type": "code",
   "execution_count": null,
   "id": "17",
   "metadata": {
    "tags": []
   },
   "outputs": [],
   "source": [
    "df = ax_client.get_trials_data_frame()\n",
    "df"
   ]
  },
  {
   "cell_type": "code",
   "execution_count": null,
   "id": "18",
   "metadata": {
    "tags": []
   },
   "outputs": [],
   "source": [
    "df[df.regression_mse < 70]"
   ]
  },
  {
   "cell_type": "code",
   "execution_count": null,
   "id": "19",
   "metadata": {
    "tags": []
   },
   "outputs": [],
   "source": [
    "ax_client.get_next_trial();"
   ]
  },
  {
   "cell_type": "code",
   "execution_count": null,
   "id": "20",
   "metadata": {
    "tags": []
   },
   "outputs": [],
   "source": [
    "%%time\n",
    "best_parameters, values = ax_client.get_best_parameters(use_model_predictions=False)\n",
    "ks = list(values[1].keys())\n",
    "print(f\"Best parameters: {best_parameters}\")\n",
    "print(f\"Corresponding mean: {values[0]}, covariance: {np.array([ [values[1][k1][k2] if k2 in values[1][k1] else np.nan for k2 in ks] for k1 in ks ])}\")\n",
    "print(ks)"
   ]
  },
  {
   "cell_type": "code",
   "execution_count": null,
   "id": "21",
   "metadata": {
    "tags": []
   },
   "outputs": [],
   "source": [
    "from ax.utils.notebook.plotting import render"
   ]
  },
  {
   "cell_type": "code",
   "execution_count": null,
   "id": "22",
   "metadata": {
    "tags": []
   },
   "outputs": [],
   "source": [
    "pnames = [\"forgetting_factor\", \"noise_scale\", \"n_perturbations\"]"
   ]
  },
  {
   "cell_type": "code",
   "execution_count": null,
   "id": "23",
   "metadata": {
    "tags": []
   },
   "outputs": [],
   "source": [
    "def contour(x, y, z, parameters=best_parameters):\n",
    "    render(ax.plot.contour.plot_contour(ax_client.generation_strategy.model, x, y, z, slice_values=parameters, lower_is_better=True))"
   ]
  },
  {
   "cell_type": "code",
   "execution_count": null,
   "id": "24",
   "metadata": {
    "tags": []
   },
   "outputs": [],
   "source": [
    "contour(pnames[0], pnames[1], \"regression_mse\")"
   ]
  },
  {
   "cell_type": "code",
   "execution_count": null,
   "id": "25",
   "metadata": {
    "tags": []
   },
   "outputs": [],
   "source": [
    "render(ax_client.get_optimization_trace())"
   ]
  },
  {
   "cell_type": "code",
   "execution_count": null,
   "id": "26",
   "metadata": {
    "tags": []
   },
   "outputs": [],
   "source": [
    "from ax.plot.slice import plot_slice"
   ]
  },
  {
   "cell_type": "code",
   "execution_count": null,
   "id": "27",
   "metadata": {
    "tags": []
   },
   "outputs": [],
   "source": [
    "render(plot_slice(ax_client.generation_strategy.model, \"noise_scale\", \"regression_mse\", slice_values=best_parameters))"
   ]
  },
  {
   "cell_type": "code",
   "execution_count": null,
   "id": "28",
   "metadata": {
    "tags": []
   },
   "outputs": [],
   "source": [
    "render(interact_fitted(ax_client.generation_strategy.model, rel=False))"
   ]
  }
 ],
 "metadata": {
  "kernelspec": {
   "display_name": "Python 3 (ipykernel)",
   "language": "python",
   "name": "python3"
  },
  "language_info": {
   "codemirror_mode": {
    "name": "ipython",
    "version": 3
   },
   "file_extension": ".py",
   "mimetype": "text/x-python",
   "name": "python",
   "nbconvert_exporter": "python",
   "pygments_lexer": "ipython3",
   "version": "3.10.12"
  }
 },
 "nbformat": 4,
 "nbformat_minor": 5
}
