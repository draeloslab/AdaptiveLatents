{
 "cells": [
  {
   "cell_type": "code",
   "execution_count": null,
   "id": "0",
   "metadata": {
    "tags": []
   },
   "outputs": [],
   "source": [
    "import scipy\n",
    "import numpy as np\n",
    "import h5py\n",
    "import matplotlib.pyplot as plt\n",
    "import bubblewrap"
   ]
  },
  {
   "cell_type": "markdown",
   "id": "1",
   "metadata": {
    "tags": []
   },
   "source": [
    "# Monkey Reach (Indy)\n",
    "[source](https://zenodo.org/record/3854034)"
   ]
  },
  {
   "cell_type": "code",
   "execution_count": null,
   "id": "2",
   "metadata": {
    "tags": []
   },
   "outputs": [],
   "source": [
    "fhan = h5py.File(bubblewrap.config.CONFIG[\"data_path\"] / 'indy_20160407_02.mat', 'r')"
   ]
  },
  {
   "cell_type": "code",
   "execution_count": null,
   "id": "3",
   "metadata": {
    "tags": []
   },
   "outputs": [],
   "source": [
    "# this is a first pass I'm using to find the first and last spikes\n",
    "l = []\n",
    "for j in range(fhan['spikes'].shape[1]):\n",
    "    for i in range(fhan['spikes'].shape[0]):\n",
    "        v = np.squeeze(fhan[fhan['spikes'][i,j]])\n",
    "        if v[0] > 50: # empy channels have one spike very early while everything else is quiet\n",
    "            l.append(v)\n",
    "\n",
    "# this finds the first and last spikes in the dataset so we can set our bin boundaries\n",
    "ll = [leaf for tree in l for leaf in tree]\n",
    "stop = np.ceil(max(ll))\n",
    "start = np.floor(min(ll))\n",
    "\n",
    "# this creates the bins we'll use to group spikes\n",
    "bin_width = .03 # units are seconds\n",
    "bins = np.arange(start,stop, bin_width)\n",
    "bin_centers = np.convolve([.5, .5], bins, \"valid\")"
   ]
  },
  {
   "cell_type": "code",
   "execution_count": null,
   "id": "4",
   "metadata": {
    "tags": []
   },
   "outputs": [],
   "source": [
    "# columns of A are channels, rows are time bins\n",
    "A = np.zeros(shape=(bins.shape[0]-1,len(l)))\n",
    "c = 0 # we need this because some channels are empty\n",
    "for j in range(fhan['spikes'].shape[1]):\n",
    "    for i in range(fhan['spikes'].shape[0]):\n",
    "        v = np.squeeze(fhan[fhan['spikes'][i,j]])\n",
    "        if v[0] > 50:\n",
    "                A[:, c],_ =  np.histogram(np.squeeze(fhan[fhan['spikes'][i,j]]), bins=bins)\n",
    "            c += 1"
   ]
  },
  {
   "cell_type": "code",
   "execution_count": null,
   "id": "5",
   "metadata": {
    "tags": []
   },
   "outputs": [],
   "source": [
    "np.squeeze(fhan[fhan['spikes'][1,1]]) # this is an array of spike times"
   ]
  },
  {
   "cell_type": "code",
   "execution_count": null,
   "id": "6",
   "metadata": {
    "tags": []
   },
   "outputs": [],
   "source": [
    "# load behavior data\n",
    "raw_behavior = fhan['finger_pos'][:].T\n",
    "t = fhan[\"t\"][0]\n",
    "\n",
    "# this resamples the behavior so it's in sync with the binned spikes\n",
    "behavior = np.zeros((bin_centers.shape[0],raw_behavior.shape[1]))\n",
    "for c in range(behavior.shape[1]):\n",
    "    behavior[:,c] = np.interp(bin_centers, t, raw_behavior[:,c])\n",
    "    "
   ]
  },
  {
   "cell_type": "code",
   "execution_count": null,
   "id": "7",
   "metadata": {
    "tags": []
   },
   "outputs": [],
   "source": [
    "mask = bin_centers > 70 # behavior is near-constant before 70 seconds\n",
    "bin_centers, behavior, A = bin_centers[mask], behavior[mask], A[mask] "
   ]
  },
  {
   "cell_type": "code",
   "execution_count": null,
   "id": "8",
   "metadata": {
    "tags": []
   },
   "outputs": [],
   "source": [
    "np.savez(\"indy_full.npz\", y=A[None,:,:], x=behavior)"
   ]
  },
  {
   "cell_type": "code",
   "execution_count": null,
   "id": "9",
   "metadata": {},
   "outputs": [],
   "source": [
    "plt.plot(bin_centers[:300], behavior[:300]);\n",
    "plt.title(\"Hand position over time\");\n",
    "plt.xlabel(\"time (s)\");"
   ]
  },
  {
   "cell_type": "code",
   "execution_count": null,
   "id": "10",
   "metadata": {
    "tags": []
   },
   "outputs": [],
   "source": [
    "plt.imshow(A, aspect='auto', interpolation='nearest');\n",
    "plt.title(\"Firing rate matrix\");\n",
    "plt.ylabel(\"time (bins)\");\n",
    "plt.xlabel(\"unit (neuron)\");"
   ]
  },
  {
   "cell_type": "code",
   "execution_count": null,
   "id": "11",
   "metadata": {
    "tags": []
   },
   "outputs": [],
   "source": [
    "plt.imshow(bubblewrap.input_sources.functional.prosvd_data(A[1100:1200], 20, 20), aspect='auto', interpolation='nearest');\n",
    "plt.xlabel(\"latent\");\n",
    "plt.title(\"ProSVD of a slice of FR Matrix\");\n",
    "plt.ylabel(\"time (bins)\");"
   ]
  },
  {
   "cell_type": "code",
   "execution_count": null,
   "id": "12",
   "metadata": {
    "tags": []
   },
   "outputs": [],
   "source": [
    "plt.imshow(behavior, aspect='auto', interpolation='nearest')"
   ]
  },
  {
   "cell_type": "markdown",
   "id": "13",
   "metadata": {},
   "source": [
    "# Buzaki Lab data\n",
    "[source](https://crcns.org/data-sets/thalamus/th-1/about-th-1)"
   ]
  },
  {
   "cell_type": "code",
   "execution_count": null,
   "id": "14",
   "metadata": {
    "tags": []
   },
   "outputs": [],
   "source": [
    "import os\n",
    "import numpy as np\n",
    "import matplotlib.pyplot as plt"
   ]
  },
  {
   "cell_type": "code",
   "execution_count": null,
   "id": "15",
   "metadata": {
    "tags": []
   },
   "outputs": [],
   "source": [
    "# mv /home/jgould/Downloads/Mouse*.tar.gz /home/jgould/Documents/Bubblewrap/generated/datasets/buzaki/\n",
    "# !tar -xvf Mouse24-131216.tar.gz"
   ]
  },
  {
   "cell_type": "code",
   "execution_count": null,
   "id": "16",
   "metadata": {
    "tags": []
   },
   "outputs": [],
   "source": [
    "cd /home/jgould/"
   ]
  },
  {
   "cell_type": "code",
   "execution_count": null,
   "id": "17",
   "metadata": {
    "tags": []
   },
   "outputs": [],
   "source": [
    "ls"
   ]
  },
  {
   "cell_type": "code",
   "execution_count": null,
   "id": "18",
   "metadata": {
    "tags": []
   },
   "outputs": [],
   "source": [
    "datasets = [\"Mouse12-120806\", \"Mouse12-120807\", \"Mouse24-131216\"]"
   ]
  },
  {
   "cell_type": "code",
   "execution_count": null,
   "id": "19",
   "metadata": {
    "tags": []
   },
   "outputs": [],
   "source": [
    "def construct_buzaki_data(base, bin_size):\n",
    "    parent_folder = bw.CONFIG[\"data_path\"] / 'buzaki'\n",
    "    def read_int_file(fname):\n",
    "        with open(fname) as fhan:\n",
    "            ret = []\n",
    "            for line in fhan:\n",
    "                line = int(line.strip())\n",
    "                ret.append(line)\n",
    "            return ret\n",
    "        \n",
    "    shanks = []\n",
    "    for n in range(30):\n",
    "        shanks.append(os.path.isfile(parent_folder / base / f\"{base}.clu.{n}\"))\n",
    "\n",
    "    assert not any(shanks[20:])\n",
    "    shanks = np.nonzero(shanks)[0]\n",
    "\n",
    "    sampling_rate = 20_000\n",
    "    clusters_to_ignore = {0,1}\n",
    "\n",
    "    shank_datas = []\n",
    "    cluster_mapping = {} # this will be a bijective dictionary between the (shank, cluster) and unit_number (also nan entries)\n",
    "\n",
    "    min_time = float(\"inf\")\n",
    "    max_time = 0\n",
    "    used_columns = 0\n",
    "    for shank in shanks:\n",
    "        clusters = read_int_file(parent_folder / base / f\"{base}.clu.{shank}\")\n",
    "        n_clusters = clusters[0]\n",
    "        clusters = clusters[1:]\n",
    "\n",
    "        # TODO: check if I should exclude the hash unit\n",
    "        for cluster in np.unique(clusters):\n",
    "            if cluster not in clusters_to_ignore:\n",
    "                cluster_mapping[(shank, cluster)] = used_columns\n",
    "                used_columns += 1\n",
    "                cluster_mapping[cluster_mapping[(shank, cluster)]] = (shank, cluster)\n",
    "            else:\n",
    "                cluster_mapping[(shank, cluster)] = np.nan\n",
    "\n",
    "\n",
    "        clusters = [cluster_mapping[(shank,c)] for c in clusters]\n",
    "        times = read_int_file(parent_folder / base / f\"{base}.res.{shank}\")\n",
    "\n",
    "        pairs = np.array([times, clusters]).T\n",
    "        pairs = pairs[~np.isnan(pairs[:,1]),:]\n",
    "\n",
    "        if len(pairs):\n",
    "            pairs[:,0] /= sampling_rate\n",
    "\n",
    "\n",
    "            min_time = min(min_time, pairs[:,0].min())\n",
    "            max_time = max(max_time, pairs[:,0].max())\n",
    "\n",
    "\n",
    "            shank_datas.append(pairs)\n",
    "            \n",
    "    bins = np.arange(min_time, max_time + bin_size, bin_size)\n",
    "    bin_centers = np.convolve([.5, .5], bins, \"valid\")\n",
    "    A = np.zeros((len(bins)-1, used_columns ))\n",
    "\n",
    "    for shank_data in shank_datas:\n",
    "        max_lower_bound = 0\n",
    "        last_time = 0\n",
    "        for time, cluster in shank_data:\n",
    "            assert time >= last_time\n",
    "            while time > bins[max_lower_bound + 1]:\n",
    "                max_lower_bound += 1\n",
    "            A[max_lower_bound, int(cluster)] += 1\n",
    "            last_time = time\n",
    "\n",
    "    with open(parent_folder / base / f\"{base}.whl\", \"r\") as fhan:\n",
    "        coords = [[] for _ in range(4)]\n",
    "        for line in fhan:\n",
    "            line = [float(x) for x in line[:-1].split(\"\\t\")]\n",
    "            for i in range(4):\n",
    "                coords[i].append(line[i])\n",
    "\n",
    "    raw_behavior = np.array(coords).T\n",
    "\n",
    "    sampling_rate = 39.06\n",
    "    t = np.arange(raw_behavior.shape[0])/sampling_rate\n",
    "    \n",
    "    raw_behavior[raw_behavior == -1] = np.nan\n",
    "    \n",
    "    return A, raw_behavior, bin_centers, t"
   ]
  },
  {
   "cell_type": "code",
   "execution_count": null,
   "id": "20",
   "metadata": {
    "tags": []
   },
   "outputs": [],
   "source": [
    "def resample_behavior(raw_behavior,bin_centers,t):\n",
    "    good_samples = ~np.any(np.isnan(raw_behavior), axis=1)\n",
    "    resampled_behavior = np.zeros((bin_centers.shape[0], raw_behavior.shape[1]))\n",
    "    for c in range(resampled_behavior.shape[1]):\n",
    "        resampled_behavior[:,c] = np.interp(bin_centers, t[good_samples], raw_behavior[good_samples,c])\n",
    "    return resampled_behavior"
   ]
  },
  {
   "cell_type": "code",
   "execution_count": null,
   "id": "21",
   "metadata": {
    "tags": []
   },
   "outputs": [],
   "source": [
    "A, raw_behavior, bin_centers, t = construct_buzaki_data(datasets[0], 0.03)"
   ]
  },
  {
   "cell_type": "code",
   "execution_count": null,
   "id": "22",
   "metadata": {
    "tags": []
   },
   "outputs": [],
   "source": [
    "rbehavior = resample_behavior(raw_behavior, bin_centers, t)"
   ]
  },
  {
   "cell_type": "code",
   "execution_count": null,
   "id": "23",
   "metadata": {
    "tags": []
   },
   "outputs": [],
   "source": [
    "plt.imshow(A[:200], aspect='auto', interpolation='none')"
   ]
  },
  {
   "cell_type": "code",
   "execution_count": null,
   "id": "24",
   "metadata": {
    "tags": []
   },
   "outputs": [],
   "source": [
    "bad = np.any(raw_behavior==-1,axis=1)\n",
    "plt.plot(t,bad, '.')\n",
    "plt.yticks([0,1], labels=[\"present\", \"missing\"])\n",
    "plt.title(f\"Proportion of missing samples: {bad.mean():.3f}\");"
   ]
  },
  {
   "cell_type": "code",
   "execution_count": null,
   "id": "25",
   "metadata": {
    "tags": []
   },
   "outputs": [],
   "source": [
    "c = raw_behavior[~np.any(raw_behavior==-1,axis=1)]\n",
    "plt.plot(c[:,0], c[:,1])\n",
    "plt.axis(\"equal\");\n",
    "plt.title(\"LED 1 position during good samples\");"
   ]
  },
  {
   "cell_type": "code",
   "execution_count": null,
   "id": "26",
   "metadata": {
    "tags": []
   },
   "outputs": [],
   "source": [
    "hd = np.arctan2(resampled_behavior[:,0] - resampled_behavior[:,2], resampled_behavior[:,1] - resampled_behavior[:,3])"
   ]
  },
  {
   "cell_type": "markdown",
   "id": "27",
   "metadata": {},
   "source": [
    "## Testing"
   ]
  },
  {
   "cell_type": "code",
   "execution_count": null,
   "id": "28",
   "metadata": {
    "tags": []
   },
   "outputs": [],
   "source": [
    "rng = np.random.default_rng()"
   ]
  },
  {
   "cell_type": "code",
   "execution_count": null,
   "id": "29",
   "metadata": {
    "tags": []
   },
   "outputs": [],
   "source": [
    "neuron = rng.integers(low=0, high=A.shape[1])\n",
    "# neuron = 59\n",
    "# neuron = 6\n",
    "# neuron = 24\n",
    "\n",
    "hd_bins = np.linspace(-np.pi, np.pi, 50)\n",
    "hd_occupancy = np.histogram(hd, hd_bins)[0]\n",
    "hd_centers = np.convolve(hd_bins, [.5, .5], 'valid')\n",
    "\n",
    "counts = []\n",
    "for i in range(len(hd_bins)-1):\n",
    "    mask = (hd_bins[i] <= hd) & (hd < hd_bins[i+1])\n",
    "    counts.append(A[mask,neuron].sum())\n",
    "counts = counts/hd_occupancy\n",
    "\n",
    "permutation1 = rng.permutation(len(A))\n",
    "permutation2 = rng.permutation(len(hd))\n",
    "shuf_counts = []\n",
    "for i in range(len(hd_bins)-1):\n",
    "    mask = (hd_bins[i] <= hd[permutation2]) & (hd[permutation2] < hd_bins[i+1])\n",
    "    shuf_counts.append(A[permutation1[mask],neuron].sum())\n",
    "shuf_counts = shuf_counts/hd_occupancy\n",
    "\n",
    "\n",
    "\n",
    "fig, ax = plt.subplots(ncols=2,subplot_kw={'projection': 'polar'})\n",
    "\n",
    "ax[0].plot(hd_centers, counts)\n",
    "ax[0].grid(True)\n",
    "ax[0].set_title(f\"neuron {neuron} HD selectivity\")\n",
    "ax[0].set_rticks([]);\n",
    "\n",
    "ax[1].plot(hd_centers, shuf_counts)\n",
    "ax[1].grid(True)\n",
    "ax[1].set_title(f\"shuffled neuron {neuron} HD selectivity\")\n",
    "ax[1].set_rticks([]);"
   ]
  },
  {
   "cell_type": "markdown",
   "id": "30",
   "metadata": {},
   "source": [
    "# Fly Data"
   ]
  },
  {
   "cell_type": "code",
   "execution_count": null,
   "id": "31",
   "metadata": {
    "tags": []
   },
   "outputs": [],
   "source": [
    "import numpy as np\n",
    "from pynwb import NWBHDF5IO\n",
    "from IPython.display import display\n",
    "import matplotlib.pyplot as plt\n",
    "from nwbwidgets import nwb2widget\n",
    "import glob\n",
    "import bubblewrap as bw"
   ]
  },
  {
   "cell_type": "code",
   "execution_count": null,
   "id": "32",
   "metadata": {
    "tags": []
   },
   "outputs": [],
   "source": [
    "pwd"
   ]
  },
  {
   "cell_type": "code",
   "execution_count": null,
   "id": "33",
   "metadata": {
    "tags": []
   },
   "outputs": [],
   "source": [
    "base_path = bw.CONFIG[\"data_path\"] / 'fly'"
   ]
  },
  {
   "cell_type": "code",
   "execution_count": null,
   "id": "34",
   "metadata": {
    "tags": []
   },
   "outputs": [],
   "source": [
    "for file in sorted(base_path.glob(\"*.nwb\")):\n",
    "    with NWBHDF5IO(file, mode=\"r\", load_namespaces=True) as fhan:\n",
    "        nwbfile = fhan.read()\n",
    "        n_roi = nwbfile.processing[\"ophys\"].data_interfaces[\"DfOverF\"].roi_response_series['RoiResponseSeries'].data.shape[1]\n",
    "        n_beh = nwbfile.processing['behavioral state'].data_interfaces['behavioral state'].data.shape[1]\n",
    "        print(f\"{n_roi}\\t{n_beh}\\t{file.name}\" )        "
   ]
  },
  {
   "cell_type": "code",
   "execution_count": null,
   "id": "35",
   "metadata": {
    "tags": []
   },
   "outputs": [],
   "source": [
    "for file in sorted(base_path.glob(\"*.nwb\")):\n",
    "    with NWBHDF5IO(file, mode=\"r\", load_namespaces=True) as fhan:\n",
    "        nwbfile = fhan.read()\n",
    "        n_roi = nwbfile.processing[\"ophys\"].data_interfaces[\"DfOverF\"].roi_response_series['RoiResponseSeries'].data.shape[1]\n",
    "        n_beh = nwbfile.shape[1]\n",
    "        if n_beh == 6 and n_roi > 200:\n",
    "            print(file.name)        "
   ]
  },
  {
   "cell_type": "code",
   "execution_count": null,
   "id": "36",
   "metadata": {
    "tags": []
   },
   "outputs": [],
   "source": [
    "datasets = \"\"\"2019_06_28_fly2.nwb\n",
    "2019_07_01_fly2.nwb\n",
    "2019_08_07_fly2.nwb\n",
    "2019_08_14_fly1.nwb\n",
    "2019_08_14_fly2.nwb\n",
    "2019_08_14_fly3_2.nwb\n",
    "2019_08_20_fly2.nwb\n",
    "2019_08_20_fly3.nwb\n",
    "2019_10_02_fly2.nwb\n",
    "2019_10_10_fly3.nwb\n",
    "2019_10_14_fly2.nwb\n",
    "2019_10_14_fly3.nwb\n",
    "2019_10_14_fly4.nwb\n",
    "2019_10_18_fly2.nwb\n",
    "2019_10_18_fly3.nwb\n",
    "2019_10_21_fly1.nwb\"\"\"\n",
    "\n",
    "datasets = datasets.strip().split(\"\\n\")\n",
    "datasets"
   ]
  },
  {
   "cell_type": "code",
   "execution_count": null,
   "id": "37",
   "metadata": {},
   "outputs": [],
   "source": [
    "bw."
   ]
  },
  {
   "cell_type": "code",
   "execution_count": null,
   "id": "38",
   "metadata": {
    "collapsed": true,
    "jupyter": {
     "outputs_hidden": true
    },
    "tags": []
   },
   "outputs": [],
   "source": [
    "io = NWBHDF5IO(base_path / '2019_08_20_fly2.nwb', mode=\"r\", load_namespaces=True)\n",
    "nwbfile = io.read()\n",
    "nwb2widget(nwbfile)"
   ]
  },
  {
   "cell_type": "code",
   "execution_count": null,
   "id": "39",
   "metadata": {
    "tags": []
   },
   "outputs": [],
   "source": [
    "\n",
    "\n",
    "A -= A.mean(axis=0)\n",
    "A /= A.std(axis=0, ddof=1)\n",
    "u, s, vh = np.linalg.svd(A, full_matrices=False)\n",
    "\n",
    "plt.plot(u[:,:3])"
   ]
  },
  {
   "cell_type": "code",
   "execution_count": null,
   "id": "40",
   "metadata": {
    "tags": []
   },
   "outputs": [],
   "source": [
    "fig, ax2 = plt.subplots()\n",
    "\n",
    "color = 'tab:blue'\n",
    "ax2.plot(t, beh, color=color)\n",
    "ax2.tick_params(axis='y', labelcolor=color)\n",
    "\n",
    "ax1 = ax2.twinx()\n",
    "\n",
    "\n",
    "color = 'tab:red'\n",
    "ax1.plot(t, u[:,0], color=color)\n",
    "ax1.tick_params(axis='y', labelcolor=color)\n",
    "\n",
    "fig.tight_layout() "
   ]
  },
  {
   "cell_type": "markdown",
   "id": "41",
   "metadata": {},
   "source": [
    "# Mouse Video"
   ]
  },
  {
   "cell_type": "code",
   "execution_count": null,
   "id": "42",
   "metadata": {
    "tags": []
   },
   "outputs": [],
   "source": [
    "import h5py\n",
    "import bubblewrap\n",
    "import numpy as np\n",
    "import os\n",
    "import matplotlib.pyplot as plt\n",
    "import urllib.request\n",
    "from bubblewrap import CONFIG"
   ]
  },
  {
   "cell_type": "markdown",
   "id": "43",
   "metadata": {
    "tags": []
   },
   "source": [
    "### Widefield"
   ]
  },
  {
   "cell_type": "code",
   "execution_count": null,
   "id": "44",
   "metadata": {
    "tags": []
   },
   "outputs": [],
   "source": [
    "# https://labshare.cshl.edu/shares/library/repository/38599/Widefield/mSM30/10-Oct-2017/mSM30_SpatialDisc_Oct10_2017_Session1.mat"
   ]
  },
  {
   "cell_type": "code",
   "execution_count": null,
   "id": "45",
   "metadata": {},
   "outputs": [],
   "source": [
    "base = \"https://labshare.cshl.edu/shares/library/repository/38599/Widefield/mSM30/10-Oct-2017/\"\n",
    "import urllib.request\n",
    "\n",
    "fname = \"Vc.mat\"\n",
    "if not os.path.exists(fname):\n",
    "    urllib.request.urlretrieve(f\"{base}/{fname}\", fname)"
   ]
  },
  {
   "cell_type": "code",
   "execution_count": null,
   "id": "46",
   "metadata": {},
   "outputs": [],
   "source": [
    "fhan = h5py.File(CONFIG[\"data_path\"] / \"musal\" / \"their_data\" / , 'r')"
   ]
  },
  {
   "cell_type": "code",
   "execution_count": null,
   "id": "47",
   "metadata": {
    "tags": []
   },
   "outputs": [],
   "source": [
    "for key in fhan:\n",
    "    if hasattr(fhan[key], 'shape'):\n",
    "        print(f\"{key} {fhan[key].shape}\")"
   ]
  },
  {
   "cell_type": "code",
   "execution_count": null,
   "id": "48",
   "metadata": {},
   "outputs": [],
   "source": [
    "U = fhan[\"U\"][:]\n",
    "Vc = fhan[\"Vc\"][:]"
   ]
  },
  {
   "cell_type": "code",
   "execution_count": null,
   "id": "49",
   "metadata": {},
   "outputs": [],
   "source": [
    "plt.imshow(U[40,:,:],aspect='auto')"
   ]
  },
  {
   "cell_type": "code",
   "execution_count": null,
   "id": "50",
   "metadata": {
    "tags": []
   },
   "outputs": [],
   "source": [
    "UU = U.reshape(U.shape[0], -1)\n",
    "plt.imshow(UU, aspect='auto', interpolation='none')"
   ]
  },
  {
   "cell_type": "code",
   "execution_count": null,
   "id": "51",
   "metadata": {
    "tags": []
   },
   "outputs": [],
   "source": [
    "VVc = Vc.reshape(-1, Vc.shape[-1])"
   ]
  },
  {
   "cell_type": "code",
   "execution_count": null,
   "id": "52",
   "metadata": {
    "tags": []
   },
   "outputs": [],
   "source": [
    "plt.imshow(VVc, aspect='auto', interpolation='none')"
   ]
  },
  {
   "cell_type": "code",
   "execution_count": null,
   "id": "53",
   "metadata": {
    "tags": []
   },
   "outputs": [],
   "source": [
    "U.shape"
   ]
  },
  {
   "cell_type": "code",
   "execution_count": null,
   "id": "54",
   "metadata": {
    "tags": []
   },
   "outputs": [],
   "source": [
    "VVc.shape, UU.shape"
   ]
  },
  {
   "cell_type": "code",
   "execution_count": null,
   "id": "55",
   "metadata": {
    "tags": []
   },
   "outputs": [],
   "source": [
    "test_frames = VVc[:3,:] @ UU\n",
    "test_frames = test_frames.reshape([-1,U.shape[-2], U.shape[-1]])\n",
    "plt.imshow(test_frames[0,:,:])"
   ]
  },
  {
   "cell_type": "markdown",
   "id": "56",
   "metadata": {
    "tags": []
   },
   "source": [
    "### 2p"
   ]
  },
  {
   "cell_type": "code",
   "execution_count": null,
   "id": "57",
   "metadata": {
    "tags": []
   },
   "outputs": [],
   "source": [
    "from scipy.io import loadmat\n",
    "import bubblewrap\n",
    "import numpy as np\n",
    "import os\n",
    "import matplotlib.pyplot as plt\n",
    "import urllib\n",
    "from bubblewrap import CONFIG\n",
    "import h5py\n",
    "from skimage.transform import resize\n",
    "from tqdm import tqdm\n",
    "import bubblewrap.input_sources.functional as fin"
   ]
  },
  {
   "cell_type": "code",
   "execution_count": null,
   "id": "58",
   "metadata": {
    "tags": []
   },
   "outputs": [],
   "source": [
    "ca, vid, t_ca, t_vid = fin.generate_musal_dataset(cam=2, video_target_dim=100, resize_factor=1, prosvd_init_size=100)"
   ]
  },
  {
   "cell_type": "code",
   "execution_count": null,
   "id": "59",
   "metadata": {
    "tags": []
   },
   "outputs": [],
   "source": [
    "ca, vid, t_ca, t_vid = fin.generate_musal_dataset(cam=1, video_target_dim=10, resize_factor=1, prosvd_init_size=100)"
   ]
  },
  {
   "cell_type": "code",
   "execution_count": null,
   "id": "60",
   "metadata": {
    "collapsed": true,
    "jupyter": {
     "outputs_hidden": true
    },
    "tags": []
   },
   "outputs": [],
   "source": [
    "trial_edges.astype(int)"
   ]
  },
  {
   "cell_type": "code",
   "execution_count": null,
   "id": "61",
   "metadata": {
    "tags": []
   },
   "outputs": [],
   "source": [
    "trial_edges.shape"
   ]
  },
  {
   "cell_type": "code",
   "execution_count": null,
   "id": "62",
   "metadata": {
    "tags": []
   },
   "outputs": [],
   "source": [
    "data_dir = CONFIG[\"data_path\"] / \"musal/their_data/2pData/Animals/mSM49/SpatialDisc/30-Jul-2018/\"\n",
    "variables = loadmat(data_dir/\"data.mat\",  squeeze_me=True, simplify_cells=True)\n",
    "A = variables[\"data\"]['dFOF']\n",
    "\n",
    "A = np.vstack(A.T)"
   ]
  },
  {
   "cell_type": "code",
   "execution_count": null,
   "id": "63",
   "metadata": {
    "tags": []
   },
   "outputs": [],
   "source": [
    "A.shape"
   ]
  },
  {
   "cell_type": "code",
   "execution_count": null,
   "id": "64",
   "metadata": {
    "tags": []
   },
   "outputs": [],
   "source": [
    "Data.shape"
   ]
  },
  {
   "cell_type": "code",
   "execution_count": null,
   "id": "65",
   "metadata": {
    "tags": []
   },
   "outputs": [],
   "source": [
    "trial_edges.shape"
   ]
  },
  {
   "cell_type": "code",
   "execution_count": null,
   "id": "66",
   "metadata": {
    "tags": []
   },
   "outputs": [],
   "source": [
    "A.shape"
   ]
  },
  {
   "cell_type": "code",
   "execution_count": null,
   "id": "67",
   "metadata": {
    "tags": []
   },
   "outputs": [],
   "source": [
    "np.linspace(*trial_edges[i],10)"
   ]
  },
  {
   "cell_type": "code",
   "execution_count": null,
   "id": "68",
   "metadata": {
    "tags": []
   },
   "outputs": [],
   "source": [
    "%matplotlib inline\n",
    "plt.plot(trial_edges[:,1] - trial_edges[:,0], '.')\n",
    "plt.ylabel(\"trial_end - trial_start\")\n",
    "plt.xlabel(\"trial\");"
   ]
  },
  {
   "cell_type": "code",
   "execution_count": null,
   "id": "69",
   "metadata": {
    "tags": []
   },
   "outputs": [],
   "source": [
    "?"
   ]
  },
  {
   "cell_type": "code",
   "execution_count": null,
   "id": "70",
   "metadata": {
    "tags": []
   },
   "outputs": [],
   "source": [
    "d = Data[:10]\n",
    "\n",
    "e = d.reshape(d.shape[0], -1)\n",
    "\n",
    "e =e + np.arange(e.shape[0])[:,None] * 30\n",
    "e %= 255\n",
    "e = e.reshape(d.shape)\n",
    "plt.imshow(e[7], cmap='gray')"
   ]
  },
  {
   "cell_type": "markdown",
   "id": "71",
   "metadata": {
    "tags": []
   },
   "source": [
    "### Beh"
   ]
  },
  {
   "cell_type": "code",
   "execution_count": null,
   "id": "72",
   "metadata": {
    "tags": []
   },
   "outputs": [],
   "source": [
    "# base = \"https://labshare.cshl.edu/shares/library/repository/38599/2pData/Animals/mSM60/SpatialDisc/06-Sep-2018/\"\n",
    "\n",
    "\n",
    "fname = 'mSM60_SpatialDisc_Sep06_2018_Session1.mat'\n",
    "eventual_path = bubblewrap.config.CONFIG[\"data_path\"] / \"musal\" /  fname\n",
    "if not os.path.exists(eventual_path):\n",
    "    urllib.request.urlretrieve(f\"{base}{fname}\", eventual_path)"
   ]
  },
  {
   "cell_type": "code",
   "execution_count": null,
   "id": "73",
   "metadata": {
    "tags": []
   },
   "outputs": [],
   "source": [
    "base = \"https://labshare.cshl.edu/shares/library/repository/38599/2pData/Animals/mSM60/SpatialDisc/06-Sep-2018/\"\n",
    "base = base + \"BehaviorVideo/\"\n",
    "# https://labshare.cshl.edu/shares/library/repository/38599/2pData/Animals/mSM60/SpatialDisc/06-Sep-2018/\n",
    "fname = 'SVD_CombinedSegments.mat'\n",
    "eventual_path = bubblewrap.config.CONFIG[\"data_path\"] / \"musal\" /  fname\n",
    "if not os.path.exists(eventual_path):\n",
    "    urllib.request.urlretrieve(f\"{base}{fname}\", eventual_path)"
   ]
  },
  {
   "cell_type": "code",
   "execution_count": null,
   "id": "74",
   "metadata": {
    "tags": []
   },
   "outputs": [],
   "source": [
    "fhan = loadmat(eventual_path, squeeze_me=True, simplify_cells=True)"
   ]
  },
  {
   "cell_type": "code",
   "execution_count": null,
   "id": "75",
   "metadata": {
    "tags": []
   },
   "outputs": [],
   "source": [
    "fhan['allTimes'][0].shape"
   ]
  },
  {
   "cell_type": "code",
   "execution_count": null,
   "id": "76",
   "metadata": {
    "tags": []
   },
   "outputs": [],
   "source": [
    "fhan['allTimes'][1].shape"
   ]
  },
  {
   "cell_type": "code",
   "execution_count": null,
   "id": "77",
   "metadata": {
    "tags": []
   },
   "outputs": [],
   "source": [
    "plt.plot(fhan['allTimes'][1][:121473], '.')\n",
    "plt.plot(fhan['allTimes'][0][:121473], '.')"
   ]
  },
  {
   "cell_type": "code",
   "execution_count": null,
   "id": "78",
   "metadata": {
    "tags": []
   },
   "outputs": [],
   "source": [
    "for key in fhan:\n",
    "    if hasattr(fhan[key], 'shape'):\n",
    "        print(f\"{key} {fhan[key].shape}\")"
   ]
  },
  {
   "cell_type": "code",
   "execution_count": null,
   "id": "79",
   "metadata": {
    "tags": []
   },
   "outputs": [],
   "source": [
    "vidV = fhan['vidV']"
   ]
  },
  {
   "cell_type": "code",
   "execution_count": null,
   "id": "80",
   "metadata": {
    "tags": []
   },
   "outputs": [],
   "source": [
    "plt.plot(vidV[:3000,0:3])"
   ]
  },
  {
   "cell_type": "code",
   "execution_count": null,
   "id": "81",
   "metadata": {
    "tags": []
   },
   "outputs": [],
   "source": [
    "vidV.shape"
   ]
  },
  {
   "cell_type": "code",
   "execution_count": null,
   "id": "82",
   "metadata": {
    "tags": []
   },
   "outputs": [],
   "source": [
    "fhan[\"vidU\"].shape"
   ]
  },
  {
   "cell_type": "code",
   "execution_count": null,
   "id": "83",
   "metadata": {},
   "outputs": [],
   "source": [
    "1600"
   ]
  },
  {
   "cell_type": "code",
   "execution_count": null,
   "id": "84",
   "metadata": {
    "tags": []
   },
   "outputs": [],
   "source": [
    "plt.imshow((vidV[0,:] @ fhan['vidU']).reshape(160,100), interpolation='none')"
   ]
  },
  {
   "cell_type": "code",
   "execution_count": null,
   "id": "85",
   "metadata": {
    "tags": []
   },
   "outputs": [],
   "source": [
    "16000 == 4*4*5*2*10*10"
   ]
  }
 ],
 "metadata": {
  "kernelspec": {
   "display_name": "Python 3 (ipykernel)",
   "language": "python",
   "name": "python3"
  },
  "language_info": {
   "codemirror_mode": {
    "name": "ipython",
    "version": 3
   },
   "file_extension": ".py",
   "mimetype": "text/x-python",
   "name": "python",
   "nbconvert_exporter": "python",
   "pygments_lexer": "ipython3",
   "version": "3.10.12"
  }
 },
 "nbformat": 4,
 "nbformat_minor": 5
}
