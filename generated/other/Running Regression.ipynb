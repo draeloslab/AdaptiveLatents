{
 "cells": [
  {
   "cell_type": "code",
   "execution_count": 1,
   "id": "ffddc7ae-8539-4fe0-9be5-fcedf713346b",
   "metadata": {
    "tags": []
   },
   "outputs": [],
   "source": [
    "import numpy as np\n",
    "import matplotlib.pyplot as plt\n",
    "from tqdm import tqdm\n",
    "import pickle\n",
    "import time\n",
    "\n",
    "import sys\n",
    "sys.path.append(\"../../scripts\")\n",
    "\n",
    "import matplotlib.pyplot as plt\n",
    "import pandas as pd\n",
    "\n",
    "from scripts.run_bubblewrap import BubblewrapRun"
   ]
  },
  {
   "cell_type": "code",
   "execution_count": 3,
   "id": "f11862b0-572f-4266-9e66-00671ec67578",
   "metadata": {},
   "outputs": [
    {
     "name": "stdout",
     "output_type": "stream",
     "text": [
      "The autoreload extension is already loaded. To reload it, use:\n",
      "  %reload_ext autoreload\n"
     ]
    }
   ],
   "source": [
    "%load_ext autoreload\n",
    "import regressions as reg"
   ]
  },
  {
   "cell_type": "code",
   "execution_count": 4,
   "id": "9774cb53-3719-405c-b003-b6df55e409e1",
   "metadata": {},
   "outputs": [],
   "source": [
    "rng = np.random.default_rng()\n",
    "# np.seterr(all='ignore')"
   ]
  },
  {
   "cell_type": "code",
   "execution_count": 5,
   "id": "669a9a63-31e3-48dd-b39c-d5833266cf8f",
   "metadata": {},
   "outputs": [],
   "source": [
    "def get_xy1(fit_intercept=False, keep_dead_nodes=False):\n",
    "    xy_tiles=1\n",
    "    zscore_x=False\n",
    "    y_tile_invert=True\n",
    "    y_true_alignment=True\n",
    "    x_max_height=False\n",
    "    with open('../bubblewrap_runs/bubblewrap_run_2023-06-19-11-03-33.pickle', \"rb\") as fhan:\n",
    "        br = pickle.load(fhan)\n",
    "    x_slice_start = 0\n",
    "    x_slice_end = br.alpha_list.shape[0]\n",
    "    if y_true_alignment:\n",
    "        x_slice_start = 1\n",
    "    if x_max_height:\n",
    "        x_slice_end = min(x_slice_start + x_max_height, x_slice_end)\n",
    "    \n",
    "    node_slice = slice(0,br.alpha_list.shape[1])\n",
    "    if not keep_dead_nodes:\n",
    "        node_slice = slice(0,8)\n",
    "    \n",
    "    \n",
    "    X = br.alpha_list[x_slice_start:x_slice_end,node_slice]\n",
    "    \n",
    "    if zscore_x:\n",
    "        X = (X - X.mean(axis=0))/X.std(axis=0)\n",
    "    \n",
    "    if fit_intercept:\n",
    "        X = np.hstack([X, np.ones(shape=[X.shape[0],1])])\n",
    "    \n",
    "    y = np.load('../datasets/clock-steadier_farther.npz')['x']\n",
    "    if y_tile_invert:\n",
    "        y = np.hstack([y, -y, y]).reshape((-1,1))\n",
    "    else:\n",
    "        y = np.hstack([y, y, y]).reshape((-1,1))\n",
    "    y = y[:X.shape[0]]\n",
    "    \n",
    "    X = np.tile(X, reps=(xy_tiles,1))\n",
    "    y = np.tile(y, reps=(xy_tiles,1))\n",
    "    return X, y\n",
    "\n",
    "def get_xy2(fit_intercept=False, keep_dead_nodes=False):\n",
    "    m = 5000\n",
    "    n = 5\n",
    "    \n",
    "    w = np.array([0, 0, 0, 1, 0]).reshape((-1,1))\n",
    "    \n",
    "    X = np.zeros(shape=(m,n))\n",
    "    y = np.zeros(shape=(m,1))\n",
    "    for i in range(m):\n",
    "        X[i,:] = rng.normal(size=5)\n",
    "    y = X @ w + rng.normal(size=(X.shape[0],1))\n",
    "    \n",
    "\n",
    "    if keep_dead_nodes:\n",
    "        X = np.hstack([X, X])\n",
    "    \n",
    "    if fit_intercept:\n",
    "        X = np.hstack([X, np.ones(shape=[X.shape[0],1])])\n",
    "    \n",
    "    return X, y"
   ]
  },
  {
   "cell_type": "code",
   "execution_count": 57,
   "id": "a1c92141-4d77-4a66-85fd-a6fe4b689587",
   "metadata": {},
   "outputs": [
    {
     "name": "stderr",
     "output_type": "stream",
     "text": [
      "100%|███████████████████████████████████| 29998/29998 [00:03<00:00, 8435.32it/s]\n"
     ]
    }
   ],
   "source": [
    "X, y = get_xy1(fit_intercept=True, keep_dead_nodes=True)\n",
    "\n",
    "regressors = [\n",
    "    reg.SymmetricNoisy(d=X.shape[1],forgetting_factor=.9, noise_scale=1e-3),\n",
    "    reg.WindowFast(d=X.shape[1], window_size=50),\n",
    "]\n",
    "\n",
    "predictions = np.zeros([y.shape[0],len(regressors)])\n",
    "for i in tqdm(range(X.shape[0])):\n",
    "    for j in range(len(regressors)):\n",
    "        predictions[i,j] = regressors[j].predict(X[i])\n",
    "        regressors[j].lazy_observe(X[i], y[i])"
   ]
  },
  {
   "cell_type": "code",
   "execution_count": 59,
   "id": "3eadab36-cc31-456c-92d4-ae1e40c4fc4a",
   "metadata": {},
   "outputs": [],
   "source": [
    "%matplotlib qt\n",
    "fig, ax = plt.subplots()\n",
    "ax.plot(predictions - y);"
   ]
  },
  {
   "cell_type": "code",
   "execution_count": 61,
   "id": "363084c4-b812-422f-aa8d-1be6298b2870",
   "metadata": {},
   "outputs": [
    {
     "data": {
      "text/plain": [
       "[<matplotlib.lines.Line2D at 0x7f5a5d4a8c10>,\n",
       " <matplotlib.lines.Line2D at 0x7f5a5d4a8c40>]"
      ]
     },
     "execution_count": 61,
     "metadata": {},
     "output_type": "execute_result"
    }
   ],
   "source": [
    "%matplotlib qt\n",
    "fig, ax = plt.subplots()\n",
    "ax.plot(y)\n",
    "ax.plot(predictions[:,:ightweight testing])\n"
   ]
  },
  {
   "cell_type": "code",
   "execution_count": 67,
   "id": "f087241c-13bf-46f9-a639-d903d0a650a6",
   "metadata": {},
   "outputs": [
    {
     "data": {
      "text/plain": [
       "array([[       nan,        nan],\n",
       "       [       nan,        nan],\n",
       "       [       nan,        nan],\n",
       "       ...,\n",
       "       [3.02848309, 3.00000001],\n",
       "       [3.95871449, 3.99999998],\n",
       "       [4.97489929, 5.        ]])"
      ]
     },
     "execution_count": 67,
     "metadata": {},
     "output_type": "execute_result"
    }
   ],
   "source": [
    "predictions"
   ]
  },
  {
   "cell_type": "markdown",
   "id": "80e92f48-92bf-40a4-a10d-a06745671cb7",
   "metadata": {},
   "source": [
    "## Hyperparameter Tuning"
   ]
  },
  {
   "cell_type": "code",
   "execution_count": 26,
   "id": "ced1e4aa-1b55-4e8b-a8c5-a742899947b6",
   "metadata": {},
   "outputs": [
    {
     "name": "stderr",
     "output_type": "stream",
     "text": [
      "  0%|                                                     | 0/5 [00:00<?, ?it/s]/home/jgould/Documents/Bubblewrap/regressions.py:89: RuntimeWarning: invalid value encountered in matmul\n",
      "  w = self.D @ self.c\n",
      "100%|█████████████████████████████████████████████| 5/5 [00:57<00:00, 11.49s/it]\n"
     ]
    }
   ],
   "source": [
    "ff_g = [1-.2/x for x in [1,2,3,4,5]]\n",
    "ns_g = [1, 1e-1, 1e-3, 1e-5, 1e-6, 1e-7]\n",
    "\n",
    "errors = np.zeros([len(ff_g), len(ns_g)])\n",
    "for i, ff in enumerate(tqdm(ff_g)):\n",
    "    for j, ns in enumerate(ns_g):\n",
    "        predictions = []\n",
    "        r = reg.SymmetricNoisy(d=X.shape[1],forgetting_factor=ff, noise_scale=ns)\n",
    "        for k in (range(X.shape[0])):\n",
    "            predictions.append(r.predict(X[k]))\n",
    "            r.lazy_observe(X[k], y[k])\n",
    "        errors[i,j] = np.nanmean((np.array(predictions) - y[:len(predictions),0])**2)\n"
   ]
  },
  {
   "cell_type": "code",
   "execution_count": 32,
   "id": "dedf0c0a-6dda-4c51-89e9-7e36d38a3daa",
   "metadata": {
    "tags": []
   },
   "outputs": [
    {
     "data": {
      "text/plain": [
       "<matplotlib.image.AxesImage at 0x7f5a5f0246d0>"
      ]
     },
     "execution_count": 32,
     "metadata": {},
     "output_type": "execute_result"
    }
   ],
   "source": [
    "plt.imshow(np.log(errors[:,:4]))"
   ]
  }
 ],
 "metadata": {
  "kernelspec": {
   "display_name": "Python 3 (ipykernel)",
   "language": "python",
   "name": "python3"
  },
  "language_info": {
   "codemirror_mode": {
    "name": "ipython",
    "version": 3
   },
   "file_extension": ".py",
   "mimetype": "text/x-python",
   "name": "python",
   "nbconvert_exporter": "python",
   "pygments_lexer": "ipython3",
   "version": "3.10.12"
  }
 },
 "nbformat": 4,
 "nbformat_minor": 5
}
