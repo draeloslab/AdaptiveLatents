{
 "cells": [
  {
   "cell_type": "code",
   "execution_count": null,
   "id": "0",
   "metadata": {
    "tags": []
   },
   "outputs": [],
   "source": [
    "import numpy as np\n",
    "import matplotlib.pyplot as plt\n",
    "from tqdm import tqdm\n",
    "import pickle\n",
    "import time\n",
    "\n",
    "import sys\n",
    "sys.path.append(\"../../scripts\")\n",
    "\n",
    "import matplotlib.pyplot as plt\n",
    "import pandas as pd\n",
    "\n",
    "from scripts.run_bubblewrap import BubblewrapRun"
   ]
  },
  {
   "cell_type": "code",
   "execution_count": null,
   "id": "1",
   "metadata": {},
   "outputs": [],
   "source": [
    "%load_ext autoreload\n",
    "import regressions as reg"
   ]
  },
  {
   "cell_type": "code",
   "execution_count": null,
   "id": "2",
   "metadata": {},
   "outputs": [],
   "source": [
    "rng = np.random.default_rng()\n",
    "# np.seterr(all='ignore')"
   ]
  },
  {
   "cell_type": "code",
   "execution_count": null,
   "id": "3",
   "metadata": {},
   "outputs": [],
   "source": [
    "def get_xy1(fit_intercept=False, keep_dead_nodes=False):\n",
    "    xy_tiles=1\n",
    "    zscore_x=False\n",
    "    y_tile_invert=True\n",
    "    y_true_alignment=True\n",
    "    x_max_height=False\n",
    "    with open('../bubblewrap_runs/bubblewrap_run_2023-06-19-11-03-33.pickle', \"rb\") as fhan:\n",
    "        br = pickle.load(fhan)\n",
    "    x_slice_start = 0\n",
    "    x_slice_end = br.alpha_list.shape[0]\n",
    "    if y_true_alignment:\n",
    "        x_slice_start = 1\n",
    "    if x_max_height:\n",
    "        x_slice_end = min(x_slice_start + x_max_height, x_slice_end)\n",
    "    \n",
    "    node_slice = slice(0,br.alpha_list.shape[1])\n",
    "    if not keep_dead_nodes:\n",
    "        node_slice = slice(0,8)\n",
    "    \n",
    "    \n",
    "    X = br.alpha_list[x_slice_start:x_slice_end,node_slice]\n",
    "    \n",
    "    if zscore_x:\n",
    "        X = (X - X.mean(axis=0))/X.std(axis=0)\n",
    "    \n",
    "    if fit_intercept:\n",
    "        X = np.hstack([X, np.ones(shape=[X.shape[0],1])])\n",
    "    \n",
    "    y = np.load('../datasets/clock-steadier_farther.npz')['x']\n",
    "    if y_tile_invert:\n",
    "        y = np.hstack([y, -y, y]).reshape((-1,1))\n",
    "    else:\n",
    "        y = np.hstack([y, y, y]).reshape((-1,1))\n",
    "    y = y[:X.shape[0]]\n",
    "    \n",
    "    X = np.tile(X, reps=(xy_tiles,1))\n",
    "    y = np.tile(y, reps=(xy_tiles,1))\n",
    "    return X, y\n",
    "\n",
    "def get_xy2(fit_intercept=False, keep_dead_nodes=False):\n",
    "    m = 5000\n",
    "    n = 5\n",
    "    \n",
    "    w = np.array([0, 0, 0, 1, 0]).reshape((-1,1))\n",
    "    \n",
    "    X = np.zeros(shape=(m,n))\n",
    "    y = np.zeros(shape=(m,1))\n",
    "    for i in range(m):\n",
    "        X[i,:] = rng.normal(size=5)\n",
    "    y = X @ w + rng.normal(size=(X.shape[0],1))\n",
    "    \n",
    "\n",
    "    if keep_dead_nodes:\n",
    "        X = np.hstack([X, X])\n",
    "    \n",
    "    if fit_intercept:\n",
    "        X = np.hstack([X, np.ones(shape=[X.shape[0],1])])\n",
    "    \n",
    "    return X, y"
   ]
  },
  {
   "cell_type": "code",
   "execution_count": null,
   "id": "4",
   "metadata": {},
   "outputs": [],
   "source": [
    "X, y = get_xy1(fit_intercept=True, keep_dead_nodes=True)\n",
    "\n",
    "regressors = [\n",
    "    reg.SymmetricNoisy(d=X.shape[1],forgetting_factor=.9, noise_scale=1e-3),\n",
    "    reg.WindowFast(d=X.shape[1], window_size=50),\n",
    "]\n",
    "\n",
    "predictions = np.zeros([y.shape[0],len(regressors)])\n",
    "for i in tqdm(range(X.shape[0])):\n",
    "    for j in range(len(regressors)):\n",
    "        predictions[i,j] = regressors[j].predict(X[i])\n",
    "        regressors[j].lazy_observe(X[i], y[i])"
   ]
  },
  {
   "cell_type": "code",
   "execution_count": null,
   "id": "5",
   "metadata": {},
   "outputs": [],
   "source": [
    "%matplotlib qt\n",
    "fig, ax = plt.subplots()\n",
    "ax.plot(predictions - y);"
   ]
  },
  {
   "cell_type": "code",
   "execution_count": null,
   "id": "6",
   "metadata": {},
   "outputs": [],
   "source": [
    "%matplotlib qt\n",
    "fig, ax = plt.subplots()\n",
    "ax.plot(y)\n",
    "ax.plot(predictions[:,:ightweight testing])\n"
   ]
  },
  {
   "cell_type": "code",
   "execution_count": null,
   "id": "7",
   "metadata": {},
   "outputs": [],
   "source": [
    "predictions"
   ]
  },
  {
   "cell_type": "markdown",
   "id": "8",
   "metadata": {},
   "source": [
    "## Hyperparameter Tuning"
   ]
  },
  {
   "cell_type": "code",
   "execution_count": null,
   "id": "9",
   "metadata": {},
   "outputs": [],
   "source": [
    "ff_g = [1-.2/x for x in [1,2,3,4,5]]\n",
    "ns_g = [1, 1e-1, 1e-3, 1e-5, 1e-6, 1e-7]\n",
    "\n",
    "errors = np.zeros([len(ff_g), len(ns_g)])\n",
    "for i, ff in enumerate(tqdm(ff_g)):\n",
    "    for j, ns in enumerate(ns_g):\n",
    "        predictions = []\n",
    "        r = reg.SymmetricNoisy(d=X.shape[1],forgetting_factor=ff, noise_scale=ns)\n",
    "        for k in (range(X.shape[0])):\n",
    "            predictions.append(r.predict(X[k]))\n",
    "            r.lazy_observe(X[k], y[k])\n",
    "        errors[i,j] = np.nanmean((np.array(predictions) - y[:len(predictions),0])**2)\n"
   ]
  },
  {
   "cell_type": "code",
   "execution_count": null,
   "id": "10",
   "metadata": {
    "tags": []
   },
   "outputs": [],
   "source": [
    "plt.imshow(np.log(errors[:,:4]))"
   ]
  }
 ],
 "metadata": {
  "kernelspec": {
   "display_name": "Python 3 (ipykernel)",
   "language": "python",
   "name": "python3"
  },
  "language_info": {
   "codemirror_mode": {
    "name": "ipython",
    "version": 3
   },
   "file_extension": ".py",
   "mimetype": "text/x-python",
   "name": "python",
   "nbconvert_exporter": "python",
   "pygments_lexer": "ipython3",
   "version": "3.10.12"
  }
 },
 "nbformat": 4,
 "nbformat_minor": 5
}
