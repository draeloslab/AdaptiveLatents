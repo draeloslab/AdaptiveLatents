{
 "cells": [
  {
   "cell_type": "code",
   "execution_count": null,
   "id": "0",
   "metadata": {
    "ExecuteTime": {
     "end_time": "2024-09-02T20:07:30.152818Z",
     "start_time": "2024-09-02T20:07:30.146871Z"
    }
   },
   "outputs": [],
   "source": [
    "import adaptive_latents as al\n",
    "\n",
    "import matplotlib.pyplot as plt\n",
    "import numpy as np"
   ]
  },
  {
   "cell_type": "code",
   "execution_count": null,
   "id": "1",
   "metadata": {
    "ExecuteTime": {
     "end_time": "2024-09-02T20:07:30.604852Z",
     "start_time": "2024-09-02T20:07:30.155899Z"
    }
   },
   "outputs": [],
   "source": [
    "A, beh = al.input_sources.hmm_simulation.simulate_example_data(n=5000)"
   ]
  },
  {
   "cell_type": "code",
   "execution_count": null,
   "id": "2",
   "metadata": {
    "ExecuteTime": {
     "end_time": "2024-09-02T20:07:34.634455Z",
     "start_time": "2024-09-02T20:07:30.606098Z"
    }
   },
   "outputs": [],
   "source": [
    "t = al.profiling_functions.get_speed_by_time(A, beh, prosvd_k=4, bw_params=al.Bubblewrap.default_clock_parameters);"
   ]
  },
  {
   "cell_type": "code",
   "execution_count": null,
   "id": "3",
   "metadata": {
    "ExecuteTime": {
     "end_time": "2024-09-02T20:07:34.746939Z",
     "start_time": "2024-09-02T20:07:34.635416Z"
    }
   },
   "outputs": [],
   "source": [
    "\n",
    "plt.plot((t[:-1] - t[0])*1000,np.diff(t)*1000)\n",
    "plt.ylim([0, 31])\n",
    "plt.axhline(30, color='k', linestyle='--')\n",
    "plt.xlabel(\"real time (s)\")\n",
    "plt.ylabel(\"iteration time (ms)\")"
   ]
  },
  {
   "cell_type": "code",
   "execution_count": null,
   "id": "4",
   "metadata": {
    "ExecuteTime": {
     "end_time": "2024-09-02T20:07:38.361434Z",
     "start_time": "2024-09-02T20:07:34.751150Z"
    }
   },
   "outputs": [],
   "source": [
    "times_dict = al.profiling_functions.get_speed_per_step(A, beh, prosvd_k=4, bw_params=al.Bubblewrap.default_clock_parameters, max_steps=5000)"
   ]
  },
  {
   "cell_type": "code",
   "execution_count": null,
   "id": "5",
   "metadata": {
    "ExecuteTime": {
     "end_time": "2024-09-02T20:07:38.363620Z",
     "start_time": "2024-09-02T20:07:38.361992Z"
    }
   },
   "outputs": [],
   "source": [
    "keys = list(times_dict.keys())\n",
    "times = np.array([times_dict[k] for k in keys])*1000"
   ]
  },
  {
   "cell_type": "code",
   "execution_count": null,
   "id": "6",
   "metadata": {
    "ExecuteTime": {
     "end_time": "2024-09-02T20:07:38.641418Z",
     "start_time": "2024-09-02T20:07:38.364042Z"
    }
   },
   "outputs": [],
   "source": [
    "plt.hist(times.sum(axis=0), np.linspace(7,65,101));"
   ]
  },
  {
   "cell_type": "code",
   "execution_count": null,
   "id": "7",
   "metadata": {
    "ExecuteTime": {
     "end_time": "2024-09-02T20:07:38.688722Z",
     "start_time": "2024-09-02T20:07:38.642090Z"
    }
   },
   "outputs": [],
   "source": [
    "fig, ax = plt.subplots()\n",
    "slice_start = 250\n",
    "good_slice = times.sum(axis=0)[:]\n",
    "ax.plot(np.arange(len(good_slice))+slice_start, good_slice)\n",
    "ax.set_xlabel(\"iteration #\");\n",
    "ax.set_ylabel(\"iteration time (ms)\")"
   ]
  },
  {
   "cell_type": "code",
   "execution_count": null,
   "id": "8",
   "metadata": {
    "ExecuteTime": {
     "end_time": "2024-09-02T20:07:38.762678Z",
     "start_time": "2024-09-02T20:07:38.689224Z"
    }
   },
   "outputs": [],
   "source": [
    "fig, ax = plt.subplots()\n",
    "slice_start = 0\n",
    "good_slice = times[:,:]\n",
    "ax.plot(np.arange(good_slice.shape[1])+slice_start, np.cumsum(good_slice,0).T, label=keys)\n",
    "ax.set_xlabel(\"iteration #\");\n",
    "ax.set_ylabel(\"iteration time (ms)\")\n",
    "ax.set_ylim([0,30])\n",
    "ax.legend();"
   ]
  }
 ],
 "metadata": {
  "kernelspec": {
   "display_name": "Python 3 (ipykernel)",
   "language": "python",
   "name": "python3"
  },
  "language_info": {
   "codemirror_mode": {
    "name": "ipython",
    "version": 3
   },
   "file_extension": ".py",
   "mimetype": "text/x-python",
   "name": "python",
   "nbconvert_exporter": "python",
   "pygments_lexer": "ipython3",
   "version": "3.12.0"
  }
 },
 "nbformat": 4,
 "nbformat_minor": 5
}
