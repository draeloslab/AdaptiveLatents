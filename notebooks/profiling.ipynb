{
 "cells": [
  {
   "cell_type": "code",
   "execution_count": null,
   "id": "0",
   "metadata": {},
   "outputs": [],
   "source": [
    "import sys\n",
    "from adaptive_latents.profiling_functions import get_speed_by_time, get_speed_per_step\n",
    "from make_profiling_figure import make_data, bw_params\n",
    "import adaptive_latents as al\n",
    "\n",
    "import matplotlib.pyplot as plt\n",
    "import numpy as np\n",
    "\n",
    "import pdb"
   ]
  },
  {
   "cell_type": "code",
   "execution_count": null,
   "id": "1",
   "metadata": {},
   "outputs": [],
   "source": [
    "A, beh = make_data()"
   ]
  },
  {
   "cell_type": "code",
   "execution_count": null,
   "id": "2",
   "metadata": {},
   "outputs": [],
   "source": [
    "t = al.profiling_functions.get_speed_by_time(A, beh, prosvd_k=4, bw_params=bw_params, max_steps=5000)\n"
   ]
  },
  {
   "cell_type": "code",
   "execution_count": null,
   "id": "3",
   "metadata": {},
   "outputs": [],
   "source": [
    "\n",
    "plt.plot((t[:-1] - t[0])*1000,np.diff(t)*1000);\n",
    "plt.ylim([0, 31]);\n",
    "plt.axhline(30, color='k', linestyle='--')\n",
    "plt.xlabel(\"real time (s)\")\n",
    "plt.ylabel(\"iteration time (ms)\")\n",
    "plt.savefig(\"/home/jgould/Downloads/super_fast.svg\")"
   ]
  },
  {
   "cell_type": "code",
   "execution_count": null,
   "id": "4",
   "metadata": {},
   "outputs": [],
   "source": [
    "times_dict = al.profiling_functions.get_speed_per_step(A, beh, prosvd_k=4, bw_params=bw_params, max_steps=5000)"
   ]
  },
  {
   "cell_type": "code",
   "execution_count": null,
   "id": "5",
   "metadata": {},
   "outputs": [],
   "source": [
    "keys = list(times_dict.keys())\n",
    "times = np.array([times_dict[k] for k in keys])*1000"
   ]
  },
  {
   "cell_type": "code",
   "execution_count": null,
   "id": "6",
   "metadata": {},
   "outputs": [],
   "source": [
    "plt.hist(times.sum(axis=0), np.linspace(7,65,101));"
   ]
  },
  {
   "cell_type": "code",
   "execution_count": null,
   "id": "7",
   "metadata": {},
   "outputs": [],
   "source": [
    "fig, ax = plt.subplots()\n",
    "slice_start = 250\n",
    "good_slice = times.sum(axis=0)[:]\n",
    "ax.plot(np.arange(len(good_slice))+slice_start, good_slice)\n",
    "ax.set_xlabel(\"iteration #\");\n",
    "ax.set_ylabel(\"iteration time (ms)\")"
   ]
  },
  {
   "cell_type": "code",
   "execution_count": null,
   "id": "8",
   "metadata": {},
   "outputs": [],
   "source": [
    "fig, ax = plt.subplots()\n",
    "slice_start = 0\n",
    "good_slice = times[:,:]\n",
    "ax.plot(np.arange(good_slice.shape[1])+slice_start, np.cumsum(good_slice,0).T, label=keys)\n",
    "ax.set_xlabel(\"iteration #\");\n",
    "ax.set_ylabel(\"iteration time (ms)\")\n",
    "ax.set_ylim([0,30])\n",
    "ax.legend();"
   ]
  }
 ],
 "metadata": {
  "kernelspec": {
   "display_name": "Python 3 (ipykernel)",
   "language": "python",
   "name": "python3"
  },
  "language_info": {
   "codemirror_mode": {
    "name": "ipython",
    "version": 3
   },
   "file_extension": ".py",
   "mimetype": "text/x-python",
   "name": "python",
   "nbconvert_exporter": "python",
   "pygments_lexer": "ipython3",
   "version": "3.12.0"
  }
 },
 "nbformat": 4,
 "nbformat_minor": 5
}
