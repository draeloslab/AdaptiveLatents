{
 "cells": [
  {
   "cell_type": "markdown",
   "metadata": {},
   "source": [
    "# Minimum working example for modeling photostimulation in Zebrafish"
   ]
  },
  {
   "cell_type": "markdown",
   "metadata": {},
   "source": [
    "Data Loading"
   ]
  },
  {
   "cell_type": "code",
   "execution_count": null,
   "metadata": {},
   "outputs": [],
   "source": [
    "import numpy as np\n",
    "import adaptive_latents.stimulation.photostimulation as ps\n",
    "import adaptive_latents as al\n",
    "from adaptive_latents import NumpyTimedDataSource, Bubblewrap"
   ]
  },
  {
   "cell_type": "code",
   "execution_count": null,
   "metadata": {},
   "outputs": [],
   "source": [
    "d = al.datasets.Naumann24uDataset(al.datasets.Naumann24uDataset.sub_datasets[0])\n",
    "bp = d.dataset_base_path / d.sub_dataset\n",
    "\n",
    "# Load the files\n",
    "stim = np.loadtxt(bp / 'stimmed.txt') \n",
    "\"\"\"1st entry: frame number,\n",
    "2nd entry: ignore,\n",
    "3rd entry: angle of motion L,\n",
    "4th entry: angle of motion R,\n",
    "5th entry: timestamp,\"\"\"\n",
    "C = np.loadtxt(bp / 'analysis_proc_C.txt')#\n",
    "\"\"\"Calcium imaging. \n",
    "1st entry is neuron ID,\n",
    "2nd is time (frame)\"\"\"\n",
    "photostim = np.load(bp / 'photostims.npy')\n",
    "\"\"\"1st entry: frame number,\n",
    "2nd entry: counter of stims,\n",
    "3rd entry: neuron ID,\n",
    "4th entry: position X of neuron,\n",
    "5th entry: position Y of neuron,\"\"\"\n",
    "\n",
    "# extra note: Fs= 2.3 Hz"
   ]
  },
  {
   "cell_type": "markdown",
   "metadata": {},
   "source": [
    "Run BW"
   ]
  },
  {
   "cell_type": "code",
   "execution_count": null,
   "metadata": {},
   "outputs": [],
   "source": [
    "#Perform dimensionality reduction\n",
    "p = al.Pipeline([\n",
    "    al.CenteringTransformer(),\n",
    "    al.proSVD(k=7),\n",
    "])\n",
    "smallC_photo = p.offline_run_on(C.T)\n"
   ]
  },
  {
   "cell_type": "code",
   "execution_count": null,
   "metadata": {},
   "outputs": [],
   "source": [
    "bw = Bubblewrap(M=100, num=1000, B_thresh=-10, num_grad_q=1, log_level=2)\n",
    "\n",
    "bw.offline_run_on(smallC_photo)"
   ]
  },
  {
   "cell_type": "markdown",
   "metadata": {},
   "source": [
    "Extract the log predictive probability values"
   ]
  },
  {
   "cell_type": "markdown",
   "metadata": {},
   "source": [
    "Create a data frame for photostimulation and log PP rankings"
   ]
  },
  {
   "cell_type": "code",
   "execution_count": null,
   "metadata": {},
   "outputs": [],
   "source": [
    "predictions = np.array([bw.log['log_pred_p']])\n",
    "final_df=ps.rank_neurons(stim, C, photostim, predictions)"
   ]
  },
  {
   "cell_type": "code",
   "execution_count": null,
   "metadata": {},
   "outputs": [],
   "source": [
    "#let's sort by change in log PP ranking\n",
    "df_sorted = final_df.sort_values(by=['ranking', 'frame_number'])\n",
    "\n",
    "df_sorted.iloc[:15]"
   ]
  },
  {
   "cell_type": "markdown",
   "metadata": {},
   "source": [
    "Plotting trajectories with PCA and proSVD for particular neuron trials"
   ]
  },
  {
   "cell_type": "code",
   "execution_count": null,
   "metadata": {},
   "outputs": [],
   "source": [
    "ps.plot_photostim(31,'pca',C, photostim, final_df)"
   ]
  },
  {
   "cell_type": "code",
   "execution_count": null,
   "metadata": {},
   "outputs": [],
   "source": [
    "ps.plot_photostim(31,'proSVD',C, photostim, final_df)"
   ]
  },
  {
   "cell_type": "markdown",
   "metadata": {},
   "source": [
    "Plot the Log PP of a determined neuron \n",
    "\n",
    "Note: I decided to limit the graph using frame numbers instead of neuron_ID for flexibility, so\n",
    "you need to look in the data frame the desired start and end "
   ]
  },
  {
   "cell_type": "code",
   "execution_count": null,
   "metadata": {},
   "outputs": [],
   "source": [
    "#for neuron 31:\n",
    "fig, axs = Bubblewrap.compare_runs([bw])\n",
    "\n",
    "for line in photostim[:, 0]:\n",
    "    for ax in axs[:,0]:\n",
    "        ax.axvline(line, color='r')\n"
   ]
  }
 ],
 "metadata": {
  "kernelspec": {
   "display_name": "Python 3 (ipykernel)",
   "language": "python",
   "name": "python3"
  },
  "language_info": {
   "codemirror_mode": {
    "name": "ipython",
    "version": 3
   },
   "file_extension": ".py",
   "mimetype": "text/x-python",
   "name": "python",
   "nbconvert_exporter": "python",
   "pygments_lexer": "ipython3",
   "version": "3.12.3"
  }
 },
 "nbformat": 4,
 "nbformat_minor": 4
}
