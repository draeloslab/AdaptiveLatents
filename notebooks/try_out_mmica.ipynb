{
 "cells": [
  {
   "cell_type": "markdown",
   "metadata": {
    "collapsed": false
   },
   "source": [
    "# Imports"
   ]
  },
  {
   "cell_type": "code",
   "execution_count": null,
   "metadata": {
    "ExecuteTime": {
     "end_time": "2024-07-01T16:16:39.913838Z",
     "start_time": "2024-07-01T16:16:39.809315Z"
    },
    "collapsed": true
   },
   "outputs": [],
   "source": [
    "import numpy as np\n",
    "from adaptive_latents.transforms.ica import mmICA\n",
    "from adaptive_latents.transforms.proSVD import  proSVD\n",
    "import adaptive_latents as al\n",
    "import matplotlib.pyplot as plt\n",
    "import timeit\n",
    "from scipy.stats import kurtosis, ortho_group\n",
    "from picard import permute\n",
    "\n",
    "from sklearn.decomposition import FastICA, PCA\n",
    "\n",
    "rng = np.random.default_rng()"
   ]
  },
  {
   "cell_type": "markdown",
   "metadata": {
    "collapsed": false
   },
   "source": [
    "# Define a Dataset"
   ]
  },
  {
   "cell_type": "code",
   "execution_count": null,
   "metadata": {
    "ExecuteTime": {
     "end_time": "2024-07-01T16:16:41.116579Z",
     "start_time": "2024-07-01T16:16:39.817931Z"
    },
    "collapsed": false
   },
   "outputs": [],
   "source": [
    "A,  beh, t, beh_time = map(lambda x: x[:-10], al.construct_indy_data(al.input_sources.datasets.individual_identifiers['indy'][-1], .03))\n",
    "\n",
    "# A, beh, t, beh_time = al.construct_buzaki_data(individual_identifier=al.input_sources.datasets.individual_identifiers['buzaki'][-1], bin_width=.03)\n",
    "\n",
    "print(f\"dataset is {(t[-1] - t[0])/60:.1f} minutes long\")\n",
    "\n",
    "A_true = None"
   ]
  },
  {
   "cell_type": "code",
   "execution_count": null,
   "metadata": {
    "ExecuteTime": {
     "end_time": "2024-07-01T16:16:41.116727Z",
     "start_time": "2024-07-01T16:16:41.105992Z"
    },
    "collapsed": false
   },
   "outputs": [],
   "source": [
    "# n_timepoints, n_dimensions = 27_256, 315\n",
    "n_timepoints, n_dimensions = 10_000, 10\n",
    "\n",
    "# A_true = rng.laplace(size=(n_timepoints, n_dimensions))\n",
    "# A_true = rng.standard_cauchy(size=(n_timepoints, n_dimensions))\n",
    "A_true = rng.poisson(1, size=(n_timepoints, n_dimensions))\n",
    "\n",
    "W = rng.normal(size=[A_true.shape[1]]*2)\n",
    "# W = ortho_group.rvs(A_true.shape[1])\n",
    "\n",
    "A = A_true @ W\n",
    "\n"
   ]
  },
  {
   "cell_type": "code",
   "execution_count": null,
   "metadata": {
    "ExecuteTime": {
     "end_time": "2024-07-01T16:16:41.175256Z",
     "start_time": "2024-07-01T16:16:41.106149Z"
    },
    "collapsed": false
   },
   "outputs": [],
   "source": [
    "pca = PCA().fit(A)\n",
    "plt.plot(pca.explained_variance_)"
   ]
  },
  {
   "cell_type": "markdown",
   "metadata": {
    "collapsed": false
   },
   "source": [
    "# Run mmICA"
   ]
  },
  {
   "cell_type": "code",
   "execution_count": null,
   "metadata": {
    "ExecuteTime": {
     "end_time": "2024-07-01T16:16:42.254300Z",
     "start_time": "2024-07-01T16:16:41.178217Z"
    },
    "collapsed": false
   },
   "outputs": [],
   "source": [
    "block_size = 10\n",
    "assert block_size <= A.shape[1]\n",
    "\n",
    "pro = proSVD(k=block_size, centering=True)\n",
    "ica = mmICA(p=block_size, density='huber', track_extra_info=True, maxiter_cg=20, tol=1e-15)\n",
    "\n",
    "start_index = block_size + (A.shape[0] % block_size)\n",
    "pro.initialize(A[:start_index, :].T)\n",
    "\n",
    "Ws = []\n",
    "Qs = []\n",
    "ica_times = []\n",
    "pro_times = []\n",
    "\n",
    "for block in A[start_index:,:].reshape(-1, block_size, A.shape[1]):\n",
    "    start = timeit.default_timer()\n",
    "    block = pro.update_and_project(block.T)\n",
    "    pro_times.append(timeit.default_timer() - start)\n",
    "\n",
    "\n",
    "    start = timeit.default_timer()\n",
    "    ica.observe_new_batch(block)\n",
    "    ica_times.append(timeit.default_timer() - start)\n",
    "\n",
    "    Ws.append(ica.W.copy())\n",
    "    Qs.append(pro.Q.copy())\n",
    "\n",
    "Ws = np.array(Ws)\n",
    "Qs = np.array(Qs)\n",
    "ica_times = np.array(ica_times)\n",
    "pro_times = np.array(pro_times)"
   ]
  },
  {
   "cell_type": "code",
   "execution_count": null,
   "metadata": {
    "ExecuteTime": {
     "end_time": "2024-07-01T16:16:42.257676Z",
     "start_time": "2024-07-01T16:16:42.256108Z"
    },
    "collapsed": false
   },
   "outputs": [],
   "source": [
    "assert np.all(~np.isnan(Ws))"
   ]
  },
  {
   "cell_type": "code",
   "execution_count": null,
   "metadata": {
    "ExecuteTime": {
     "end_time": "2024-07-01T16:16:42.422502Z",
     "start_time": "2024-07-01T16:16:42.258057Z"
    },
    "collapsed": false
   },
   "outputs": [],
   "source": [
    "plt.plot(np.array(ica.hit_iter_history), '.', alpha=.1, color='k');"
   ]
  },
  {
   "cell_type": "code",
   "execution_count": null,
   "metadata": {
    "ExecuteTime": {
     "end_time": "2024-07-01T16:16:42.588940Z",
     "start_time": "2024-07-01T16:16:42.437554Z"
    },
    "collapsed": false
   },
   "outputs": [],
   "source": [
    "fig, ax = plt.subplots(layout='tight', figsize=(9,3))\n",
    "ica.hit_norm_history = np.array(ica.hit_norm_history)\n",
    "# m = ica.hit_norm_history[:200,7,:]\n",
    "m = np.nanmax(ica.hit_norm_history[:,:,:], axis=1)\n",
    "c = ax.matshow(np.log(np.squeeze(m)).T, vmin=np.log(ica.tol), origin='lower', aspect='auto')\n",
    "ax.set_xlabel(\"data block #\")\n",
    "ax.set_ylabel(\"inner loop iteration #\")\n",
    "ax.set_title(\"max convergence metric across all rows\")\n",
    "cbar = fig.colorbar(c)\n",
    "\n",
    "cbar.ax.get_yaxis().labelpad=15\n",
    "cbar.set_label(\"log convergence metric\", rotation=270)\n",
    "\n"
   ]
  },
  {
   "cell_type": "markdown",
   "metadata": {
    "collapsed": false
   },
   "source": [
    "# Asess performance"
   ]
  },
  {
   "cell_type": "markdown",
   "metadata": {
    "collapsed": false
   },
   "source": [
    "## Time to run"
   ]
  },
  {
   "cell_type": "code",
   "execution_count": null,
   "metadata": {
    "ExecuteTime": {
     "end_time": "2024-07-01T16:16:42.648750Z",
     "start_time": "2024-07-01T16:16:42.591343Z"
    },
    "collapsed": false
   },
   "outputs": [],
   "source": [
    "plt.plot(pro_times * 1_000, label=f\"proSVD {pro.Q.shape[0]} -> {pro.Q.shape[1]}\")\n",
    "plt.plot(ica_times * 1_000, label=f\"mmICA {ica.W.shape[0]} -> {ica.W.shape[0]}\")\n",
    "\n",
    "plt.xlabel(\"block number\")\n",
    "plt.ylabel(\"iteration time (ms)\")\n",
    "plt.legend()"
   ]
  },
  {
   "cell_type": "markdown",
   "metadata": {
    "collapsed": false
   },
   "source": [
    "## Kurtosis"
   ]
  },
  {
   "cell_type": "code",
   "execution_count": null,
   "metadata": {
    "ExecuteTime": {
     "end_time": "2024-07-01T16:16:43.664496Z",
     "start_time": "2024-07-01T16:16:42.648133Z"
    },
    "collapsed": false
   },
   "outputs": [],
   "source": [
    "fig, ax = plt.subplots()\n",
    "\n",
    "\n",
    "datasets = {}\n",
    "\n",
    "dim_reduced_data = pro.project(A.T)\n",
    "datasets['input'] = dim_reduced_data\n",
    "datasets['mmICA'] = ica.W @ dim_reduced_data\n",
    "\n",
    "sk_ica = FastICA(max_iter=800, whiten='unit-variance').fit(dim_reduced_data.T)\n",
    "datasets['FastICA'] = sk_ica.transform(dim_reduced_data.T).T\n",
    "\n",
    "sk_pca = PCA().fit(dim_reduced_data.T)\n",
    "datasets['pca'] = sk_pca.transform(dim_reduced_data.T).T\n",
    "\n",
    "\n",
    "def whiten(x):\n",
    "    whitened_data = (x - x.mean(axis=1)[:,None])\n",
    "    u, s, v_h = np.linalg.svd(whitened_data, full_matrices=False)\n",
    "    s = s/np.sqrt(whitened_data.shape[1] - 1)\n",
    "    return u @ np.diag(1/s) @ u.T @ whitened_data\n",
    "\n",
    "if A_true is not None:\n",
    "    datasets['ground truth'] = A_true[:,:block_size].T\n",
    "    datasets['whitened ground truth'] = whiten(A_true[:,:block_size].T)\n",
    "\n",
    "\n",
    "\n",
    "whitened_data = whiten(dim_reduced_data)\n",
    "\n",
    "datasets['random whitened'] = lambda: ortho_group.rvs(ica.W.shape[0]) @ whitened_data\n",
    "datasets['random'] = lambda: rng.normal(size=[ica.W.shape[0]]*2) @ whitened_data\n",
    "\n",
    "\n",
    "single_line_styles = {\n",
    "    'mmICA': dict(color='C0', linestyle='-', marker='.'),\n",
    "    # 'input': dict(color='orange'),\n",
    "    # 'ground truth': dict(color='#D4AF37'),\n",
    "    'whitened ground truth': dict(color='#D4AF37', marker='.'),\n",
    "    'FastICA': dict(color='red'),\n",
    "    'pca': dict(color='green'),\n",
    "}\n",
    "\n",
    "evaluation_metrics = {\n",
    "    'kurtosis': lambda x: kurtosis(x.T),\n",
    "    '4th power': lambda x: ((x.T ** 4 - 3)/4).mean(axis=0),\n",
    "    'log cosh': lambda x: (np.log(np.cosh(x.T)) - .375).mean(axis=0),\n",
    "    'exp': lambda x: -np.exp((-.5 * x.T**2) - .707).sum(axis=0),\n",
    "    'var': lambda x: np.var(x.T, axis=0),\n",
    "}\n",
    "\n",
    "metric_name = 'kurtosis'\n",
    "evaluation_metric = evaluation_metrics[metric_name]\n",
    "\n",
    "for key in set(single_line_styles).intersection(set(datasets)):\n",
    "    dataset = datasets[key]\n",
    "    idx = np.argsort(evaluation_metric(dataset))\n",
    "    sorted_dataset = dataset[idx, :]\n",
    "    datasets[key] = sorted_dataset\n",
    "    ax.plot(np.arange(block_size), evaluation_metric(sorted_dataset), label=key, **single_line_styles[key])\n",
    "\n",
    "multi_line_styles = {\n",
    "    'random whitened': dict(alpha=.1, color='k'),\n",
    "    # 'random': dict(alpha=.1, linestyle='--', color='k'),\n",
    "}\n",
    "for key in set(multi_line_styles).intersection(set(datasets)):\n",
    "    for i in range(10):\n",
    "        dataset = datasets[key]()\n",
    "        idx = np.argsort(evaluation_metric(dataset))\n",
    "        sorted_dataset = dataset[idx, :]\n",
    "        label = key if i == 0 else None\n",
    "        ax.plot(np.arange(block_size), evaluation_metric(sorted_dataset), label=label, **multi_line_styles[key])\n",
    "\n",
    "ax.set_title(f\"Sorted {metric_name} per component\")\n",
    "ax.legend();\n",
    "\n"
   ]
  },
  {
   "cell_type": "markdown",
   "metadata": {
    "collapsed": false
   },
   "source": [
    "## Compare offline and online"
   ]
  },
  {
   "cell_type": "code",
   "execution_count": null,
   "metadata": {
    "ExecuteTime": {
     "end_time": "2024-07-01T16:16:43.765597Z",
     "start_time": "2024-07-01T16:16:43.664168Z"
    },
    "collapsed": false
   },
   "outputs": [],
   "source": [
    "fig, ax = plt.subplots()\n",
    "k1, k2 = 'mmICA', 'FastICA'\n",
    "cov = np.abs(np.corrcoef(datasets[k1], datasets[k2])[:-datasets[k2].shape[0],datasets[k1].shape[0]:])\n",
    "cov = permute(cov, scale=False)\n",
    "c = ax.matshow(cov, vmin=0.1, vmax=1)\n",
    "fig.colorbar(c)\n",
    "ax.set_title(\"Offline vs Online latent correlations\");"
   ]
  },
  {
   "cell_type": "markdown",
   "metadata": {
    "collapsed": false
   },
   "source": [
    "## Correlation with true latents"
   ]
  },
  {
   "cell_type": "code",
   "execution_count": null,
   "metadata": {
    "ExecuteTime": {
     "end_time": "2024-07-01T16:16:43.881780Z",
     "start_time": "2024-07-01T16:16:43.774320Z"
    },
    "collapsed": false
   },
   "outputs": [],
   "source": [
    "if A_true is not None:\n",
    "    fig, ax = plt.subplots(ncols=2)\n",
    "\n",
    "    cov = np.corrcoef(A_true.T, datasets['mmICA'])[:-datasets['mmICA'].shape[0],A_true.shape[1]:]\n",
    "    if A_true.T.shape == datasets['mmICA'].shape:\n",
    "        cov = permute(cov, scale=False)\n",
    "    ax[0].matshow(np.abs(cov), vmin=.1, vmax=1)\n",
    "    ax[0].set_title(\"online\")\n",
    "\n",
    "\n",
    "    cov = np.corrcoef(A_true.T, datasets['FastICA'])[:-datasets['FastICA'].shape[0],A_true.shape[1]:]\n",
    "    if A_true.T.shape == datasets['FastICA'].shape:\n",
    "        cov = permute(cov, scale=False)\n",
    "    ax[1].matshow(np.abs(cov), vmin=.1, vmax=1)\n",
    "    ax[1].set_title(\"offline\")\n",
    "\n"
   ]
  },
  {
   "cell_type": "markdown",
   "metadata": {
    "collapsed": false
   },
   "source": [
    "## Convergence"
   ]
  },
  {
   "cell_type": "code",
   "execution_count": null,
   "metadata": {
    "ExecuteTime": {
     "end_time": "2024-07-01T16:16:44.055881Z",
     "start_time": "2024-07-01T16:16:43.886751Z"
    },
    "collapsed": false
   },
   "outputs": [],
   "source": [
    "fig, ax = plt.subplots(nrows=2, layout='tight')\n",
    "\n",
    "changes = np.linalg.norm(np.diff(Ws, axis=0), axis=2) / np.linalg.norm(Ws, axis=2)[:-1]\n",
    "ax[0].plot((np.arange(changes.shape[0]) + 1)*block_size,changes)\n",
    "ax[0].set_title(\"Convergence of the rows of W\")\n",
    "ax[0].set_xlabel(\"points seen\")\n",
    "ax[0].set_ylabel(r\"$\\frac{\\Delta r}{\\Vert r \\Vert}$\")\n",
    "# ax[0].set_ylim([0,.1])\n",
    "\n",
    "changes = np.linalg.norm(np.diff(Qs, axis=0), axis=1)/ np.linalg.norm(Qs, axis=1)[:-1]\n",
    "# changes = (np.diff(Qs, axis=0)**2).mean(axis=(1,2))\n",
    "ax[1].plot((np.arange(changes.shape[0]) + 1)*block_size,changes)\n",
    "ax[1].set_title(\"Convergence of the columns of Q\")\n",
    "ax[1].set_xlabel(\"points seen\")\n",
    "ax[1].set_ylabel(r\"$\\frac{\\Delta r}{\\Vert r \\Vert}$\");\n",
    "# ax[1].set_ylim([0,.1]);\n",
    "\n"
   ]
  },
  {
   "cell_type": "markdown",
   "metadata": {
    "collapsed": false
   },
   "source": [
    "## The distribution metric"
   ]
  },
  {
   "cell_type": "code",
   "execution_count": null,
   "metadata": {
    "ExecuteTime": {
     "end_time": "2024-07-01T16:16:44.126968Z",
     "start_time": "2024-07-01T16:16:44.056969Z"
    },
    "collapsed": false
   },
   "outputs": [],
   "source": [
    "demixed_data = ica.W @ pro.project(A.T)\n",
    "statistics = ica.density.logp(demixed_data).mean(axis=1)\n",
    "plt.bar(x=np.arange(len(statistics)), height=statistics)"
   ]
  },
  {
   "cell_type": "code",
   "execution_count": null,
   "metadata": {
    "ExecuteTime": {
     "end_time": "2024-07-01T16:16:44.181252Z",
     "start_time": "2024-07-01T16:16:44.126786Z"
    },
    "collapsed": false
   },
   "outputs": [],
   "source": [
    "plt.scatter(statistics, ica.cumulants)"
   ]
  }
 ],
 "metadata": {
  "kernelspec": {
   "display_name": "Python 3",
   "language": "python",
   "name": "python3"
  },
  "language_info": {
   "codemirror_mode": {
    "name": "ipython",
    "version": 2
   },
   "file_extension": ".py",
   "mimetype": "text/x-python",
   "name": "python",
   "nbconvert_exporter": "python",
   "pygments_lexer": "ipython2",
   "version": "2.7.6"
  }
 },
 "nbformat": 4,
 "nbformat_minor": 0
}
