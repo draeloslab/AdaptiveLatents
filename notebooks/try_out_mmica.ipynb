{
 "cells": [
  {
   "cell_type": "markdown",
   "metadata": {
    "collapsed": false,
    "jupyter": {
     "outputs_hidden": false
    }
   },
   "source": [
    "# Imports"
   ]
  },
  {
   "cell_type": "code",
   "execution_count": null,
   "metadata": {
    "ExecuteTime": {
     "end_time": "2024-08-09T16:22:16.342708Z",
     "start_time": "2024-08-09T16:22:15.393712Z"
    }
   },
   "outputs": [],
   "source": [
    "import numpy as np\n",
    "from adaptive_latents.ica import BaseMMICA\n",
    "from adaptive_latents.prosvd import  BaseProSVD\n",
    "import adaptive_latents\n",
    "import matplotlib.pyplot as plt\n",
    "import timeit\n",
    "from scipy.stats import kurtosis, ortho_group\n",
    "from picard import permute\n",
    "\n",
    "from sklearn.decomposition import FastICA, PCA\n",
    "\n",
    "rng = np.random.default_rng()"
   ]
  },
  {
   "cell_type": "markdown",
   "metadata": {
    "collapsed": false,
    "jupyter": {
     "outputs_hidden": false
    }
   },
   "source": [
    "# Define a Dataset"
   ]
  },
  {
   "cell_type": "code",
   "execution_count": null,
   "metadata": {
    "ExecuteTime": {
     "end_time": "2024-08-09T16:22:16.388300Z",
     "start_time": "2024-08-09T16:22:16.386970Z"
    }
   },
   "outputs": [],
   "source": [
    "performances = []"
   ]
  },
  {
   "cell_type": "code",
   "execution_count": null,
   "metadata": {
    "ExecuteTime": {
     "end_time": "2024-08-09T16:22:20.398862Z",
     "start_time": "2024-08-09T16:22:20.386805Z"
    }
   },
   "outputs": [],
   "source": [
    "n_blocks, n_points_per_block, n_dimensions = 700, 10, 10\n",
    "\n",
    "size = (n_blocks, n_points_per_block, n_dimensions)\n",
    "# A_true = rng.laplace(size=size)\n",
    "# A_true = rng.standard_cauchy(size=size)\n",
    "A_true = rng.poisson(.5, size=size)\n",
    "\n",
    "t = np.arange(np.prod(size[:-1])).reshape(size[:-1]) * 0.01\n",
    "block_t = t[:,-1]\n",
    "\n",
    "mixing_matrix = rng.normal(size=[A_true.shape[2]]*2)\n",
    "# mixing_matrix = ortho_group.rvs(A_true.shape[2])\n",
    "\n",
    "\n",
    "A = A_true @ mixing_matrix.T"
   ]
  },
  {
   "cell_type": "markdown",
   "metadata": {
    "collapsed": false,
    "jupyter": {
     "outputs_hidden": false
    }
   },
   "source": [
    "# Run mmICA"
   ]
  },
  {
   "cell_type": "code",
   "execution_count": null,
   "metadata": {
    "ExecuteTime": {
     "end_time": "2024-08-09T16:22:22.342301Z",
     "start_time": "2024-08-09T16:22:21.608904Z"
    },
    "collapsed": false,
    "jupyter": {
     "outputs_hidden": false
    }
   },
   "outputs": [],
   "source": [
    "pro = BaseProSVD(k=n_dimensions)\n",
    "# ica = mmICA(density='huber', track_extra_info=True, maxiter_cg=20, tol=1e-15)\n",
    "ica = BaseMMICA(alpha=.7)\n",
    "\n",
    "start_index = 5\n",
    "pro.initialize(A[:start_index].reshape((-1,A.shape[-1])).T)\n",
    "t, block_t = t[-(A.shape[0]-start_index):], block_t[-(A.shape[0]-start_index):]\n",
    "\n",
    "ica.set_p(pro.k)\n",
    "\n",
    "Ws = []\n",
    "Qs = []\n",
    "ica_times = []\n",
    "pro_times = []\n",
    "\n",
    "for block in A[start_index:]:\n",
    "    start = timeit.default_timer()\n",
    "    # pro.updateSVD(block.T)\n",
    "    block = pro.project_down(block.T).T\n",
    "    block = block.T\n",
    "    pro_times.append(timeit.default_timer() - start)\n",
    "\n",
    "\n",
    "    start = timeit.default_timer()\n",
    "    ica.observe_new_batch(block)\n",
    "    ica_times.append(timeit.default_timer() - start)\n",
    "\n",
    "    Ws.append(ica.W.copy())\n",
    "    Qs.append(pro.Q.copy())\n",
    "\n",
    "Ws = np.array(Ws)\n",
    "Qs = np.array(Qs)\n",
    "ica_times = np.array(ica_times)\n",
    "pro_times = np.array(pro_times)"
   ]
  },
  {
   "cell_type": "code",
   "execution_count": null,
   "metadata": {
    "ExecuteTime": {
     "end_time": "2024-08-09T16:22:24.843161Z",
     "start_time": "2024-08-09T16:22:24.517683Z"
    }
   },
   "outputs": [],
   "source": [
    "performance = [np.linalg.norm(permute(d @ q.T @ mixing_matrix) - np.eye(n_dimensions)) for d,q in zip(Ws,Qs)]\n",
    "performances.insert(0,performance)\n",
    "\n",
    "offline_performance = np.linalg.norm(\n",
    "    permute(FastICA(max_iter=5000).fit(A.reshape((-1, n_dimensions))).components_ @ mixing_matrix) \n",
    "    - np.eye(n_dimensions)\n",
    ")\n",
    "\n",
    "for p in performances[1:]:\n",
    "    plt.plot(block_t, p, color='k', alpha=.5)\n",
    "plt.plot(block_t, performances[0])\n",
    "plt.axhline(offline_performance, color='r')\n",
    "plt.semilogy();\n",
    "plt.ylabel('error')\n",
    "plt.xlabel('time (s)');\n",
    "# plt.ylim([0,10])"
   ]
  },
  {
   "cell_type": "code",
   "execution_count": null,
   "metadata": {
    "ExecuteTime": {
     "end_time": "2024-08-09T16:22:25.134324Z",
     "start_time": "2024-08-09T16:22:25.128911Z"
    },
    "collapsed": false,
    "jupyter": {
     "outputs_hidden": false
    }
   },
   "outputs": [],
   "source": [
    "assert np.all(~np.isnan(Ws))"
   ]
  },
  {
   "cell_type": "code",
   "execution_count": null,
   "metadata": {
    "ExecuteTime": {
     "end_time": "2024-08-09T16:22:34.568051Z",
     "start_time": "2024-08-09T16:22:34.560686Z"
    },
    "collapsed": false,
    "jupyter": {
     "outputs_hidden": false
    }
   },
   "outputs": [],
   "source": [
    "if ica.hit_iter_history:\n",
    "    plt.figure()\n",
    "    plt.plot(np.array(ica.hit_iter_history), '.', alpha=.1, color='k');\n",
    "    \n",
    "    fig, ax = plt.subplots(layout='tight', figsize=(9,3))\n",
    "    ica.hit_norm_history = np.array(ica.hit_norm_history)\n",
    "    # m = ica.hit_norm_history[:200,7,:]\n",
    "    m = np.nanmax(ica.hit_norm_history[:,:,:], axis=1)\n",
    "    c = ax.matshow(np.log(np.squeeze(m)).T, vmin=np.log(ica.tol), origin='lower', aspect='auto')\n",
    "    ax.set_xlabel(\"data block #\")\n",
    "    ax.set_ylabel(\"inner loop iteration #\")\n",
    "    ax.set_title(\"max convergence metric across all rows\")\n",
    "    cbar = fig.colorbar(c)\n",
    "    \n",
    "    cbar.ax.get_yaxis().labelpad=15\n",
    "    cbar.set_label(\"log convergence metric\", rotation=270)\n",
    "\n"
   ]
  },
  {
   "cell_type": "markdown",
   "metadata": {
    "collapsed": false,
    "jupyter": {
     "outputs_hidden": false
    }
   },
   "source": [
    "# Asess performance"
   ]
  },
  {
   "cell_type": "markdown",
   "metadata": {
    "collapsed": false,
    "jupyter": {
     "outputs_hidden": false
    }
   },
   "source": [
    "## Time to run"
   ]
  },
  {
   "cell_type": "code",
   "execution_count": null,
   "metadata": {
    "ExecuteTime": {
     "end_time": "2024-08-09T16:22:37.004350Z",
     "start_time": "2024-08-09T16:22:36.770046Z"
    },
    "collapsed": false,
    "jupyter": {
     "outputs_hidden": false
    }
   },
   "outputs": [],
   "source": [
    "plt.plot(pro_times * 1_000, label=f\"proSVD {pro.Q.shape[0]} -> {pro.Q.shape[1]}\")\n",
    "plt.plot(ica_times * 1_000, label=f\"mmICA {ica.W.shape[0]} -> {ica.W.shape[0]}\")\n",
    "\n",
    "plt.xlabel(\"block number\")\n",
    "plt.ylabel(\"iteration time (ms)\")\n",
    "plt.legend()"
   ]
  },
  {
   "cell_type": "markdown",
   "metadata": {
    "collapsed": false,
    "jupyter": {
     "outputs_hidden": false
    }
   },
   "source": [
    "## Kurtosis"
   ]
  },
  {
   "cell_type": "code",
   "execution_count": null,
   "metadata": {
    "ExecuteTime": {
     "end_time": "2024-08-09T16:22:43.005166Z",
     "start_time": "2024-08-09T16:22:42.298231Z"
    }
   },
   "outputs": [],
   "source": [
    "fig, ax = plt.subplots()\n",
    "\n",
    "\n",
    "datasets = {}\n",
    "\n",
    "dim_reduced_data = pro.project_down(A.reshape((-1, A.shape[-1])).T)\n",
    "datasets['input'] = dim_reduced_data\n",
    "datasets['mmICA'] = ica.W @ dim_reduced_data\n",
    "\n",
    "sk_ica = FastICA(max_iter=800, whiten='unit-variance').fit(dim_reduced_data.T)\n",
    "datasets['FastICA'] = sk_ica.transform(dim_reduced_data.T).T\n",
    "\n",
    "sk_pca = PCA().fit(dim_reduced_data.T)\n",
    "datasets['pca'] = sk_pca.transform(dim_reduced_data.T).T\n",
    "\n",
    "\n",
    "def whiten(x):\n",
    "    whitened_data = (x - x.mean(axis=1)[:,None])\n",
    "    u, s, v_h = np.linalg.svd(whitened_data, full_matrices=False)\n",
    "    s = s/np.sqrt(whitened_data.shape[1] - 1)\n",
    "    return u @ np.diag(1/s) @ u.T @ whitened_data\n",
    "\n",
    "if A_true is not None:\n",
    "    datasets['ground truth'] = A_true.reshape((-1, A.shape[-1])).T\n",
    "    datasets['whitened ground truth'] = whiten(A_true.reshape((-1, A.shape[-1])).T)\n",
    "\n",
    "\n",
    "\n",
    "whitened_data = whiten(dim_reduced_data)\n",
    "\n",
    "datasets['random whitened'] = lambda: ortho_group.rvs(ica.W.shape[0]) @ whitened_data\n",
    "datasets['random'] = lambda: rng.normal(size=[ica.W.shape[0]]*2) @ whitened_data\n",
    "\n",
    "\n",
    "single_line_styles = {\n",
    "    'mmICA': dict(color='C0', linestyle='-', marker='.'),\n",
    "    'input': dict(color='orange'),\n",
    "    'ground truth': dict(color='#D4AF37'),\n",
    "    'whitened ground truth': dict(color='#D4AF37', marker='.'),\n",
    "    'FastICA': dict(color='red'),\n",
    "    'pca': dict(color='green'),\n",
    "}\n",
    "\n",
    "evaluation_metrics = {\n",
    "    'kurtosis': lambda x: kurtosis(x.T),\n",
    "    '4th power': lambda x: ((x.T ** 4 - 3)/4).mean(axis=0),\n",
    "    'log cosh': lambda x: (np.log(np.cosh(x.T)) - .375).mean(axis=0),\n",
    "    'exp': lambda x: -np.exp((-.5 * x.T**2) - .707).sum(axis=0),\n",
    "    'var': lambda x: np.var(x.T, axis=0),\n",
    "}\n",
    "\n",
    "metric_name = 'kurtosis'\n",
    "evaluation_metric = evaluation_metrics[metric_name]\n",
    "\n",
    "for key in set(single_line_styles).intersection(set(datasets)):\n",
    "    dataset = datasets[key]\n",
    "    idx = np.argsort(evaluation_metric(dataset))\n",
    "    sorted_dataset = dataset[idx, :]\n",
    "    datasets[key] = sorted_dataset\n",
    "    ax.plot(evaluation_metric(sorted_dataset), label=key, **single_line_styles[key])\n",
    "\n",
    "multi_line_styles = {\n",
    "    'random whitened': dict(alpha=.1, color='k'),\n",
    "    # 'random': dict(alpha=.1, linestyle='--', color='k'),\n",
    "}\n",
    "for key in set(multi_line_styles).intersection(set(datasets)):\n",
    "    for i in range(10):\n",
    "        dataset = datasets[key]()\n",
    "        idx = np.argsort(evaluation_metric(dataset))\n",
    "        sorted_dataset = dataset[idx, :]\n",
    "        label = key if i == 0 else None\n",
    "        ax.plot(evaluation_metric(sorted_dataset), label=label, **multi_line_styles[key])\n",
    "\n",
    "ax.set_title(f\"Sorted {metric_name} per component\")\n",
    "ax.legend();\n",
    "\n"
   ]
  },
  {
   "cell_type": "markdown",
   "metadata": {
    "collapsed": false,
    "jupyter": {
     "outputs_hidden": false
    }
   },
   "source": [
    "## Compare offline and online"
   ]
  },
  {
   "cell_type": "code",
   "execution_count": null,
   "metadata": {
    "ExecuteTime": {
     "end_time": "2024-08-09T16:22:44.357816Z",
     "start_time": "2024-08-09T16:22:44.138133Z"
    },
    "collapsed": false,
    "jupyter": {
     "outputs_hidden": false
    }
   },
   "outputs": [],
   "source": [
    "fig, ax = plt.subplots()\n",
    "k1, k2 = 'mmICA', 'FastICA'\n",
    "cov = np.abs(np.corrcoef(datasets[k1], datasets[k2])[:-datasets[k2].shape[0],datasets[k1].shape[0]:])\n",
    "cov = permute(cov, scale=False)\n",
    "c = ax.matshow(cov, vmin=0.1, vmax=1)\n",
    "fig.colorbar(c)\n",
    "ax.set_title(\"Offline vs Online latent correlations\");"
   ]
  },
  {
   "cell_type": "markdown",
   "metadata": {
    "collapsed": false,
    "jupyter": {
     "outputs_hidden": false
    }
   },
   "source": [
    "## Correlation with true latents"
   ]
  },
  {
   "cell_type": "code",
   "execution_count": null,
   "metadata": {
    "ExecuteTime": {
     "end_time": "2024-08-09T16:22:45.591818Z",
     "start_time": "2024-08-09T16:22:45.363982Z"
    },
    "collapsed": false,
    "jupyter": {
     "outputs_hidden": false
    }
   },
   "outputs": [],
   "source": [
    "if A_true is not None:\n",
    "    fig, ax = plt.subplots(ncols=2)\n",
    "    a = datasets['ground truth']\n",
    "    ax[0].set_ylabel('ground truth')\n",
    "\n",
    "    for i, name in enumerate(['mmICA', 'FastICA']):\n",
    "        b=datasets[name]\n",
    "        cov = np.corrcoef(a, b)[:a.shape[0], a.shape[0]:]\n",
    "        if cov.shape[0] == cov.shape[1]:\n",
    "            cov = permute(cov, scale=False)\n",
    "        ax[i].matshow(np.abs(cov), vmin=.1, vmax=1)\n",
    "        ax[i].set_title(name)\n",
    "\n",
    "\n"
   ]
  },
  {
   "cell_type": "markdown",
   "metadata": {
    "collapsed": false,
    "jupyter": {
     "outputs_hidden": false
    }
   },
   "source": [
    "## Convergence"
   ]
  },
  {
   "cell_type": "code",
   "execution_count": null,
   "metadata": {
    "ExecuteTime": {
     "end_time": "2024-08-09T16:26:10.159815Z",
     "start_time": "2024-08-09T16:26:09.878705Z"
    },
    "collapsed": false,
    "jupyter": {
     "outputs_hidden": false
    }
   },
   "outputs": [],
   "source": [
    "fig, ax = plt.subplots(nrows=1, layout='tight')\n",
    "ax = [ax]\n",
    "\n",
    "changes = np.linalg.norm(np.diff(Ws, axis=0), axis=2) / np.linalg.norm(Ws, axis=2)[:-1]\n",
    "ax[0].plot((np.arange(changes.shape[0]) + 1)*n_points_per_block * 0.03,changes)\n",
    "ax[0].set_title(\"Convergence of the rows of W (mmICA)\")\n",
    "ax[0].set_xlabel(\"time (s)\")\n",
    "ax[0].set_ylabel(r\"$\\frac{\\Delta r}{\\Vert r \\Vert}$\")\n",
    "# ax[0].semilogy()\n",
    "# ax[0].set_ylim([0,.1])\n",
    "\n",
    "# changes = np.linalg.norm(np.diff(Qs, axis=0), axis=1)/ np.linalg.norm(Qs, axis=1)[:-1]\n",
    "# ax[1].plot((np.arange(changes.shape[0]) + 1)*n_points_per_block,changes)\n",
    "# ax[1].set_title(\"Convergence of the columns of Q\")\n",
    "# ax[1].set_xlabel(\"points seen\")\n",
    "# ax[1].set_ylabel(r\"$\\frac{\\Delta r}{\\Vert r \\Vert}$\");\n",
    "\n"
   ]
  },
  {
   "cell_type": "markdown",
   "metadata": {
    "collapsed": false,
    "jupyter": {
     "outputs_hidden": false
    }
   },
   "source": [
    "## The distribution metric"
   ]
  },
  {
   "cell_type": "code",
   "execution_count": null,
   "metadata": {
    "ExecuteTime": {
     "end_time": "2024-08-06T22:27:37.395641Z",
     "start_time": "2024-08-06T22:27:37.355411Z"
    },
    "collapsed": false,
    "jupyter": {
     "outputs_hidden": false
    }
   },
   "outputs": [],
   "source": [
    "demixed_data = ica.W @ pro.project_down(A.reshape((-1, n_dimensions)).T)\n",
    "statistics = ica.density.logp(demixed_data).mean(axis=1)\n",
    "plt.bar(x=np.arange(len(statistics)), height=statistics)"
   ]
  },
  {
   "cell_type": "code",
   "execution_count": null,
   "metadata": {
    "ExecuteTime": {
     "end_time": "2024-08-06T22:27:37.436253Z",
     "start_time": "2024-08-06T22:27:37.396245Z"
    },
    "collapsed": false,
    "jupyter": {
     "outputs_hidden": false
    }
   },
   "outputs": [],
   "source": [
    "plt.scatter(statistics, ica.cumulants)"
   ]
  }
 ],
 "metadata": {
  "kernelspec": {
   "display_name": "Python 3 (ipykernel)",
   "language": "python",
   "name": "python3"
  },
  "language_info": {
   "codemirror_mode": {
    "name": "ipython",
    "version": 3
   },
   "file_extension": ".py",
   "mimetype": "text/x-python",
   "name": "python",
   "nbconvert_exporter": "python",
   "pygments_lexer": "ipython3",
   "version": "3.12.4"
  }
 },
 "nbformat": 4,
 "nbformat_minor": 4
}
