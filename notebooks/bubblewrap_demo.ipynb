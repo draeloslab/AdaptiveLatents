{
 "cells": [
  {
   "cell_type": "code",
   "execution_count": null,
   "id": "0",
   "metadata": {
    "ExecuteTime": {
     "end_time": "2024-06-06T10:27:57.973616Z",
     "start_time": "2024-06-06T10:27:56.753882Z"
    }
   },
   "outputs": [],
   "source": [
    "import adaptive_latents as al\n",
    "from adaptive_latents import NumpyTimedDataSource, Bubblewrap, AnimationManager, default_rwd_parameters, BWRun\n",
    "import matplotlib.pyplot as plt\n",
    "import numpy as np\n",
    "rng = np.random.default_rng()"
   ]
  },
  {
   "cell_type": "code",
   "execution_count": null,
   "id": "1",
   "metadata": {
    "ExecuteTime": {
     "end_time": "2024-06-06T10:27:58.075606Z",
     "start_time": "2024-06-06T10:27:57.965210Z"
    }
   },
   "outputs": [],
   "source": [
    "hmm = al.input_sources.hmm_simulation.HMM.infinity_shape_hmm(n_states=71, displacement_center=2, displacement_spread=.06, variance_scale=.15)\n",
    "beh, obs = hmm.simulate_with_states(n_steps=1000, rng=rng)"
   ]
  },
  {
   "cell_type": "code",
   "execution_count": null,
   "id": "2",
   "metadata": {
    "ExecuteTime": {
     "end_time": "2024-06-06T10:28:16.694337Z",
     "start_time": "2024-06-06T10:27:58.086716Z"
    }
   },
   "outputs": [],
   "source": [
    "t = np.arange(obs.shape[0])\n",
    "in_ds = NumpyTimedDataSource(obs, t, time_offsets=(0,1))\n",
    "\n",
    "\n",
    "bw = Bubblewrap(dim=in_ds.output_shape, **dict(default_rwd_parameters, M=100, num=20, B_thresh=-5, num_grad_q=4))\n",
    "\n",
    "class CustomAnimation(AnimationManager):\n",
    "    n_rows = 1\n",
    "    n_cols = 3\n",
    "    figsize = (10,4)\n",
    "    extension = \"mp4\"\n",
    "    fps=10\n",
    "\n",
    "    def custom_draw_frame(self, step, bw: Bubblewrap, br: BWRun):\n",
    "        historical_observations, _ = br.input_ds.get_history()\n",
    "\n",
    "        al.plotting_functions.show_bubbles_2d(self.ax[0,0], historical_observations, bw, show_names=False, tail_length=5, no_bubbles=True)\n",
    "        # al.plotting_functions.show_nstep_pdf(self.ax[0,1], br, self.ax[0,0], self.fig, offset=1, show_colorbar=False)\n",
    "        # al.plotting_functions.show_nstep_pdf(self.ax[0,2], br, self.ax[0,0], self.fig, hmm=hmm, method=\"hmm\", offset=1, show_colorbar=False)\n",
    "        self.ax[0,0].set_title(\"data\")\n",
    "        self.ax[0,2].set_title(\"1-step true prob.\")\n",
    "        self.ax[0,1].set_title(\"1-step predicted prob.\")\n",
    "\n",
    "        for ax in self.ax[0,:]:\n",
    "            ax.axis(\"off\")\n",
    "    \n",
    "    def frame_draw_condition(self, step_number, bw):\n",
    "        condition = True\n",
    "        condition = condition and 0 < step_number < 500\n",
    "        return condition\n",
    "\n",
    "        \n",
    "am = CustomAnimation() if True else None\n",
    "\n",
    "br = BWRun(bw=bw, in_ds=in_ds, animation_manager=am, show_tqdm=True)\n",
    "\n",
    "br.run(limit=200, save=True)"
   ]
  },
  {
   "cell_type": "code",
   "execution_count": null,
   "id": "3",
   "metadata": {
    "ExecuteTime": {
     "end_time": "2024-06-06T10:28:27.245123Z",
     "start_time": "2024-06-06T10:28:16.696100Z"
    }
   },
   "outputs": [],
   "source": [
    "t = np.arange(obs.shape[0])\n",
    "in_ds = NumpyTimedDataSource(obs, t, time_offsets=(0,1))\n",
    "\n",
    "\n",
    "bw = Bubblewrap(dim=in_ds.output_shape, **dict(default_rwd_parameters, M=100, num=20, B_thresh=-5, num_grad_q=4))\n",
    "\n",
    "class CustomAnimation(AnimationManager):\n",
    "    n_rows = 1\n",
    "    n_cols = 3\n",
    "    figsize = (10,4)\n",
    "    extension = \"mp4\"\n",
    "    fps=20\n",
    "\n",
    "    def custom_draw_frame(self, step, bw: Bubblewrap, br: BWRun):\n",
    "        historical_observations, _ = br.input_ds.get_history()\n",
    "\n",
    "        al.plotting_functions.show_bubbles_2d(self.ax[0,0], historical_observations, bw, show_names=False, tail_length=5)\n",
    "        al.plotting_functions.show_nstep_pdf(self.ax[0,1], br, self.ax[0,0], self.fig, offset=1, show_colorbar=False)\n",
    "        al.plotting_functions.show_nstep_pdf(self.ax[0,2], br, self.ax[0,0], self.fig, hmm=hmm, method=\"hmm\", offset=1, show_colorbar=False)\n",
    "        self.ax[0,0].set_title(\"data and bubbles\")\n",
    "        self.ax[0,2].set_title(\"1-step true prob.\")\n",
    "        self.ax[0,1].set_title(\"1-step predicted prob.\")\n",
    "\n",
    "        for ax in self.ax[0,:]:\n",
    "            ax.axis(\"off\")\n",
    "    \n",
    "    def frame_draw_condition(self, step_number, bw):\n",
    "        condition = True\n",
    "        condition = condition and 0 < step_number < 800\n",
    "        return condition\n",
    "\n",
    "        \n",
    "am = CustomAnimation() if True else None\n",
    "\n",
    "br = BWRun(bw=bw, in_ds=in_ds, animation_manager=am, show_tqdm=True)\n",
    "\n",
    "br.run(limit=1000, save=True)"
   ]
  },
  {
   "cell_type": "code",
   "execution_count": null,
   "id": "4",
   "metadata": {
    "ExecuteTime": {
     "end_time": "2024-06-06T10:28:27.542956Z",
     "start_time": "2024-06-06T10:28:27.298974Z"
    }
   },
   "outputs": [],
   "source": [
    "al.plotting_functions.compare_metrics([br], offset=1)\n",
    "plt.gcf().axes[0].set_ylabel(\"1-step log predictive probability\")"
   ]
  }
 ],
 "metadata": {
  "kernelspec": {
   "display_name": "Python 3 (ipykernel)",
   "language": "python",
   "name": "python3"
  },
  "language_info": {
   "codemirror_mode": {
    "name": "ipython",
    "version": 3
   },
   "file_extension": ".py",
   "mimetype": "text/x-python",
   "name": "python",
   "nbconvert_exporter": "python",
   "pygments_lexer": "ipython3",
   "version": "3.12.3"
  }
 },
 "nbformat": 4,
 "nbformat_minor": 5
}
