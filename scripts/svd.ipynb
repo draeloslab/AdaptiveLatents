{
 "cells": [
  {
   "cell_type": "code",
   "execution_count": null,
   "id": "0",
   "metadata": {
    "tags": []
   },
   "outputs": [],
   "source": [
    "import numpy as np\n",
    "from scipy.linalg import block_diag\n",
    "import scipy\n",
    "import matplotlib.pyplot as plt\n",
    "from adaptive_latents.transforms import proSVD\n",
    "from adaptive_latents.transforms.jpca import align_column_spaces\n",
    "from tqdm import tqdm\n",
    "\n",
    "from functools import reduce\n",
    "\n",
    "rng = np.random.default_rng()"
   ]
  },
  {
   "cell_type": "code",
   "execution_count": null,
   "id": "1",
   "metadata": {},
   "outputs": [],
   "source": [
    "def column_space_distance(Q1, Q2):\n",
    "    Q1_rotated, Q2 = align_column_spaces(Q1, Q2)\n",
    "    return np.linalg.norm(Q1_rotated - Q2)"
   ]
  },
  {
   "cell_type": "code",
   "execution_count": null,
   "id": "2",
   "metadata": {},
   "outputs": [],
   "source": [
    "def get_improvement_sample(n_samples=100, n1=4,n2=5,k=2):\n",
    "    errors = [[],[]]\n",
    "    for _ in range(n_samples):\n",
    "        d = np.ones(n2)\n",
    "        d[0] = 1.3\n",
    "        d[-1] = 10\n",
    "        d = np.diag(d)\n",
    "        sub_d = d[:-(n2-n1),:-(n2-n1)] if n1 != n2 else d\n",
    "        \n",
    "        data = [\n",
    "            sub_d @ rng.normal(size=(n1,n1)),\n",
    "            sub_d @ rng.normal(size=(n1,5)),\n",
    "            d @ rng.normal(size=(n2,n2)),\n",
    "            d @ rng.normal(size=(n2,5)),\n",
    "            ]\n",
    "        \n",
    "        \n",
    "        psvd1 = proSVD(k)\n",
    "        psvd2 = proSVD(k)\n",
    "        \n",
    "        psvd1.initialize(data[2])\n",
    "        for i in np.arange(data[3].shape[1]):\n",
    "            psvd1.updateSVD(data[3][:,i:i+1])\n",
    "        \n",
    "        psvd2.initialize(data[0])\n",
    "        for i in np.arange(data[1].shape[1]):\n",
    "                psvd2.updateSVD(data[1][:, i:i + 1])\n",
    "            \n",
    "        psvd2.add_new_input_channels(n2-n1)\n",
    "        for j in [2,3]:\n",
    "            for i in np.arange(data[j].shape[1]):\n",
    "                psvd2.updateSVD(data[j][:, i:i + 1])\n",
    "        \n",
    "        ideal_basis = np.zeros((n2,2))\n",
    "        ideal_basis[0,0] = 1\n",
    "        ideal_basis[-1, 1] = 1\n",
    "    \n",
    "        errors[0].append(column_space_distance(psvd1.Q, ideal_basis))\n",
    "        errors[1].append(column_space_distance(psvd2.Q, ideal_basis))\n",
    "    errors = np.array(errors)\n",
    "    diff = errors[0] - errors[1]\n",
    "    return (errors[0] - errors[1] > 0).mean(), diff.mean()\n",
    "\n",
    "\n",
    "stats = np.array([get_improvement_sample(50, n1=4, n2=10, k=2) for _ in tqdm(range(500))])"
   ]
  },
  {
   "cell_type": "code",
   "execution_count": null,
   "id": "3",
   "metadata": {},
   "outputs": [],
   "source": [
    "i = 0\n",
    "plt.hist(stats[:,i],100);\n",
    "(stats[:,i] > [.5, 0][i]).mean()"
   ]
  },
  {
   "cell_type": "code",
   "execution_count": null,
   "id": "4",
   "metadata": {},
   "outputs": [],
   "source": [
    "i = 1\n",
    "plt.hist(stats[:,i],100);\n",
    "(stats[:,i] > [.5, 0][i]).mean()"
   ]
  },
  {
   "cell_type": "code",
   "execution_count": null,
   "id": "5",
   "metadata": {},
   "outputs": [],
   "source": [
    "diffs = (method_errors[0] - method_errors[1])\n",
    "fig, ax = plt.subplots()\n",
    "ax.hist(diffs, 100);\n",
    "ax.axvline(0,color='k')\n",
    "ax.set_xlabel(\"old method error - new method error\")\n",
    "ax.set_ylabel(\"counts\")\n",
    "ax.set_title(f\"improvement in {np.mean(diffs > 0)*100 :.1f}% of cases\");"
   ]
  },
  {
   "cell_type": "code",
   "execution_count": null,
   "id": "6",
   "metadata": {},
   "outputs": [],
   "source": [
    "plt.hist2d(method_errors[0][:,1], method_errors[1][:,1], 20);\n",
    "plt.axis('equal');"
   ]
  },
  {
   "cell_type": "code",
   "execution_count": null,
   "id": "7",
   "metadata": {},
   "outputs": [],
   "source": [
    "fig, axs = plt.subplots(ncols=1)\n",
    "axs.imshow(psvd2.Q)"
   ]
  },
  {
   "cell_type": "code",
   "execution_count": null,
   "id": "8",
   "metadata": {},
   "outputs": [],
   "source": [
    "np.std(np.hstack(data[1:]),1)"
   ]
  },
  {
   "cell_type": "code",
   "execution_count": null,
   "id": "9",
   "metadata": {},
   "outputs": [],
   "source": [
    "np.std(np.hstack(data[0:1]),1)"
   ]
  },
  {
   "cell_type": "code",
   "execution_count": null,
   "id": "10",
   "metadata": {},
   "outputs": [],
   "source": [
    "np.linalg.norm(Q2[:,0])"
   ]
  }
 ],
 "metadata": {
  "kernelspec": {
   "display_name": "Python 3 (ipykernel)",
   "language": "python",
   "name": "python3"
  },
  "language_info": {
   "codemirror_mode": {
    "name": "ipython",
    "version": 3
   },
   "file_extension": ".py",
   "mimetype": "text/x-python",
   "name": "python",
   "nbconvert_exporter": "python",
   "pygments_lexer": "ipython3",
   "version": "3.12.0"
  }
 },
 "nbformat": 4,
 "nbformat_minor": 5
}
