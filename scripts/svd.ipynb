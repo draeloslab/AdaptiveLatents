{
 "cells": [
  {
   "cell_type": "code",
   "execution_count": null,
   "id": "0",
   "metadata": {
    "tags": []
   },
   "outputs": [],
   "source": [
    "import numpy as np\n",
    "from scipy.linalg import block_diag\n",
    "import scipy\n",
    "import matplotlib.pyplot as plt\n",
    "from adaptive_latents.transforms import proSVD\n",
    "from adaptive_latents.transforms.jpca import align_column_spaces\n",
    "from tqdm import tqdm\n",
    "\n",
    "from functools import reduce\n",
    "\n",
    "rng = np.random.default_rng()"
   ]
  },
  {
   "cell_type": "code",
   "execution_count": null,
   "id": "1",
   "metadata": {},
   "outputs": [],
   "source": [
    "def column_space_distance(Q1, Q2):\n",
    "    return (((Q1 @ Q1.T) - (Q2 @ Q2.T))**2).sum()"
   ]
  },
  {
   "cell_type": "code",
   "execution_count": null,
   "id": "2",
   "metadata": {},
   "outputs": [],
   "source": [
    "diffs = []\n",
    "for _ in tqdm(range(5000)):\n",
    "    d = np.ones(8)\n",
    "    d[0] = 1.3\n",
    "    d[-1] = 10\n",
    "    d = np.diag(d)\n",
    "    \n",
    "    data = [\n",
    "        d[:-3,:-3] @ rng.normal(size=(5,20)),\n",
    "        d @ rng.normal(size=(8,8)),\n",
    "        d @ rng.normal(size=(8,20)),\n",
    "        ]\n",
    "    \n",
    "    \n",
    "    psvd1 = proSVD(2)\n",
    "    psvd2 = proSVD(2)\n",
    "    \n",
    "    psvd1.initialize(data[1])\n",
    "    for i in np.arange(data[2].shape[1]):\n",
    "        psvd1.updateSVD(data[2][:,i:i+1])\n",
    "    \n",
    "    psvd2.initialize(data[0])\n",
    "    psvd2.add_new_input_channels(3)\n",
    "    for j in [1,2]:\n",
    "        for i in np.arange(data[j].shape[1]):\n",
    "            psvd2.updateSVD(data[j][:, i:i + 1])\n",
    "    \n",
    "    ideal_basis = np.zeros((8,2))\n",
    "    ideal_basis[0,0] = 1\n",
    "    ideal_basis[-1, 1] = 1\n",
    "\n",
    "    diff = column_space_distance(psvd1.Q, ideal_basis) - column_space_distance(psvd2.Q, ideal_basis)\n",
    "    diffs.append(diff)\n",
    "diffs = np.array(diffs)"
   ]
  },
  {
   "cell_type": "code",
   "execution_count": null,
   "id": "3",
   "metadata": {},
   "outputs": [],
   "source": [
    "fig, ax = plt.subplots()\n",
    "ax.hist(diffs, 100);\n",
    "ax.axvline(0,color='k')\n",
    "ax.set_xlabel(\"old method error - new method error\")\n",
    "ax.set_ylabel(\"counts\")\n",
    "ax.set_title(f\"improvement in {np.mean(diffs > 0)*100 :.1f}% of cases\");"
   ]
  },
  {
   "cell_type": "code",
   "execution_count": null,
   "id": "4",
   "metadata": {},
   "outputs": [],
   "source": [
    "fig, axs = plt.subplots(ncols=1)\n",
    "axs.imshow(psvd2.Q)"
   ]
  },
  {
   "cell_type": "code",
   "execution_count": null,
   "id": "5",
   "metadata": {},
   "outputs": [],
   "source": [
    "np.std(np.hstack(data[1:]),1)"
   ]
  },
  {
   "cell_type": "code",
   "execution_count": null,
   "id": "6",
   "metadata": {},
   "outputs": [],
   "source": [
    "np.std(np.hstack(data[0:1]),1)"
   ]
  },
  {
   "cell_type": "code",
   "execution_count": null,
   "id": "7",
   "metadata": {},
   "outputs": [],
   "source": [
    "np.linalg.norm(Q2[:,0])"
   ]
  },
  {
   "cell_type": "markdown",
   "id": "8",
   "metadata": {},
   "source": [
    "# old"
   ]
  },
  {
   "cell_type": "code",
   "execution_count": null,
   "id": "9",
   "metadata": {},
   "outputs": [],
   "source": [
    "from scipy.stats import special_ortho_group\n",
    "\n",
    "\n",
    "\n",
    "def random_mat_leq_theta(theta, d=3):\n",
    "    rmm = special_ortho_group(dim=d, seed=rng)\n",
    "    Q = rmm.rvs()\n",
    "    while np.linalg.det(Q) > 0 and np.arccos((np.trace(Q) - 1)/2) > theta:\n",
    "        Q = rmm.rvs()\n",
    "    return Q"
   ]
  },
  {
   "cell_type": "code",
   "execution_count": null,
   "id": "10",
   "metadata": {},
   "outputs": [],
   "source": [
    "def trivial_make_G(B, k):\n",
    "    u, s, vt = np.linalg.svd(B)\n",
    "    G_u = u[:,:k]\n",
    "    G_v = (vt.T)[:,:k]\n",
    "    return G_u, G_v"
   ]
  },
  {
   "cell_type": "code",
   "execution_count": null,
   "id": "11",
   "metadata": {},
   "outputs": [],
   "source": [
    "def prosvd_make_G(B,k):\n",
    "    alpha = 1\n",
    "    \n",
    "    u, sigma, vt = np.linalg.svd(B)\n",
    "\n",
    "    u_tilde, sigma_tilde, vt_tilde = np.linalg.svd(u[:k, :k])\n",
    "    \n",
    "    T = (u_tilde @ vt_tilde).T\n",
    "\n",
    "    G_u = u[:,:k] @ T\n",
    "    G_v = vt.T\n",
    "    \n",
    "    return G_u, G_v"
   ]
  },
  {
   "cell_type": "code",
   "execution_count": null,
   "id": "12",
   "metadata": {},
   "outputs": [],
   "source": [
    "def general_incremental_svd(A_sequence, make_G_matrices=trivial_make_G, max_k=10):\n",
    "    history = []\n",
    "    \n",
    "    A =  A_sequence[0]\n",
    "    l = A.shape[1]\n",
    "    Q, B = np.linalg.qr(A)\n",
    "    W = np.eye(l)\n",
    "    k = l\n",
    "    history.append(dict(Q=Q, B=B, W=W))\n",
    "    \n",
    "    for A in A_sequence[1:]:\n",
    "        l = A.shape[1]\n",
    "\n",
    "        B_in = Q.T @ A\n",
    "        A_orth = A - Q @ B_in\n",
    "        Q_orth, B_orth = np.linalg.qr(A_orth)\n",
    "        \n",
    "        Q_bigger = np.hstack([Q, Q_orth]) # Q hat\n",
    "        zero_block = np.zeros((B_orth.shape[0],B.shape[1]))\n",
    "        B_bigger =  np.block([\n",
    "            [B,          B_in],\n",
    "            [zero_block, B_orth]\n",
    "        ])\n",
    "        W = block_diag(W, np.eye(l))\n",
    "        \n",
    "        G_u, G_v = make_G_matrices(B_bigger, max_k)\n",
    "\n",
    "        k = min(k + l, max_k)\n",
    "        G_u, G_v = G_u[:,:k], G_v[:,:k]\n",
    "        \n",
    "        B = G_u.T @ B_bigger @ G_v\n",
    "        Q = Q_bigger @ G_u\n",
    "        W = W @ G_v\n",
    "\n",
    "        history.append(dict(Q=Q, B=B, W=W, B_bigger=B_bigger, Q_bigger=Q_bigger))\n",
    "        \n",
    "    return Q, B, W, history"
   ]
  },
  {
   "cell_type": "code",
   "execution_count": null,
   "id": "13",
   "metadata": {},
   "outputs": [],
   "source": [
    "A_sequence = [rng.normal(size=(2,1)) for _ in range(10)]\n",
    "A_full = np.column_stack(A_sequence)\n",
    "\n",
    "for f in [trivial_make_G, prosvd_make_G]:\n",
    "    Q, B, W, _ = general_incremental_svd(A_sequence, f)\n",
    "    assert np.allclose(Q @ B @ W.T, A_full)"
   ]
  },
  {
   "cell_type": "code",
   "execution_count": null,
   "id": "14",
   "metadata": {},
   "outputs": [],
   "source": [
    "A_sequence = [rng.normal(size=(3,4)) for _ in range(10)]\n",
    "A_full = np.column_stack(A_sequence)\n",
    "\n",
    "d=4\n",
    "Q, B, W, _ = general_incremental_svd(A_sequence, prosvd_make_G, max_k=d)\n",
    "\n",
    "\n",
    "\n",
    "p = proSVD(d)\n",
    "\n",
    "p.initialize(A_sequence[0])\n",
    "for A in A_sequence[1:]:\n",
    "    p.preupdate()\n",
    "    p.updateSVD(A)\n",
    "    p.postupdate()\n",
    "\n",
    "assert np.allclose(p.Q,  Q)"
   ]
  },
  {
   "cell_type": "markdown",
   "id": "15",
   "metadata": {},
   "source": [
    "$$\n",
    "\\begin{bmatrix}A_{t-1} & a_t\\end{bmatrix} = U_t \\Sigma_t V_t^\\top\n",
    "$$"
   ]
  },
  {
   "cell_type": "markdown",
   "id": "16",
   "metadata": {},
   "source": [
    "## Visualization"
   ]
  },
  {
   "cell_type": "code",
   "execution_count": null,
   "id": "17",
   "metadata": {},
   "outputs": [],
   "source": [
    "direction = np.array([-3,1])\n",
    "direction = direction/ np.linalg.norm(direction)\n",
    "cov = np.column_stack([direction, [-direction[1], direction[0]]])\n",
    "cov = cov @ np.diag([5,.11]) * .25 @ cov.T\n",
    "\n",
    "rng = np.random.default_rng(24)\n",
    "A_sequence = [rng.multivariate_normal(mean=[2,2], cov=cov)[:,None] for _ in range(15)]\n",
    "A_sequence.pop(2)\n",
    "A_sequence[1] -= np.array([[.1],[.1]])\n",
    "A_full = np.column_stack(A_sequence)\n",
    "\n",
    "Q, B, W, history = general_incremental_svd(A_sequence, max_k=1)"
   ]
  },
  {
   "cell_type": "code",
   "execution_count": null,
   "id": "18",
   "metadata": {},
   "outputs": [],
   "source": [
    "fig, ax = plt.subplots(ncols=2, figsize=(9,4))\n",
    "ax[0].plot(*A_full, '.')\n",
    "ax[0].axis('scaled')\n",
    "ax[0].set_xlim([-4,4])\n",
    "ax[0].set_ylim([-4,4])\n",
    "ax[0].plot(0,0, '.k')\n",
    "\n",
    "ax[1].imshow(A_full)"
   ]
  },
  {
   "cell_type": "code",
   "execution_count": null,
   "id": "19",
   "metadata": {},
   "outputs": [],
   "source": [
    "-history[1][\"B_bigger\"], -history[1][\"Q_bigger\"]"
   ]
  },
  {
   "cell_type": "code",
   "execution_count": null,
   "id": "20",
   "metadata": {},
   "outputs": [],
   "source": [
    "fig, axs = plt.subplots(ncols=4, nrows=5, squeeze=False, layout='tight', figsize=(10,10))\n",
    "\n",
    "i = 0\n",
    "for j in range(2):\n",
    "    axs[i,j].plot(A_full[0,:i], A_full[1,:i], '.', color=\"C0\", alpha=.5)\n",
    "    axs[i,j].plot(A_full[0,i], A_full[1,i], '.', color=\"C0\")\n",
    "axs[i,1].axline((0,0), history[i]['Q'][:,0], color='k', alpha=.5)\n",
    "\n",
    "axs[i,1].plot([0, history[i]['Q'][0,0] * history[i]['B'][0,0]], [0,history[i]['Q'][1,0] * history[i]['B'][0,0]], color='C3')\n",
    "\n",
    "t = np.linspace(0,2*np.pi, 50)\n",
    "\n",
    "for i in range(1, axs.shape[0]):\n",
    "    current_point = A_full[:,i:i+1]\n",
    "    old_Q = history[i-1]['Q']\n",
    "    weighted_col_space = history[i]['Q_bigger'] @ history[i]['B_bigger']\n",
    "    for j in range(axs.shape[1]):\n",
    "        axs[i,j].plot(A_full[0,:i], A_full[1,:i], '.', color=\"C0\", alpha=.5)\n",
    "        axs[i,j].plot(current_point[0], current_point[1], '.', color=\"C0\")\n",
    "        axs[i,j].axline((0,0), old_Q[:,0], color='k', alpha=.25)\n",
    "        \n",
    "\n",
    "    along = old_Q * (old_Q.T @ current_point)\n",
    "    direction_of_along = np.sign(old_Q.T @ current_point)\n",
    "    residual = current_point - along\n",
    "    axs[i,1].plot([0, along[0,0]], [0,along[1,0]], color='C1')\n",
    "    axs[i,1].plot([along[0,0], (along+residual)[0,0] ], [along[1,0], (along+residual)[1,0]], color='C2')\n",
    "\n",
    "    circle_points = np.column_stack([np.cos(t), np.sin(t)])\n",
    "    ellipse_points = weighted_col_space @ circle_points.T\n",
    "    axs[i,2].plot(ellipse_points[0,:], ellipse_points[1,:])\n",
    "\n",
    "    saved_variance_vector = np.abs(history[i]['B_bigger'][0,0]) * -direction_of_along * old_Q\n",
    "    axs[i,2].plot([0, saved_variance_vector[0,0] ], [0, saved_variance_vector[1,0]], color='C3')\n",
    "    axs[i,2].plot([0, along[0,0]], [0,along[1,0]], color='C1')\n",
    "    axs[i,2].plot([0, residual[0,0] ], [0, residual[1,0]], color='C2')\n",
    "\n",
    "    axs[i,-1].plot(ellipse_points[0,:], ellipse_points[1,:])\n",
    "    axs[i,-1].axline((0,0), history[i]['Q'][:,0], color='k', alpha=.5)\n",
    "\n",
    "for ax in axs.flatten():\n",
    "    ax.plot(0,0, '.k')\n",
    "    \n",
    "    ax.set_xticks([])\n",
    "    ax.set_yticks([])\n",
    "    \n",
    "    ax.axis('scaled')\n",
    "    ax.set_xlim([-4,4])\n",
    "    ax.set_ylim([-4,4])"
   ]
  },
  {
   "cell_type": "code",
   "execution_count": null,
   "id": "21",
   "metadata": {},
   "outputs": [],
   "source": [
    "plt.plot(np.linalg.norm(np.diff(np.squeeze([h['Q'] for h in history]), axis=0), axis=1));"
   ]
  },
  {
   "cell_type": "code",
   "execution_count": null,
   "id": "22",
   "metadata": {},
   "outputs": [],
   "source": [
    "def tex_for_history(history, step):\n",
    "    Q_old = history[step-1][\"Q\"]\n",
    "    R_old = history[step-1][\"B\"]\n",
    "    Q_bigger = history[step][\"Q_bigger\"]\n",
    "    R_bigger = history[step][\"B_bigger\"]\n",
    "    Q = history[step][\"Q\"]\n",
    "    R = history[step][\"B\"]\n",
    "    s = fr\"\"\"\\begin{{align*}}\n",
    "    Q_{{{step-1}}} =\n",
    "    \\begin{{bmatrix}}\n",
    "        \\mathtt{{\\mathcolor{{gray}}{{ {Q_old[0,0]:.2f} }}}} \\\\\n",
    "        \\mathtt{{\\mathcolor{{gray}}{{ {Q_old[1,0]:.2f} }}}} \\\\\n",
    "    \\end{{bmatrix}}\n",
    "    \\quad&\n",
    "    R_{{{step-1}}} =\n",
    "    \\begin{{bmatrix}}\n",
    "        \\mathtt{{\\mathcolor{{C3}}{{ {R_old[0,0]:.2f} }}}}\n",
    "    \\end{{bmatrix}}\n",
    "    \\\\\n",
    "    \\hat Q_{{{step}}} =\n",
    "    \\begin{{bmatrix}}\n",
    "        \\mathtt{{\\mathcolor{{gray}}{{ {Q_bigger[0,0]:.2f}  }}}} & \\mathtt{{\\mathcolor{{kk}}{{ {Q_bigger[0,1]:.2f} }}}} \\\\\n",
    "        \\mathtt{{\\mathcolor{{gray}}{{ {Q_bigger[1,0]:.2f} }}}} & \\mathtt{{\\mathcolor{{kk}}{{ {Q_bigger[1,1]:.2f} }}}} \\\\\n",
    "    \\end{{bmatrix}}\n",
    "    \\quad& \n",
    "    \\hat R_{{{step}}} =\n",
    "    \\begin{{bmatrix}}\n",
    "        \\mathtt{{\\mathcolor{{C3}}{{ {R_bigger[0,0]:.2f}  }}}} & \\mathtt{{\\mathcolor{{C1}}{{ {R_bigger[0,1]:.2f} }}}} \\\\\n",
    "        \\mathtt{{\\mathcolor{{kk}}{{0}}}} & \\mathtt{{\\mathcolor{{C2}}{{ {R_bigger[1,1]:.2f} }}}} \\\\\n",
    "    \\end{{bmatrix}}\n",
    "    \\\\\n",
    "    Q_{{{step}}} =\n",
    "    \\begin{{bmatrix}}\n",
    "        \\mathtt{{\\mathcolor{{gray}}{{ {Q[0,0]:.2f}  }}}} \\\\\n",
    "        \\mathtt{{\\mathcolor{{gray}}{{ {Q[1,0]:.2f} }}}} \\\\\n",
    "    \\end{{bmatrix}}\n",
    "    \\quad& \n",
    "    R_{{{step}}} =\n",
    "    \\begin{{bmatrix}}\n",
    "        \\mathtt{{\\mathcolor{{C3}}{{ {R[0,0]:.2f}  }}}}\n",
    "    \\end{{bmatrix}}\n",
    "\\end{{align*}}\n",
    "\"\"\"\n",
    "    return s\n",
    "print(tex_for_history(history, 3))"
   ]
  },
  {
   "cell_type": "markdown",
   "id": "23",
   "metadata": {},
   "source": [
    "# Biased proSVD"
   ]
  },
  {
   "cell_type": "code",
   "execution_count": null,
   "id": "24",
   "metadata": {},
   "outputs": [],
   "source": [
    "def biased_pro_svd(A_sequence, make_G_matrices=trivial_make_G, max_k=10):\n",
    "    A =  A_sequence[0]\n",
    "    l = A.shape[1]\n",
    "    Q, B = np.linalg.qr(A)\n",
    "    W = np.eye(l)\n",
    "    k = l\n",
    "    QBWs = [(Q, B, W)]\n",
    "    for A in A_sequence[1:]:\n",
    "        l = A.shape[1]\n",
    "\n",
    "        B_in = Q.T @ A\n",
    "        A_orth = A - Q @ B_in\n",
    "        Q_orth, B_orth = np.linalg.qr(A_orth)\n",
    "        \n",
    "        Q = np.hstack([Q, Q_orth]) # Q hat\n",
    "        zero_block = np.zeros((B_orth.shape[0],B.shape[1]))\n",
    "        B =  np.block([\n",
    "            [B,          B_in],\n",
    "            [zero_block, B_orth]\n",
    "        ])\n",
    "        W = block_diag(W, np.eye(l))\n",
    "        \n",
    "        u, sigma, vt = np.linalg.svd(B)\n",
    "        u_tilde, sigma_tilde, vt_tilde = np.linalg.svd(u[:max_k, :max_k])\n",
    "        T = (u_tilde @ vt_tilde).T\n",
    "        G_u = u[:,:max_k] @ T\n",
    "        G_v = vt.T\n",
    "\n",
    "        k = min(k + l, max_k)\n",
    "        G_u, G_v = G_u[:,:k], G_v[:,:k]\n",
    "        \n",
    "        B = G_u.T @ B @ G_v\n",
    "        Q = Q @ G_u\n",
    "        W = W @ G_v\n",
    "        QBWs.append((Q, B, W))\n",
    "    return QBWs"
   ]
  },
  {
   "cell_type": "code",
   "execution_count": null,
   "id": "25",
   "metadata": {},
   "outputs": [],
   "source": [
    "n_points = 50\n",
    "d = 10\n",
    "max_k = 3\n",
    "A_sequence = []\n",
    "\n",
    "for i in range(n_points):\n",
    "    cov = [10, 10, 10]\n",
    "    cov = np.diag(cov + [1 for _ in range(d - len(cov))])\n",
    "    mean = [i/n_points * 100,0,0]\n",
    "    mean = np.array(mean + [0 for _ in range(d - len(mean))])\n",
    "    A = rng.multivariate_normal(mean=mean, cov=cov, size=max_k)\n",
    "    A_sequence.append(A.T)\n",
    "\n",
    "for i in range(n_points):\n",
    "    cov = [10, 10, 10]\n",
    "    cov = np.diag(cov + [1 for _ in range(d - len(cov))])\n",
    "    mean = [np.cos(i / n_points) * 100, np.sin(i/n_points) * 100, 0]\n",
    "    mean = np.array(mean + [0 for _ in range(d - len(mean))])\n",
    "    A = rng.multivariate_normal(mean=mean, cov=cov, size=max_k)\n",
    "    A_sequence.append(A.T)\n",
    "    \n",
    "A_full = np.column_stack(A_sequence)\n",
    "\n",
    "QBWs = biased_pro_svd(A_sequence, max_k=max_k)\n",
    "Qs, Bs, Ws = zip(*QBWs)\n",
    "\n",
    "print(f\"{np.allclose(Qs[-1] @ Bs[-1] @ Ws[-1].T, A_full)}\")"
   ]
  },
  {
   "cell_type": "code",
   "execution_count": null,
   "id": "26",
   "metadata": {},
   "outputs": [],
   "source": [
    "n_points = 50\n",
    "d = 10\n",
    "max_k = 3\n",
    "A_sequence = []\n",
    "\n",
    "for i in range(n_points):\n",
    "    cov = [10, 10, 10, 1]\n",
    "    cov = np.diag(cov + [1 for _ in range(d - len(cov))])\n",
    "    mean = []\n",
    "    mean = np.array(mean + [0 for _ in range(d - len(mean))])\n",
    "    A = rng.multivariate_normal(mean=mean, cov=cov, size=max_k)\n",
    "    A_sequence.append(A.T)\n",
    "\n",
    "for i in range(n_points):\n",
    "    cov = [10, 10, 10, i]\n",
    "    cov = np.diag(cov + [1 for _ in range(d - len(cov))])\n",
    "    mean = []\n",
    "    mean = np.array(mean + [0 for _ in range(d - len(mean))])\n",
    "    A = rng.multivariate_normal(mean=mean, cov=cov, size=max_k)\n",
    "    A_sequence.append(A.T)\n",
    "\n",
    "A_full = np.column_stack(A_sequence)\n",
    "\n",
    "QBWs = biased_pro_svd(A_sequence, max_k=max_k)\n",
    "Qs, Bs, Ws = zip(*QBWs)\n",
    "\n",
    "print(f\"{np.allclose(Qs[-1] @ Bs[-1] @ Ws[-1].T, A_full)}\")"
   ]
  },
  {
   "cell_type": "code",
   "execution_count": null,
   "id": "27",
   "metadata": {},
   "outputs": [],
   "source": [
    "plt.plot(np.arange(len(Qs)-1)+1,np.linalg.norm(np.diff(np.array(Qs), axis=0), axis=1))\n",
    "plt.xlabel(\"step\")\n",
    "plt.ylabel(\"norm stepwise change in the nth column of Q\")"
   ]
  },
  {
   "cell_type": "code",
   "execution_count": null,
   "id": "28",
   "metadata": {},
   "outputs": [],
   "source": [
    "plt.imshow(A_full, aspect='auto', interpolation=\"nearest\")"
   ]
  },
  {
   "cell_type": "code",
   "execution_count": null,
   "id": "29",
   "metadata": {},
   "outputs": [],
   "source": [
    "fig, ax = plt.subplots(nrows=1, ncols=2, squeeze=False, figsize=(10,5))\n",
    "\n",
    "im = ax[0,1].imshow(Qs[-1], interpolation='nearest')\n",
    "fig.colorbar(im);\n",
    "# plt.subplot(1,2,2)\n",
    "ax[0,0].plot(Qs[-1])"
   ]
  },
  {
   "cell_type": "code",
   "execution_count": null,
   "id": "30",
   "metadata": {},
   "outputs": [],
   "source": [
    "fig, ax = plt.subplots(nrows=1, ncols=2, squeeze=False, figsize=(13,5))\n",
    "H = Bs[-1] @ Ws[-1].T\n",
    "im = ax[0,0].imshow(H, aspect='auto', interpolation='nearest')\n",
    "fig.colorbar(im);\n",
    "# plt.subplot(1,2,2)\n",
    "ax[0,1].plot(H.T)"
   ]
  },
  {
   "cell_type": "code",
   "execution_count": null,
   "id": "31",
   "metadata": {},
   "outputs": [],
   "source": [
    "idx = 3\n",
    "plt.plot(A_full[idx,:])\n",
    "plt.plot((Qs[-1]@Qs[-1].T@A_full)[idx,:])"
   ]
  },
  {
   "cell_type": "markdown",
   "id": "32",
   "metadata": {},
   "source": [
    "# real data"
   ]
  },
  {
   "cell_type": "code",
   "execution_count": null,
   "id": "33",
   "metadata": {},
   "outputs": [],
   "source": [
    "import timeit\n",
    "import numpy as np\n",
    "import adaptive_latents.input_sources as ins\n",
    "from adaptive_latents import default_rwd_parameters, Bubblewrap, SymmetricNoisyRegressor\n",
    "from proSVD import proSVD\n",
    "\n",
    "identifier = ins.datasets.individual_identifiers[\"buzaki\"][0]\n",
    "bin_width = 0.03\n",
    "obs, position_data, obs_t, position_data_t = ins.datasets.construct_buzaki_data(individual_identifier=identifier, bin_width=bin_width)\n",
    "\n",
    "position_data = ins.functional.resample_behavior(raw_behavior=position_data, bin_centers=obs_t, t=position_data_t)\n",
    "position_data = position_data[:,:2]\n"
   ]
  },
  {
   "cell_type": "code",
   "execution_count": null,
   "id": "34",
   "metadata": {},
   "outputs": [],
   "source": [
    "plt.plot(position_data[:,0], position_data[:,1])"
   ]
  },
  {
   "cell_type": "code",
   "execution_count": null,
   "id": "35",
   "metadata": {},
   "outputs": [],
   "source": [
    "max_k = 6\n",
    "stride = 5\n",
    "A_sequence = []\n",
    "\n",
    "to_partition = scipy.stats.zscore(np.hstack([obs, position_data]))\n",
    "to_partition = obs\n",
    "for i in range(100):\n",
    "    new = to_partition[stride*i:stride*i+stride].T\n",
    "    A_sequence.append(new)\n",
    "    \n",
    "A_full = np.column_stack(A_sequence)\n",
    "QBWs = biased_pro_svd(A_sequence, max_k=max_k)\n",
    "Qs, Bs, Ws = zip(*QBWs)"
   ]
  },
  {
   "cell_type": "code",
   "execution_count": null,
   "id": "36",
   "metadata": {},
   "outputs": [],
   "source": [
    "reconstruction = Qs[-1] @ Bs[-1] @ Ws[-1].T\n",
    "fig, ax = plt.subplots(figsize=(20,5))\n",
    "im = ax.imshow(reconstruction, aspect='auto', interpolation='nearest')\n",
    "print(np.linalg.norm(reconstruction - A_full))\n",
    "fig.colorbar(im);"
   ]
  },
  {
   "cell_type": "code",
   "execution_count": null,
   "id": "37",
   "metadata": {},
   "outputs": [],
   "source": [
    "plt.subplot(1,2,1)\n",
    "plt.imshow(Qs[-1])\n",
    "plt.subplot(1,2,2)\n",
    "plt.plot(Qs[-1]);"
   ]
  },
  {
   "cell_type": "code",
   "execution_count": null,
   "id": "38",
   "metadata": {},
   "outputs": [],
   "source": [
    "plt.plot((Bs[-1] @ Ws[-1].T).T);"
   ]
  },
  {
   "cell_type": "code",
   "execution_count": null,
   "id": "39",
   "metadata": {},
   "outputs": [],
   "source": [
    "Qs_slice = Qs[1:]\n",
    "plt.plot(np.arange(len(Qs_slice)-1)+1,np.linalg.norm(np.diff(np.array(Qs_slice), axis=0), axis=1));"
   ]
  },
  {
   "cell_type": "code",
   "execution_count": null,
   "id": "40",
   "metadata": {},
   "outputs": [],
   "source": [
    "from sklearn.decomposition import non_negative_factorization"
   ]
  },
  {
   "cell_type": "code",
   "execution_count": null,
   "id": "41",
   "metadata": {},
   "outputs": [],
   "source": [
    "W, H, _ = non_negative_factorization(A_full,n_components=max_k)"
   ]
  },
  {
   "cell_type": "code",
   "execution_count": null,
   "id": "42",
   "metadata": {},
   "outputs": [],
   "source": [
    "reconstruction = W @ H\n",
    "fig, ax = plt.subplots(figsize=(20,5))\n",
    "im = ax.imshow(reconstruction, aspect='auto', interpolation='nearest')\n",
    "print(np.linalg.norm(reconstruction - A_full))\n",
    "fig.colorbar(im);"
   ]
  },
  {
   "cell_type": "code",
   "execution_count": null,
   "id": "43",
   "metadata": {},
   "outputs": [],
   "source": [
    "plt.subplot(1,2,1)\n",
    "plt.imshow(W)\n",
    "plt.subplot(1,2,2)\n",
    "plt.plot(W);"
   ]
  },
  {
   "cell_type": "code",
   "execution_count": null,
   "id": "44",
   "metadata": {},
   "outputs": [],
   "source": [
    "plt.plot(H.T)"
   ]
  },
  {
   "cell_type": "markdown",
   "id": "45",
   "metadata": {},
   "source": [
    "### Procrustes"
   ]
  },
  {
   "cell_type": "code",
   "execution_count": null,
   "id": "46",
   "metadata": {
    "tags": []
   },
   "outputs": [],
   "source": [
    "A = rng.random(size=(3,3))"
   ]
  },
  {
   "cell_type": "code",
   "execution_count": null,
   "id": "47",
   "metadata": {
    "tags": []
   },
   "outputs": [],
   "source": [
    "fig, ax = plt.subplots()\n",
    "ax.imshow(A);"
   ]
  },
  {
   "cell_type": "code",
   "execution_count": null,
   "id": "48",
   "metadata": {
    "tags": []
   },
   "outputs": [],
   "source": [
    "magnitudes = []\n",
    "points = []\n",
    "\n",
    "random_mat_maker = special_ortho_group(dim=A.shape[0], seed=rng).rvs\n",
    "\n",
    "\n",
    "for _ in range(10_000):\n",
    "    # random_mat = rng.random(size=(A.shape[0],A.shape[0]))\n",
    "    # q_qr,_ = np.linalg.qr(random_mat)\n",
    "    # q_svd,_,_ = np.linalg.svd(random_mat)\n",
    "    # q = q_qr\n",
    "    # q = q[rng.permutation(q.shape[0])]\n",
    "    \n",
    "    q = random_mat_maker()\n",
    "    m = ((A - q)**2).sum()\n",
    "    \n",
    "    \n",
    "    \n",
    "    assert np.allclose(q.T@q, np.eye(A.shape[0])) and np.allclose(q@q.T, np.eye(A.shape[0]))\n",
    "    points.append(q[:,0])\n",
    "    magnitudes.append(m)"
   ]
  },
  {
   "cell_type": "code",
   "execution_count": null,
   "id": "49",
   "metadata": {
    "tags": []
   },
   "outputs": [],
   "source": [
    "points = np.array(points)\n",
    "plt.plot(points[:,0], points[:,1], '.')\n",
    "plt.axis(\"equal\");"
   ]
  },
  {
   "cell_type": "code",
   "execution_count": null,
   "id": "50",
   "metadata": {
    "tags": []
   },
   "outputs": [],
   "source": [
    "u, s, vh = np.linalg.svd(A)\n",
    "q = u @ vh\n",
    "m = ((A - q)**2).sum()\n",
    "assert np.allclose(q.T@q, np.eye(A.shape[0])) and np.allclose(q@q.T, np.eye(A.shape[0]))\n",
    "\n",
    "plt.axvline(m, color='red')\n",
    "plt.hist(magnitudes, bins=100);"
   ]
  }
 ],
 "metadata": {
  "kernelspec": {
   "display_name": "Python 3 (ipykernel)",
   "language": "python",
   "name": "python3"
  },
  "language_info": {
   "codemirror_mode": {
    "name": "ipython",
    "version": 3
   },
   "file_extension": ".py",
   "mimetype": "text/x-python",
   "name": "python",
   "nbconvert_exporter": "python",
   "pygments_lexer": "ipython3",
   "version": "3.12.0"
  }
 },
 "nbformat": 4,
 "nbformat_minor": 5
}
