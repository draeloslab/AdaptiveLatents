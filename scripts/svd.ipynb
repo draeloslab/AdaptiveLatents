{
 "cells": [
  {
   "cell_type": "code",
   "execution_count": null,
   "id": "0",
   "metadata": {
    "tags": []
   },
   "outputs": [],
   "source": [
    "import numpy as np\n",
    "from scipy.linalg import block_diag\n",
    "import scipy\n",
    "import matplotlib.pyplot as plt\n",
    "from proSVD import proSVD\n",
    "\n",
    "rng = np.random.default_rng()"
   ]
  },
  {
   "cell_type": "code",
   "execution_count": null,
   "id": "1",
   "metadata": {},
   "outputs": [],
   "source": [
    "def trivial_make_G(B, k):\n",
    "    u, s, vt = np.linalg.svd(B)\n",
    "    G_u = u[:,:k]\n",
    "    G_v = (vt.T)[:,:k]\n",
    "    return G_u, G_v"
   ]
  },
  {
   "cell_type": "code",
   "execution_count": null,
   "id": "2",
   "metadata": {},
   "outputs": [],
   "source": [
    "def prosvd_make_G(B,k):\n",
    "    alpha = 1\n",
    "    \n",
    "    u, sigma, vt = np.linalg.svd(B)\n",
    "\n",
    "    u_tilde, sigma_tilde, vt_tilde = np.linalg.svd(u[:k, :k])\n",
    "    \n",
    "    T = (u_tilde @ vt_tilde).T\n",
    "\n",
    "    G_u = u[:,:k] @ T\n",
    "    G_v = vt.T\n",
    "    \n",
    "    return G_u, G_v"
   ]
  },
  {
   "cell_type": "code",
   "execution_count": null,
   "id": "3",
   "metadata": {},
   "outputs": [],
   "source": [
    "def general_incremental_svd(A_sequence, make_G_matrices=trivial_make_G, max_k=10):\n",
    "    A =  A_sequence[0]\n",
    "    l = A.shape[1]\n",
    "    Q, B = np.linalg.qr(A)\n",
    "    W = np.eye(l)\n",
    "    k = l\n",
    "    \n",
    "    for A in A_sequence[1:]:\n",
    "        l = A.shape[1]\n",
    "\n",
    "        B_in = Q.T @ A\n",
    "        A_orth = A - Q @ B_in\n",
    "        Q_orth, B_orth = np.linalg.qr(A_orth)\n",
    "        \n",
    "        Q = np.hstack([Q, Q_orth]) # Q hat\n",
    "        zero_block = np.zeros((B_orth.shape[0],B.shape[1]))\n",
    "        B =  np.block([\n",
    "            [B,          B_in],\n",
    "            [zero_block, B_orth]\n",
    "        ])\n",
    "        W = block_diag(W, np.eye(l))\n",
    "        \n",
    "        G_u, G_v = make_G_matrices(B, max_k)\n",
    "\n",
    "        k = min(k + l, max_k)\n",
    "        G_u, G_v = G_u[:,:k], G_v[:,:k]\n",
    "        \n",
    "        B = G_u.T @ B @ G_v\n",
    "        Q = Q @ G_u\n",
    "        W = W @ G_v\n",
    "        \n",
    "    return Q, B, W"
   ]
  },
  {
   "cell_type": "code",
   "execution_count": null,
   "id": "4",
   "metadata": {},
   "outputs": [],
   "source": [
    "A_sequence = [rng.normal(size=(3,4)) for _ in range(10)]\n",
    "A_full = np.column_stack(A_sequence)\n",
    "\n",
    "d=4\n",
    "Q, B, W = general_incremental_svd(A_sequence, prosvd_make_G, max_k=d)\n",
    "\n",
    "\n",
    "\n",
    "p = proSVD(d)\n",
    "\n",
    "p.initialize(A_sequence[0])\n",
    "for A in A_sequence[1:]:\n",
    "    p.preupdate()\n",
    "    p.updateSVD(A)\n",
    "    p.postupdate()\n",
    "\n",
    "assert np.allclose(p.Q,  Q)"
   ]
  },
  {
   "cell_type": "code",
   "execution_count": null,
   "id": "5",
   "metadata": {},
   "outputs": [],
   "source": [
    "A_sequence = [rng.normal(size=(2,1)) for _ in range(10)]\n",
    "A_full = np.column_stack(A_sequence)\n",
    "\n",
    "for f in [trivial_make_G, prosvd_make_G]:\n",
    "    Q, B, W = general_incremental_svd(A_sequence, f)\n",
    "    assert np.allclose(Q @ B @ W.T, A_full)"
   ]
  },
  {
   "cell_type": "markdown",
   "id": "6",
   "metadata": {},
   "source": [
    "### Procrustes"
   ]
  },
  {
   "cell_type": "code",
   "execution_count": null,
   "id": "7",
   "metadata": {},
   "outputs": [],
   "source": [
    "from scipy.stats import special_ortho_group"
   ]
  },
  {
   "cell_type": "code",
   "execution_count": null,
   "id": "8",
   "metadata": {
    "tags": []
   },
   "outputs": [],
   "source": [
    "A = rng.random(size=(3,3))"
   ]
  },
  {
   "cell_type": "code",
   "execution_count": null,
   "id": "9",
   "metadata": {
    "tags": []
   },
   "outputs": [],
   "source": [
    "fig, ax = plt.subplots()\n",
    "ax.imshow(A);"
   ]
  },
  {
   "cell_type": "code",
   "execution_count": null,
   "id": "10",
   "metadata": {
    "tags": []
   },
   "outputs": [],
   "source": [
    "magnitudes = []\n",
    "points = []\n",
    "\n",
    "random_mat_maker = special_ortho_group(dim=A.shape[0], seed=rng).rvs\n",
    "for _ in range(10_000):\n",
    "    # random_mat = rng.random(size=(A.shape[0],A.shape[0]))\n",
    "    # q_qr,_ = np.linalg.qr(random_mat)\n",
    "    # q_svd,_,_ = np.linalg.svd(random_mat)\n",
    "    # q = q_qr\n",
    "    # q = q[rng.permutation(q.shape[0])]\n",
    "    \n",
    "    q = random_mat_maker()\n",
    "    m = ((A - q)**2).sum()\n",
    "    \n",
    "    \n",
    "    \n",
    "    assert np.allclose(q.T@q, np.eye(A.shape[0])) and np.allclose(q@q.T, np.eye(A.shape[0]))\n",
    "    points.append(q[:,0])\n",
    "    magnitudes.append(m)"
   ]
  },
  {
   "cell_type": "code",
   "execution_count": null,
   "id": "11",
   "metadata": {
    "tags": []
   },
   "outputs": [],
   "source": [
    "points = np.array(points)\n",
    "plt.plot(points[:,0], points[:,1], '.')\n",
    "plt.axis(\"equal\");"
   ]
  },
  {
   "cell_type": "code",
   "execution_count": null,
   "id": "12",
   "metadata": {
    "tags": []
   },
   "outputs": [],
   "source": [
    "u, s, vh = np.linalg.svd(A)\n",
    "q = u @ vh\n",
    "m = ((A - q)**2).sum()\n",
    "assert np.allclose(q.T@q, np.eye(A.shape[0])) and np.allclose(q@q.T, np.eye(A.shape[0]))\n",
    "\n",
    "plt.axvline(m, color='red')\n",
    "plt.hist(magnitudes, bins=100);"
   ]
  }
 ],
 "metadata": {
  "kernelspec": {
   "display_name": "Python 3 (ipykernel)",
   "language": "python",
   "name": "python3"
  },
  "language_info": {
   "codemirror_mode": {
    "name": "ipython",
    "version": 3
   },
   "file_extension": ".py",
   "mimetype": "text/x-python",
   "name": "python",
   "nbconvert_exporter": "python",
   "pygments_lexer": "ipython3",
   "version": "3.12.0"
  }
 },
 "nbformat": 4,
 "nbformat_minor": 5
}
