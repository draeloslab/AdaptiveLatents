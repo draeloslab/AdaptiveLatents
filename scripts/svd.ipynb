{
 "cells": [
  {
   "cell_type": "code",
   "execution_count": null,
   "id": "0",
   "metadata": {
    "tags": []
   },
   "outputs": [],
   "source": [
    "import numpy as np\n",
    "from scipy.linalg import block_diag\n",
    "import scipy\n",
    "import matplotlib.pyplot as plt\n",
    "from proSVD import proSVD\n",
    "from functools import reduce\n",
    "\n",
    "rng = np.random.default_rng()"
   ]
  },
  {
   "cell_type": "code",
   "execution_count": null,
   "id": "1",
   "metadata": {},
   "outputs": [],
   "source": [
    "from scipy.stats import special_ortho_group\n",
    "\n",
    "\n",
    "\n",
    "def random_mat_leq_theta(theta, d=3):\n",
    "    rmm = special_ortho_group(dim=d, seed=rng)\n",
    "    Q = rmm.rvs()\n",
    "    while np.linalg.det(Q) > 0 and np.arccos((np.trace(Q) - 1)/2) > theta:\n",
    "        Q = rmm.rvs()\n",
    "    return Q"
   ]
  },
  {
   "cell_type": "code",
   "execution_count": null,
   "id": "2",
   "metadata": {},
   "outputs": [],
   "source": [
    "def trivial_make_G(B, k):\n",
    "    u, s, vt = np.linalg.svd(B)\n",
    "    G_u = u[:,:k]\n",
    "    G_v = (vt.T)[:,:k]\n",
    "    return G_u, G_v"
   ]
  },
  {
   "cell_type": "code",
   "execution_count": null,
   "id": "3",
   "metadata": {},
   "outputs": [],
   "source": [
    "def prosvd_make_G(B,k):\n",
    "    alpha = 1\n",
    "    \n",
    "    u, sigma, vt = np.linalg.svd(B)\n",
    "\n",
    "    u_tilde, sigma_tilde, vt_tilde = np.linalg.svd(u[:k, :k])\n",
    "    \n",
    "    T = (u_tilde @ vt_tilde).T\n",
    "\n",
    "    G_u = u[:,:k] @ T\n",
    "    G_v = vt.T\n",
    "    \n",
    "    return G_u, G_v"
   ]
  },
  {
   "cell_type": "code",
   "execution_count": null,
   "id": "4",
   "metadata": {},
   "outputs": [],
   "source": [
    "def general_incremental_svd(A_sequence, make_G_matrices=trivial_make_G, max_k=10):\n",
    "    A =  A_sequence[0]\n",
    "    l = A.shape[1]\n",
    "    Q, B = np.linalg.qr(A)\n",
    "    W = np.eye(l)\n",
    "    k = l\n",
    "    \n",
    "    for A in A_sequence[1:]:\n",
    "        l = A.shape[1]\n",
    "\n",
    "        B_in = Q.T @ A\n",
    "        A_orth = A - Q @ B_in\n",
    "        Q_orth, B_orth = np.linalg.qr(A_orth)\n",
    "        \n",
    "        Q = np.hstack([Q, Q_orth]) # Q hat\n",
    "        zero_block = np.zeros((B_orth.shape[0],B.shape[1]))\n",
    "        B =  np.block([\n",
    "            [B,          B_in],\n",
    "            [zero_block, B_orth]\n",
    "        ])\n",
    "        W = block_diag(W, np.eye(l))\n",
    "        \n",
    "        G_u, G_v = make_G_matrices(B, max_k)\n",
    "\n",
    "        k = min(k + l, max_k)\n",
    "        G_u, G_v = G_u[:,:k], G_v[:,:k]\n",
    "        \n",
    "        B = G_u.T @ B @ G_v\n",
    "        Q = Q @ G_u\n",
    "        W = W @ G_v\n",
    "        \n",
    "    return Q, B, W"
   ]
  },
  {
   "cell_type": "code",
   "execution_count": null,
   "id": "5",
   "metadata": {},
   "outputs": [],
   "source": [
    "A_sequence = [rng.normal(size=(2,1)) + np.array([3,3]) for _ in range(10)]\n",
    "Q, B, W = general_incremental_svd(A_sequence, max_k=1)"
   ]
  },
  {
   "cell_type": "code",
   "execution_count": null,
   "id": "6",
   "metadata": {},
   "outputs": [],
   "source": [
    "Q @ B @ W.T"
   ]
  },
  {
   "cell_type": "code",
   "execution_count": null,
   "id": "7",
   "metadata": {},
   "outputs": [],
   "source": [
    "A_sequence"
   ]
  },
  {
   "cell_type": "code",
   "execution_count": null,
   "id": "8",
   "metadata": {},
   "outputs": [],
   "source": [
    "A_sequence = [rng.normal(size=(2,1)) for _ in range(10)]\n",
    "A_full = np.column_stack(A_sequence)\n",
    "\n",
    "for f in [trivial_make_G, prosvd_make_G]:\n",
    "    Q, B, W = general_incremental_svd(A_sequence, f)\n",
    "    assert np.allclose(Q @ B @ W.T, A_full)"
   ]
  },
  {
   "cell_type": "code",
   "execution_count": null,
   "id": "9",
   "metadata": {},
   "outputs": [],
   "source": [
    "A_sequence = [rng.normal(size=(3,4)) for _ in range(10)]\n",
    "A_full = np.column_stack(A_sequence)\n",
    "\n",
    "d=4\n",
    "Q, B, W = general_incremental_svd(A_sequence, prosvd_make_G, max_k=d)\n",
    "\n",
    "\n",
    "\n",
    "p = proSVD(d)\n",
    "\n",
    "p.initialize(A_sequence[0])\n",
    "for A in A_sequence[1:]:\n",
    "    p.preupdate()\n",
    "    p.updateSVD(A)\n",
    "    p.postupdate()\n",
    "\n",
    "assert np.allclose(p.Q,  Q)"
   ]
  },
  {
   "cell_type": "markdown",
   "id": "10",
   "metadata": {},
   "source": [
    "# Biased proSVD"
   ]
  },
  {
   "cell_type": "code",
   "execution_count": null,
   "id": "11",
   "metadata": {},
   "outputs": [],
   "source": [
    "def biased_pro_svd(A_sequence, make_G_matrices=trivial_make_G, max_k=10):\n",
    "    A =  A_sequence[0]\n",
    "    l = A.shape[1]\n",
    "    Q, B = np.linalg.qr(A)\n",
    "    W = np.eye(l)\n",
    "    k = l\n",
    "    QBWs = [(Q, B, W)]\n",
    "    for A in A_sequence[1:]:\n",
    "        l = A.shape[1]\n",
    "\n",
    "        B_in = Q.T @ A\n",
    "        A_orth = A - Q @ B_in\n",
    "        Q_orth, B_orth = np.linalg.qr(A_orth)\n",
    "        \n",
    "        Q = np.hstack([Q, Q_orth]) # Q hat\n",
    "        zero_block = np.zeros((B_orth.shape[0],B.shape[1]))\n",
    "        B =  np.block([\n",
    "            [B,          B_in],\n",
    "            [zero_block, B_orth]\n",
    "        ])\n",
    "        W = block_diag(W, np.eye(l))\n",
    "        \n",
    "        u, sigma, vt = np.linalg.svd(B)\n",
    "        u_tilde, sigma_tilde, vt_tilde = np.linalg.svd(u[:max_k, :max_k])\n",
    "        T = (u_tilde @ vt_tilde).T\n",
    "        G_u = u[:,:max_k] @ T\n",
    "        G_v = vt.T\n",
    "\n",
    "        k = min(k + l, max_k)\n",
    "        G_u, G_v = G_u[:,:k], G_v[:,:k]\n",
    "        \n",
    "        B = G_u.T @ B @ G_v\n",
    "        Q = Q @ G_u\n",
    "        W = W @ G_v\n",
    "        QBWs.append((Q, B, W))\n",
    "    return QBWs"
   ]
  },
  {
   "cell_type": "code",
   "execution_count": null,
   "id": "12",
   "metadata": {},
   "outputs": [],
   "source": [
    "n_points = 50\n",
    "d = 10\n",
    "max_k = 3\n",
    "A_sequence = []\n",
    "\n",
    "for i in range(n_points):\n",
    "    cov = [10, 10, 10]\n",
    "    cov = np.diag(cov + [1 for _ in range(d - len(cov))])\n",
    "    mean = [i/n_points * 100,0,0]\n",
    "    mean = np.array(mean + [0 for _ in range(d - len(mean))])\n",
    "    A = rng.multivariate_normal(mean=mean, cov=cov, size=max_k)\n",
    "    A_sequence.append(A.T)\n",
    "\n",
    "for i in range(n_points):\n",
    "    cov = [10, 10, 10]\n",
    "    cov = np.diag(cov + [1 for _ in range(d - len(cov))])\n",
    "    mean = [np.cos(i / n_points) * 100, np.sin(i/n_points) * 100, 0]\n",
    "    mean = np.array(mean + [0 for _ in range(d - len(mean))])\n",
    "    A = rng.multivariate_normal(mean=mean, cov=cov, size=max_k)\n",
    "    A_sequence.append(A.T)\n",
    "    \n",
    "A_full = np.column_stack(A_sequence)\n",
    "\n",
    "QBWs = biased_pro_svd(A_sequence, max_k=max_k)\n",
    "Qs, Bs, Ws = zip(*QBWs)\n",
    "\n",
    "print(f\"{np.allclose(Qs[-1] @ Bs[-1] @ Ws[-1].T, A_full)}\")"
   ]
  },
  {
   "cell_type": "code",
   "execution_count": null,
   "id": "13",
   "metadata": {},
   "outputs": [],
   "source": [
    "n_points = 50\n",
    "d = 10\n",
    "max_k = 3\n",
    "A_sequence = []\n",
    "\n",
    "for i in range(n_points):\n",
    "    cov = [10, 10, 10, 1]\n",
    "    cov = np.diag(cov + [1 for _ in range(d - len(cov))])\n",
    "    mean = []\n",
    "    mean = np.array(mean + [0 for _ in range(d - len(mean))])\n",
    "    A = rng.multivariate_normal(mean=mean, cov=cov, size=max_k)\n",
    "    A_sequence.append(A.T)\n",
    "\n",
    "for i in range(n_points):\n",
    "    cov = [10, 10, 10, i]\n",
    "    cov = np.diag(cov + [1 for _ in range(d - len(cov))])\n",
    "    mean = []\n",
    "    mean = np.array(mean + [0 for _ in range(d - len(mean))])\n",
    "    A = rng.multivariate_normal(mean=mean, cov=cov, size=max_k)\n",
    "    A_sequence.append(A.T)\n",
    "\n",
    "A_full = np.column_stack(A_sequence)\n",
    "\n",
    "QBWs = biased_pro_svd(A_sequence, max_k=max_k)\n",
    "Qs, Bs, Ws = zip(*QBWs)\n",
    "\n",
    "print(f\"{np.allclose(Qs[-1] @ Bs[-1] @ Ws[-1].T, A_full)}\")"
   ]
  },
  {
   "cell_type": "code",
   "execution_count": null,
   "id": "14",
   "metadata": {},
   "outputs": [],
   "source": [
    "plt.plot(np.arange(len(Qs)-1)+1,np.linalg.norm(np.diff(np.array(Qs), axis=0), axis=1))\n",
    "plt.xlabel(\"step\")\n",
    "plt.ylabel(\"norm stepwise change in the nth column of Q\")"
   ]
  },
  {
   "cell_type": "code",
   "execution_count": null,
   "id": "15",
   "metadata": {},
   "outputs": [],
   "source": [
    "plt.imshow(A_full, aspect='auto', interpolation=\"nearest\")"
   ]
  },
  {
   "cell_type": "code",
   "execution_count": null,
   "id": "16",
   "metadata": {},
   "outputs": [],
   "source": [
    "fig, ax = plt.subplots(nrows=1, ncols=2, squeeze=False, figsize=(10,5))\n",
    "\n",
    "im = ax[0,1].imshow(Qs[-1], interpolation='nearest')\n",
    "fig.colorbar(im);\n",
    "# plt.subplot(1,2,2)\n",
    "ax[0,0].plot(Qs[-1])"
   ]
  },
  {
   "cell_type": "code",
   "execution_count": null,
   "id": "17",
   "metadata": {},
   "outputs": [],
   "source": [
    "fig, ax = plt.subplots(nrows=1, ncols=2, squeeze=False, figsize=(13,5))\n",
    "H = Bs[-1] @ Ws[-1].T\n",
    "im = ax[0,0].imshow(H, aspect='auto', interpolation='nearest')\n",
    "fig.colorbar(im);\n",
    "# plt.subplot(1,2,2)\n",
    "ax[0,1].plot(H.T)"
   ]
  },
  {
   "cell_type": "code",
   "execution_count": null,
   "id": "18",
   "metadata": {},
   "outputs": [],
   "source": [
    "idx = 3\n",
    "plt.plot(A_full[idx,:])\n",
    "plt.plot((Qs[-1]@Qs[-1].T@A_full)[idx,:])"
   ]
  },
  {
   "cell_type": "markdown",
   "id": "19",
   "metadata": {},
   "source": [
    "# real data"
   ]
  },
  {
   "cell_type": "code",
   "execution_count": null,
   "id": "20",
   "metadata": {},
   "outputs": [],
   "source": [
    "import timeit\n",
    "import numpy as np\n",
    "import adaptive_latents.input_sources as ins\n",
    "from adaptive_latents import default_rwd_parameters, Bubblewrap, SymmetricNoisyRegressor\n",
    "from proSVD import proSVD\n",
    "\n",
    "identifier = ins.datasets.individual_identifiers[\"buzaki\"][0]\n",
    "bin_width = 0.03\n",
    "obs, position_data, obs_t, position_data_t = ins.datasets.construct_buzaki_data(individual_identifier=identifier, bin_width=bin_width)\n",
    "\n",
    "position_data = ins.functional.resample_behavior(raw_behavior=position_data, bin_centers=obs_t, t=position_data_t)\n",
    "position_data = position_data[:,:2]\n"
   ]
  },
  {
   "cell_type": "code",
   "execution_count": null,
   "id": "21",
   "metadata": {},
   "outputs": [],
   "source": [
    "plt.plot(position_data[:,0], position_data[:,1])"
   ]
  },
  {
   "cell_type": "code",
   "execution_count": null,
   "id": "22",
   "metadata": {},
   "outputs": [],
   "source": [
    "max_k = 6\n",
    "stride = 5\n",
    "A_sequence = []\n",
    "\n",
    "to_partition = scipy.stats.zscore(np.hstack([obs, position_data]))\n",
    "to_partition = obs\n",
    "for i in range(100):\n",
    "    new = to_partition[stride*i:stride*i+stride].T\n",
    "    A_sequence.append(new)\n",
    "    \n",
    "A_full = np.column_stack(A_sequence)\n",
    "QBWs = biased_pro_svd(A_sequence, max_k=max_k)\n",
    "Qs, Bs, Ws = zip(*QBWs)"
   ]
  },
  {
   "cell_type": "code",
   "execution_count": null,
   "id": "23",
   "metadata": {},
   "outputs": [],
   "source": [
    "reconstruction = Qs[-1] @ Bs[-1] @ Ws[-1].T\n",
    "fig, ax = plt.subplots(figsize=(20,5))\n",
    "im = ax.imshow(reconstruction, aspect='auto', interpolation='nearest')\n",
    "print(np.linalg.norm(reconstruction - A_full))\n",
    "fig.colorbar(im);"
   ]
  },
  {
   "cell_type": "code",
   "execution_count": null,
   "id": "24",
   "metadata": {},
   "outputs": [],
   "source": [
    "plt.subplot(1,2,1)\n",
    "plt.imshow(Qs[-1])\n",
    "plt.subplot(1,2,2)\n",
    "plt.plot(Qs[-1]);"
   ]
  },
  {
   "cell_type": "code",
   "execution_count": null,
   "id": "25",
   "metadata": {},
   "outputs": [],
   "source": [
    "plt.plot((Bs[-1] @ Ws[-1].T).T);"
   ]
  },
  {
   "cell_type": "code",
   "execution_count": null,
   "id": "26",
   "metadata": {},
   "outputs": [],
   "source": [
    "Qs_slice = Qs[1:]\n",
    "plt.plot(np.arange(len(Qs_slice)-1)+1,np.linalg.norm(np.diff(np.array(Qs_slice), axis=0), axis=1));"
   ]
  },
  {
   "cell_type": "code",
   "execution_count": null,
   "id": "27",
   "metadata": {},
   "outputs": [],
   "source": [
    "from sklearn.decomposition import non_negative_factorization"
   ]
  },
  {
   "cell_type": "code",
   "execution_count": null,
   "id": "28",
   "metadata": {},
   "outputs": [],
   "source": [
    "W, H, _ = non_negative_factorization(A_full,n_components=max_k)"
   ]
  },
  {
   "cell_type": "code",
   "execution_count": null,
   "id": "29",
   "metadata": {},
   "outputs": [],
   "source": [
    "reconstruction = W @ H\n",
    "fig, ax = plt.subplots(figsize=(20,5))\n",
    "im = ax.imshow(reconstruction, aspect='auto', interpolation='nearest')\n",
    "print(np.linalg.norm(reconstruction - A_full))\n",
    "fig.colorbar(im);"
   ]
  },
  {
   "cell_type": "code",
   "execution_count": null,
   "id": "30",
   "metadata": {},
   "outputs": [],
   "source": [
    "plt.subplot(1,2,1)\n",
    "plt.imshow(W)\n",
    "plt.subplot(1,2,2)\n",
    "plt.plot(W);"
   ]
  },
  {
   "cell_type": "code",
   "execution_count": null,
   "id": "31",
   "metadata": {},
   "outputs": [],
   "source": [
    "plt.plot(H.T)"
   ]
  },
  {
   "cell_type": "markdown",
   "id": "32",
   "metadata": {},
   "source": [
    "### Procrustes"
   ]
  },
  {
   "cell_type": "code",
   "execution_count": null,
   "id": "33",
   "metadata": {
    "tags": []
   },
   "outputs": [],
   "source": [
    "A = rng.random(size=(3,3))"
   ]
  },
  {
   "cell_type": "code",
   "execution_count": null,
   "id": "34",
   "metadata": {
    "tags": []
   },
   "outputs": [],
   "source": [
    "fig, ax = plt.subplots()\n",
    "ax.imshow(A);"
   ]
  },
  {
   "cell_type": "code",
   "execution_count": null,
   "id": "35",
   "metadata": {
    "tags": []
   },
   "outputs": [],
   "source": [
    "magnitudes = []\n",
    "points = []\n",
    "\n",
    "random_mat_maker = special_ortho_group(dim=A.shape[0], seed=rng).rvs\n",
    "\n",
    "\n",
    "for _ in range(10_000):\n",
    "    # random_mat = rng.random(size=(A.shape[0],A.shape[0]))\n",
    "    # q_qr,_ = np.linalg.qr(random_mat)\n",
    "    # q_svd,_,_ = np.linalg.svd(random_mat)\n",
    "    # q = q_qr\n",
    "    # q = q[rng.permutation(q.shape[0])]\n",
    "    \n",
    "    q = random_mat_maker()\n",
    "    m = ((A - q)**2).sum()\n",
    "    \n",
    "    \n",
    "    \n",
    "    assert np.allclose(q.T@q, np.eye(A.shape[0])) and np.allclose(q@q.T, np.eye(A.shape[0]))\n",
    "    points.append(q[:,0])\n",
    "    magnitudes.append(m)"
   ]
  },
  {
   "cell_type": "code",
   "execution_count": null,
   "id": "36",
   "metadata": {
    "tags": []
   },
   "outputs": [],
   "source": [
    "points = np.array(points)\n",
    "plt.plot(points[:,0], points[:,1], '.')\n",
    "plt.axis(\"equal\");"
   ]
  },
  {
   "cell_type": "code",
   "execution_count": null,
   "id": "37",
   "metadata": {
    "tags": []
   },
   "outputs": [],
   "source": [
    "u, s, vh = np.linalg.svd(A)\n",
    "q = u @ vh\n",
    "m = ((A - q)**2).sum()\n",
    "assert np.allclose(q.T@q, np.eye(A.shape[0])) and np.allclose(q@q.T, np.eye(A.shape[0]))\n",
    "\n",
    "plt.axvline(m, color='red')\n",
    "plt.hist(magnitudes, bins=100);"
   ]
  }
 ],
 "metadata": {
  "kernelspec": {
   "display_name": "Python 3 (ipykernel)",
   "language": "python",
   "name": "python3"
  },
  "language_info": {
   "codemirror_mode": {
    "name": "ipython",
    "version": 3
   },
   "file_extension": ".py",
   "mimetype": "text/x-python",
   "name": "python",
   "nbconvert_exporter": "python",
   "pygments_lexer": "ipython3",
   "version": "3.12.0"
  }
 },
 "nbformat": 4,
 "nbformat_minor": 5
}
