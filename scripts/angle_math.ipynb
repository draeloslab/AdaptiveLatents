{
 "cells": [
  {
   "cell_type": "code",
   "execution_count": null,
   "id": "0",
   "metadata": {
    "tags": []
   },
   "outputs": [],
   "source": [
    "import numpy as np\n",
    "import matplotlib.pyplot as plt"
   ]
  },
  {
   "cell_type": "code",
   "execution_count": null,
   "id": "1",
   "metadata": {
    "tags": []
   },
   "outputs": [],
   "source": [
    "# this cell generates the set of points we'll be working on\n",
    "\n",
    "theta = np.linspace(0, 2*np.pi, 100)\n",
    "points = np.column_stack([np.sin(theta), np.cos(theta) * 2])\n",
    "points -= points[0]\n",
    "\n",
    "\n",
    "plt.plot(points[:,0], points[:,1])\n",
    "plt.axis(\"equal\");"
   ]
  },
  {
   "cell_type": "code",
   "execution_count": null,
   "id": "2",
   "metadata": {
    "tags": []
   },
   "outputs": [],
   "source": [
    "# this cell calculates the angles between points and stores them in `angles`\n",
    "\n",
    "angles = []\n",
    "\n",
    "for i in range(1,points.shape[0]-1):\n",
    "    # here we define unit vectors paralell to the i and (i+1)th line segments in `points`\n",
    "    current_segment = points[i] - points[i-1]\n",
    "    next_segment = points[i+1] - points[i]\n",
    "    current_segment /= np.linalg.norm(current_segment)\n",
    "    next_segment /= np.linalg.norm(next_segment)\n",
    "    \n",
    "    # calculate the angle using arccos\n",
    "    angle_magnitude = np.arccos(current_segment @ next_segment)\n",
    "    angle_sign = np.sign(np.linalg.det(np.column_stack([current_segment, next_segment])))\n",
    "    angle_by_cos = angle_magnitude * angle_sign\n",
    "    \n",
    "    # calculate the angle using atan2\n",
    "    orth_to_current_segment = np.array([[0,-1],[1,0]]) @ current_segment\n",
    "    angle_by_atan2 = np.arctan2(next_segment @ orth_to_current_segment, next_segment @ current_segment)\n",
    "    \n",
    "    # check that both methods give the correct answer\n",
    "    assert np.isclose(angle_by_cos, angle_by_atan2)\n",
    "    \n",
    "    angles.append(angle_by_cos)"
   ]
  },
  {
   "cell_type": "code",
   "execution_count": null,
   "id": "3",
   "metadata": {
    "tags": []
   },
   "outputs": [],
   "source": [
    "# this cell does the reconstruction\n",
    "\n",
    "def reconstruct_points_from_angles(angles, angle_0=0):\n",
    "    \"\"\"converts a sequence of angles to a sequence of line segments joined by the given angles\n",
    "    \n",
    "    Parameters\n",
    "    ----------\n",
    "    angles : iterable of n floats\n",
    "        the angles between adjacent line segments\n",
    "    \n",
    "    angle_0 : float\n",
    "        the angle between the initial line segment and the x-axis; this will usually be arbitrary\n",
    "    \n",
    "    Returns\n",
    "    -------\n",
    "    reconstructed_points : array of floats\n",
    "        The x and y coordinates of the sequence of reconstructed points; if n angles were given, this implies n+1 line segments, which \n",
    "        means n+2 points will be returned, where the first point is the origin.\n",
    "    \"\"\"\n",
    "    reconstructed_points = [np.array([0,0]), np.array([np.cos(angle_0), np.sin(angle_0)])]\n",
    "\n",
    "    for theta in angles:\n",
    "        last_segment = reconstructed_points[-1] - reconstructed_points[-2]\n",
    "        current_theta = np.arctan2(last_segment[1], last_segment[0])\n",
    "        reconstructed_points.append(reconstructed_points[-1] + [np.cos(current_theta + theta), np.sin(current_theta + theta)])\n",
    "    return np.array(reconstructed_points)\n",
    "\n",
    "reconstructed_points = reconstruct_points_from_angles(angles)\n",
    "\n",
    "plt.plot(points[:,0], points[:,1])\n",
    "plt.plot(reconstructed_points[:,0], reconstructed_points[:,1])\n",
    "plt.axis(\"equal\");"
   ]
  }
 ],
 "metadata": {
  "kernelspec": {
   "display_name": "Python 3 (ipykernel)",
   "language": "python",
   "name": "python3"
  },
  "language_info": {
   "codemirror_mode": {
    "name": "ipython",
    "version": 3
   },
   "file_extension": ".py",
   "mimetype": "text/x-python",
   "name": "python",
   "nbconvert_exporter": "python",
   "pygments_lexer": "ipython3",
   "version": "3.12.0"
  }
 },
 "nbformat": 4,
 "nbformat_minor": 5
}
