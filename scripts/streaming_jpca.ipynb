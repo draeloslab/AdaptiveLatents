{
 "cells": [
  {
   "cell_type": "code",
   "execution_count": null,
   "id": "0",
   "metadata": {},
   "outputs": [],
   "source": [
    "import numpy as np\n",
    "from scipy.linalg import block_diag\n",
    "from adaptive_latents.regressions import VanillaOnlineRegressor\n",
    "import matplotlib.pyplot as plt\n",
    "rng = np.random.default_rng()"
   ]
  },
  {
   "cell_type": "code",
   "execution_count": null,
   "id": "1",
   "metadata": {},
   "outputs": [],
   "source": [
    "def make_H(d):\n",
    "    h = []\n",
    "    for i in range(0,d):\n",
    "        for j in range(0,i):\n",
    "            a = np.zeros((d,d))\n",
    "            a[i,j] = 1\n",
    "            a[j,i] = -1\n",
    "            h.append(a.flatten())\n",
    "    return np.column_stack(h)\n",
    "\n",
    "def test_make_H(dd=10):\n",
    "    for d in range(2,dd):\n",
    "        H = make_H(d)\n",
    "        for _ in range(100):\n",
    "            k = rng.normal(size=int(d*(d-1)/2))\n",
    "            sksym = (H @ k).reshape((d,d))\n",
    "            assert np.linalg.norm(np.real(np.linalg.eigvals(sksym))) < 1e-14\n",
    "test_make_H()"
   ]
  },
  {
   "cell_type": "code",
   "execution_count": null,
   "id": "2",
   "metadata": {},
   "outputs": [],
   "source": [
    "m, n = 1000,3\n",
    "H = make_H(n)\n",
    "X = rng.random((m,n))\n",
    "M = rng.random((n,n))\n",
    "# k = rng.normal(size=int(n*(n-1)/2)); M = (H @ k).reshape(n,n)\n",
    "\n",
    "X_dot = X @ M\n",
    "X = X"
   ]
  },
  {
   "cell_type": "code",
   "execution_count": null,
   "id": "3",
   "metadata": {},
   "outputs": [],
   "source": [
    "def make_X_tilde(X, order='C'):\n",
    "    m,n = X.shape\n",
    "    if order=='C':\n",
    "        X_tilde = np.zeros(shape=(m*n, n*n))\n",
    "        for i in range(m):\n",
    "            for j in range(n):\n",
    "                X_tilde[i*n+j, j*n:(j+1)*n] = X[i]\n",
    "    elif order == 'F':\n",
    "        X_tilde = block_diag(*[X]* n)\n",
    "    return X_tilde"
   ]
  },
  {
   "cell_type": "code",
   "execution_count": null,
   "id": "4",
   "metadata": {},
   "outputs": [],
   "source": [
    "order = 'C'\n",
    "x_dot = X_dot.ravel(order)\n",
    "X_tilde = make_X_tilde(X, order)\n",
    "beta, residuals, rank, s = np.linalg.lstsq(X_tilde@H, x_dot, rcond=None)"
   ]
  },
  {
   "cell_type": "code",
   "execution_count": null,
   "id": "5",
   "metadata": {},
   "outputs": [],
   "source": [
    "order = 'C'\n",
    "betas = []\n",
    "for init_size in range(m):\n",
    "    W = (make_X_tilde(X[:init_size], order) @ H)\n",
    "    D = np.linalg.pinv(W.T @ W)\n",
    "    c = W.T @ X_dot[:init_size].ravel(order)\n",
    "    betas.append(D@c)\n",
    "betas = np.array(betas)\n",
    "plt.plot(betas)"
   ]
  },
  {
   "cell_type": "code",
   "execution_count": null,
   "id": "6",
   "metadata": {},
   "outputs": [],
   "source": [
    "order = 'C'\n",
    "betas_r = []\n",
    "betas = []\n",
    "init_size = 50\n",
    "\n",
    "W = (make_X_tilde(X[:init_size], order) @ H)\n",
    "D = np.linalg.pinv(W.T @ W)\n",
    "c = W.T @ X_dot[:init_size].ravel(order)\n",
    "\n",
    "\n",
    "D_r = np.array(D)\n",
    "c_r = np.array(c)\n",
    "for i in range(init_size,m):\n",
    "    rows = make_X_tilde(X[i,None], order) @ H\n",
    "    for j in range(n):\n",
    "        row = (rows[j, None]).T\n",
    "        D_r = D_r - (D_r @ row @ row.T @ D_r) / (1 + row.T @ D_r @ row)\n",
    "        c_r += row.flatten() * X_dot[i,j]\n",
    "    betas_r.append(D_r@c_r)\n",
    "\n",
    "    W = (make_X_tilde(X[:i], order) @ H)\n",
    "    beta, _, _, _ = np.linalg.lstsq(W, X_dot[:i].ravel(order), rcond=None)\n",
    "    betas.append(beta)\n",
    "betas_r = np.squeeze(betas_r)\n",
    "betas = np.squeeze(betas)\n",
    "# plt.plot(betas, 'k')\n",
    "plt.plot(betas_r- betas)\n",
    "np.linalg.norm(betas - betas_r)"
   ]
  },
  {
   "cell_type": "code",
   "execution_count": null,
   "id": "7",
   "metadata": {},
   "outputs": [],
   "source": [
    "def make_H(d):\n",
    "    h = []\n",
    "    for i in range(0,d):\n",
    "        for j in range(0,i):\n",
    "            a = np.zeros((d,d))\n",
    "            a[i,j] = 1\n",
    "            a[j,i] = -1\n",
    "            h.append(a.flatten())\n",
    "    return np.column_stack(h)\n",
    "\n",
    "def make_X_tilde(X, order='C'):\n",
    "    m,n = X.shape\n",
    "    if order=='C':\n",
    "        X_tilde = np.zeros(shape=(m*n, n*n))\n",
    "        for i in range(m):\n",
    "            for j in range(n):\n",
    "                X_tilde[i*n+j, j*n:(j+1)*n] = X[i]\n",
    "    elif order == 'F':\n",
    "        X_tilde = block_diag(*[X]* n)\n",
    "    return X_tilde\n",
    "\n",
    "reg = VanillaOnlineRegressor(input_d=H.shape[1], output_d=1, init_min_ratio=2)\n",
    "\n",
    "for i in range(X.shape[0]):\n",
    "    rows = make_X_tilde(X[i,None]) @ H\n",
    "    for j in range(n):\n",
    "        x = rows[j]\n",
    "        y = X_dot[i,j]\n",
    "        reg.safe_observe(x, y)\n",
    "\n",
    "reg.get_beta().T - betas[-1]"
   ]
  }
 ],
 "metadata": {
  "kernelspec": {
   "display_name": "Python 3 (ipykernel)",
   "language": "python",
   "name": "python3"
  },
  "language_info": {
   "codemirror_mode": {
    "name": "ipython",
    "version": 3
   },
   "file_extension": ".py",
   "mimetype": "text/x-python",
   "name": "python",
   "nbconvert_exporter": "python",
   "pygments_lexer": "ipython3",
   "version": "3.12.0"
  }
 },
 "nbformat": 4,
 "nbformat_minor": 5
}
