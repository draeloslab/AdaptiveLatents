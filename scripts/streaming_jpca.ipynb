{
 "cells": [
  {
   "cell_type": "code",
   "execution_count": null,
   "id": "0",
   "metadata": {},
   "outputs": [],
   "source": [
    "import numpy as np\n",
    "from adaptive_latents.regressions import VanillaOnlineRegressor\n",
    "import matplotlib.pyplot as plt\n",
    "\n",
    "from tqdm import tqdm\n",
    "\n",
    "from adaptive_latents.input_sources import jpca\n",
    "from adaptive_latents.bw_run import AnimationManager\n",
    "import adaptive_latents\n",
    "\n",
    "from scipy.io import loadmat\n",
    "\n",
    "rng = np.random.default_rng(0)"
   ]
  },
  {
   "cell_type": "markdown",
   "id": "1",
   "metadata": {},
   "source": [
    "## Load Data"
   ]
  },
  {
   "cell_type": "code",
   "execution_count": null,
   "id": "2",
   "metadata": {},
   "outputs": [],
   "source": [
    "# obs, raw_behavior, bin_centers, beh_t = adaptive_latents.input_sources.datasets.construct_buzaki_data(individual_identifier=adaptive_latents.input_sources.datasets.individual_identifiers[\"buzaki\"][0], bin_width=0.015)\n",
    "# obs = adaptive_latents.input_sources.prosvd_data(input_arr=obs, output_d=6, init_size=50)\n",
    "# obs = adaptive_latents.input_sources.functional.center_from_first_n(obs)"
   ]
  },
  {
   "cell_type": "code",
   "execution_count": null,
   "id": "3",
   "metadata": {},
   "outputs": [],
   "source": [
    "# obs, raw_behavior, bin_centers, beh_t = adaptive_latents.input_sources.datasets.construct_indy_data(\n",
    "#     adaptive_latents.input_sources.datasets.individual_identifiers[\"indy\"][0],\n",
    "#     bin_width=0.06,\n",
    "# )\n",
    "# obs = adaptive_latents.input_sources.prosvd_data(input_arr=obs, output_d=6, init_size=50)\n",
    "# obs = adaptive_latents.input_sources.functional.center_from_first_n(obs)"
   ]
  },
  {
   "cell_type": "code",
   "execution_count": null,
   "id": "4",
   "metadata": {},
   "outputs": [],
   "source": [
    "# data = loadmat(adaptive_latents.CONFIG[\"data_path\"] / 'church' / 'exampleData.mat', squeeze_me=True, simplify_cells=True)['Data']\n",
    "# A = []\n",
    "# times = data[0]['times']\n",
    "# for d in data:\n",
    "#     A.append(d['A'])\n",
    "#     assert np.all(times == d['times'])\n",
    "# A = np.array(A)\n",
    "\n",
    "\n",
    "# AA = np.array(A)\n",
    "# AA[:,-1,:] = np.nan\n",
    "# obs = AA.reshape((-1, 218))\n",
    "\n",
    "# # obs -= np.nanmean(obs,axis=0)\n",
    "# obs = adaptive_latents.input_sources.prosvd_data(input_arr=obs, output_d=6, init_size=50)"
   ]
  },
  {
   "cell_type": "markdown",
   "id": "5",
   "metadata": {},
   "source": [
    "## Make a Movie"
   ]
  },
  {
   "cell_type": "code",
   "execution_count": null,
   "id": "6",
   "metadata": {},
   "outputs": [],
   "source": [
    "m, n = 200, 4\n",
    "X, _, true_variables = jpca.generate_circle_embedded_in_high_d(np.random.default_rng(42),m=m,n=n, shape=(10,10))"
   ]
  },
  {
   "cell_type": "code",
   "execution_count": null,
   "id": "7",
   "metadata": {},
   "outputs": [],
   "source": [
    "# X = obs\n",
    "# true_variables = None"
   ]
  },
  {
   "cell_type": "code",
   "execution_count": null,
   "id": "8",
   "metadata": {},
   "outputs": [],
   "source": [
    "class CustomAnimation(AnimationManager):\n",
    "    n_rows = 2\n",
    "    n_cols = 1\n",
    "    fps = 40\n",
    "    def draw_frame(self, step, history, errors):\n",
    "        self.ax[0,0].cla()\n",
    "        self.ax[0,0].plot(history[-100:,0], history[-100:,1])\n",
    "        self.ax[0,0].set_title(f\"step {step}\")\n",
    "        self.ax[0,0].axis(\"scaled\")\n",
    "\n",
    "        self.ax[1,0].cla()\n",
    "        self.ax[1,0].plot(np.log(errors))\n",
    "        self.ax[1,0].set_title(\"Aligned difference from true \")\n",
    "        self.ax[1,0].set_ylabel(\"log frobenius norm of matrix difference\")\n",
    "        self.movie_writer.grab_frame()\n"
   ]
  },
  {
   "cell_type": "code",
   "execution_count": null,
   "id": "9",
   "metadata": {},
   "outputs": [],
   "source": [
    "X, X_dot = jpca.X_and_X_dot_from_data(X)\n",
    "m, n = X.shape\n",
    "\n",
    "H = jpca.make_H(n)\n",
    "reg = VanillaOnlineRegressor(input_d=H.shape[1], output_d=1, init_min_ratio=2)\n",
    "\n",
    "am = None\n",
    "am = CustomAnimation()\n",
    "\n",
    "observations = []\n",
    "errors = []\n",
    "U_history = []\n",
    "k_history = []\n",
    "U = None\n",
    "for i in tqdm(range(X.shape[0])):\n",
    "    rows = jpca.make_X_tilde(X[i, None]) @ H\n",
    "    for j in range(n):\n",
    "        x = rows[j]\n",
    "        y = X_dot[i, j]\n",
    "        reg.safe_observe(x, y)\n",
    "    k = reg.get_beta()\n",
    "    U = jpca.U_from_beta(k, n, U)\n",
    "    U_history.append(U)\n",
    "    k_history.append(k)\n",
    "    observations.append(X[i] @ U)\n",
    "    if true_variables is not None:\n",
    "        try:\n",
    "            A,B = jpca.align_column_spaces(U[:,:2], true_variables['C'])\n",
    "            errors.append(np.linalg.norm(A-B))\n",
    "        except np.linalg.LinAlgError:\n",
    "            errors.append(np.nan)\n",
    "    am.draw_frame(i,np.array(observations), errors)\n",
    "\n",
    "\n",
    "if am is not None: \n",
    "    am.set_final_output_location(\"/home/jgould/Documents/AdaptiveLatents/generated/other/animation.mp4\")\n",
    "    am.finish()\n",
    "\n",
    "observations = np.array(observations)\n",
    "U_history = np.array(U_history)\n",
    "k_history = np.squeeze(k_history)"
   ]
  },
  {
   "cell_type": "code",
   "execution_count": null,
   "id": "10",
   "metadata": {},
   "outputs": [],
   "source": [
    "fig, axs = plt.subplots(nrows=2, ncols=2, layout='tight')\n",
    "\n",
    "start = -200\n",
    "\n",
    "result = X @ true_variables['C']\n",
    "axs[0,0].plot(result[start:,0], result[start:,1])\n",
    "axs[0,0].set_title(\"True projection\")\n",
    "axs[0,0].axis('scaled')\n",
    "\n",
    "\n",
    "result = (U_history.transpose((0,2,1)) @  X[:,:,None])[:,:,0]\n",
    "assert np.allclose(observations, result, equal_nan=True)\n",
    "axs[0,1].plot(result[start:,0], result[start:,1])\n",
    "axs[0,1].set_title(\"Sequential projections\")\n",
    "axs[0,1].axis('scaled')\n",
    "\n",
    "\n",
    "result = X @ U_history[-1] \n",
    "axs[1,0].plot(result[start:,0], result[start:,1])\n",
    "axs[1,0].set_title(\"Projection based on last timepoint\")\n",
    "axs[1,0].axis('scaled')\n",
    "\n",
    "\n",
    "axs[1,1].plot(U_history[:,1,0], '.')\n",
    "axs[1,1].set_title(\"Coefficient history\")\n",
    "axs[1,1].set_xlim([1010,1012])\n"
   ]
  },
  {
   "cell_type": "code",
   "execution_count": null,
   "id": "11",
   "metadata": {},
   "outputs": [],
   "source": [
    "fig, ax = plt.subplots(ncols=2, layout='tight')\n",
    "im = ax[0].imshow(U_history[-1][:,:2])\n",
    "fig.colorbar(im)\n",
    "im = ax[1].imshow(true_variables['C'])\n",
    "fig.colorbar(im)"
   ]
  },
  {
   "cell_type": "code",
   "execution_count": null,
   "id": "12",
   "metadata": {},
   "outputs": [],
   "source": [
    "u_rotated - C"
   ]
  },
  {
   "cell_type": "code",
   "execution_count": null,
   "id": "13",
   "metadata": {},
   "outputs": [],
   "source": [
    "last_U = U_history[1011]\n",
    "U = U_history[1012]"
   ]
  },
  {
   "cell_type": "code",
   "execution_count": null,
   "id": "14",
   "metadata": {},
   "outputs": [],
   "source": [
    "i=0\n",
    "A = U[:, (i * 2): (i * 2 +2)]\n",
    "B = last_U[:, (i * 2): (i * 2 +2)]\n",
    "U, _ = jpca.align_column_spaces(A, B)"
   ]
  },
  {
   "cell_type": "code",
   "execution_count": null,
   "id": "15",
   "metadata": {},
   "outputs": [],
   "source": [
    "C = A @ B.T\n",
    "u, s, vh = np.linalg.svd(C)\n",
    "R = vh.T @ u.T\n",
    "A_rotated = R@A\n"
   ]
  },
  {
   "cell_type": "code",
   "execution_count": null,
   "id": "16",
   "metadata": {},
   "outputs": [],
   "source": [
    "A_rotated - B"
   ]
  },
  {
   "cell_type": "code",
   "execution_count": null,
   "id": "17",
   "metadata": {},
   "outputs": [],
   "source": [
    "A[:,0] @ A[:,1]"
   ]
  },
  {
   "cell_type": "code",
   "execution_count": null,
   "id": "18",
   "metadata": {},
   "outputs": [],
   "source": [
    "# if last_U is not None and np.all(~np.isnan(last_U)):\n",
    "#     U[:, (i * 2): (i * 2 +2)], _ = align_column_spaces(U[:, (i * 2): (i * 2 +2)], last_U[:, (i * 2): (i * 2 +2)])\n"
   ]
  },
  {
   "cell_type": "code",
   "execution_count": null,
   "id": "19",
   "metadata": {},
   "outputs": [],
   "source": [
    "plt.plot(k_history[-500:])"
   ]
  }
 ],
 "metadata": {
  "kernelspec": {
   "display_name": "Python 3 (ipykernel)",
   "language": "python",
   "name": "python3"
  },
  "language_info": {
   "codemirror_mode": {
    "name": "ipython",
    "version": 3
   },
   "file_extension": ".py",
   "mimetype": "text/x-python",
   "name": "python",
   "nbconvert_exporter": "python",
   "pygments_lexer": "ipython3",
   "version": "3.12.0"
  }
 },
 "nbformat": 4,
 "nbformat_minor": 5
}
