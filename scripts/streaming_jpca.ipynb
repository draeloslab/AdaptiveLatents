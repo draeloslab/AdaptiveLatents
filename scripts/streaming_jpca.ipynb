{
 "cells": [
  {
   "cell_type": "code",
   "execution_count": null,
   "id": "0",
   "metadata": {},
   "outputs": [],
   "source": [
    "import numpy as np\n",
    "from tqdm import tqdm\n",
    "import adaptive_latents as al\n",
    "from adaptive_latents import proSVD, Bubblewrap, SemiRegularizedRegressor, sjPCA\n",
    "from adaptive_latents.transforms.jpca import apply_sjpca_and_cache\n",
    "import matplotlib.pyplot as plt\n",
    "\n",
    "rng = np.random.default_rng(0)"
   ]
  },
  {
   "cell_type": "code",
   "execution_count": null,
   "id": "1",
   "metadata": {},
   "outputs": [],
   "source": [
    "individual_identifier = al.input_sources.datasets.individual_identifiers[\"indy\"][0]\n",
    "psvd_input, regression_output, t, beh_t = al.input_sources.datasets.construct_indy_data(individual_identifier, 0.03)"
   ]
  },
  {
   "cell_type": "code",
   "execution_count": null,
   "id": "2",
   "metadata": {},
   "outputs": [],
   "source": [
    "lower_d = 2\n",
    "limit = 1000\n",
    "params = dict(al.default_rwd_parameters, num=100, eps=1e-2)"
   ]
  },
  {
   "cell_type": "code",
   "execution_count": null,
   "id": "3",
   "metadata": {},
   "outputs": [],
   "source": [
    "psvd1 = proSVD(12, centering=True)\n",
    "jpca_input = psvd1.run_on(psvd_input.T).T\n",
    "\n",
    "rotated = apply_sjpca_and_cache(input_arr=jpca_input)\n",
    "\n",
    "data1, regression_output, t = al.transforms.utils.clip(rotated[:,:lower_d], regression_output, t)"
   ]
  },
  {
   "cell_type": "code",
   "execution_count": null,
   "id": "4",
   "metadata": {},
   "outputs": [],
   "source": [
    "in_ds = al.NumpyTimedDataSource(data1, t, time_offsets=(1,))\n",
    "out_ds = al.NumpyTimedDataSource(regression_output, t, time_offsets=(1,))\n",
    "\n",
    "\n",
    "bw = al.Bubblewrap(in_ds.output_shape, **params)\n",
    "reg = al.SemiRegularizedRegressor(input_d=bw.N, output_d=regression_output.shape[1])\n",
    "br1 = al.BWRun(bw, in_ds, out_ds, behavior_regressor=reg)\n",
    "br1.run(limit=limit)"
   ]
  },
  {
   "cell_type": "code",
   "execution_count": null,
   "id": "5",
   "metadata": {},
   "outputs": [],
   "source": [
    "psvd2 = proSVD(lower_d, centering=True)\n",
    "data2 = psvd2.run_on(psvd_input.T).T\n",
    "data2, regression_output, t = al.transforms.utils.clip(data2, regression_output, t)"
   ]
  },
  {
   "cell_type": "code",
   "execution_count": null,
   "id": "6",
   "metadata": {},
   "outputs": [],
   "source": [
    "in_ds = al.NumpyTimedDataSource(data2, t, time_offsets=(1,))\n",
    "out_ds = al.NumpyTimedDataSource(regression_output, t, time_offsets=(1,))\n",
    "\n",
    "bw = al.Bubblewrap(in_ds.output_shape, **params)\n",
    "reg = al.SemiRegularizedRegressor(input_d=bw.N, output_d=regression_output.shape[1])\n",
    "br2 = al.BWRun(bw, in_ds, out_ds, behavior_regressor=reg)\n",
    "br2.run(limit=limit)"
   ]
  },
  {
   "cell_type": "code",
   "execution_count": null,
   "id": "7",
   "metadata": {},
   "outputs": [],
   "source": [
    "%matplotlib inline\n",
    "al.plotting_functions.compare_metrics([br1, br2], 1)"
   ]
  },
  {
   "cell_type": "code",
   "execution_count": null,
   "id": "8",
   "metadata": {},
   "outputs": [],
   "source": [
    "%matplotlib inline\n",
    "al.plotting_functions.compare_metrics([br1, br2], 1)"
   ]
  },
  {
   "cell_type": "markdown",
   "id": "9",
   "metadata": {},
   "source": [
    "compare jpca and prosvd 2d plots"
   ]
  }
 ],
 "metadata": {
  "kernelspec": {
   "display_name": "Python 3 (ipykernel)",
   "language": "python",
   "name": "python3"
  },
  "language_info": {
   "codemirror_mode": {
    "name": "ipython",
    "version": 3
   },
   "file_extension": ".py",
   "mimetype": "text/x-python",
   "name": "python",
   "nbconvert_exporter": "python",
   "pygments_lexer": "ipython3",
   "version": "3.12.0"
  }
 },
 "nbformat": 4,
 "nbformat_minor": 5
}
