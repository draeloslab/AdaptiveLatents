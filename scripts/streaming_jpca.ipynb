{
 "cells": [
  {
   "cell_type": "code",
   "execution_count": null,
   "id": "0",
   "metadata": {},
   "outputs": [],
   "source": [
    "import numpy as np\n",
    "from adaptive_latents.regressions import VanillaOnlineRegressor\n",
    "import matplotlib.pyplot as plt\n",
    "\n",
    "from tqdm import tqdm\n",
    "\n",
    "from adaptive_latents.input_sources import jpca\n",
    "from adaptive_latents.bw_run import AnimationManager\n",
    "import adaptive_latents\n",
    "\n",
    "from scipy.io import loadmat\n",
    "\n",
    "rng = np.random.default_rng()"
   ]
  },
  {
   "cell_type": "markdown",
   "id": "1",
   "metadata": {},
   "source": [
    "## Load Data"
   ]
  },
  {
   "cell_type": "code",
   "execution_count": null,
   "id": "2",
   "metadata": {},
   "outputs": [],
   "source": [
    "obs, raw_behavior, bin_centers, beh_t = adaptive_latents.input_sources.datasets.construct_buzaki_data(individual_identifier=adaptive_latents.input_sources.datasets.individual_identifiers[\"buzaki\"][0], bin_width=0.015)\n",
    "obs = adaptive_latents.input_sources.prosvd_data(input_arr=obs, output_d=6, init_size=50)\n",
    "obs = adaptive_latents.input_sources.functional.center_from_first_n(obs)"
   ]
  },
  {
   "cell_type": "code",
   "execution_count": null,
   "id": "3",
   "metadata": {},
   "outputs": [],
   "source": [
    "obs, raw_behavior, bin_centers, beh_t = adaptive_latents.input_sources.datasets.construct_indy_data(\n",
    "    adaptive_latents.input_sources.datasets.individual_identifiers[\"indy\"][0],\n",
    "    bin_width=0.06,\n",
    ")\n",
    "obs = adaptive_latents.input_sources.prosvd_data(input_arr=obs, output_d=6, init_size=50)\n",
    "obs = adaptive_latents.input_sources.functional.center_from_first_n(obs)"
   ]
  },
  {
   "cell_type": "code",
   "execution_count": null,
   "id": "4",
   "metadata": {},
   "outputs": [],
   "source": [
    "data = loadmat(adaptive_latents.CONFIG[\"data_path\"] / 'church' / 'exampleData.mat', squeeze_me=True, simplify_cells=True)['Data']\n",
    "A = []\n",
    "times = data[0]['times']\n",
    "for d in data:\n",
    "    A.append(d['A'])\n",
    "    assert np.all(times == d['times'])\n",
    "A = np.array(A)\n",
    "\n",
    "\n",
    "AA = np.array(A)\n",
    "AA[:,-1,:] = np.nan\n",
    "obs = AA.reshape((-1, 218))\n",
    "\n",
    "# obs -= np.nanmean(obs,axis=0)\n",
    "obs = adaptive_latents.input_sources.prosvd_data(input_arr=obs, output_d=6, init_size=50)"
   ]
  },
  {
   "cell_type": "markdown",
   "id": "5",
   "metadata": {},
   "source": [
    "## Make a Movie"
   ]
  },
  {
   "cell_type": "code",
   "execution_count": null,
   "id": "6",
   "metadata": {},
   "outputs": [],
   "source": [
    "m, n = 2000, 4\n",
    "X, _, true_variables = jpca.generate_circle_embedded_in_high_d(rng,m=2000,n=4)"
   ]
  },
  {
   "cell_type": "code",
   "execution_count": null,
   "id": "7",
   "metadata": {},
   "outputs": [],
   "source": [
    "X = obs\n",
    "true_variables = None"
   ]
  },
  {
   "cell_type": "code",
   "execution_count": null,
   "id": "8",
   "metadata": {},
   "outputs": [],
   "source": [
    "class CustomAnimation(AnimationManager):\n",
    "    n_rows = 1\n",
    "    n_cols = 1\n",
    "    fps = 40\n",
    "    def draw_frame(self, step, history):\n",
    "        self.ax[0,0].cla()\n",
    "        self.ax[0,0].plot(history[-100:,0], history[-100:,1])\n",
    "        self.ax[0,0].set_title(f\"step {step}\")\n",
    "        self.movie_writer.grab_frame()\n"
   ]
  },
  {
   "cell_type": "code",
   "execution_count": null,
   "id": "9",
   "metadata": {},
   "outputs": [],
   "source": [
    "X, X_dot = jpca.X_and_X_dot_from_data(X)\n",
    "m, n = X.shape\n",
    "\n",
    "H = jpca.make_H(n)\n",
    "reg = VanillaOnlineRegressor(input_d=H.shape[1], output_d=1, init_min_ratio=2)\n",
    "\n",
    "am = CustomAnimation()\n",
    "observations = []\n",
    "errors = []\n",
    "for i in tqdm(range(X.shape[0])):\n",
    "    rows = jpca.make_X_tilde(X[i, None]) @ H\n",
    "    for j in range(n):\n",
    "        x = rows[j]\n",
    "        y = X_dot[i, j]\n",
    "        reg.safe_observe(x, y)\n",
    "    U = jpca.U_from_beta(reg.get_beta(), n)\n",
    "    observations.append(X[i] @ U)\n",
    "    if i > 6000:\n",
    "        am.draw_frame(i,np.array(observations))\n",
    "    if true_variables is not None:\n",
    "        try:\n",
    "            A,B = jpca.align_column_spaces(U[:,:2], true_variables['C'])\n",
    "            errors.append(np.linalg.norm(A-B))\n",
    "        except np.linalg.LinAlgError:\n",
    "            errors.append(np.nan)\n",
    "\n",
    "observations = np.array(observations)"
   ]
  },
  {
   "cell_type": "code",
   "execution_count": null,
   "id": "10",
   "metadata": {},
   "outputs": [],
   "source": [
    "am.set_final_output_location(\"/home/jgould/Documents/AdaptiveLatents/scripts/generated/other/animation.mp4\")\n",
    "am.finish()"
   ]
  },
  {
   "cell_type": "code",
   "execution_count": null,
   "id": "11",
   "metadata": {},
   "outputs": [],
   "source": [
    "mv ./movie.mp4 ../generated/other/animation.mp4"
   ]
  }
 ],
 "metadata": {
  "kernelspec": {
   "display_name": "Python 3 (ipykernel)",
   "language": "python",
   "name": "python3"
  },
  "language_info": {
   "codemirror_mode": {
    "name": "ipython",
    "version": 3
   },
   "file_extension": ".py",
   "mimetype": "text/x-python",
   "name": "python",
   "nbconvert_exporter": "python",
   "pygments_lexer": "ipython3",
   "version": "3.12.0"
  }
 },
 "nbformat": 4,
 "nbformat_minor": 5
}
