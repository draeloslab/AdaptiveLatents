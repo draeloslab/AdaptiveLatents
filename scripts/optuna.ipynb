{
 "cells": [
  {
   "cell_type": "markdown",
   "id": "0",
   "metadata": {},
   "source": [
    "<b>Warning:</b> This works because I'm going to just share the kernel with `regressions.ipynb`. I don't like doing this, but it's fast."
   ]
  },
  {
   "cell_type": "code",
   "execution_count": null,
   "id": "1",
   "metadata": {},
   "outputs": [],
   "source": [
    "import optuna\n",
    "import logging\n",
    "import sys\n",
    "\n",
    "import optuna"
   ]
  },
  {
   "cell_type": "code",
   "execution_count": null,
   "id": "2",
   "metadata": {},
   "outputs": [],
   "source": [
    "def objective(trial):\n",
    "    bw_params = dict(    \n",
    "        adaptive_latents.default_parameters.default_rwd_parameters,\n",
    "        M = 100,\n",
    "        num_grad_q=1,\n",
    "        num=trial.suggest_int('num', 10, 1500),\n",
    "        eps=trial.suggest_float('eps', 1e-10, 10, log=True),\n",
    "        step=trial.suggest_float('step', 1e-10, 10, log=True),\n",
    "    )\n",
    "\n",
    "\n",
    "    \n",
    "    try:\n",
    "        br, pred, true, times = evaluate(datasets['j(s(obs,4))'], datasets['beh'], bw_params=bw_params, cache=False, maxlen=5000)\n",
    "        return sum(br.get_last_half_metrics(br.input_ds.time_offsets[-1])['beh_sq_error'])\n",
    "    except Exception: # for the nan in the alphas case\n",
    "        return float('nan')"
   ]
  },
  {
   "cell_type": "code",
   "execution_count": null,
   "id": "3",
   "metadata": {},
   "outputs": [],
   "source": [
    "# Add stream handler of stdout to show the messages\n",
    "# optuna.logging.get_logger(\"optuna\").addHandler(logging.StreamHandler(sys.stdout))\n",
    "study_name = \"study-24-05-06-10-02\"\n",
    "storage_name = \"sqlite:///{}.db\".format(study_name)\n",
    "study = optuna.create_study(study_name=study_name, storage=storage_name, load_if_exists=True)"
   ]
  },
  {
   "cell_type": "code",
   "execution_count": null,
   "id": "4",
   "metadata": {},
   "outputs": [],
   "source": [
    "study.optimize(objective, n_trials=1000)"
   ]
  },
  {
   "cell_type": "code",
   "execution_count": null,
   "id": "5",
   "metadata": {},
   "outputs": [],
   "source": [
    "len(study.trials)"
   ]
  }
 ],
 "metadata": {
  "kernelspec": {
   "display_name": "Python 3 (ipykernel)",
   "language": "python",
   "name": "python3"
  },
  "language_info": {
   "codemirror_mode": {
    "name": "ipython",
    "version": 3
   },
   "file_extension": ".py",
   "mimetype": "text/x-python",
   "name": "python",
   "nbconvert_exporter": "python",
   "pygments_lexer": "ipython3",
   "version": "3.12.0"
  }
 },
 "nbformat": 4,
 "nbformat_minor": 5
}
