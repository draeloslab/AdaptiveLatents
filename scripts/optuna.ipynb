{
 "cells": [
  {
   "cell_type": "markdown",
   "id": "24a1d229-8702-47a4-a4d6-6909ec00a3d1",
   "metadata": {},
   "source": [
    "<b>Warning:</b> This works because I'm going to just share the kernel with `regressions.ipynb`. I don't like doing this, but it's fast."
   ]
  },
  {
   "cell_type": "code",
   "execution_count": 15,
   "id": "887b8fc1-b865-4bc6-8405-1e432ee2c108",
   "metadata": {},
   "outputs": [],
   "source": [
    "import optuna\n",
    "import logging\n",
    "import sys\n",
    "\n",
    "import optuna"
   ]
  },
  {
   "cell_type": "code",
   "execution_count": 16,
   "id": "ec5fb916-d13d-44cd-8d31-12c05d182ad2",
   "metadata": {},
   "outputs": [],
   "source": [
    "def objective(trial):\n",
    "    bw_params = dict(    \n",
    "        adaptive_latents.default_parameters.default_rwd_parameters,\n",
    "        M = 100,\n",
    "        num_grad_q=1,\n",
    "        num=trial.suggest_int('num', 10, 1500),\n",
    "        eps=trial.suggest_float('eps', 1e-10, 10, log=True),\n",
    "        step=trial.suggest_float('step', 1e-10, 10, log=True),\n",
    "    )\n",
    "\n",
    "\n",
    "    \n",
    "    try:\n",
    "        br, pred, true, times = evaluate(datasets['j(s(obs,4))'], datasets['beh'], bw_params=bw_params, cache=False, maxlen=5000)\n",
    "        return sum(br.get_last_half_metrics(br.input_ds.time_offsets[-1])['beh_sq_error'])\n",
    "    except Exception: # for the nan in the alphas case\n",
    "        return float('nan')"
   ]
  },
  {
   "cell_type": "code",
   "execution_count": 17,
   "id": "04bb97f4-8d38-4df4-9670-fd7f9d488d95",
   "metadata": {},
   "outputs": [
    {
     "name": "stderr",
     "output_type": "stream",
     "text": [
      "[I 2024-05-06 10:00:52,411] Using an existing study with name 'study-24-05-05-11-38' instead of creating a new one.\n"
     ]
    }
   ],
   "source": [
    "# Add stream handler of stdout to show the messages\n",
    "# optuna.logging.get_logger(\"optuna\").addHandler(logging.StreamHandler(sys.stdout))\n",
    "study_name = \"study-24-05-06-10-02\"\n",
    "storage_name = \"sqlite:///{}.db\".format(study_name)\n",
    "study = optuna.create_study(study_name=study_name, storage=storage_name, load_if_exists=True)"
   ]
  },
  {
   "cell_type": "code",
   "execution_count": 14,
   "id": "c46deb66-5e31-42ca-8917-cebc18d150d1",
   "metadata": {},
   "outputs": [
    {
     "ename": "NameError",
     "evalue": "name 'study' is not defined",
     "output_type": "error",
     "traceback": [
      "\u001b[0;31m---------------------------------------------------------------------------\u001b[0m",
      "\u001b[0;31mNameError\u001b[0m                                 Traceback (most recent call last)",
      "Cell \u001b[0;32mIn[14], line 1\u001b[0m\n\u001b[0;32m----> 1\u001b[0m \u001b[43mstudy\u001b[49m\u001b[38;5;241m.\u001b[39moptimize(objective, n_trials\u001b[38;5;241m=\u001b[39m\u001b[38;5;241m1000\u001b[39m)\n",
      "\u001b[0;31mNameError\u001b[0m: name 'study' is not defined"
     ]
    }
   ],
   "source": [
    "study.optimize(objective, n_trials=1000)"
   ]
  },
  {
   "cell_type": "code",
   "execution_count": 20,
   "id": "4306a457-05e3-4a4d-8faa-c3fe3c9e9fd0",
   "metadata": {},
   "outputs": [
    {
     "data": {
      "text/plain": [
       "6"
      ]
     },
     "execution_count": 20,
     "metadata": {},
     "output_type": "execute_result"
    }
   ],
   "source": [
    "len(study.trials)"
   ]
  },
  {
   "cell_type": "code",
   "execution_count": null,
   "id": "4490dd38-d745-486c-8c0e-1c02e447cb5e",
   "metadata": {},
   "outputs": [],
   "source": []
  }
 ],
 "metadata": {
  "kernelspec": {
   "display_name": "Python 3 (ipykernel)",
   "language": "python",
   "name": "python3"
  },
  "language_info": {
   "codemirror_mode": {
    "name": "ipython",
    "version": 3
   },
   "file_extension": ".py",
   "mimetype": "text/x-python",
   "name": "python",
   "nbconvert_exporter": "python",
   "pygments_lexer": "ipython3",
   "version": "3.12.0"
  }
 },
 "nbformat": 4,
 "nbformat_minor": 5
}
