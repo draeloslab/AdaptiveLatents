{
 "cells": [
  {
   "cell_type": "code",
   "execution_count": null,
   "id": "0",
   "metadata": {},
   "outputs": [],
   "source": [
    "import numpy as np\n",
    "import matplotlib.pyplot as plt\n",
    "from sklearn.cross_decomposition import CCA\n",
    "import adaptive_latents as al\n",
    "# from nlb_tools.nwb_interface import NWBDataset\n",
    "from pynwb import NWBHDF5IO\n",
    "import pandas as pd\n",
    "\n",
    "\n",
    "rng = np.random.default_rng()"
   ]
  },
  {
   "cell_type": "code",
   "execution_count": null,
   "id": "1",
   "metadata": {},
   "outputs": [],
   "source": [
    "ls /home/jgould/Documents/Bubblewrap/generated/datasets/000128/sub-Jenkins/"
   ]
  },
  {
   "cell_type": "code",
   "execution_count": null,
   "id": "2",
   "metadata": {},
   "outputs": [],
   "source": [
    "fpath"
   ]
  },
  {
   "cell_type": "code",
   "execution_count": null,
   "id": "3",
   "metadata": {},
   "outputs": [],
   "source": [
    "fpath = al.CONFIG[\"data_path\"] / '000128'/ 'sub-Jenkins'/ 'sub-Jenkins_ses-full_desc-train_behavior+ecephys.nwb'\n",
    "\n",
    "nwb_in = NWBHDF5IO(fpath, \"r\").read()\n",
    "nwb_in"
   ]
  },
  {
   "cell_type": "code",
   "execution_count": null,
   "id": "4",
   "metadata": {},
   "outputs": [],
   "source": [
    "trials = nwb_in.intervals['trials'].to_dataframe()\n",
    "trial_types = trials[\"trial_type\"].unique()"
   ]
  },
  {
   "cell_type": "code",
   "execution_count": null,
   "id": "5",
   "metadata": {},
   "outputs": [],
   "source": [
    "hand_pos = np.array(nwb_in.processing['behavior'].data_interfaces['hand_pos'].data)\n",
    "hand_t = np.array(nwb_in.processing['behavior'].data_interfaces['hand_pos'].timestamps)"
   ]
  },
  {
   "cell_type": "code",
   "execution_count": null,
   "id": "6",
   "metadata": {},
   "outputs": [],
   "source": [
    "selected_set = trials[(trials.trial_type == trial_types[0]) & (trials.trial_version == 0)]"
   ]
  },
  {
   "cell_type": "code",
   "execution_count": null,
   "id": "7",
   "metadata": {},
   "outputs": [],
   "source": [
    "to_plot = []\n",
    "for index, row in selected_set.iterrows():\n",
    "    to_plot.append(hand_pos[(row.start_time < hand_t) & (hand_t < row.stop_time),:])\n",
    "for reach in to_plot:\n",
    "    plt.plot(reach[:,0], reach[:,1])"
   ]
  },
  {
   "cell_type": "code",
   "execution_count": null,
   "id": "8",
   "metadata": {},
   "outputs": [],
   "source": [
    "units = nwb_in.units.to_dataframe()"
   ]
  },
  {
   "cell_type": "code",
   "execution_count": null,
   "id": "9",
   "metadata": {},
   "outputs": [],
   "source": [
    "units"
   ]
  },
  {
   "cell_type": "code",
   "execution_count": null,
   "id": "10",
   "metadata": {},
   "outputs": [],
   "source": [
    "bin_width = 0.03\n",
    "bin_edges = np.arange(units.iloc[0,2][0,0], units.iloc[0,2][-1,-1] + bin_width, bin_width)\n",
    "\n",
    "A = np.zeros((len(bin_edges)-1, units.shape[0]))\n",
    "\n",
    "for i in range(units.shape[0]):\n",
    "    A[:,i], _ = np.histogram(units.iloc[i,1], bin_edges)\n",
    "\n",
    "recorded_intervals = units.iloc[0,2]\n",
    "\n",
    "covers = []\n",
    "\n",
    "interval_to_start_from = 0\n",
    "# set_trace()\n",
    "\n",
    "def intersection(start1, stop1, start2, stop2):\n",
    "    return max(min(stop1, stop2) - max(start1, start2),0)\n",
    "\n",
    "for i in range(len(bin_edges)-1):\n",
    "    bin_start = bin_edges[i]\n",
    "    bin_stop = bin_edges[i+1]\n",
    "    covered = 0\n",
    "    for j in range(interval_to_start_from, recorded_intervals.shape[0]):\n",
    "        interval_start, interval_stop = recorded_intervals[j]\n",
    "        if bin_start > interval_stop:\n",
    "            interval_to_start_from += 1\n",
    "            continue\n",
    "        if interval_start > bin_stop:\n",
    "            break\n",
    "        covered +=  intersection(bin_start, bin_stop, interval_start, interval_stop)\n",
    "        \n",
    "    if covered/bin_width < .9:\n",
    "        A[i,:] = np.nan"
   ]
  },
  {
   "cell_type": "code",
   "execution_count": null,
   "id": "11",
   "metadata": {},
   "outputs": [],
   "source": [
    "plt.imshow(A.T, aspect='auto', interpolation='nearest')"
   ]
  },
  {
   "cell_type": "code",
   "execution_count": null,
   "id": "12",
   "metadata": {},
   "outputs": [],
   "source": [
    "hand_pos.shape"
   ]
  },
  {
   "cell_type": "code",
   "execution_count": null,
   "id": "13",
   "metadata": {},
   "outputs": [],
   "source": [
    "import adaptive_latents"
   ]
  },
  {
   "cell_type": "code",
   "execution_count": null,
   "id": "14",
   "metadata": {},
   "outputs": [],
   "source": [
    "\n",
    "bin_centers = np.convolve(bin_edges,[.5, .5],'valid')\n",
    "resampled_hand = adaptive_latents.input_sources.functional.resample_behavior(hand_pos, bin_centers, hand_t)"
   ]
  },
  {
   "cell_type": "code",
   "execution_count": null,
   "id": "15",
   "metadata": {},
   "outputs": [],
   "source": [
    "np.column_stack([A, resampled_hand])"
   ]
  },
  {
   "cell_type": "code",
   "execution_count": null,
   "id": "16",
   "metadata": {},
   "outputs": [],
   "source": [
    "%matplotlib inline\n",
    "for i in range(10):\n",
    "    times = units[~units.heldout].iloc[i,1]\n",
    "    plt.plot(times, times*0+i, '.', color='C0')\n",
    "    # for times in units[~units.heldout].iloc[i,2]:\n",
    "    #     plt.plot(times, times*0+i, '-', color='red', alpha=.1)"
   ]
  },
  {
   "cell_type": "code",
   "execution_count": null,
   "id": "17",
   "metadata": {},
   "outputs": [],
   "source": [
    "nwbfile"
   ]
  },
  {
   "cell_type": "code",
   "execution_count": null,
   "id": "18",
   "metadata": {},
   "outputs": [],
   "source": [
    "trials"
   ]
  },
  {
   "cell_type": "code",
   "execution_count": null,
   "id": "19",
   "metadata": {},
   "outputs": [],
   "source": [
    "ls /home/jgould/Documents/Bubblewrap/generated/datasets/000128/sub-Jenkins/sub-Jenkins_ses-full_desc-train_behavior+ecephys.nwb"
   ]
  }
 ],
 "metadata": {
  "kernelspec": {
   "display_name": "Python 3 (ipykernel)",
   "language": "python",
   "name": "python3"
  },
  "language_info": {
   "codemirror_mode": {
    "name": "ipython",
    "version": 3
   },
   "file_extension": ".py",
   "mimetype": "text/x-python",
   "name": "python",
   "nbconvert_exporter": "python",
   "pygments_lexer": "ipython3",
   "version": "3.12.0"
  }
 },
 "nbformat": 4,
 "nbformat_minor": 5
}
