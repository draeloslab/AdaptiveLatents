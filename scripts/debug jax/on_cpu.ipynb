{
 "cells": [
  {
   "cell_type": "code",
   "execution_count": 1,
   "id": "ac2e9213-f59d-47f9-9ffa-db86ec387792",
   "metadata": {},
   "outputs": [],
   "source": [
    "import os\n",
    "# os.environ[\"JAX_PLATFORM_NAME\"] = \"cpu\"\n",
    "\n",
    "from jax.lib import xla_bridge\n",
    "from adaptive_latents import Bubblewrap\n",
    "import numpy as np"
   ]
  },
  {
   "cell_type": "code",
   "execution_count": 2,
   "id": "dac4cb69-a0af-46c9-aed2-4f53cf73e1d3",
   "metadata": {},
   "outputs": [],
   "source": [
    "bw = Bubblewrap(dim=2, num=10)"
   ]
  },
  {
   "cell_type": "code",
   "execution_count": 3,
   "id": "cf4e7c37-cb11-4448-84f3-fd68182feea6",
   "metadata": {},
   "outputs": [],
   "source": [
    "N = 50\n",
    "t = np.arange(0, 100, .5)\n",
    "X = np.column_stack([np.cos(t), np.sin(t)])"
   ]
  },
  {
   "cell_type": "code",
   "execution_count": 4,
   "id": "2bf4ba63-f09c-4947-996b-832e7018047b",
   "metadata": {},
   "outputs": [],
   "source": [
    "for i in range(0,bw.M):\n",
    "    bw.observe(X[i])\n",
    "bw.init_nodes()"
   ]
  },
  {
   "cell_type": "code",
   "execution_count": 5,
   "id": "e93a0e2f-2d88-45ec-983d-fee4161088d1",
   "metadata": {},
   "outputs": [
    {
     "name": "stdout",
     "output_type": "stream",
     "text": [
      "0.78184580802917480468750000000000000000000000000000 (gpu)\n"
     ]
    }
   ],
   "source": [
    "00"
   ]
  }
 ],
 "metadata": {
  "kernelspec": {
   "display_name": "Python 3 (ipykernel)",
   "language": "python",
   "name": "python3"
  },
  "language_info": {
   "codemirror_mode": {
    "name": "ipython",
    "version": 3
   },
   "file_extension": ".py",
   "mimetype": "text/x-python",
   "name": "python",
   "nbconvert_exporter": "python",
   "pygments_lexer": "ipython3",
   "version": "3.12.0"
  }
 },
 "nbformat": 4,
 "nbformat_minor": 5
}
