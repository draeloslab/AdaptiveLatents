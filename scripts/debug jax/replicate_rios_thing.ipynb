{
 "cells": [
  {
   "cell_type": "code",
   "execution_count": null,
   "id": "0",
   "metadata": {},
   "outputs": [],
   "source": [
    "import os\n",
    "\n",
    "\n",
    "import jax\n",
    "\n",
    "\n",
    "import scipy\n",
    "import numpy as np\n",
    "import sys\n",
    "sys.path.append(\"/home/jgould/Documents/AdaptiveLatents/scripts/\")\n",
    "from main import main\n",
    "from proSVD import proSVD\n"
   ]
  },
  {
   "cell_type": "code",
   "execution_count": null,
   "id": "1",
   "metadata": {},
   "outputs": [],
   "source": [
    "jax.config.update('jax_platform_name', 'cpu')"
   ]
  },
  {
   "cell_type": "code",
   "execution_count": null,
   "id": "2",
   "metadata": {},
   "outputs": [],
   "source": [
    "print(repr(jax.numpy.square(3)))\n",
    "print(repr(jax.numpy.square(3).devices()))"
   ]
  },
  {
   "cell_type": "code",
   "execution_count": null,
   "id": "3",
   "metadata": {},
   "outputs": [],
   "source": [
    "def formatXY(X, Y):\n",
    "    ## Format X and Y from paper Data\n",
    "\n",
    "    ## Isolate Training Data\n",
    "    k = np.shape(X)[1]\n",
    "    y = 96\n",
    "    XTrain = np.ones([np.shape(X)[0]+1,k])\n",
    "    YTrain = np.zeros([y,k])\n",
    "\n",
    "    # Shift Velocity vals up a position\n",
    "    X[2:4, 1:] = X[2:4, :-1]\n",
    "    XTrain[0:4, :] = X[:,:]\n",
    "    \n",
    "    # Set low velocitys equal to 0\n",
    "    XTrain[2:4, :][abs(XTrain[2:4, :]) < .00001] = 0\n",
    "\n",
    "    if np.shape(Y)[0] > 96:\n",
    "        i = range(0, len(Y), 4)\n",
    "        YTrain[:,:] = Y[i, :] / 100\n",
    "    else:\n",
    "        YTrain = Y / 100\n",
    "    \n",
    "    return XTrain, YTrain"
   ]
  },
  {
   "cell_type": "code",
   "execution_count": null,
   "id": "4",
   "metadata": {},
   "outputs": [],
   "source": [
    "def loadFile(fileType, m = 0, n = 0):      \n",
    "\n",
    "    fileName = '/home/jgould/Documents/Bubblewrap/generated/datasets/from_rio/Data/MonkeyReach/Monkey' + fileType + '.mat'\n",
    "    data = scipy.io.loadmat(fileName)\n",
    "\n",
    "    Output = np.transpose(data.get('y')) #Kinematic Data\n",
    "    Input = np.transpose(data.get('X')) # Neural Data\n",
    "    targs = np.transpose(data.get('targ')) # Target locations\n",
    "    targsize = data.get('targsize')[0]\n",
    "    targsize = targsize[0]\n",
    "    trials = np.transpose(data.get('trials'))[0]\n",
    "    \n",
    "    if n == 0:\n",
    "        n = np.shape(Output)[1]\n",
    "        \n",
    "    if m > n:\n",
    "        print(\"Error, start index must be lower than end index\")\n",
    "\n",
    "    # trialInfo = self.getTrialInfo(trials[m:n], targs[:, m:n])\n",
    "\n",
    "    Output, Input = formatXY(Output[:, m:n], Input[:, m:n])\n",
    "    \n",
    "    X = Output\n",
    "    Y = Input\n",
    "    \n",
    "    return X, Y\n",
    "    # return trialInfo, targsize\n"
   ]
  },
  {
   "cell_type": "code",
   "execution_count": null,
   "id": "5",
   "metadata": {},
   "outputs": [],
   "source": [
    "def reducePSVD(X, ncomp):\n",
    "    pro = proSVD(k=ncomp)\n",
    "    pro.initialize(X[:100, :].T)\n",
    "    output = []\n",
    "    for i in range(100, np.shape(X)[0]):\n",
    "        obs = X[i:i + 1, :]\n",
    "        if np.any(np.isnan(obs)):\n",
    "            output.append(np.zeros(ncomp) * np.nan)\n",
    "            continue\n",
    "        pro.preupdate()\n",
    "        pro.updateSVD(obs.T)\n",
    "        pro.postupdate()\n",
    "        obs = obs @ pro.Q\n",
    "        output.append(obs)\n",
    "        # reduced = DataSet(fullData.X[:, 100:], np.array(output).reshape((-1, ncomp)).T, fullData)\n",
    "    return np.array(output).reshape((-1, ncomp)).T"
   ]
  },
  {
   "cell_type": "code",
   "execution_count": null,
   "id": "6",
   "metadata": {},
   "outputs": [],
   "source": [
    "import adaptive_latents.plotting_functions as bpf\n",
    "from adaptive_latents.regressions import NearestNeighborRegressor\n",
    "from proSVD import proSVD\n",
    "from adaptive_latents import NumpyTimedDataSource, Bubblewrap, default_rwd_parameters, AnimationManager, BWRun, SymmetricNoisyRegressor"
   ]
  },
  {
   "cell_type": "code",
   "execution_count": null,
   "id": "7",
   "metadata": {},
   "outputs": [],
   "source": [
    "from jax.lib import xla_bridge\n",
    "xla_bridge.get_backend().platform\n"
   ]
  },
  {
   "cell_type": "code",
   "execution_count": null,
   "id": "8",
   "metadata": {},
   "outputs": [],
   "source": [
    "\n",
    "\n",
    "def main(Y, X, steps_to_run=None, nBubbles=200, svd = False):\n",
    "    # if svd == True:\n",
    "    #     prosvd_init = nDims\n",
    "    #     psvd = proSVD(nDims)\n",
    "    #     psvd.initialize(Y[:, :prosvd_init].T)\n",
    "    # print(psvd)\n",
    "    # gg @ psvd.Q\n",
    "    obs = (Y).T\n",
    "    beh = (X).T\n",
    "    in_ds = NumpyTimedDataSource(obs, None, time_offsets=(1,))\n",
    "    out_ds = NumpyTimedDataSource(beh, None, time_offsets=(1,))\n",
    "    # define the adaptive_latents object\n",
    "    bw = Bubblewrap(dim=in_ds.output_shape,  **dict(default_rwd_parameters, num = nBubbles, B_thresh=-15, copy_row_on_teleport=False))\n",
    "    # bw.N = 10\n",
    "    # define the (optional) method to regress the HMM state from `bw.alpha`\n",
    "    reg = SymmetricNoisyRegressor(input_d=bw.N, output_d=out_ds.output_shape)\n",
    "    # reg = NearestNeighborRegressor(input_d=bw.N, output_d=1, maxlen=600)\n",
    " \n",
    "    # am = CustomAnimation()\n",
    "    # define the object to coordinate all the other objects\n",
    "    br = BWRun(bw=bw, in_ds=in_ds, out_ds=out_ds, behavior_regressor=reg, show_tqdm=True)\n",
    "    # run and save the outp\n",
    "    br.run(limit=steps_to_run, save = True)\n",
    "    return br"
   ]
  },
  {
   "cell_type": "code",
   "execution_count": null,
   "id": "9",
   "metadata": {},
   "outputs": [],
   "source": [
    "X1, Y1 = loadFile('N_MC')\n",
    "X2, Y2 = loadFile('W_MC')\n",
    "\n",
    "X = np.hstack([X1, X2])\n",
    "Y = np.hstack([Y1, Y2])\n",
    "\n",
    "brs = []\n",
    "decomp = reducePSVD(Y.T, 10)\n",
    "\n",
    "X = X[:,-decomp.shape[1]:]\n",
    "br = main(decomp, X, nBubbles=200)\n",
    "brs.append(br) \n",
    "bpf.compare_metrics([br], 1)"
   ]
  },
  {
   "cell_type": "code",
   "execution_count": null,
   "id": "10",
   "metadata": {},
   "outputs": [],
   "source": [
    "X1, Y1 = loadFile('N_MC')\n",
    "X2, Y2 = loadFile('W_MC')\n",
    "\n",
    "X = np.hstack([X1, X2])\n",
    "Y = np.hstack([Y1, Y2])\n",
    "\n",
    "brs = []\n",
    "decomp = reducePSVD(Y.T, 10)\n",
    "\n",
    "X = X[:,-decomp.shape[1]:]\n",
    "br = main(decomp, X, nBubbles=200)\n",
    "brs.append(br) \n",
    "bpf.compare_metrics([br], 1)"
   ]
  }
 ],
 "metadata": {
  "kernelspec": {
   "display_name": "Python 3 (ipykernel)",
   "language": "python",
   "name": "python3"
  },
  "language_info": {
   "codemirror_mode": {
    "name": "ipython",
    "version": 3
   },
   "file_extension": ".py",
   "mimetype": "text/x-python",
   "name": "python",
   "nbconvert_exporter": "python",
   "pygments_lexer": "ipython3",
   "version": "3.12.0"
  }
 },
 "nbformat": 4,
 "nbformat_minor": 5
}
