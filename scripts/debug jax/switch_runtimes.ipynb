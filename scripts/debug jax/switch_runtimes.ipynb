{
 "cells": [
  {
   "cell_type": "code",
   "execution_count": null,
   "id": "0",
   "metadata": {},
   "outputs": [],
   "source": [
    "import pickle\n",
    "import matplotlib.pyplot as plt\n",
    "import adaptive_latents as al\n",
    "import glob\n",
    "import subprocess\n",
    "import numpy as np\n",
    "import time"
   ]
  },
  {
   "cell_type": "code",
   "execution_count": null,
   "id": "1",
   "metadata": {},
   "outputs": [],
   "source": [
    "switch_iteration = 400\n",
    "subprocess.call([\"python\", \"run_partial_start.py\", \"gpu\", str(switch_iteration)])\n",
    "subprocess.call([\"python\", \"run_partial_start.py\", \"cpu\", str(switch_iteration)])\n",
    "\n",
    "# these are to compare e.g. \"cpu\" vs \"cpu cpu\"\n",
    "subprocess.call([\"python\", \"run_partial_start.py\", \"gpu\", \"None\"])\n",
    "subprocess.call([\"python\", \"run_partial_start.py\", \"cpu\", \"None\"])\n",
    "\n",
    "subprocess.call([\"python\", \"run_partial_finish.py\", \"gpu\", \"2\"])\n",
    "subprocess.call([\"python\", \"run_partial_finish.py\", \"cpu\", \"4\"])\n",
    "\n",
    "backends = [\"gpu\", \"cpu\"]"
   ]
  },
  {
   "cell_type": "raw",
   "id": "2",
   "metadata": {},
   "source": [
    "g c GC (-2)g (-4)c\n",
    "\n",
    "G C (g c)g  (g c)c \n",
    "\n",
    "G C gg cg gc cc\n",
    "\n",
    "G  C\n",
    "gg cg \n",
    "gc cc"
   ]
  },
  {
   "cell_type": "code",
   "execution_count": null,
   "id": "3",
   "metadata": {},
   "outputs": [],
   "source": [
    "files = sorted(glob.glob(f\"{al.CONFIG[\"output_path\"]/\"bubblewrap_runs\"}/*.pickle\"))\n",
    "brs = []\n",
    "for file in files[-6:]:\n",
    "    with open(file, 'br') as fhan:\n",
    "        brs.append(pickle.load(fhan))\n",
    "brs = np.array(brs)\n",
    "brs = brs.reshape(-1,2)"
   ]
  },
  {
   "cell_type": "code",
   "execution_count": null,
   "id": "4",
   "metadata": {},
   "outputs": [],
   "source": [
    "plt.plot(brs[0,1].entropy_history[1] - brs[-1,1].entropy_history[1])\n",
    "plt.axvline(switch_iteration-brs[0,0].bw.M, color='red')\n",
    "print(switch_iteration - brs[0,0].bw.M)\n",
    "print(np.nonzero(brs[0,1].entropy_history[1] - brs[-1,1].entropy_history[1] > 0)[0][0])"
   ]
  },
  {
   "cell_type": "code",
   "execution_count": null,
   "id": "5",
   "metadata": {},
   "outputs": [],
   "source": [
    "%matplotlib inline\n",
    "# red_lines=[brs[0,0].obs_ds.t[switch_iteration]]\n",
    "al.plotting_functions.compare_metrics(brs.flatten(), 1)"
   ]
  },
  {
   "cell_type": "code",
   "execution_count": null,
   "id": "6",
   "metadata": {},
   "outputs": [],
   "source": [
    "def show_aspect_ratio_divergence(brs, bubble=5, switch=250):\n",
    "    fig,ax = plt.subplots()\n",
    "    \n",
    "    m = bubble\n",
    "    for k in range(len(brs)):\n",
    "        ratios = []\n",
    "        for i in range(brs[k].L_history.shape[0]):\n",
    "            L = brs[k].L_history[i,m,...]\n",
    "            _, s, _= np.linalg.svd(np.linalg.pinv(L.T@L))\n",
    "            ratios.append(s.max() / s.min())\n",
    "        ratios = np.log(ratios)\n",
    "        ax.plot(ratios, label=brs[k].bw.backend_note)\n",
    "    \n",
    "    ax.set_title(f\"log aspect ratio (bubble {m})\");\n",
    "    ax.legend();\n",
    "    ax.axvline(switch-brs[0].bw.M, color='k', alpha=.25);\n",
    "    ax.set_xlabel(\"iteration\");\n",
    "show_aspect_ratio_divergence(brs.flatten(), bubble=1, switch=switch_iteration)"
   ]
  }
 ],
 "metadata": {
  "kernelspec": {
   "display_name": "Python 3 (ipykernel)",
   "language": "python",
   "name": "python3"
  },
  "language_info": {
   "codemirror_mode": {
    "name": "ipython",
    "version": 3
   },
   "file_extension": ".py",
   "mimetype": "text/x-python",
   "name": "python",
   "nbconvert_exporter": "python",
   "pygments_lexer": "ipython3",
   "version": "3.12.0"
  }
 },
 "nbformat": 4,
 "nbformat_minor": 5
}
