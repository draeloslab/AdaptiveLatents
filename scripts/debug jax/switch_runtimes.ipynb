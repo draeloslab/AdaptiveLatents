{
 "cells": [
  {
   "cell_type": "code",
   "execution_count": null,
   "id": "0",
   "metadata": {},
   "outputs": [],
   "source": [
    "import pickle\n",
    "import matplotlib.pyplot as plt\n",
    "import adaptive_latents as al\n",
    "import glob\n",
    "import subprocess\n",
    "import numpy as np\n",
    "import time"
   ]
  },
  {
   "cell_type": "code",
   "execution_count": null,
   "id": "1",
   "metadata": {},
   "outputs": [],
   "source": [
    "switch_iteration = 270\n",
    "subprocess.call([\"python\", \"run_partial_start.py\", \"gpu\", str(switch_iteration)])\n",
    "subprocess.call([\"python\", \"run_partial_start.py\", \"cpu\", str(switch_iteration)])\n",
    "\n",
    "# these are to compare e.g. \"cpu\" vs \"cpu cpu\"\n",
    "subprocess.call([\"python\", \"run_partial_start.py\", \"gpu\", \"None\"])\n",
    "subprocess.call([\"python\", \"run_partial_start.py\", \"cpu\", \"None\"])\n",
    "\n",
    "subprocess.call([\"python\", \"run_partial_finish.py\", \"gpu\", \"2\"])\n",
    "subprocess.call([\"python\", \"run_partial_finish.py\", \"cpu\", \"4\"])"
   ]
  },
  {
   "cell_type": "code",
   "execution_count": null,
   "id": "2",
   "metadata": {},
   "outputs": [],
   "source": [
    "files = sorted(glob.glob(f\"{al.CONFIG[\"output_path\"]/\"bubblewrap_runs\"}/*.pickle\"))\n",
    "brs = []\n",
    "for file in files[-6:]:\n",
    "    with open(file, 'br') as fhan:\n",
    "        brs.append(pickle.load(fhan))\n",
    "brs = np.array(brs)\n",
    "brs = brs.reshape(-1,2)"
   ]
  },
  {
   "cell_type": "code",
   "execution_count": null,
   "id": "3",
   "metadata": {},
   "outputs": [],
   "source": [
    "%matplotlib inline\n",
    "plt.plot(brs[0,1].entropy_history[1] - brs[-1,1].entropy_history[1])\n",
    "plt.axvline(switch_iteration-brs[0,0].bw.M, color='red')\n",
    "print(switch_iteration - brs[0,0].bw.M)\n",
    "print(np.nonzero(brs[0,1].entropy_history[1] - brs[-1,1].entropy_history[1] > 0)[0][0])"
   ]
  },
  {
   "cell_type": "code",
   "execution_count": null,
   "id": "4",
   "metadata": {},
   "outputs": [],
   "source": [
    "%matplotlib inline\n",
    "# red_lines=[brs[0,0].obs_ds.t[switch_iteration]]\n",
    "al.plotting_functions.compare_metrics(brs.flatten(), 1, red_lines=[brs[0,0].obs_ds.t[switch_iteration-brs[0,0].bw.M]])"
   ]
  },
  {
   "cell_type": "code",
   "execution_count": null,
   "id": "5",
   "metadata": {},
   "outputs": [],
   "source": [
    "def show_aspect_ratio_divergence(brs, bubble=5, switch=250):\n",
    "    fig,ax = plt.subplots()\n",
    "    \n",
    "    m = bubble\n",
    "    for k in range(len(brs)):\n",
    "        ratios = []\n",
    "        for i in range(brs[k].L_history.shape[0]):\n",
    "            L = brs[k].L_history[i,m,...]\n",
    "            _, s, _= np.linalg.svd(np.linalg.pinv(L.T@L))\n",
    "            ratios.append(s.max() / s.min())\n",
    "        ratios = np.log(ratios)\n",
    "        ax.plot(ratios, label=brs[k].bw.backend_note)\n",
    "    \n",
    "    ax.set_title(f\"log aspect ratio (bubble {m})\");\n",
    "    ax.legend();\n",
    "    ax.axvline(switch-brs[0].bw.M, color='k', alpha=.25);\n",
    "    ax.set_xlabel(\"iteration\");\n",
    "show_aspect_ratio_divergence(brs.flatten(), bubble=7, switch=switch_iteration)"
   ]
  },
  {
   "cell_type": "markdown",
   "id": "6",
   "metadata": {},
   "source": [
    "## Inspect a single switch"
   ]
  },
  {
   "cell_type": "code",
   "execution_count": null,
   "id": "7",
   "metadata": {},
   "outputs": [],
   "source": [
    "%matplotlib inline\n",
    "br = brs[1][1]\n",
    "dim = br.bw.mu.shape[1]\n",
    "\n",
    "plt.plot((br.L_history[:,3,*np.tril_indices(dim, k=0)]))\n",
    "plt.axvline(switch_iteration - brs[0,0].bw.M, color='k')\n",
    "# plt.ylim([0,900])\n",
    "plt.title(f\"L for '{br.bw.backend_note}'\");"
   ]
  },
  {
   "cell_type": "code",
   "execution_count": null,
   "id": "8",
   "metadata": {},
   "outputs": [],
   "source": [
    "%matplotlib inline\n",
    "\n",
    "\n",
    "plt.plot((br.L_lower_history[:,5,*np.tril_indices(dim, k=-1)]))\n",
    "plt.axvline(switch_iteration - brs[0,0].bw.M, color='k')\n",
    "plt.title(f\"L_lower for '{br.bw.backend_note}'\");"
   ]
  },
  {
   "cell_type": "code",
   "execution_count": null,
   "id": "9",
   "metadata": {},
   "outputs": [],
   "source": [
    "%matplotlib inline\n",
    "dim = br.bw.mu.shape[1]\n",
    "\n",
    "bubble=4\n",
    "plt.plot((br.L_diag_history[:,bubble,...]))\n",
    "plt.axvline(switch_iteration - brs[0,0].bw.M, color='k')\n",
    "plt.title(f\"L_diag for '{br.bw.backend_note}'\");"
   ]
  },
  {
   "cell_type": "code",
   "execution_count": null,
   "id": "10",
   "metadata": {},
   "outputs": [],
   "source": [
    "%matplotlib inline\n",
    "fig, axs = plt.subplots(nrows=3, layout=\"tight\", figsize=(10,5), sharex=True)\n",
    "\n",
    "bubble = 5\n",
    "axs[0].plot(br.L_diag_grad_history[:, bubble, :])\n",
    "axs[0].set_ylim(np.array([-1,1])*200)\n",
    "\n",
    "axs[1].plot(br.L_diag_v_history[:, bubble, :])\n",
    "axs[1].set_ylim(np.array([-1,1])*.01 + 0.005)\n",
    "\n",
    "\n",
    "axs[2].plot(br.L_diag_m_history[:, bubble, :])\n",
    "axs[2].set_ylim(np.array([-1,1])*1)\n",
    "\n",
    "\n",
    "for i in range(3):\n",
    "    axs[i].axvline(switch_iteration - brs[0,0].bw.M, color='k')\n"
   ]
  },
  {
   "cell_type": "code",
   "execution_count": null,
   "id": "11",
   "metadata": {},
   "outputs": [],
   "source": [
    "%matplotlib qt\n",
    "fig, axs = plt.subplots(nrows=3, layout=\"tight\", figsize=(10,5), sharex=True)\n",
    "\n",
    "bubble = 5\n",
    "axs[0].plot(br.L_diag_grad_history[:, bubble, :])\n",
    "axs[0].set_ylim(np.array([-1,1])*200)\n",
    "\n",
    "axs[1].plot(br.L_diag_v_history[:, bubble, :])\n",
    "axs[1].set_ylim(np.array([-1,1])*.01 + 0.005)\n",
    "\n",
    "\n",
    "axs[2].plot(br.L_diag_m_history[:, bubble, :])\n",
    "axs[2].set_ylim(np.array([-1,1])*1)\n",
    "\n",
    "\n",
    "for i in range(3):\n",
    "    axs[i].axvline(switch_iteration - brs[0,0].bw.M, color='k')\n"
   ]
  },
  {
   "cell_type": "code",
   "execution_count": null,
   "id": "12",
   "metadata": {},
   "outputs": [],
   "source": [
    "br.L_diag_grad_history[switch_iteration - brs[0,0].bw.M -10, bubble, :]"
   ]
  },
  {
   "cell_type": "code",
   "execution_count": null,
   "id": "13",
   "metadata": {},
   "outputs": [],
   "source": [
    "L = br.L_history[-1][0]\n",
    "L = np.linalg.inv(L)\n",
    "L @ L.T"
   ]
  },
  {
   "cell_type": "code",
   "execution_count": null,
   "id": "14",
   "metadata": {},
   "outputs": [],
   "source": [
    "np.tril(np.diag(np.exp(br.bw.L_lower[0]) + 1e-10) + np.tril(br.bw.L_diag[0], -1))"
   ]
  },
  {
   "cell_type": "code",
   "execution_count": null,
   "id": "15",
   "metadata": {},
   "outputs": [],
   "source": [
    "# \n",
    "L = np.tril(np.diag(np.exp(br.bw.L_lower[0]) + 1e-10) + np.tril(br.bw.L_diag[0], -1))\n",
    "el = np.linalg.inv(L)\n",
    "el.T @ el"
   ]
  },
  {
   "cell_type": "code",
   "execution_count": null,
   "id": "16",
   "metadata": {},
   "outputs": [],
   "source": [
    "br.L_history[-1,5,...]"
   ]
  },
  {
   "cell_type": "code",
   "execution_count": null,
   "id": "17",
   "metadata": {},
   "outputs": [],
   "source": [
    "%matplotlib inline\n",
    "plt.plot(np.log(np.abs(br.L_grad_history[:,5,...].reshape(-1,br.bw.mu.shape[1]**2))))\n",
    "# plt.ylim([-.01,.01])\n",
    "plt.axvline(switch_iteration - brs[0,0].bw.M, color='k')\n"
   ]
  }
 ],
 "metadata": {
  "kernelspec": {
   "display_name": "Python 3 (ipykernel)",
   "language": "python",
   "name": "python3"
  },
  "language_info": {
   "codemirror_mode": {
    "name": "ipython",
    "version": 3
   },
   "file_extension": ".py",
   "mimetype": "text/x-python",
   "name": "python",
   "nbconvert_exporter": "python",
   "pygments_lexer": "ipython3",
   "version": "3.12.0"
  }
 },
 "nbformat": 4,
 "nbformat_minor": 5
}
