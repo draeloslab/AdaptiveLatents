{
 "cells": [
  {
   "cell_type": "code",
   "execution_count": null,
   "id": "0",
   "metadata": {},
   "outputs": [],
   "source": [
    "import sys\n",
    "sys.path.append('/home/jgould/Documents/AdaptiveLatents/tests')\n",
    "from test_speed import get_speed_over_time\n",
    "\n",
    "import adaptive_latents as al\n",
    "from scipy.io import loadmat\n",
    "import matplotlib.pyplot as plt\n",
    "import numpy as np\n",
    "import h5py\n"
   ]
  },
  {
   "cell_type": "code",
   "execution_count": null,
   "id": "1",
   "metadata": {},
   "outputs": [],
   "source": [
    "mat = loadmat(al.CONFIG['data_path'] / 'Chestek' / 'first_extraction.mat', squeeze_me=True, simplify_cells=True)\n",
    "pre_smooth_beh = mat[\"feats\"][1]\n",
    "pre_smooth_A = mat[\"feats\"][0]\n",
    "pre_smooth_t = mat[\"feats\"][2] / 1000\n",
    "\n",
    "pre_smooth_beh = pre_smooth_beh.reshape((pre_smooth_beh.shape[0], 3, 5))\n",
    "\n",
    "nonzero_columns = pre_smooth_beh.std(axis=0) > 0\n",
    "assert np.all(~(nonzero_columns[0,:] ^ nonzero_columns)) # checks that fingers always have the same values\n",
    "pre_smooth_beh = pre_smooth_beh[:,:,nonzero_columns[0,:]] # the booleans select for position, velocity, and acceleration\n",
    "pre_smooth_beh = pre_smooth_beh[:, [True, False, False], :].reshape(pre_smooth_beh.shape[0], -1) # the three booleans select for position, velocity, and acceleration\n",
    "\n",
    "mode = 'valid'\n",
    "kernel = np.exp(np.linspace(0,-1,5))\n",
    "kernel /= kernel.sum()\n",
    "\n",
    "pre_prosvd_A = np.column_stack([np.convolve(kernel, column, mode) for column in pre_smooth_A.T])\n",
    "pre_prosvd_t = np.convolve(np.hstack([[1],kernel[:-1]*0]), pre_smooth_t, mode)\n",
    "pre_prosvd_beh = pre_smooth_beh\n",
    "\n",
    "pre_prosvd_A = al.input_sources.functional.center_from_first_n(pre_prosvd_A, 100)\n",
    "pre_prosvd_A, pre_prosvd_beh, pre_prosvd_t = al.input_sources.functional.clip(pre_prosvd_A, pre_prosvd_beh, pre_prosvd_t)\n",
    "\n",
    "pre_jpca_A, Qs = al.input_sources.functional.prosvd_data_with_Qs(pre_prosvd_A, 4, 50)\n",
    "pre_jpca_A, pre_jpca_t, pre_jpca_beh = al.input_sources.functional.clip(pre_jpca_A, pre_prosvd_t, pre_prosvd_beh)\n",
    "\n",
    "A, beh, t = pre_jpca_A, pre_jpca_beh, pre_jpca_t"
   ]
  },
  {
   "cell_type": "code",
   "execution_count": null,
   "id": "2",
   "metadata": {},
   "outputs": [],
   "source": [
    "times_dict = get_speed_over_time(pre_prosvd_A, pre_prosvd_beh, bw_params=dict(num=1000), max_steps=2000)"
   ]
  },
  {
   "cell_type": "code",
   "execution_count": null,
   "id": "3",
   "metadata": {},
   "outputs": [],
   "source": [
    "keys = list(times_dict.keys())\n",
    "times = np.array([times_dict[k] for k in keys])*1000"
   ]
  },
  {
   "cell_type": "code",
   "execution_count": null,
   "id": "4",
   "metadata": {},
   "outputs": [],
   "source": [
    "plt.hist(times.sum(axis=0), np.linspace(0,20,101));"
   ]
  },
  {
   "cell_type": "code",
   "execution_count": null,
   "id": "5",
   "metadata": {},
   "outputs": [],
   "source": [
    "fig, ax = plt.subplots()\n",
    "slice_start = 250\n",
    "good_slice = times.sum(axis=0)[slice_start:]\n",
    "ax.plot(np.arange(len(good_slice))+slice_start, good_slice)\n",
    "ax.set_xlabel(\"iteration #\");\n",
    "ax.set_ylabel(\"iteration time (ms)\")"
   ]
  },
  {
   "cell_type": "code",
   "execution_count": null,
   "id": "6",
   "metadata": {},
   "outputs": [],
   "source": [
    "fig, ax = plt.subplots()\n",
    "slice_start = 250\n",
    "good_slice = times[:,slice_start:]\n",
    "ax.plot(np.arange(good_slice.shape[1])+slice_start, good_slice.T, label=keys)\n",
    "ax.set_xlabel(\"iteration #\");\n",
    "ax.set_ylabel(\"iteration time (ms)\")\n",
    "ax.set_ylim([0,60])\n",
    "ax.legend();"
   ]
  }
 ],
 "metadata": {
  "kernelspec": {
   "display_name": "Python 3 (ipykernel)",
   "language": "python",
   "name": "python3"
  },
  "language_info": {
   "codemirror_mode": {
    "name": "ipython",
    "version": 3
   },
   "file_extension": ".py",
   "mimetype": "text/x-python",
   "name": "python",
   "nbconvert_exporter": "python",
   "pygments_lexer": "ipython3",
   "version": "3.12.0"
  }
 },
 "nbformat": 4,
 "nbformat_minor": 5
}
