{
 "cells": [
  {
   "cell_type": "code",
   "execution_count": null,
   "id": "0",
   "metadata": {},
   "outputs": [],
   "source": [
    "import sys\n",
    "sys.path.append('/home/jgould/Documents/AdaptiveLatents/tests')\n",
    "from test_speed import get_speed_per_step, get_speed_by_time\n",
    "\n",
    "import adaptive_latents as al\n",
    "from scipy.io import loadmat\n",
    "import matplotlib.pyplot as plt\n",
    "import numpy as np\n",
    "import h5py\n"
   ]
  },
  {
   "cell_type": "code",
   "execution_count": null,
   "id": "1",
   "metadata": {},
   "outputs": [],
   "source": [
    "A, beh, t, _ = al.input_sources.datasets.construct_unpublished24_data()"
   ]
  },
  {
   "cell_type": "code",
   "execution_count": null,
   "id": "2",
   "metadata": {},
   "outputs": [],
   "source": [
    "# times_dict = get_speed_per_step(A, beh, bw_params=dict(num=1000), max_steps=2000)\n"
   ]
  },
  {
   "cell_type": "code",
   "execution_count": null,
   "id": "3",
   "metadata": {},
   "outputs": [],
   "source": [
    "t = get_speed_by_time(A, beh, bw_params=dict(num=1000), max_steps=2000)\n",
    "plt.plot((t[:-1] - t[0])*1000,np.diff(t)*1000);\n",
    "plt.ylim([0, 70]);"
   ]
  },
  {
   "cell_type": "code",
   "execution_count": null,
   "id": "4",
   "metadata": {},
   "outputs": [],
   "source": [
    "keys = list(times_dict.keys())\n",
    "times = np.array([times_dict[k] for k in keys])*1000"
   ]
  },
  {
   "cell_type": "code",
   "execution_count": null,
   "id": "5",
   "metadata": {},
   "outputs": [],
   "source": [
    "plt.hist(times.sum(axis=0), np.linspace(7,65,101));"
   ]
  },
  {
   "cell_type": "code",
   "execution_count": null,
   "id": "6",
   "metadata": {},
   "outputs": [],
   "source": [
    "fig, ax = plt.subplots()\n",
    "slice_start = 250\n",
    "good_slice = times.sum(axis=0)[slice_start:]\n",
    "ax.plot(np.arange(len(good_slice))+slice_start, good_slice)\n",
    "ax.set_xlabel(\"iteration #\");\n",
    "ax.set_ylabel(\"iteration time (ms)\")"
   ]
  },
  {
   "cell_type": "code",
   "execution_count": null,
   "id": "7",
   "metadata": {},
   "outputs": [],
   "source": [
    "fig, ax = plt.subplots()\n",
    "slice_start = 250\n",
    "good_slice = times[:,slice_start:]\n",
    "ax.plot(np.arange(good_slice.shape[1])+slice_start, good_slice.T, label=keys)\n",
    "ax.set_xlabel(\"iteration #\");\n",
    "ax.set_ylabel(\"iteration time (ms)\")\n",
    "ax.set_ylim([0,100])\n",
    "ax.legend();"
   ]
  }
 ],
 "metadata": {
  "kernelspec": {
   "display_name": "Python 3 (ipykernel)",
   "language": "python",
   "name": "python3"
  },
  "language_info": {
   "codemirror_mode": {
    "name": "ipython",
    "version": 3
   },
   "file_extension": ".py",
   "mimetype": "text/x-python",
   "name": "python",
   "nbconvert_exporter": "python",
   "pygments_lexer": "ipython3",
   "version": "3.12.0"
  }
 },
 "nbformat": 4,
 "nbformat_minor": 5
}
