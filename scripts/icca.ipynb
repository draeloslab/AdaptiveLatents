{
 "cells": [
  {
   "cell_type": "code",
   "execution_count": null,
   "id": "0",
   "metadata": {},
   "outputs": [],
   "source": [
    "import numpy as np\n",
    "import matplotlib.pyplot as plt\n",
    "from scipy.stats import special_ortho_group\n",
    "from sklearn.cross_decomposition import CCA\n",
    "\n",
    "rng = np.random.default_rng()"
   ]
  },
  {
   "cell_type": "code",
   "execution_count": null,
   "id": "1",
   "metadata": {},
   "outputs": [],
   "source": [
    "def random_sub_basis(m, n, rng=None):\n",
    "    if m == 1:\n",
    "        return np.array([[1]])[:,:n]\n",
    "    return special_ortho_group(dim=m).rvs(random_state=rng)[:,:n]"
   ]
  },
  {
   "cell_type": "markdown",
   "id": "2",
   "metadata": {},
   "source": [
    "# Generating Data"
   ]
  },
  {
   "cell_type": "markdown",
   "id": "3",
   "metadata": {},
   "source": [
    "## FA\n",
    "$$\n",
    "\\begin{gather}\n",
    "z_i \\sim \\mathcal{N}(0,I)\\\\\n",
    "x_i \\sim \\mathcal{N}(W z_i + \\mu, D)\n",
    "\\end{gather}\n",
    "$$"
   ]
  },
  {
   "cell_type": "code",
   "execution_count": null,
   "id": "4",
   "metadata": {},
   "outputs": [],
   "source": [
    "n_points = 100\n",
    "high_d = 4\n",
    "latent_d = 2\n",
    "\n",
    "W = rng.random(size=(high_d, latent_d))\n",
    "cov = np.diag(np.arange(high_d) + 1)\n",
    "\n",
    "zs = []\n",
    "xs = []\n",
    "for _ in range(n_points):\n",
    "    z = rng.multivariate_normal(np.zeros(latent_d), np.eye(latent_d))\n",
    "    x = rng.multivariate_normal(W @ z, cov)\n",
    "    zs.append(z)\n",
    "    xs.append(x)"
   ]
  },
  {
   "cell_type": "markdown",
   "id": "5",
   "metadata": {},
   "source": [
    "## Multi-space CCA"
   ]
  },
  {
   "cell_type": "code",
   "execution_count": null,
   "id": "6",
   "metadata": {},
   "outputs": [],
   "source": [
    "def generate_pcca(n_points = 100, x_d = 2, y_d = 2, shared_latent_d = 1, x_latent_d = 0, y_latent_d = 0, cov_scaler = .1, rng=rng):\n",
    "    B_x = random_sub_basis(x_d, x_latent_d, rng=rng)\n",
    "    W_x = random_sub_basis(x_d, shared_latent_d, rng=rng)\n",
    "    B_y = random_sub_basis(y_d, y_latent_d, rng=rng)\n",
    "    W_y = random_sub_basis(y_d, shared_latent_d, rng=rng)\n",
    "    \n",
    "    # cov_x = np.diag(np.arange(x_d) + 1) * cov_scaler\n",
    "    # cov_y = np.diag(np.arange(y_d) + 1) * cov_scaler\n",
    "    cov_x = np.eye(x_d) * cov_scaler\n",
    "    cov_y = np.eye(y_d) * cov_scaler\n",
    "    \n",
    "    xs = []\n",
    "    ys = []\n",
    "    for _ in range(n_points):\n",
    "        z_shared = rng.multivariate_normal(np.zeros(shared_latent_d), np.eye(shared_latent_d)) if shared_latent_d > 0 else []\n",
    "        z_x = rng.multivariate_normal(np.zeros(x_latent_d), np.eye(x_latent_d)) if x_latent_d > 0 else []\n",
    "        z_y = rng.multivariate_normal(np.zeros(y_latent_d), np.eye(y_latent_d)) if y_latent_d > 0 else []\n",
    "        x = rng.multivariate_normal(B_x @ z_x + W_x @ z_shared, cov_x)\n",
    "        y = rng.multivariate_normal(B_y @ z_y + W_y @ z_shared, cov_y)\n",
    "        ys.append(y)\n",
    "        xs.append(x)\n",
    "    return np.array(xs), np.array(ys), dict(W_x=W_x, W_y=W_y, cov_x=cov_x, cov_y=cov_y)"
   ]
  },
  {
   "cell_type": "markdown",
   "id": "7",
   "metadata": {},
   "source": [
    "### Plotting"
   ]
  },
  {
   "cell_type": "code",
   "execution_count": null,
   "id": "8",
   "metadata": {},
   "outputs": [],
   "source": [
    "xs, ys, _ = generate_pcca(x_d=1, y_d=1, cov_scaler=.1)\n",
    "for i in range(n_points):\n",
    "    plt.plot(xs[i], ys[i], '.', color='C0')"
   ]
  },
  {
   "cell_type": "code",
   "execution_count": null,
   "id": "9",
   "metadata": {},
   "outputs": [],
   "source": [
    "xs, ys, _ = generate_pcca()\n",
    "for i in range(n_points):\n",
    "    plt.plot(xs[i], ys[i], color='C0')"
   ]
  },
  {
   "cell_type": "markdown",
   "id": "10",
   "metadata": {},
   "source": [
    "# Inference"
   ]
  },
  {
   "cell_type": "markdown",
   "id": "11",
   "metadata": {},
   "source": [
    "## CCA- direct"
   ]
  },
  {
   "cell_type": "code",
   "execution_count": null,
   "id": "12",
   "metadata": {},
   "outputs": [],
   "source": [
    "def calc_cov(a, b):\n",
    "    dma = a - a.mean(axis=0)\n",
    "    dmb = b - b.mean(axis=0)\n",
    "    return 1/(a.shape[0] - 1) *  (dma.T @ dmb)\n",
    "\n",
    "t = np.linspace(0,2*np.pi, 100)\n",
    "circle_points = np.column_stack([np.cos(t), np.sin(t)]).T"
   ]
  },
  {
   "cell_type": "code",
   "execution_count": null,
   "id": "13",
   "metadata": {},
   "outputs": [],
   "source": [
    "x_d = 2\n",
    "y_d = 2\n",
    "xs, ys, hidden_vars = generate_pcca(x_d=x_d, y_d=y_d)"
   ]
  },
  {
   "cell_type": "code",
   "execution_count": null,
   "id": "14",
   "metadata": {},
   "outputs": [],
   "source": [
    "sigma_x_hat = calc_cov(xs, xs)\n",
    "sigma_y_hat = calc_cov(ys, ys)\n",
    "sigma_xy_hat = calc_cov(xs, ys)\n",
    "sigma_yx_hat = calc_cov(ys, xs)\n",
    "\n",
    "mat_1 = np.block([\n",
    "    [np.linalg.pinv(sigma_x_hat), np.zeros((x_d, y_d))       ], \n",
    "    [np.zeros((y_d, x_d)),        np.linalg.pinv(sigma_y_hat)]\n",
    "])\n",
    "mat_2 = np.block([\n",
    "    [np.zeros((x_d, x_d)), sigma_xy_hat         ], \n",
    "    [sigma_yx_hat,         np.zeros((y_d, y_d)),]\n",
    "])\n",
    "\n",
    "evals, evecs = np.linalg.eig(mat_1 @ mat_2)\n",
    "idx = np.argmax(np.abs(evals))\n",
    "x_v = evecs[:x_d,idx]\n",
    "x_v /= np.linalg.norm(x_v)\n",
    "y_v = evecs[:y_d,idx]\n",
    "y_v /= np.linalg.norm(y_v)"
   ]
  },
  {
   "cell_type": "code",
   "execution_count": null,
   "id": "15",
   "metadata": {},
   "outputs": [],
   "source": [
    "cca = CCA(n_components=1).fit(xs,ys)\n",
    "x_v = cca.x_loadings_[:,0]\n",
    "y_v = cca.y_loadings_[:,0]"
   ]
  },
  {
   "cell_type": "code",
   "execution_count": null,
   "id": "16",
   "metadata": {},
   "outputs": [],
   "source": [
    "fig, axs = plt.subplots(nrows=1,ncols=3, figsize=(11,5))\n",
    "axs[0].plot(xs[:,0], xs[:,1], '.')\n",
    "ellipse_points = (np.linalg.cholesky(sigma_x_hat) @ circle_points).T + xs.mean(axis=0)\n",
    "axs[0].plot(ellipse_points[:,0], ellipse_points[:,1], color=\"C0\")\n",
    "axs[0].plot([0, x_v[0]], [0, x_v[1]], '--')\n",
    "axs[0].plot([0, hidden_vars['W_x'][0,0]], [0, hidden_vars['W_x'][1,0]], '-', color='C1', alpha=.5)\n",
    "axs[0].axis(\"equal\")\n",
    "axs[0].set_title(\"X\")\n",
    "\n",
    "axs[2].plot(ys[:,0], ys[:,1], '.')\n",
    "ellipse_points = (np.linalg.cholesky(sigma_y_hat) @ circle_points).T + ys.mean(axis=0)\n",
    "axs[2].plot(ellipse_points[:,0], ellipse_points[:,1], color=\"C0\")\n",
    "axs[2].plot([0, y_v[0]], [0, y_v[1]], '--')\n",
    "axs[2].plot([0, hidden_vars['W_y'][0,0]], [0, hidden_vars['W_y'][1,0]], '-', color='C1', alpha=.5)\n",
    "axs[2].axis(\"equal\")\n",
    "axs[2].set_title(\"Y\")\n",
    "\n",
    "axs[1].plot(xs @ x_v, ys@y_v, '.', color=\"C1\")"
   ]
  },
  {
   "cell_type": "code",
   "execution_count": null,
   "id": "17",
   "metadata": {},
   "outputs": [],
   "source": [
    "rs = []\n",
    "for i in range(5000):\n",
    "    candidate_x_v = np.squeeze(random_sub_basis(xs.shape[1], 1))\n",
    "    candidate_y_v = np.squeeze(random_sub_basis(ys.shape[1], 1))\n",
    "    r = np.corrcoef(xs @ candidate_x_v, ys @ candidate_y_v)[0,1]\n",
    "    rs.append(np.abs(r))\n",
    "    \n",
    "\n",
    "plt.axvline(np.abs(np.corrcoef(xs @ x_v, ys @ y_v)[0,1]), color='red')\n",
    "plt.hist(rs, bins=200);"
   ]
  }
 ],
 "metadata": {
  "kernelspec": {
   "display_name": "Python 3 (ipykernel)",
   "language": "python",
   "name": "python3"
  },
  "language_info": {
   "codemirror_mode": {
    "name": "ipython",
    "version": 3
   },
   "file_extension": ".py",
   "mimetype": "text/x-python",
   "name": "python",
   "nbconvert_exporter": "python",
   "pygments_lexer": "ipython3",
   "version": "3.12.0"
  }
 },
 "nbformat": 4,
 "nbformat_minor": 5
}
