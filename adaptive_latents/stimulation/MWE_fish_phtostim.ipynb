{
 "cells": [
  {
   "cell_type": "markdown",
   "metadata": {},
   "source": [
    "# Minimum working example for modeling photostimulation in Zebrafish"
   ]
  },
  {
   "cell_type": "markdown",
   "metadata": {},
   "source": [
    "Data Loading"
   ]
  },
  {
   "cell_type": "code",
   "execution_count": null,
   "metadata": {},
   "outputs": [],
   "source": [
    "import numpy as np\n",
    "import pandas as pd\n",
    "import photostimulation as ps\n",
    "import adaptive_latents as al\n",
    "from adaptive_latents import NumpyTimedDataSource, Bubblewrap, default_rwd_parameters, BWRun\n",
    "from adaptive_latents.transforms.utils import prosvd_data"
   ]
  },
  {
   "cell_type": "code",
   "execution_count": null,
   "metadata": {},
   "outputs": [],
   "source": [
    "# Specify the paths to the files\n",
    "stim_file_path = '../../generated/datasets/fish/output_020424_ds1/stimmed.txt'\n",
    "C_file_path = '../../generated/datasets/fish/output_020424_ds1/analysis_proc_C.txt'\n",
    "photo_file_path = '../../generated/datasets/fish/output_020424_ds1/photostims.npy'\n",
    "\n",
    "# Load the files\n",
    "stim = np.loadtxt(stim_file_path) \n",
    "\"\"\"1st entry: frame number,\n",
    "2nd entry: ignore,\n",
    "3rd entry: angle of motion L,\n",
    "4th entry: angle of motion R,\n",
    "5th entry: timestamp,\"\"\"\n",
    "C = np.loadtxt(C_file_path)#\n",
    "\"\"\"Calcium imaging. \n",
    "1st entry is neuron ID,\n",
    "2nd is time (frame)\"\"\"\n",
    "photostim = np.load(photo_file_path)\n",
    "\"\"\"1st entry: frame number,\n",
    "2nd entry: counter of stims,\n",
    "3rd entry: neuron ID,\n",
    "4th entry: position X of neuron,\n",
    "5th entry: position Y of neuron,\"\"\"\n",
    "\n",
    "# extra note: Fs= 2.3 Hz"
   ]
  },
  {
   "cell_type": "markdown",
   "metadata": {},
   "source": [
    "Run BW"
   ]
  },
  {
   "cell_type": "code",
   "execution_count": null,
   "metadata": {},
   "outputs": [],
   "source": [
    "#Perform dimensionality reduction\n",
    "smallC_photo = prosvd_data(input_arr=C.T,output_d=7, init_size=20, centering=True)"
   ]
  },
  {
   "cell_type": "code",
   "execution_count": null,
   "metadata": {},
   "outputs": [],
   "source": [
    "t = np.arange(smallC_photo.shape[0])\n",
    "in_ds = NumpyTimedDataSource(smallC_photo, t, time_offsets=(0,1))\n",
    "bw = Bubblewrap(dim=in_ds.output_shape, **dict(default_rwd_parameters, M=100, num=1000, B_thresh=-10, num_grad_q=1))"
   ]
  },
  {
   "cell_type": "code",
   "execution_count": null,
   "metadata": {},
   "outputs": [],
   "source": [
    "#run BW\n",
    "br = BWRun(bw=bw, in_ds=in_ds)\n",
    "br.run(limit=5500, save=False)"
   ]
  },
  {
   "cell_type": "markdown",
   "metadata": {},
   "source": [
    "Extract the log predictive probability values"
   ]
  },
  {
   "cell_type": "code",
   "execution_count": null,
   "metadata": {},
   "outputs": [],
   "source": [
    "predictions_list = ps.extract_predictions([br], offset=1)"
   ]
  },
  {
   "cell_type": "markdown",
   "metadata": {},
   "source": [
    "Create a data frame for photostimulation and log PP rankings"
   ]
  },
  {
   "cell_type": "code",
   "execution_count": null,
   "metadata": {},
   "outputs": [],
   "source": [
    "final_df=ps.rank_neurons(stim, C, photostim, predictions_list)"
   ]
  },
  {
   "cell_type": "code",
   "execution_count": null,
   "metadata": {},
   "outputs": [],
   "source": [
    "#let's sort by change in log PP ranking\n",
    "df_sorted = final_df.sort_values(by=['ranking', 'frame_number'])\n",
    "\n",
    "df_sorted.iloc[:15]"
   ]
  },
  {
   "cell_type": "markdown",
   "metadata": {},
   "source": [
    "Plotting trajectories with PCA and proSVD for particular neuron trials"
   ]
  },
  {
   "cell_type": "code",
   "execution_count": null,
   "metadata": {},
   "outputs": [],
   "source": [
    "ps.plot_photostim(31,'pca',C, photostim, final_df)"
   ]
  },
  {
   "cell_type": "code",
   "execution_count": null,
   "metadata": {},
   "outputs": [],
   "source": [
    "ps.plot_photostim(31,'proSVD',C, photostim, final_df)"
   ]
  },
  {
   "cell_type": "markdown",
   "metadata": {},
   "source": [
    "Plot the Log PP of a determined neuron \n",
    "\n",
    "Note: I decided to limit the graph using frame numbers instead of neuron_ID for flexibility, so\n",
    "you need to look in the data frame the desired start and end "
   ]
  },
  {
   "cell_type": "code",
   "execution_count": null,
   "metadata": {},
   "outputs": [],
   "source": [
    "#for neuron 31:\n",
    "al.plotting_functions.compare_metrics([br], offset=1, red_lines_frames=photostim[:, 0] , xlim_start=3330, xlim_end=3500)"
   ]
  },
  {
   "cell_type": "markdown",
   "metadata": {},
   "source": [
    "In case you want to see how BW is fittinfg the data:\n",
    "\n",
    "WARNING: it takes a long time to render"
   ]
  },
  {
   "cell_type": "code",
   "execution_count": null,
   "metadata": {},
   "outputs": [],
   "source": [
    "\"\"\"\n",
    "#proSVD in two dimensions and run BW\n",
    "\n",
    "smallC_photo = prosvd_data(C.T,2, 20, centering=True)\n",
    "t = np.arange(smallC_photo.shape[0])\n",
    "in_ds = NumpyTimedDataSource(smallC_photo, t, time_offsets=(0,1))\n",
    "bw = Bubblewrap(dim=in_ds.output_shape, **dict(default_rwd_parameters, M=100, num=1000, B_thresh=-10, num_grad_q=1))\n",
    "#run BW\n",
    "br = BWRun(bw=bw, in_ds=in_ds)\n",
    "br.run(limit=5500, save=False)\n",
    "\n",
    "#create animation\n",
    "ps.bw_animation(smallC_photo, bw.A, bw.mu, bw.L, bw.n_obs, save_path='fishBW_animation3.mp4', fps=10)\"\"\""
   ]
  }
 ],
 "metadata": {
  "kernelspec": {
   "display_name": "adaptive_latents",
   "language": "python",
   "name": "python3"
  },
  "language_info": {
   "codemirror_mode": {
    "name": "ipython",
    "version": 3
   },
   "file_extension": ".py",
   "mimetype": "text/x-python",
   "name": "python",
   "nbconvert_exporter": "python",
   "pygments_lexer": "ipython3",
   "version": "3.12.3"
  }
 },
 "nbformat": 4,
 "nbformat_minor": 2
}
