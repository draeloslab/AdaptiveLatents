{
 "cells": [
  {
   "cell_type": "code",
   "execution_count": null,
   "metadata": {
    "ExecuteTime": {
     "end_time": "2024-08-28T18:58:00.256295Z",
     "start_time": "2024-08-28T18:58:00.249065Z"
    },
    "collapsed": true
   },
   "outputs": [],
   "source": [
    "import numpy as np\n",
    "import matplotlib\n",
    "import matplotlib.pyplot as plt\n",
    "from adaptive_latents import proSVD, CenteringTransformer, Pipeline, NumpyTimedDataSource, AnimationManager\n",
    "import datasets\n",
    "import itertools\n",
    "import tqdm.notebook as tqdm\n",
    "\n",
    "rng = np.random.default_rng()\n"
   ]
  },
  {
   "cell_type": "code",
   "execution_count": null,
   "metadata": {
    "ExecuteTime": {
     "end_time": "2024-08-28T18:58:02.020025Z",
     "start_time": "2024-08-28T18:58:00.515095Z"
    }
   },
   "outputs": [],
   "source": [
    "d = datasets.Naumann24uDataset(datasets.Naumann24uDataset.sub_datasets[0])\n",
    "d.sub_dataset"
   ]
  },
  {
   "cell_type": "code",
   "execution_count": null,
   "metadata": {
    "ExecuteTime": {
     "end_time": "2024-08-28T18:58:02.156506Z",
     "start_time": "2024-08-28T18:58:02.020914Z"
    }
   },
   "outputs": [],
   "source": [
    "%matplotlib inline\n",
    "fig, ax = plt.subplots()\n",
    "d.plot_colors(ax)\n"
   ]
  },
  {
   "cell_type": "markdown",
   "metadata": {},
   "source": [
    "## Experiment structure"
   ]
  },
  {
   "cell_type": "code",
   "execution_count": null,
   "metadata": {
    "ExecuteTime": {
     "end_time": "2024-08-28T18:58:02.448208Z",
     "start_time": "2024-08-28T18:58:02.158943Z"
    }
   },
   "outputs": [],
   "source": [
    "neuron_index = 65\n",
    "\n",
    "fig, ax = plt.subplots(figsize=(12, 4))\n",
    "ax.plot(d.C[neuron_index,:])\n",
    "for idx, (time, angle, _) in d.visual_stimuli.iterrows():\n",
    "    plt.axvline(time, color=d.a2c(angle), alpha=.5)\n",
    "for time in d.opto_stimulations['sample']:\n",
    "    plt.axvline(time, color='k', alpha=.5)"
   ]
  },
  {
   "cell_type": "code",
   "execution_count": null,
   "metadata": {
    "ExecuteTime": {
     "end_time": "2024-08-28T18:58:02.715651Z",
     "start_time": "2024-08-28T18:58:02.449257Z"
    }
   },
   "outputs": [],
   "source": [
    "t1, t2 = 0, 500\n",
    "vis_presentation_window = np.array([0, 20])\n",
    "\n",
    "fig, ax = plt.subplots(figsize=(12, 4))\n",
    "plt.plot(d.C[neuron_index,t1:t2])\n",
    "for idx, sample, l_angle, r_angle in d.visual_stimuli.itertuples():\n",
    "    stim_window = sample + vis_presentation_window\n",
    "    if t1 <= stim_window[0] and t2 >= stim_window[1]:\n",
    "        ax.axvspan(stim_window[0], stim_window[1], alpha=0.2, color=d.a2c(l_angle))\n"
   ]
  },
  {
   "cell_type": "markdown",
   "metadata": {},
   "source": [
    "## proSVD stability"
   ]
  },
  {
   "cell_type": "code",
   "execution_count": null,
   "metadata": {
    "ExecuteTime": {
     "end_time": "2024-08-28T18:58:04.325309Z",
     "start_time": "2024-08-28T18:58:02.718655Z"
    },
    "collapsed": false
   },
   "outputs": [],
   "source": [
    "pro = proSVD(k=4, log_level=1)\n",
    "p = Pipeline([\n",
    "    CenteringTransformer(),\n",
    "    pro,\n",
    "])\n",
    "\n",
    "p.offline_run_on(d.neural_data);"
   ]
  },
  {
   "cell_type": "code",
   "execution_count": null,
   "metadata": {
    "ExecuteTime": {
     "end_time": "2024-08-28T18:58:04.557983Z",
     "start_time": "2024-08-28T18:58:04.326267Z"
    }
   },
   "outputs": [],
   "source": [
    "fig, ax = plt.subplots()\n",
    "\n",
    "pro.plot_Q_stability(ax)\n",
    "\n",
    "for time in d.opto_stimulations['sample']:\n",
    "    plt.axvline(time, color='k')\n",
    "plt.xlim([1800, 3200])\n",
    "plt.ylim([0, 0.01]);\n"
   ]
  },
  {
   "cell_type": "markdown",
   "metadata": {},
   "source": [
    "## Reactions to stim in latent space"
   ]
  },
  {
   "cell_type": "code",
   "execution_count": null,
   "metadata": {
    "ExecuteTime": {
     "end_time": "2024-08-28T18:58:06.308926Z",
     "start_time": "2024-08-28T18:58:04.558641Z"
    }
   },
   "outputs": [],
   "source": [
    "pro = proSVD(k=10)\n",
    "p = Pipeline([\n",
    "    CenteringTransformer(),\n",
    "    pro,\n",
    "])\n",
    "\n",
    "s = d.neural_data.t < d.opto_stimulations['sample'].min()\n",
    "first_part_data = NumpyTimedDataSource(d.neural_data.a[s], d.neural_data.t[s])\n",
    "second_part_data = NumpyTimedDataSource(d.neural_data.a[~s], d.neural_data.t[~s])\n",
    "\n",
    "\n",
    "first_part_streams = p.offline_run_on(first_part_data, convinient_return=False)\n",
    "\n",
    "whole_offline_streams = p.offline_run_on(d.neural_data, fit=False, convinient_return=False)\n",
    "offline_t = np.array([x.t for x in whole_offline_streams[0]])\n",
    "offline_output = np.squeeze(whole_offline_streams[0])\n",
    "\n",
    "second_part_streams = p.offline_run_on(second_part_data, convinient_return=False)\n",
    "assert set(first_part_streams.keys()) == set(second_part_streams.keys())\n",
    "united_streams = {k: first_part_streams[k] + second_part_streams[k] for k in first_part_streams.keys()}\n",
    "\n",
    "l = [x for x in united_streams[0] if not np.isnan(x).any()]\n",
    "online_t = np.array([x.t for x in l])\n",
    "online_output = np.squeeze(l)\n"
   ]
  },
  {
   "cell_type": "code",
   "execution_count": null,
   "metadata": {
    "ExecuteTime": {
     "end_time": "2024-08-28T18:58:06.694544Z",
     "start_time": "2024-08-28T18:58:06.309767Z"
    }
   },
   "outputs": [],
   "source": [
    "k = 10\n",
    "\n",
    "fig, axs = plt.subplots(ncols=2, nrows=2, sharex=True, sharey=True, figsize=(8,8))\n",
    "axis_0, axis_1 = 0,1\n",
    "\n",
    "for row, output, t in [ (0, online_output, online_t), (1, offline_output, offline_t)]:\n",
    "    lineness = {0: 'offline', 1: 'online'}.get(row)\n",
    "\n",
    "    s = t < d.opto_stimulations.loc[0, 'sample']\n",
    "    axs[row,0].scatter(output[s,axis_0], output[s,axis_1], s=10, c=t[s], lw=0)\n",
    "    axs[row,1].scatter(output[~s,axis_0], output[~s,axis_1], s=10, lw=0, color=np.array([1,1,1])*.8,)\n",
    "\n",
    "    r = np.arange(5*k,5*k+5)\n",
    "    assert np.std(d.opto_stimulations.loc[r, 'target_neuron']) == 0\n",
    "    for i in r:\n",
    "        s = (d.opto_stimulations.loc[i, 'sample'] <= t) & (t <= d.opto_stimulations.loc[i, 'sample'] + 34)\n",
    "        axs[row,1].plot(output[s,axis_0], output[s,axis_1])\n",
    "        \n",
    "    axs[row,0].set_title(f'visual stimuli period {lineness} manifold')\n",
    "    axs[row,1].set_title(f'opto stimulation {lineness} manifold')\n",
    "\n"
   ]
  },
  {
   "cell_type": "markdown",
   "metadata": {},
   "source": [
    "## Requests from Anne\n",
    "* train on visual, project everything\n",
    "* train on everything, project everything\n",
    "* ignore visual, train and project\n",
    "for each,\n",
    "    * eigenspectra\n",
    "    * scatterplot visual an photostim \n"
   ]
  },
  {
   "cell_type": "code",
   "execution_count": null,
   "metadata": {
    "ExecuteTime": {
     "end_time": "2024-08-28T18:58:06.708933Z",
     "start_time": "2024-08-28T18:58:06.695411Z"
    }
   },
   "outputs": [],
   "source": [
    "s = d.neural_data.t < d.opto_stimulations['sample'].min()\n",
    "first_part_data = NumpyTimedDataSource(d.neural_data.a[s], d.neural_data.t[s])\n",
    "second_part_data = NumpyTimedDataSource(d.neural_data.a[~s], d.neural_data.t[~s])"
   ]
  },
  {
   "cell_type": "code",
   "execution_count": null,
   "metadata": {
    "ExecuteTime": {
     "end_time": "2024-08-28T18:58:08.324867Z",
     "start_time": "2024-08-28T18:58:06.709529Z"
    }
   },
   "outputs": [],
   "source": [
    "p = Pipeline([\n",
    "    CenteringTransformer(),\n",
    "    proSVD(k=10),\n",
    "])\n",
    "p.offline_run_on(d.neural_data)\n",
    "\n",
    "output = p.offline_run_on(d.neural_data, fit=False, convinient_return=False)[0]\n",
    "output = [x for x in output if not np.isnan(x).any()]\n",
    "output, t = np.squeeze(output), np.squeeze([x.t for x in output])"
   ]
  },
  {
   "cell_type": "code",
   "execution_count": null,
   "metadata": {
    "ExecuteTime": {
     "end_time": "2024-08-28T18:58:08.328462Z",
     "start_time": "2024-08-28T18:58:08.325702Z"
    }
   },
   "outputs": [],
   "source": [
    "d.sub_dataset"
   ]
  },
  {
   "cell_type": "code",
   "execution_count": null,
   "metadata": {
    "ExecuteTime": {
     "end_time": "2024-08-28T18:58:08.359711Z",
     "start_time": "2024-08-28T18:58:08.329128Z"
    }
   },
   "outputs": [],
   "source": [
    "interesting_combinations = {}\n",
    "if d.sub_datasets.index(d.sub_dataset) == 2:\n",
    "    interesting_combinations = {\n",
    "        \"two planes\": [\n",
    "            (1, 3, 6),\n",
    "            (0, 5, 6),\n",
    "            (2, 6, 9),\n",
    "        ],\n",
    "        \"other\": [\n",
    "            (1, 6, 9),\n",
    "            (0, 6, 9),\n",
    "            (6, 7, 8),\n",
    "        ],\n",
    "        \"clam_shapes\": [\n",
    "            (1, 6, 9),\n",
    "            (0, 3, 6),\n",
    "            (2, 3, 6),\n",
    "            (2, 6, 7),\n",
    "            (0, 4, 6),\n",
    "            (4, 5, 6),\n",
    "            (5, 6, 7),\n",
    "            (3, 5, 6),\n",
    "            (0, 6, 7),\n",
    "            (0, 6, 8),\n",
    "            (0, 2, 6),\n",
    "            (1, 2, 6),\n",
    "            (3, 4, 6),\n",
    "            (6, 8, 9),\n",
    "        ]\n",
    "    }\n",
    "elif d.sub_datasets.index(d.sub_dataset) == 0:\n",
    "    interesting_combinations = {\n",
    "        \"two planes\": [\n",
    "            (0, 4, 9),\n",
    "            (0, 5, 8),\n",
    "            (0, 5, 9), # i guess\n",
    "        ],\n",
    "        \"plane and a line\": [\n",
    "            (1, 3, 9),\n",
    "        ],\n",
    "    }\n",
    "\n",
    "all_combination_iter = list(itertools.combinations(range(10), 3))\n",
    "interesting_combinations_iter = [leaf for tree in interesting_combinations.values() for leaf in tree]\n",
    "combinations = interesting_combinations_iter if True else all_combination_iter\n",
    "combinations = iter(tqdm.tqdm(combinations))"
   ]
  },
  {
   "cell_type": "code",
   "execution_count": null,
   "metadata": {
    "ExecuteTime": {
     "end_time": "2024-08-28T19:00:08.497456Z",
     "start_time": "2024-08-28T19:00:08.397249Z"
    }
   },
   "outputs": [],
   "source": [
    "%matplotlib qt\n",
    "fig = plt.figure()\n",
    "ax = fig.add_subplot(projection='3d')\n",
    "\n",
    "axis_0, axis_1, axis_2 = next(combinations)\n",
    "\n",
    "\n",
    "s = t < d.opto_stimulations['sample'].min()\n",
    "ax.scatter(output[s,axis_0], output[s,axis_1], output[s,axis_2], s=7)\n",
    "ax.scatter(output[~s,axis_0], output[~s,axis_1], output[~s,axis_2], s=7)\n",
    "\n",
    "ax.set_xlabel(f'x: {axis_0}')\n",
    "ax.set_ylabel(f'y: {axis_1}')\n",
    "ax.set_zlabel(f'z: {axis_2}')\n",
    "ax.axis('equal');"
   ]
  },
  {
   "cell_type": "code",
   "execution_count": null,
   "metadata": {
    "ExecuteTime": {
     "end_time": "2024-08-28T18:57:44.357010Z",
     "start_time": "2024-08-28T18:57:43.802617Z"
    }
   },
   "outputs": [],
   "source": [
    "def pca(x):\n",
    "    u, s, vh = np.linalg.svd(x - x.mean(axis=0), full_matrices=False)\n",
    "    s = s/x.shape[0]\n",
    "    s_slice = s > 1e-10\n",
    "    return u[:, s_slice], s[s_slice], vh.T[:, s_slice]\n",
    "\n",
    "first_part_slice = d.neural_data.t < d.opto_stimulations['sample'].min()\n",
    "\n",
    "a = np.squeeze(d.neural_data.a)\n",
    "u0, s0, v0 = pca(a)\n",
    "u1, s1, v1 = pca(a[first_part_slice])\n",
    "u2, s2, v2 = pca(a[~first_part_slice])\n",
    "\n"
   ]
  },
  {
   "cell_type": "code",
   "execution_count": null,
   "metadata": {
    "ExecuteTime": {
     "end_time": "2024-08-28T18:57:44.672143Z",
     "start_time": "2024-08-28T18:57:44.357604Z"
    }
   },
   "outputs": [],
   "source": [
    "%matplotlib inline\n",
    "fig, ax = plt.subplots()\n",
    "ax.plot(np.cumsum(s0), label='whole dataset')\n",
    "ax.plot(np.cumsum(s1), label='visual period')\n",
    "ax.plot(np.cumsum(s2), label='stim period')\n",
    "ax.legend()\n",
    "ax.set_xlabel(\"# components\")\n",
    "ax.set_ylabel(\"cumulative variance explained\")\n",
    "\n"
   ]
  },
  {
   "cell_type": "code",
   "execution_count": null,
   "metadata": {
    "ExecuteTime": {
     "end_time": "2024-08-28T18:57:44.689060Z",
     "start_time": "2024-08-28T18:57:44.674581Z"
    }
   },
   "outputs": [],
   "source": [
    "u, s, vh = np.linalg.svd(v1[:,:10].T @ v2[:,:10])\n",
    "print(s)\n",
    "\n",
    "i = [0, -1,-2]\n",
    "recombined_1 = v1[:,:10] @ u[:,i] \n",
    "recombined_2 = v2[:,:10] @ vh[i].T\n",
    "(recombined_1).T @ (recombined_2)"
   ]
  },
  {
   "cell_type": "code",
   "execution_count": null,
   "metadata": {
    "ExecuteTime": {
     "end_time": "2024-08-28T18:57:44.826546Z",
     "start_time": "2024-08-28T18:57:44.692536Z"
    }
   },
   "outputs": [],
   "source": [
    "%matplotlib qt\n",
    "proj = a @ v0\n",
    "\n",
    "fig = plt.figure()\n",
    "ax = fig.add_subplot(projection='3d')\n",
    "ax.scatter(proj[first_part_slice,0], proj[first_part_slice,1], proj[first_part_slice,2], s=7)\n",
    "ax.scatter(proj[~first_part_slice,0], proj[~first_part_slice,1], proj[~first_part_slice,2], s=7)\n"
   ]
  },
  {
   "cell_type": "code",
   "execution_count": null,
   "metadata": {
    "ExecuteTime": {
     "end_time": "2024-08-28T18:57:44.830642Z",
     "start_time": "2024-08-28T18:57:44.827322Z"
    }
   },
   "outputs": [],
   "source": [
    "d.sub_dataset"
   ]
  },
  {
   "cell_type": "markdown",
   "metadata": {},
   "source": [
    "## Neuron locations"
   ]
  },
  {
   "cell_type": "code",
   "execution_count": null,
   "metadata": {
    "ExecuteTime": {
     "end_time": "2024-08-28T18:57:44.881817Z",
     "start_time": "2024-08-28T18:57:44.833320Z"
    },
    "collapsed": false
   },
   "outputs": [],
   "source": [
    "%matplotlib inline\n",
    "plt.scatter(d.neuron_df['x'], d.neuron_df['y'])"
   ]
  },
  {
   "cell_type": "markdown",
   "metadata": {},
   "source": [
    "\n",
    "## Video of trajectory"
   ]
  },
  {
   "cell_type": "code",
   "execution_count": null,
   "metadata": {},
   "outputs": [],
   "source": [
    "raise Exception()\n",
    "s = d.neural_data.t < d.opto_stimulations['sample'].min()\n",
    "first_part_data = NumpyTimedDataSource(d.neural_data.a[s], d.neural_data.t[s])\n",
    "p.offline_run_on(first_part_data)\n",
    "\n",
    "with AnimationManager(n_rows=2, n_cols=2) as am:\n",
    "    for output in p.run_on(first_part_data):\n",
    "        am.axs[0,0].scatter(output[0,0], output[0,1])\n",
    "        \n",
    "        am.grab_frame()"
   ]
  }
 ],
 "metadata": {
  "kernelspec": {
   "display_name": "Python 3",
   "language": "python",
   "name": "python3"
  },
  "language_info": {
   "codemirror_mode": {
    "name": "ipython",
    "version": 2
   },
   "file_extension": ".py",
   "mimetype": "text/x-python",
   "name": "python",
   "nbconvert_exporter": "python",
   "pygments_lexer": "ipython2",
   "version": "2.7.6"
  }
 },
 "nbformat": 4,
 "nbformat_minor": 0
}
