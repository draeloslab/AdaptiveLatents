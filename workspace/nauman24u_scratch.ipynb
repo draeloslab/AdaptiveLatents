{
 "cells": [
  {
   "cell_type": "code",
   "execution_count": null,
   "metadata": {
    "ExecuteTime": {
     "end_time": "2024-10-21T21:51:36.021575Z",
     "start_time": "2024-10-21T21:51:32.142063Z"
    },
    "collapsed": true
   },
   "outputs": [],
   "source": [
    "import numpy as np\n",
    "import matplotlib\n",
    "import matplotlib.pyplot as plt\n",
    "from adaptive_latents import proSVD, CenteringTransformer, Pipeline, NumpyTimedDataSource, AnimationManager, KernelSmoother, datasets\n",
    "import adaptive_latents\n",
    "import itertools\n",
    "import tqdm.notebook as tqdm\n",
    "from matplotlib.lines import Line2D\n",
    "\n",
    "rng = np.random.default_rng()\n"
   ]
  },
  {
   "cell_type": "code",
   "execution_count": null,
   "metadata": {
    "ExecuteTime": {
     "end_time": "2024-10-21T21:51:39.625923Z",
     "start_time": "2024-10-21T21:51:36.025061Z"
    }
   },
   "outputs": [],
   "source": [
    "d = datasets.Naumann24uDataset(datasets.Naumann24uDataset.sub_datasets[1])\n",
    "d.sub_dataset"
   ]
  },
  {
   "cell_type": "code",
   "execution_count": null,
   "metadata": {},
   "outputs": [],
   "source": [
    "%matplotlib inline\n",
    "plt.hist(np.diff(d.neural_data.t), bins=100, log=True)\n",
    "plt.xlabel('sample time difference')\n",
    "plt.ylabel('number of observations')"
   ]
  },
  {
   "cell_type": "code",
   "execution_count": null,
   "metadata": {
    "ExecuteTime": {
     "end_time": "2024-10-21T18:03:23.359257Z",
     "start_time": "2024-10-21T18:03:22.194823Z"
    }
   },
   "outputs": [],
   "source": [
    "beh = d.BehaviorClassifier().offline_run_on(NumpyTimedDataSource(d.tail_angle, d.tail_times), convinient_return=True)"
   ]
  },
  {
   "cell_type": "code",
   "execution_count": null,
   "metadata": {
    "ExecuteTime": {
     "end_time": "2024-10-21T17:15:07.443743Z",
     "start_time": "2024-10-21T17:15:07.040700Z"
    }
   },
   "outputs": [],
   "source": [
    "from collections import deque\n",
    "history = deque(maxlen=15)\n",
    "\n",
    "output = []\n",
    "\n",
    "for a in d.tail_angle:\n",
    "    history.append(a)\n",
    "    \n",
    "    h = np.array(history)\n",
    "    if np.isnan(history).any():\n",
    "        output.append(np.nan)\n",
    "    elif (h > .3).any():\n",
    "        if (h < -.3).any():\n",
    "            output.append(3)\n",
    "        else:\n",
    "            output.append(1)\n",
    "    elif (h < -.3).any():\n",
    "        output.append(2)\n",
    "    else:\n",
    "        output.append(0)\n",
    "        \n",
    "        \n",
    "    "
   ]
  },
  {
   "cell_type": "code",
   "execution_count": null,
   "metadata": {
    "ExecuteTime": {
     "end_time": "2024-10-21T18:13:43.060547Z",
     "start_time": "2024-10-21T18:13:42.912893Z"
    }
   },
   "outputs": [],
   "source": [
    "%matplotlib inline\n",
    "displacement =  d.behavioral_data.a[:, -1, :] - d.behavioral_data.a[:, 0, :]\n",
    "plt.plot(d.behavioral_data.t, d.behavioral_data.a[:, 0, :])\n",
    "plt.plot(d.pose_class.t, d.pose_class)\n",
    "plt.xlabel('time (s)')\n",
    "plt.ylabel('angle between ends of tail')\n"
   ]
  },
  {
   "cell_type": "code",
   "execution_count": null,
   "metadata": {
    "ExecuteTime": {
     "end_time": "2024-10-21T18:22:56.402268Z",
     "start_time": "2024-10-21T18:22:17.665426Z"
    }
   },
   "outputs": [],
   "source": [
    "last_of_each_class = [None,None,None,None]\n",
    "for sample, c in zip(d.tail_position, d.pose_class):\n",
    "    last_of_each_class[c], = plt.plot(sample[:, 0], sample[:, 1], color=f'C{c}', alpha=0.1)\n",
    "\n",
    "plt.legend(handles=[\n",
    "    Line2D([0], [0], color='C0', label='no motion'),\n",
    "    Line2D([0], [0], color='C1', label='down'),\n",
    "    Line2D([0], [0], color='C2', label='up'),\n",
    "    Line2D([0], [0], color='C3', label='both'),\n",
    "])"
   ]
  },
  {
   "cell_type": "code",
   "execution_count": null,
   "metadata": {
    "ExecuteTime": {
     "end_time": "2024-10-17T21:19:55.009988Z",
     "start_time": "2024-10-17T21:19:06.320670Z"
    }
   },
   "outputs": [],
   "source": [
    "%matplotlib inline\n",
    "fps = 90\n",
    "with adaptive_latents.AnimationManager(fps=fps, filetype='mp4') as am:\n",
    "    video_times = np.arange(\n",
    "        50,\n",
    "        60,\n",
    "        1/fps,\n",
    "    )\n",
    "    for current_t in video_times:\n",
    "        old_lims = None\n",
    "        if current_t != video_times[0]:\n",
    "            old_lims = am.axs[0,0].axis()\n",
    "        am.axs[0,0].cla()\n",
    "        idx = np.argmin(np.abs(current_t - d.behavioral_data.t))\n",
    "        sample = d.behavioral_data.a[idx,...]\n",
    "        am.axs[0,0].plot(sample[:, 0], sample[:, 1], color='C0')\n",
    "        if old_lims is not None:\n",
    "            adaptive_latents.plotting_functions.use_bigger_lims(am.axs[0,0], old_lims)\n",
    "        am.axs[0,0].set_title(f't = {current_t:.2f}')\n",
    "        am.grab_frame()\n"
   ]
  },
  {
   "cell_type": "markdown",
   "metadata": {},
   "source": [
    "## Experiment structure"
   ]
  },
  {
   "cell_type": "code",
   "execution_count": null,
   "metadata": {
    "ExecuteTime": {
     "end_time": "2024-10-17T20:30:12.970717Z",
     "start_time": "2024-10-17T20:30:12.885771Z"
    }
   },
   "outputs": [],
   "source": [
    "neuron_index = 65\n",
    "\n",
    "fig, ax = plt.subplots(figsize=(12, 4))\n",
    "ax.plot(d.neural_data.t, d.neural_data.a[:, 0, neuron_index])\n",
    "for idx, (time, angle) in d.visual_stimuli[['time', 'l_angle']].iterrows():\n",
    "    plt.axvline(time, color=d.a2c(angle), alpha=.5)\n",
    "for time in d.opto_stimulations['time']:\n",
    "    plt.axvline(time, color='k', alpha=.5)"
   ]
  },
  {
   "cell_type": "code",
   "execution_count": null,
   "metadata": {
    "ExecuteTime": {
     "end_time": "2024-10-17T20:30:13.037625Z",
     "start_time": "2024-10-17T20:30:12.971186Z"
    }
   },
   "outputs": [],
   "source": [
    "t1, t2 = 0, 500\n",
    "vis_presentation_window = 20\n",
    "\n",
    "fig, ax = plt.subplots(figsize=(12, 4))\n",
    "plt.plot(d.C[neuron_index,t1:t2])\n",
    "for idx, frame_sample, _, l_angle, r_angle in d.visual_stimuli.itertuples():\n",
    "    frame_sample = int(frame_sample)\n",
    "    stim_window = d.frame_times[[frame_sample,frame_sample+vis_presentation_window]]\n",
    "    if t1 <= stim_window[0] and t2 >= stim_window[1]:\n",
    "        ax.axvspan(stim_window[0], stim_window[1], alpha=0.2, color=d.a2c(l_angle))\n"
   ]
  },
  {
   "cell_type": "markdown",
   "metadata": {},
   "source": [
    "## proSVD stability"
   ]
  },
  {
   "cell_type": "code",
   "execution_count": null,
   "metadata": {
    "ExecuteTime": {
     "end_time": "2024-10-17T20:30:13.488390Z",
     "start_time": "2024-10-17T20:30:13.038570Z"
    },
    "collapsed": false
   },
   "outputs": [],
   "source": [
    "pro = proSVD(k=4, log_level=1)\n",
    "p = Pipeline([\n",
    "    CenteringTransformer(),\n",
    "    pro,\n",
    "])\n",
    "\n",
    "p.offline_run_on(d.neural_data);"
   ]
  },
  {
   "cell_type": "code",
   "execution_count": null,
   "metadata": {
    "ExecuteTime": {
     "end_time": "2024-10-17T20:30:13.961728Z",
     "start_time": "2024-10-17T20:30:13.489223Z"
    }
   },
   "outputs": [],
   "source": [
    "fig, ax = plt.subplots()\n",
    "\n",
    "pro.plot_Q_stability(ax)\n",
    "\n",
    "for time in d.opto_stimulations['time']:\n",
    "    plt.axvline(time, color='k')\n",
    "plt.xlim([475, 750])\n",
    "plt.ylim([0, 0.01]);\n"
   ]
  },
  {
   "cell_type": "markdown",
   "metadata": {},
   "source": [
    "## TODO: Systematic Drift?"
   ]
  },
  {
   "cell_type": "code",
   "execution_count": null,
   "metadata": {
    "ExecuteTime": {
     "end_time": "2024-10-17T20:30:13.977855Z",
     "start_time": "2024-10-17T20:30:13.962971Z"
    }
   },
   "outputs": [],
   "source": [
    "s = d.neural_data.t < d.opto_stimulations['sample'].min()\n",
    "np.linalg.norm(np.squeeze(d.neural_data.a[s]).mean(axis=0) - np.squeeze(d.neural_data.a[~s]).mean(axis=0))\n",
    "np.linalg.norm(np.squeeze(d.neural_data.a[~s]).std(axis=0))\n",
    "\n"
   ]
  },
  {
   "cell_type": "markdown",
   "metadata": {},
   "source": [
    "## Reactions to stim in latent space"
   ]
  },
  {
   "cell_type": "code",
   "execution_count": null,
   "metadata": {
    "ExecuteTime": {
     "end_time": "2024-10-17T20:30:14.640793Z",
     "start_time": "2024-10-17T20:30:13.979839Z"
    }
   },
   "outputs": [],
   "source": [
    "smoothing_factor = 2\n",
    "\n",
    "centerer = CenteringTransformer()\n",
    "pro = proSVD(k=10)\n",
    "\n",
    "p = Pipeline([\n",
    "    centerer,\n",
    "    pro,\n",
    "    KernelSmoother(smoothing_factor),\n",
    "])\n",
    "\n",
    "s = d.neural_data.t < d.opto_stimulations['sample'].min()\n",
    "first_part_data = NumpyTimedDataSource(d.neural_data.a[s], d.neural_data.t[s])\n",
    "second_part_data = NumpyTimedDataSource(d.neural_data.a[~s], d.neural_data.t[~s])\n",
    "\n",
    "\n",
    "first_part_streams = p.offline_run_on(first_part_data, convinient_return=False)\n",
    "\n",
    "centerer.freeze(True)\n",
    "pro.freeze(True)\n",
    "whole_offline_streams = Pipeline([centerer, pro, KernelSmoother(smoothing_factor),]).offline_run_on(d.neural_data, convinient_return=False)\n",
    "centerer.freeze(False)\n",
    "pro.freeze(False)\n",
    "\n",
    "whole_offline_streams[0] = [x for x in whole_offline_streams[0] if not np.isnan(x).any()]\n",
    "offline_t = np.array([x.t for x in whole_offline_streams[0]])\n",
    "offline_output = np.squeeze(whole_offline_streams[0])\n",
    "\n",
    "second_part_streams = p.offline_run_on(second_part_data, convinient_return=False)\n",
    "assert set(first_part_streams.keys()) == set(second_part_streams.keys())\n",
    "united_streams = {k: first_part_streams[k] + second_part_streams[k] for k in first_part_streams.keys()}\n",
    "\n",
    "l = [x for x in united_streams[0] if not np.isnan(x).any()]\n",
    "online_t = np.array([x.t for x in l])\n",
    "online_output = np.squeeze(l)\n"
   ]
  },
  {
   "cell_type": "code",
   "execution_count": null,
   "metadata": {
    "ExecuteTime": {
     "end_time": "2024-10-17T20:30:14.838068Z",
     "start_time": "2024-10-17T20:30:14.641648Z"
    }
   },
   "outputs": [],
   "source": [
    "k = 10\n",
    "\n",
    "fig, axs = plt.subplots(ncols=2, nrows=2, sharex=True, sharey=True, figsize=(8,8))\n",
    "axis_0, axis_1 = 0,1\n",
    "\n",
    "for row, output, t in [ (0, online_output, online_t), (1, offline_output, offline_t)]:\n",
    "    lineness = {0: 'online', 1: 'offline'}.get(row)\n",
    "\n",
    "    s = t < d.opto_stimulations.loc[0, 'sample']\n",
    "    axs[row,0].scatter(output[s,axis_0], output[s,axis_1], s=10, c=t[s], lw=0)\n",
    "    axs[row,1].scatter(output[~s,axis_0], output[~s,axis_1], s=10, lw=0, color=np.array([1,1,1])*.8,)\n",
    "\n",
    "    r = np.arange(5*k,5*k+5)\n",
    "    assert np.std(d.opto_stimulations.loc[r, 'target_neuron']) == 0\n",
    "    for i in r:\n",
    "        s = (d.opto_stimulations.loc[i, 'sample'] <= t) & (t <= d.opto_stimulations.loc[i, 'sample'] + 34)\n",
    "        axs[row,1].plot(output[s,axis_0], output[s,axis_1])\n",
    "        \n",
    "    axs[row,0].set_title(f'visual stimuli period {lineness} manifold')\n",
    "    axs[row,1].set_title(f'opto stimulation {lineness} manifold')\n",
    "\n"
   ]
  },
  {
   "cell_type": "code",
   "execution_count": null,
   "metadata": {
    "ExecuteTime": {
     "end_time": "2024-10-17T20:30:15.011198Z",
     "start_time": "2024-10-17T20:30:14.838832Z"
    }
   },
   "outputs": [],
   "source": [
    "\n",
    "def show_reactions_to_stims(ax, output, t, d, n_seconds_after=15, stim_group_number=4):\n",
    "    ax.cla()\n",
    "    s = t > d.opto_stimulations.loc[0, 'time']\n",
    "    ax.scatter(output[s,0], output[s,1], s=10, lw=0, color=np.array([1,1,1])*.8,)\n",
    "\n",
    "    n_stims_per_group = 5\n",
    "    r = np.arange(n_stims_per_group*stim_group_number,n_stims_per_group*stim_group_number+n_stims_per_group)\n",
    "\n",
    "    assert np.std(d.opto_stimulations.loc[r, 'target_neuron']) == 0\n",
    "\n",
    "    for ii, i in enumerate(r):\n",
    "        start = int(d.opto_stimulations.loc[i, 'time'])\n",
    "        s = (start <= t) & (t <= start + n_seconds_after)\n",
    "        ax.plot(output[s,axis_0], output[s,axis_1], color=matplotlib.colors.hsv_to_rgb(np.array([10/360, 1, (8-ii)/8])))\n",
    "\n",
    "        start_idx = np.nonzero(s)[0][0]\n",
    "        ax.scatter(output[start_idx, axis_0], output[start_idx,axis_1], c='k', s=15)\n",
    "        # ax.arrow(x = output[start_idx, 0], y = output[start_idx, 1], dx = output[start_idx+1, 0] - output[start_idx, 0], dy= output[start_idx+1, 1] - output[start_idx, 1], zorder=2, length_includes_head=True, head_width=.2, color='k') \n",
    "    \n",
    "\n",
    "fig, ax = plt.subplots(figsize=(8,8))\n",
    "show_reactions_to_stims(ax, offline_output, offline_t, d, stim_group_number=7)\n",
    "# fig.savefig(adaptive_latents.CONFIG['plot_save_path'] / \"plot.svg\")\n",
    "\n"
   ]
  },
  {
   "cell_type": "code",
   "execution_count": null,
   "metadata": {
    "ExecuteTime": {
     "end_time": "2024-10-17T20:38:12.809351Z",
     "start_time": "2024-10-17T20:37:53.608753Z"
    }
   },
   "outputs": [],
   "source": [
    "fps = 20\n",
    "total_t = 16\n",
    "with adaptive_latents.AnimationManager(fps=4*fps, filetype='webm') as am:\n",
    "    for current_t in np.linspace(1, total_t, (total_t-1) * fps + 1):\n",
    "        show_reactions_to_stims(am.axs[0,0], output, t, d, n_seconds_after=current_t, stim_group_number=7)\n",
    "        am.grab_frame()"
   ]
  },
  {
   "cell_type": "code",
   "execution_count": null,
   "metadata": {
    "ExecuteTime": {
     "end_time": "2024-10-17T20:42:35.813679Z",
     "start_time": "2024-10-17T20:42:35.802330Z"
    }
   },
   "outputs": [],
   "source": [
    "from IPython.display import display, Video, Image\n",
    "Video(\"/home/jgould/Documents/AdaptiveLatents/workspace/al_generated/plots/movie_2024-10-17-16-22-53-320.webm\", embed=False)"
   ]
  },
  {
   "cell_type": "code",
   "execution_count": null,
   "metadata": {
    "ExecuteTime": {
     "end_time": "2024-10-17T20:42:42.368046Z",
     "start_time": "2024-10-17T20:42:42.347263Z"
    }
   },
   "outputs": [],
   "source": [
    "s = d.neural_data.t < d.opto_stimulations['sample'].min()\n",
    "first_part_data = NumpyTimedDataSource(d.neural_data.a[s], d.neural_data.t[s])\n",
    "second_part_data = NumpyTimedDataSource(d.neural_data.a[~s], d.neural_data.t[~s])"
   ]
  },
  {
   "cell_type": "code",
   "execution_count": null,
   "metadata": {
    "ExecuteTime": {
     "end_time": "2024-10-17T20:42:44.316468Z",
     "start_time": "2024-10-17T20:42:43.523833Z"
    }
   },
   "outputs": [],
   "source": [
    "p = Pipeline([\n",
    "    CenteringTransformer(),\n",
    "    proSVD(k=10),\n",
    "])\n",
    "p.offline_run_on(d.neural_data)\n",
    "\n",
    "p.freeze(True)\n",
    "output = p.offline_run_on(d.neural_data, convinient_return=False)[0]\n",
    "p.freeze(False)\n",
    "output = [x for x in output if not np.isnan(x).any()]\n",
    "output, t = np.squeeze(output), np.squeeze([x.t for x in output])"
   ]
  },
  {
   "cell_type": "code",
   "execution_count": null,
   "metadata": {},
   "outputs": [],
   "source": [
    "interesting_combinations = {}\n",
    "if d.sub_datasets.index(d.sub_dataset) == 2:\n",
    "    interesting_combinations = {\n",
    "        \"two planes\": [\n",
    "            (1, 3, 6),\n",
    "            (0, 5, 6),\n",
    "            (2, 6, 9),\n",
    "        ],\n",
    "        \"other\": [\n",
    "            (1, 6, 9),\n",
    "            (0, 6, 9),\n",
    "            (6, 7, 8),\n",
    "        ],\n",
    "        \"clam_shapes\": [\n",
    "            (1, 6, 9),\n",
    "            (0, 3, 6),\n",
    "            (2, 3, 6),\n",
    "            (2, 6, 7),\n",
    "            (0, 4, 6),\n",
    "            (4, 5, 6),\n",
    "            (5, 6, 7),\n",
    "            (3, 5, 6),\n",
    "            (0, 6, 7),\n",
    "            (0, 6, 8),\n",
    "            (0, 2, 6),\n",
    "            (1, 2, 6),\n",
    "            (3, 4, 6),\n",
    "            (6, 8, 9),\n",
    "        ]\n",
    "    }\n",
    "elif d.sub_datasets.index(d.sub_dataset) == 0:\n",
    "    interesting_combinations = {\n",
    "        \"two planes\": [\n",
    "            (0, 4, 9),\n",
    "            (0, 5, 8),\n",
    "            (0, 5, 9), # i guess\n",
    "        ],\n",
    "        \"plane and a line\": [\n",
    "            (1, 3, 9),\n",
    "        ],\n",
    "    }\n",
    "\n",
    "all_combination_iter = list(itertools.combinations(range(10), 3))\n",
    "interesting_combinations_iter = [leaf for tree in interesting_combinations.values() for leaf in tree]\n",
    "combinations = interesting_combinations_iter if False else all_combination_iter\n",
    "combinations = iter(tqdm.tqdm(combinations))"
   ]
  },
  {
   "cell_type": "code",
   "execution_count": null,
   "metadata": {},
   "outputs": [],
   "source": [
    "%matplotlib inline\n",
    "fig = plt.figure()\n",
    "ax = fig.add_subplot(projection='3d')\n",
    "\n",
    "axis_0, axis_1, axis_2 = next(combinations)\n",
    "\n",
    "\n",
    "s = t < d.opto_stimulations['sample'].min()\n",
    "ax.scatter(output[s,axis_0], output[s,axis_1], output[s,axis_2], s=7)\n",
    "ax.scatter(output[~s,axis_0], output[~s,axis_1], output[~s,axis_2], s=7)\n",
    "\n",
    "ax.set_title(d.sub_dataset + \" slices\")\n",
    "ax.set_xlabel(f'x: {axis_0}')\n",
    "ax.set_ylabel(f'y: {axis_1}')\n",
    "ax.set_zlabel(f'z: {axis_2}')\n",
    "ax.axis('equal');"
   ]
  },
  {
   "cell_type": "code",
   "execution_count": null,
   "metadata": {},
   "outputs": [],
   "source": [
    "def pca(x):\n",
    "    u, s, vh = np.linalg.svd(x - x.mean(axis=0), full_matrices=False)\n",
    "    # s = s/x.shape[0]\n",
    "    s = s\n",
    "    s_slice = s > 1e-10\n",
    "    return u[:, s_slice], s[s_slice], vh.T[:, s_slice]\n",
    "\n",
    "first_part_slice = d.neural_data.t < d.opto_stimulations['sample'].min()\n",
    "\n",
    "a = np.squeeze(d.neural_data.a)\n",
    "\n",
    "\n",
    "a = np.vstack([rng.normal(size=(100,5)), 1*rng.normal(size=(50,5))])\n",
    "first_part_slice = np.arange(a.shape[0])\n",
    "first_part_slice[first_part_slice < 100] = 1\n",
    "\n",
    "u0, s0, v0 = pca(a)\n",
    "u1, s1, v1 = pca(a[first_part_slice])\n",
    "u2, s2, v2 = pca(a[~first_part_slice])\n",
    "\n"
   ]
  },
  {
   "cell_type": "code",
   "execution_count": null,
   "metadata": {},
   "outputs": [],
   "source": [
    "%matplotlib inline\n",
    "fig, ax = plt.subplots()\n",
    "\n",
    "x0, x1, x2 = [np.arange(s.size) for s in [s0, s1, s2]]\n",
    "y0, y1, y2 = [np.cumsum(s) for s in [s0, s1, s2]]\n",
    "\n",
    "\n",
    "ax.plot(x0, y0, label='whole dataset')\n",
    "ax.plot(x1, y1, label='visual period')\n",
    "ax.plot(x2, y2, label='stim period')\n",
    "ax.legend()\n",
    "ax.set_xlabel(\"# components\")\n",
    "ax.set_ylabel(\"cumulative variance explained\")\n",
    "\n"
   ]
  },
  {
   "cell_type": "code",
   "execution_count": null,
   "metadata": {},
   "outputs": [],
   "source": [
    "u, s, vh = np.linalg.svd(v1[:,:10].T @ v2[:,:10])\n",
    "print(s)\n",
    "\n",
    "i = [0, -1,-2]\n",
    "recombined_1 = v1[:,:10] @ u[:,i] \n",
    "recombined_2 = v2[:,:10] @ vh[i].T\n",
    "(recombined_1).T @ (recombined_2)"
   ]
  },
  {
   "cell_type": "code",
   "execution_count": null,
   "metadata": {},
   "outputs": [],
   "source": [
    "# %matplotlib qt\n",
    "proj = a @ v0\n",
    "\n",
    "fig = plt.figure()\n",
    "ax = fig.add_subplot(projection='3d')\n",
    "ax.scatter(proj[first_part_slice,0], proj[first_part_slice,1], proj[first_part_slice,2], s=7)\n",
    "ax.scatter(proj[~first_part_slice,0], proj[~first_part_slice,1], proj[~first_part_slice,2], s=7)\n"
   ]
  },
  {
   "cell_type": "code",
   "execution_count": null,
   "metadata": {},
   "outputs": [],
   "source": [
    "d.sub_dataset"
   ]
  },
  {
   "cell_type": "markdown",
   "metadata": {},
   "source": [
    "## Neuron locations"
   ]
  },
  {
   "cell_type": "code",
   "execution_count": null,
   "metadata": {
    "collapsed": false
   },
   "outputs": [],
   "source": [
    "%matplotlib inline\n",
    "plt.scatter(d.neuron_df['x'], d.neuron_df['y'])"
   ]
  },
  {
   "cell_type": "code",
   "execution_count": null,
   "metadata": {},
   "outputs": [],
   "source": [
    "%matplotlib inline\n",
    "fig, ax = plt.subplots()\n",
    "d.plot_colors(ax)"
   ]
  }
 ],
 "metadata": {
  "kernelspec": {
   "display_name": "Python 3",
   "language": "python",
   "name": "python3"
  },
  "language_info": {
   "codemirror_mode": {
    "name": "ipython",
    "version": 2
   },
   "file_extension": ".py",
   "mimetype": "text/x-python",
   "name": "python",
   "nbconvert_exporter": "python",
   "pygments_lexer": "ipython2",
   "version": "2.7.6"
  }
 },
 "nbformat": 4,
 "nbformat_minor": 0
}
