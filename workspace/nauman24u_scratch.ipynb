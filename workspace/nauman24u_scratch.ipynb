{
 "cells": [
  {
   "cell_type": "code",
   "execution_count": null,
   "metadata": {
    "ExecuteTime": {
     "end_time": "2024-08-12T15:11:20.144585Z",
     "start_time": "2024-08-12T15:11:20.138254Z"
    },
    "collapsed": true
   },
   "outputs": [],
   "source": [
    "import numpy as np\n",
    "import matplotlib.pyplot as plt\n",
    "import adaptive_latents\n",
    "from adaptive_latents import proSVD, CenteringTransformer, Pipeline\n",
    "from datasets import Naumann24uDataset\n",
    "\n",
    "rng = np.random.default_rng()\n"
   ]
  },
  {
   "cell_type": "code",
   "execution_count": null,
   "metadata": {
    "ExecuteTime": {
     "end_time": "2024-08-12T15:11:20.631383Z",
     "start_time": "2024-08-12T15:11:20.401463Z"
    },
    "collapsed": false
   },
   "outputs": [],
   "source": [
    "d = Naumann24uDataset(Naumann24uDataset.sub_datasets[2])"
   ]
  },
  {
   "cell_type": "code",
   "execution_count": null,
   "metadata": {
    "ExecuteTime": {
     "end_time": "2024-08-12T15:11:21.449519Z",
     "start_time": "2024-08-12T15:11:20.786269Z"
    },
    "collapsed": false
   },
   "outputs": [],
   "source": [
    "in_data = d.C.T\n",
    "\n",
    "diff_over_time ={\n",
    "    'over_whole_matrix'       : lambda Qs: (np.linalg.norm(np.diff(Qs, axis=0),axis=(1,2))), \n",
    "    'along_axis': lambda Qs: (np.linalg.norm(np.diff(Qs, axis=0),axis=1))\n",
    "}.get('along_axis')\n",
    "\n",
    "# prosvd_with_Q_args = dict(output_d=4, init_size=10, pro_arguments=dict(centering=False))\n",
    "\n",
    "fig, ax = plt.subplots(); ax: plt.Axes\n",
    "\n",
    "pro = proSVD(k=4, log_level=1)\n",
    "p = Pipeline([\n",
    "    CenteringTransformer(),\n",
    "    pro,\n",
    "])\n",
    "\n",
    "p.offline_run_on(in_data)\n",
    "\n",
    "\n",
    "plt.plot(pro.log['t'][1:], diff_over_time(pro.log['Q']), label='original data')\n",
    "\n",
    "\n",
    "for time in d.stimulations['sample']:\n",
    "    plt.axvline(time, color='k')\n",
    "plt.xlim([1800, 3200])\n",
    "plt.ylim([0, 0.01])\n",
    "\n",
    "plt.title(f\"Change in Q over time, {pro.Q.shape[0]}->{pro.k}\")\n",
    "plt.xlabel(\"iteration #\")\n",
    "plt.ylabel(r\"$\\Vert\\Delta Q \\Vert_F$\");\n",
    "# plt.legend();\n"
   ]
  },
  {
   "cell_type": "code",
   "execution_count": null,
   "metadata": {
    "ExecuteTime": {
     "end_time": "2024-08-12T15:11:48.623249Z",
     "start_time": "2024-08-12T15:11:48.150300Z"
    },
    "collapsed": false
   },
   "outputs": [],
   "source": [
    "d = Naumann24uDataset(Naumann24uDataset.sub_datasets[2])\n",
    "plt.plot(d.stimulations['sample'], '.')"
   ]
  },
  {
   "cell_type": "code",
   "execution_count": null,
   "metadata": {
    "ExecuteTime": {
     "end_time": "2024-08-12T15:11:57.355893Z",
     "start_time": "2024-08-12T15:11:57.332582Z"
    },
    "collapsed": false
   },
   "outputs": [],
   "source": [
    "d.stimulations"
   ]
  },
  {
   "cell_type": "code",
   "execution_count": null,
   "metadata": {
    "ExecuteTime": {
     "end_time": "2024-08-12T15:11:59.465634Z",
     "start_time": "2024-08-12T15:11:59.414403Z"
    },
    "collapsed": false
   },
   "outputs": [],
   "source": [
    "plt.scatter(d.neuron_df['x'], d.neuron_df['y'])"
   ]
  }
 ],
 "metadata": {
  "kernelspec": {
   "display_name": "Python 3",
   "language": "python",
   "name": "python3"
  },
  "language_info": {
   "codemirror_mode": {
    "name": "ipython",
    "version": 2
   },
   "file_extension": ".py",
   "mimetype": "text/x-python",
   "name": "python",
   "nbconvert_exporter": "python",
   "pygments_lexer": "ipython2",
   "version": "2.7.6"
  }
 },
 "nbformat": 4,
 "nbformat_minor": 0
}
