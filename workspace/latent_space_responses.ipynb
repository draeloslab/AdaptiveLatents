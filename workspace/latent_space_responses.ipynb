{
 "cells": [
  {
   "cell_type": "raw",
   "id": "0",
   "metadata": {},
   "source": []
  },
  {
   "cell_type": "code",
   "execution_count": null,
   "id": "1",
   "metadata": {},
   "outputs": [],
   "source": [
    "import numpy as np\n",
    "import matplotlib.pyplot as plt\n",
    "import adaptive_latents as al\n",
    "from naumann_utility_functions import make_responses, find_decompositions\n",
    "\n",
    "rng = np.random.default_rng()\n"
   ]
  },
  {
   "cell_type": "code",
   "execution_count": null,
   "id": "2",
   "metadata": {},
   "outputs": [],
   "source": [
    "d = al.datasets.Naumann24uDataset(sub_dataset_identifier=2)\n",
    "model = find_decompositions(make_responses(d, non_nan=True), n_restarts=200)[0]\n",
    "\n",
    "d.neural_data[np.isnan(d.neural_data)] = 0"
   ]
  },
  {
   "cell_type": "code",
   "execution_count": null,
   "id": "3",
   "metadata": {},
   "outputs": [],
   "source": [
    "d = al.datasets.Naumann24uDataset(sub_dataset_identifier=2)\n",
    "\n",
    "d.neural_data[np.isnan(d.neural_data)] = 0\n",
    "responses = make_responses(d, non_nan=True)"
   ]
  },
  {
   "cell_type": "code",
   "execution_count": null,
   "id": "4",
   "metadata": {},
   "outputs": [],
   "source": [
    "pro = None\n",
    "jpca = None\n",
    "p = al.Pipeline([\n",
    "    al.KernelSmoother(tau=2),\n",
    "    # al.CenteringTransformer(init_size=100),\n",
    "    pro:=al.proSVD(k=3),\n",
    "    # jpca:=al.sjPCA()\n",
    "])\n",
    "\n",
    "visual_stimuli_data = d.neural_data.slice(slice(0, d.last_visual_sample))\n",
    "opto_stimuli_data = d.neural_data.slice(slice(d.last_visual_sample, -1))\n",
    "\n",
    "online_output = p.offline_run_on(opto_stimuli_data)\n",
    "\n",
    "for i, step in enumerate(p.steps):\n",
    "    if isinstance(step, al.KernelSmoother):\n",
    "        p.steps[i] = al.KernelSmoother(**step.get_params())\n",
    "    else:\n",
    "        step.freeze()\n",
    "offline_output = p.offline_run_on(opto_stimuli_data)\n"
   ]
  },
  {
   "cell_type": "code",
   "execution_count": null,
   "id": "5",
   "metadata": {},
   "outputs": [],
   "source": [
    "%matplotlib qt\n",
    "\n",
    "output = offline_output\n",
    "\n",
    "fig, ax = plt.subplots(subplot_kw={'projection': '3d'})\n",
    "ax.plot(output[:,0], output[:,1], output[:,2])\n",
    "o = output.as_array()\n",
    "for i, stim_t in enumerate(d.opto_stimulations.time[:-1]):\n",
    "    stim = np.nonzero(output.t > stim_t)[0][0]\n",
    "    s = slice(stim + 8, stim + 20)\n",
    "    ax.plot(o[s, 0], o[s, 1], o[s, 2], 'C1')\n",
    "    # ax.text(o[s.start,0], o[s.start,1], o[s.start,2], s=d.opto_stimulations.loc[i,'stim_name'])\n",
    "\n",
    "\n",
    "ax.scatter(0,0,0, color='k')\n",
    "\n",
    "\n",
    "arrow = np.vstack([np.zeros(3), np.ones(3) * 20]).T\n",
    "ax.plot(arrow[0], arrow[1], arrow[2], color='C6', label='1s vector')\n",
    "\n",
    "\n",
    "loading = model.factors[0]\n",
    "v = loading @ pro.Q[:loading.size]\n",
    "if jpca is not None:\n",
    "    U = jpca.get_U()\n",
    "    if pro.Q.shape[1] == 3:\n",
    "        U_perp = np.linalg.cross(U[:,0], U[:,1]).reshape(-1,1)\n",
    "        U = np.hstack([U[:,:2], U_perp])\n",
    "    v = v @ U\n",
    " \n",
    "arrow = np.vstack([np.zeros(v.shape[1]), v] ).T\n",
    "ax.plot(arrow[0], arrow[1], arrow[2], color='C3', label='direction from TCA')\n",
    "\n",
    "\n",
    "ax.legend()\n",
    "ax.axis('equal')\n",
    "\n"
   ]
  },
  {
   "cell_type": "code",
   "execution_count": null,
   "id": "6",
   "metadata": {},
   "outputs": [],
   "source": [
    "loading = model.factors[0].T\n",
    "loading = loading / np.linalg.norm(loading)\n",
    "\n",
    "high_d_plane = (pro.Q @ jpca.get_U())[:,:2]\n",
    "high_d_plane = high_d_plane[:loading.size,:]\n",
    "\n",
    "\n",
    "angles = []\n",
    "for _ in range(10_000):\n",
    "    random_direction = rng.normal(size=(high_d_plane.shape[0], 1))\n",
    "    random_direction = random_direction / np.linalg.norm(random_direction)\n",
    "    angle = al.utils.column_space_distance(random_direction, high_d_plane)\n",
    "    angles.append(angle * 180/np.pi)\n",
    "\n",
    "angle = al.utils.column_space_distance(loading, high_d_plane) * 180 / np.pi\n",
    "\n",
    "fig, ax = plt.subplots()\n",
    "ax.axvline(angle, color='r')\n",
    "ax.hist(angles, 100);"
   ]
  },
  {
   "cell_type": "code",
   "execution_count": null,
   "id": "7",
   "metadata": {},
   "outputs": [],
   "source": [
    "%matplotlib inline\n",
    "fig, ax = plt.subplots()\n",
    "ax.plot(model.factors[-1].T)\n",
    "x = np.arange(24)\n",
    "ax.plot(x,np.maximum(np.sin(x/6 - 1.15)/8.9,0))\n",
    "ax.plot(x,np.maximum(-(x-16.2)**2/500 + .115,0))\n"
   ]
  }
 ],
 "metadata": {
  "kernelspec": {
   "display_name": "Python 3 (ipykernel)",
   "language": "python",
   "name": "python3"
  },
  "language_info": {
   "codemirror_mode": {
    "name": "ipython",
    "version": 3
   },
   "file_extension": ".py",
   "mimetype": "text/x-python",
   "name": "python",
   "nbconvert_exporter": "python",
   "pygments_lexer": "ipython3",
   "version": "3.9.20"
  }
 },
 "nbformat": 4,
 "nbformat_minor": 5
}
