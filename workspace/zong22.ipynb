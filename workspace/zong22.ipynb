{
 "cells": [
  {
   "cell_type": "code",
   "execution_count": null,
   "id": "0",
   "metadata": {
    "ExecuteTime": {
     "end_time": "2024-09-20T22:37:06.956973Z",
     "start_time": "2024-09-20T22:37:04.019197Z"
    },
    "collapsed": true
   },
   "outputs": [],
   "source": [
    "import numpy as np\n",
    "import matplotlib.pyplot as plt\n",
    "from tqdm.notebook import tqdm\n",
    "\n",
    "from adaptive_latents import Pipeline, CenteringTransformer, proSVD, sjPCA, AnimationManager, KernelSmoother, SwitchingParallelTransformer, mmICA\n",
    "import adaptive_latents.plotting_functions as pf\n",
    "from adaptive_latents import datasets\n"
   ]
  },
  {
   "cell_type": "code",
   "execution_count": null,
   "id": "1",
   "metadata": {
    "ExecuteTime": {
     "end_time": "2024-09-20T22:37:07.203905Z",
     "start_time": "2024-09-20T22:37:06.958145Z"
    }
   },
   "outputs": [],
   "source": [
    "d  = datasets.Zong22Dataset(2)"
   ]
  },
  {
   "cell_type": "code",
   "execution_count": null,
   "id": "2",
   "metadata": {
    "ExecuteTime": {
     "end_time": "2024-09-20T22:37:07.337127Z",
     "start_time": "2024-09-20T22:37:07.204609Z"
    }
   },
   "outputs": [],
   "source": [
    "plt.matshow(d.F[:,:500])\n",
    "plt.title(\"F\");"
   ]
  },
  {
   "cell_type": "code",
   "execution_count": null,
   "id": "3",
   "metadata": {
    "ExecuteTime": {
     "end_time": "2024-09-20T22:37:07.881218Z",
     "start_time": "2024-09-20T22:37:07.339165Z"
    }
   },
   "outputs": [],
   "source": [
    "planes = []\n",
    "for i in range(1000):\n",
    "    d.raw_images.seek(i)\n",
    "    planes.append(np.array(d.raw_images))"
   ]
  },
  {
   "cell_type": "code",
   "execution_count": null,
   "id": "4",
   "metadata": {
    "ExecuteTime": {
     "end_time": "2024-09-20T22:37:08.156314Z",
     "start_time": "2024-09-20T22:37:07.882364Z"
    }
   },
   "outputs": [],
   "source": [
    "plt.matshow(np.mean(planes, axis=0))"
   ]
  },
  {
   "cell_type": "code",
   "execution_count": null,
   "id": "5",
   "metadata": {
    "ExecuteTime": {
     "end_time": "2024-09-20T22:37:08.301255Z",
     "start_time": "2024-09-20T22:37:08.156790Z"
    }
   },
   "outputs": [],
   "source": [
    "\n",
    "im = np.mean(planes, axis=0)\n",
    "# im = np.zeros((ops['Ly'], ops['Lx']))\n",
    "\n",
    "# for n in range(0,ncells):\n",
    "#     ypix = stat[n]['ypix'][~stat[n]['overlap']]\n",
    "#     xpix = stat[n]['xpix'][~stat[n]['overlap']]\n",
    "#     im[ypix,xpix] = 0\n",
    "\n",
    "\n",
    "plt.matshow(-im, cmap='Grays')\n",
    "xs, ys = list(zip(*[cell['med'] for cell in d.stat]))\n",
    "\n",
    "plt.scatter(ys,xs, s=7)\n",
    "# plt.colorbar()\n"
   ]
  },
  {
   "cell_type": "code",
   "execution_count": null,
   "id": "6",
   "metadata": {
    "ExecuteTime": {
     "end_time": "2024-09-20T22:37:08.303834Z",
     "start_time": "2024-09-20T22:37:08.301723Z"
    }
   },
   "outputs": [],
   "source": [
    "# p = Pipeline([\n",
    "#     CenteringTransformer(),\n",
    "#     KernelSmoother(.2*neural_Fs),\n",
    "#     proSVD(k=6),\n",
    "#     sjPCA()\n",
    "# ])\n",
    "# \n",
    "# last_draw_time = 300\n",
    "# draw_dt = 1/20\n",
    "# exit_time = 310\n",
    "# \n",
    "# tq = tqdm(total=exit_time)\n",
    "# \n",
    "# with AnimationManager(n_cols=2, figsize=(10,5)) as am:\n",
    "#     output_l = []\n",
    "#     for o, s in p.streaming_run_on([neural_data], return_output_stream=True):\n",
    "#         tq.update(o.t - tq.n)\n",
    "#         output_l.append(o)\n",
    "#         \n",
    "#         if o.t > last_draw_time + draw_dt:\n",
    "#             ax: plt.Axes = am.axs[0,1]\n",
    "#             old_lims = ax.axis()\n",
    "#             ax.cla()\n",
    "#             outputs = np.squeeze(output_l[50:])\n",
    "#             ax.plot(outputs[-20:,0], outputs[-20:,1])\n",
    "#             ax.scatter(outputs[-1,0], outputs[-1,1])\n",
    "#             ax.scatter(outputs[:,0], outputs[:,1], s=5, alpha=.25, c='C0', edgecolors='none')\n",
    "#             pf.use_bigger_lims(ax, old_lims=old_lims)\n",
    "# \n",
    "#             ax: plt.Axes = am.axs[0,0]\n",
    "#             ax.cla()\n",
    "#             frame = np.argmin(np.abs(video_t - o.t))\n",
    "#             points = ['nose', 'bodycenter', 'mouse']\n",
    "#             ax.scatter([beh.loc[frame, point + \"_x\"] for point in points], [beh.loc[frame, point + \"_y\"] for point in points])\n",
    "#             ax.imshow(video[frame])\n",
    "#             ax.set_title(f\"t={o.t:.1f}\")\n",
    "#             \n",
    "#             \n",
    "#             last_draw_time = o.t\n",
    "#             am.grab_frame()\n",
    "#         \n",
    "#         if o.t > exit_time:\n",
    "#             break\n"
   ]
  },
  {
   "cell_type": "code",
   "execution_count": null,
   "id": "7",
   "metadata": {
    "ExecuteTime": {
     "start_time": "2024-09-20T22:37:27.854936Z"
    },
    "jupyter": {
     "is_executing": true
    }
   },
   "outputs": [],
   "source": [
    "\n",
    "for i in [0,1]:\n",
    "    p_prosvd = Pipeline([\n",
    "        CenteringTransformer(),\n",
    "        KernelSmoother(.2*d.neural_Fs),\n",
    "        proSVD(k=6),\n",
    "    ])\n",
    "\n",
    "    temp_p = Pipeline([\n",
    "        p_prosvd,\n",
    "        SwitchingParallelTransformer([jpca := sjPCA(), ica := mmICA()])\n",
    "    ])\n",
    "\n",
    "    if i == 1:\n",
    "        temp_p.offline_run_on([d.neural_data])\n",
    "        temp_p.freeze()\n",
    "        p_prosvd.steps[1] = KernelSmoother(.2*d.neural_Fs)\n",
    "\n",
    "\n",
    "\n",
    "    last_draw_time = 0\n",
    "    draw_dt = 1/20\n",
    "    exit_time = d.neural_data.t.max()\n",
    "\n",
    "    tq = tqdm(total=exit_time)\n",
    "\n",
    "    with AnimationManager(n_cols=2, n_rows=2, figsize=(10,10)) as am:\n",
    "        pro_output = [[], []]\n",
    "        jpca_output = [[], []]\n",
    "        ica_output = [[], []]\n",
    "        \n",
    "        for o, s in Pipeline([]).streaming_run_on([d.neural_data], return_output_stream=True):\n",
    "            tq.update(o.t - tq.n)\n",
    "            \n",
    "            o = p_prosvd.partial_fit_transform(o, s)\n",
    "            o2 = jpca.partial_fit_transform(o)\n",
    "            o3 = ica.partial_fit_transform(o)\n",
    "            if not np.isnan(o2 + o3).any():\n",
    "                pro_output[0].append(o[0,0])\n",
    "                pro_output[1].append(o[0,1])\n",
    "                \n",
    "                jpca_output[0].append(o2[0,0])\n",
    "                jpca_output[1].append(o2[0,1])\n",
    "\n",
    "\n",
    "                ica_output[0].append(o3[0,0])\n",
    "                ica_output[1].append(o3[0,1])\n",
    "\n",
    "            if o.t > last_draw_time + draw_dt:\n",
    "                ax: plt.Axes = am.axs[0,0]\n",
    "                ax.cla()\n",
    "                frame = np.argmin(np.abs(d.video_t - o.t))\n",
    "                points = ['nose', 'bodycenter', 'mouse']\n",
    "                ax.scatter([d.behavior_df.loc[frame, point + \"_x\"] for point in points], [d.behavior_df.loc[frame, point + \"_y\"] for point in points])\n",
    "                ax.imshow(d.behavior_video[frame])\n",
    "                ax.set_title(f\"t={o.t:.1f}\")\n",
    "\n",
    "                for output, pos, name in [(pro_output, (0, 1), 'pro'), (jpca_output, (1, 0), 'jpca'), (ica_output, (1, 1), 'ica')]:\n",
    "                    ax: plt.Axes = am.axs[pos]\n",
    "                    old_lims = ax.axis()\n",
    "                    ax.cla()\n",
    "                    ax.plot(output[0][-20:], output[1][-20:])\n",
    "                    ax.scatter(output[0][-1:],output[1][-1:])\n",
    "                    ax.scatter(output[0], output[1], s=5, alpha=.25, c='C0', edgecolors='none')\n",
    "                    pf.use_bigger_lims(ax, old_lims=old_lims)\n",
    "                    ax.set_title(name)\n",
    "\n",
    "                last_draw_time = o.t\n",
    "                am.grab_frame()\n",
    "\n",
    "            if o.t > exit_time:\n",
    "                break\n"
   ]
  }
 ],
 "metadata": {
  "kernelspec": {
   "display_name": "Python 3",
   "language": "python",
   "name": "python3"
  },
  "language_info": {
   "codemirror_mode": {
    "name": "ipython",
    "version": 2
   },
   "file_extension": ".py",
   "mimetype": "text/x-python",
   "name": "python",
   "nbconvert_exporter": "python",
   "pygments_lexer": "ipython2",
   "version": "2.7.6"
  }
 },
 "nbformat": 4,
 "nbformat_minor": 5
}
