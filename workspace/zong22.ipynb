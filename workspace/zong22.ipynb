{
 "cells": [
  {
   "cell_type": "code",
   "execution_count": null,
   "id": "0",
   "metadata": {
    "ExecuteTime": {
     "end_time": "2024-09-18T17:58:36.957098Z",
     "start_time": "2024-09-18T17:58:33.091293Z"
    },
    "collapsed": true
   },
   "outputs": [],
   "source": [
    "import numpy as np\n",
    "from PIL import Image\n",
    "import matplotlib.pyplot as plt\n",
    "import pathlib\n",
    "import pandas as pd\n",
    "from tqdm.notebook import tqdm\n",
    "import pims\n",
    "\n",
    "from adaptive_latents import Pipeline, CenteringTransformer, proSVD, sjPCA, AnimationManager, NumpyTimedDataSource, KernelSmoother\n",
    "import adaptive_latents.plotting_functions as pf\n",
    "\n",
    "doi = \"https://dx.doi.org/10.11582/2022.00008\""
   ]
  },
  {
   "cell_type": "code",
   "execution_count": null,
   "id": "1",
   "metadata": {
    "ExecuteTime": {
     "end_time": "2024-09-18T17:58:36.965072Z",
     "start_time": "2024-09-18T17:58:36.958463Z"
    }
   },
   "outputs": [],
   "source": [
    "\"\"\"\n",
    "base = pathlib.Path('/media/jgould/Data/CA1_recordings/97288/20210315/')\n",
    "img = Image.open(base/'97288_20210315_00002.tif')\n",
    "\n",
    "iscell = np.load(base/'suite2p'/'plane0'/'iscell.npy')\n",
    "F = np.load(base/'suite2p'/'plane0'/'F.npy')\n",
    "ncells = int(sum(iscell[:,0]))\n",
    "\"\"\"\n"
   ]
  },
  {
   "cell_type": "code",
   "execution_count": null,
   "id": "2",
   "metadata": {
    "ExecuteTime": {
     "end_time": "2024-09-18T17:58:37.302881Z",
     "start_time": "2024-09-18T17:58:36.965881Z"
    }
   },
   "outputs": [],
   "source": [
    "base = pathlib.Path('/media/jgould/Data/VC_recordings/93562/20200817/')\n",
    "neural_Fs = 15\n",
    "\n",
    "iscell = np.load(base/'suite2p'/'plane0'/'iscell.npy')\n",
    "F_all = np.load(base/'suite2p'/'plane0'/'F.npy')\n",
    "ncells = int(sum(iscell[:,0]))\n",
    "\n",
    "def make_beh(fpath):\n",
    "    pre_beh = pd.read_csv(fpath)\n",
    "    columns = [\"t\"] + list(map(lambda a : f\"{a[0]}_{a[1]}\", zip(pre_beh.iloc[0, 1:], pre_beh.iloc[1, 1:])))\n",
    "    columns = {pre_beh.columns[i]:columns[i] for i in range(len(columns))}\n",
    "    beh = pre_beh.rename(columns=columns).iloc[2:].astype(float).reset_index(drop=True)\n",
    "    beh.t = beh.t/neural_Fs\n",
    "    return beh\n",
    "\n",
    "\n",
    "if False:\n",
    "    F = F_all[:, :F_all.shape[1]//2]\n",
    "    beh = make_beh(base/\"93562_imaging_20200817_withcookies_00001_trackingVideoDLC_resnet50_OPENMINI2P_bottomcameraAug26shuffle1_1030000filtered.csv\")\n",
    "    img =   Image.open(base/\"93562_imaging_20200817_withcookies_00001.tif\")\n",
    "    video = pims.Video(base/\"93562_imaging_20200817_withcookies_00001_trackingVideo.avi\")\n",
    "else:\n",
    "    F = F_all[:, F_all.shape[1]//2:]\n",
    "    img =   Image.open(base/\"93562_imaging_20200817_nocookies_00001.tif\")\n",
    "    video = pims.Video(base/\"93562_imaging_20200817_nocookies_00001_trackingVideo.avi\")\n",
    "    beh = make_beh(base/\"93562_imaging_20200817_nocookies_00001_trackingVideoDLC_resnet50_OPENMINI2P_bottomcameraAug26shuffle1_1030000filtered.csv\")\n",
    "\n"
   ]
  },
  {
   "cell_type": "code",
   "execution_count": null,
   "id": "3",
   "metadata": {
    "ExecuteTime": {
     "end_time": "2024-09-18T17:58:37.312075Z",
     "start_time": "2024-09-18T17:58:37.304242Z"
    }
   },
   "outputs": [],
   "source": [
    "neural_data = NumpyTimedDataSource(F.T, np.arange(F.shape[1]) * 1/neural_Fs)\n",
    "behavioral_data = NumpyTimedDataSource(beh.loc[:,[\"mouse_x\", \"mouse_y\"]].to_numpy(), beh.t.to_numpy())\n",
    "video_t = behavioral_data.t\n",
    "assert abs(behavioral_data.t[-1] - neural_data.t[-1]) < .1\n",
    "print(neural_data.t[-1])"
   ]
  },
  {
   "cell_type": "code",
   "execution_count": null,
   "id": "4",
   "metadata": {
    "ExecuteTime": {
     "end_time": "2024-09-18T17:58:37.698694Z",
     "start_time": "2024-09-18T17:58:37.312873Z"
    }
   },
   "outputs": [],
   "source": [
    "plt.matshow(F[iscell[:,0] == 1,:500])\n",
    "plt.title(\"F\");"
   ]
  },
  {
   "cell_type": "code",
   "execution_count": null,
   "id": "5",
   "metadata": {
    "ExecuteTime": {
     "end_time": "2024-09-18T17:58:38.547520Z",
     "start_time": "2024-09-18T17:58:37.701182Z"
    }
   },
   "outputs": [],
   "source": [
    "planes = []\n",
    "for i in range(1000):\n",
    "    img.seek(i)\n",
    "    planes.append(np.array(img))"
   ]
  },
  {
   "cell_type": "code",
   "execution_count": null,
   "id": "6",
   "metadata": {
    "ExecuteTime": {
     "end_time": "2024-09-18T17:58:39.045901Z",
     "start_time": "2024-09-18T17:58:38.550240Z"
    }
   },
   "outputs": [],
   "source": [
    "plt.matshow(np.mean(planes, axis=0))"
   ]
  },
  {
   "cell_type": "code",
   "execution_count": null,
   "id": "7",
   "metadata": {
    "ExecuteTime": {
     "end_time": "2024-09-18T18:23:32.484411Z",
     "start_time": "2024-09-18T18:23:31.679193Z"
    }
   },
   "outputs": [],
   "source": [
    "\n",
    "stat = np.load(base/'suite2p'/'plane0'/'stat.npy', allow_pickle=True)\n",
    "ops = np.load(base/'suite2p'/'plane0'/'ops.npy', allow_pickle=True).item()\n",
    "\n",
    "im = np.mean(planes, axis=0)\n",
    "# im = np.zeros((ops['Ly'], ops['Lx']))\n",
    "\n",
    "# for n in range(0,ncells):\n",
    "#     ypix = stat[n]['ypix'][~stat[n]['overlap']]\n",
    "#     xpix = stat[n]['xpix'][~stat[n]['overlap']]\n",
    "#     im[ypix,xpix] = 0\n",
    "\n",
    "\n",
    "plt.matshow(-im, cmap='Grays')\n",
    "xs, ys = list(zip(*[cell['med'] for cell in stat]))\n",
    "\n",
    "plt.scatter(ys,xs, s=7)\n",
    "# plt.colorbar()\n"
   ]
  },
  {
   "cell_type": "code",
   "execution_count": null,
   "id": "8",
   "metadata": {
    "ExecuteTime": {
     "end_time": "2024-09-18T18:03:22.113402Z",
     "start_time": "2024-09-18T17:58:39.669640Z"
    }
   },
   "outputs": [],
   "source": [
    "p = Pipeline([\n",
    "    CenteringTransformer(),\n",
    "    KernelSmoother(.15*neural_Fs),\n",
    "    proSVD(k=6),\n",
    "    sjPCA(),\n",
    "])\n",
    "iterator = p.streaming_run_on([neural_data], return_output_stream=True)\n",
    "\n",
    "last_draw_time = 300\n",
    "draw_dt = 1/20\n",
    "exit_time = 400\n",
    "\n",
    "tq = tqdm(total=exit_time)\n",
    "\n",
    "with AnimationManager(n_cols=2, figsize=(10,5)) as am:\n",
    "    output_l = []\n",
    "    ax: plt.Axes = am.axs[0,0]\n",
    "    for o, s in iterator:\n",
    "        tq.update(o.t - tq.n)\n",
    "        output_l.append(o)\n",
    "        \n",
    "        if o.t > last_draw_time + draw_dt:\n",
    "            old_lims = ax.axis()\n",
    "            ax.cla()\n",
    "            outputs = np.squeeze(output_l[50:])\n",
    "            ax.plot(outputs[-20:,0], outputs[-20:,1])\n",
    "            ax.scatter(outputs[-1,0], outputs[-1,1])\n",
    "            ax.scatter(outputs[:,0], outputs[:,1], s=5, alpha=.25, c='C0', edgecolors='none')\n",
    "            pf.use_bigger_lims(ax, old_lims=old_lims)\n",
    "            ax.set_title(f\"t={o.t:.1f}\")\n",
    "            am.grab_frame()\n",
    "            last_draw_time = o.t\n",
    "            \n",
    "            am.axs[0,1].cla()\n",
    "            frame = np.argmin(np.abs(video_t - o.t))\n",
    "            am.axs[0,1].imshow(video[frame])\n",
    "        \n",
    "        if o.t > exit_time:\n",
    "            break\n",
    "        \n",
    "        \n",
    "        \n",
    "        \n",
    "\n",
    "\n"
   ]
  }
 ],
 "metadata": {
  "kernelspec": {
   "display_name": "Python 3",
   "language": "python",
   "name": "python3"
  },
  "language_info": {
   "codemirror_mode": {
    "name": "ipython",
    "version": 2
   },
   "file_extension": ".py",
   "mimetype": "text/x-python",
   "name": "python",
   "nbconvert_exporter": "python",
   "pygments_lexer": "ipython2",
   "version": "2.7.6"
  }
 },
 "nbformat": 4,
 "nbformat_minor": 5
}
