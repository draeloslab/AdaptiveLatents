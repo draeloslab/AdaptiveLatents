{
 "cells": [
  {
   "cell_type": "code",
   "execution_count": null,
   "id": "0",
   "metadata": {
    "ExecuteTime": {
     "end_time": "2024-09-21T23:11:57.458960Z",
     "start_time": "2024-09-21T23:11:54.800508Z"
    }
   },
   "outputs": [],
   "source": [
    "import numpy as np\n",
    "import matplotlib.pyplot as plt\n",
    "from tqdm.notebook import tqdm\n",
    "\n",
    "from adaptive_latents import (\n",
    "    Pipeline, \n",
    "    CenteringTransformer, \n",
    "    proSVD,\n",
    "    sjPCA,\n",
    "    AnimationManager,\n",
    "    KernelSmoother,\n",
    "    SwitchingParallelTransformer,\n",
    "    mmICA,\n",
    "    VanillaOnlineRegressor,\n",
    "    NumpyTimedDataSource,\n",
    ")\n",
    "\n",
    "import adaptive_latents.plotting_functions as pf\n",
    "from adaptive_latents import datasets\n",
    "from IPython import display\n",
    "\n"
   ]
  },
  {
   "cell_type": "code",
   "execution_count": null,
   "id": "1",
   "metadata": {
    "ExecuteTime": {
     "end_time": "2024-09-21T22:57:41.276426Z",
     "start_time": "2024-09-21T22:57:40.674902Z"
    }
   },
   "outputs": [],
   "source": [
    "d  = datasets.Zong22Dataset(2)"
   ]
  },
  {
   "cell_type": "code",
   "execution_count": null,
   "id": "2",
   "metadata": {
    "ExecuteTime": {
     "end_time": "2024-09-21T22:28:50.107264Z",
     "start_time": "2024-09-21T22:28:49.515698Z"
    }
   },
   "outputs": [],
   "source": [
    "planes = []\n",
    "for i in range(500):\n",
    "    d.raw_images.seek(i)\n",
    "    planes.append(np.array(d.raw_images))\n",
    "    \n",
    "im = np.mean(planes, axis=0)\n",
    "\n",
    "# fig, axs = plt.subplots(1, 2, figsize=(10, 5))\n",
    "# axs[0].matshow(im)\n",
    "\n",
    "# axs[1].matshow(-im, cmap='Grays')\n",
    "# xs, ys = list(zip(*[cell['med'] for cell in d.stat]))\n",
    "# axs[1].scatter(ys,xs, s=7)\n",
    "# plt.colorbar()\n"
   ]
  },
  {
   "cell_type": "code",
   "execution_count": null,
   "id": "3",
   "metadata": {},
   "outputs": [],
   "source": [
    "print('started')\n",
    "extrema = (float('inf'), -float('inf'))\n",
    "\n",
    "fig, axs = plt.subplots(ncols=2, squeeze=False, width_ratios=[11,1])\n",
    "\n",
    "with AnimationManager(fps=15, filetype='gif', figsize=(5,5), fig=fig, make_axs=False) as am:\n",
    "    for idx, plane in enumerate(planes[:60]):\n",
    "        axs[0,0].cla()\n",
    "        extrema = (min(plane.min(), extrema[0]), max(plane.max(), extrema[1]))\n",
    "        cax = axs[0,0].matshow(plane, clim=extrema)\n",
    "        axs[0,0].set_title(f\"t={idx/15:.2f}s\")\n",
    "        fig.colorbar(cax, axs[0,1])\n",
    "        am.grab_frame()\n",
    "print('done')        \n",
    "display.display(display.Image(am.outfile, embed=True))\n"
   ]
  },
  {
   "cell_type": "code",
   "execution_count": null,
   "id": "4",
   "metadata": {},
   "outputs": [],
   "source": [
    "ls"
   ]
  },
  {
   "cell_type": "code",
   "execution_count": null,
   "id": "5",
   "metadata": {
    "ExecuteTime": {
     "end_time": "2024-09-21T22:31:42.106287Z",
     "start_time": "2024-09-21T22:31:41.943717Z"
    }
   },
   "outputs": [],
   "source": [
    "plt.hist(d.behavior_df.nose_likelihood);"
   ]
  },
  {
   "cell_type": "code",
   "execution_count": null,
   "id": "6",
   "metadata": {
    "ExecuteTime": {
     "end_time": "2024-09-21T23:23:15.971945Z",
     "start_time": "2024-09-21T23:23:11.438487Z"
    }
   },
   "outputs": [],
   "source": [
    "d = datasets.Zong22Dataset(2)\n",
    "\n",
    "p1 = Pipeline([\n",
    "    CenteringTransformer(),\n",
    "    KernelSmoother(.2*d.neural_Fs),\n",
    "    proSVD(k=6),\n",
    "])\n",
    "\n",
    "p1.offline_run_on([d.neural_data])\n",
    "p1.freeze()\n",
    "p1.steps[1] = KernelSmoother(tau=p1.steps[1].tau)\n",
    "\n",
    "p2 = Pipeline([\n",
    "    p1,\n",
    "    VanillaOnlineRegressor(log_level=1)\n",
    "])\n",
    "\n",
    "\n",
    "\n",
    "p2.offline_run_on([d.neural_data, d.behavioral_data])\n"
   ]
  },
  {
   "cell_type": "code",
   "execution_count": null,
   "id": "7",
   "metadata": {
    "ExecuteTime": {
     "end_time": "2024-09-21T23:46:19.306316Z",
     "start_time": "2024-09-21T23:46:19.294824Z"
    }
   },
   "outputs": [],
   "source": [
    "%matplotlib inline\n",
    "reg: VanillaOnlineRegressor = p2.steps[1]\n",
    "\n",
    "reg.get_beta().shape"
   ]
  },
  {
   "cell_type": "code",
   "execution_count": null,
   "id": "8",
   "metadata": {
    "ExecuteTime": {
     "end_time": "2024-09-21T23:01:55.354388Z",
     "start_time": "2024-09-21T23:01:48.013049Z"
    }
   },
   "outputs": [],
   "source": [
    "for sub_dataset in datasets.Zong22Dataset.sub_datasets:\n",
    "    d = datasets.Zong22Dataset(sub_dataset)\n",
    "    try:\n",
    "        for i in [0,1]:\n",
    "            p_prosvd = Pipeline([\n",
    "                CenteringTransformer(),\n",
    "                KernelSmoother(.2*d.neural_Fs),\n",
    "                proSVD(k=6),\n",
    "            ])\n",
    "\n",
    "            temp_p = Pipeline([\n",
    "                p_prosvd,\n",
    "                SwitchingParallelTransformer([jpca := sjPCA(), ica := mmICA()])\n",
    "            ])\n",
    "\n",
    "            if i == 1:\n",
    "                temp_p.offline_run_on([d.neural_data])\n",
    "                temp_p.freeze()\n",
    "                p_prosvd.steps[1] = KernelSmoother(.2*d.neural_Fs)\n",
    "\n",
    "\n",
    "\n",
    "            last_draw_time = 0\n",
    "            draw_dt = 1/20\n",
    "            exit_time = d.neural_data.t.max()\n",
    "\n",
    "            tq = tqdm(total=exit_time)\n",
    "\n",
    "            with AnimationManager(n_cols=2, n_rows=2, figsize=(10,10)) as am:\n",
    "                pro_output = [[], []]\n",
    "                jpca_output = [[], []]\n",
    "                ica_output = [[], []]\n",
    "                \n",
    "                for o, s in Pipeline([]).streaming_run_on([d.neural_data], return_output_stream=True):\n",
    "                    tq.update(o.t - tq.n)\n",
    "                    \n",
    "                    o = p_prosvd.partial_fit_transform(o, s)\n",
    "                    o2 = jpca.partial_fit_transform(o)\n",
    "                    o3 = ica.partial_fit_transform(o)\n",
    "                    if not np.isnan(o2 + o3).any():\n",
    "                        pro_output[0].append(o[0,0])\n",
    "                        pro_output[1].append(o[0,1])\n",
    "                        \n",
    "                        jpca_output[0].append(o2[0,0])\n",
    "                        jpca_output[1].append(o2[0,1])\n",
    "\n",
    "\n",
    "                        ica_output[0].append(o3[0,0])\n",
    "                        ica_output[1].append(o3[0,1])\n",
    "\n",
    "                    if o.t > last_draw_time + draw_dt:\n",
    "                        ax: plt.Axes = am.axs[0,0]\n",
    "                        ax.cla()\n",
    "                        frame = np.argmin(np.abs(d.video_t - o.t))\n",
    "                        points = ['nose', 'bodycenter', 'mouse']\n",
    "                        ax.scatter([d.behavior_df.loc[frame, point + \"_x\"] for point in points], [d.behavior_df.loc[frame, point + \"_y\"] for point in points])\n",
    "                        ax.imshow(d.behavior_video[frame])\n",
    "                        ax.set_title(f\"t={o.t:.1f}\")\n",
    "\n",
    "                        for output, pos, name in [(pro_output, (0, 1), 'pro'), (jpca_output, (1, 0), 'jpca'), (ica_output, (1, 1), 'ica')]:\n",
    "                            ax: plt.Axes = am.axs[pos]\n",
    "                            old_lims = ax.axis()\n",
    "                            ax.cla()\n",
    "                            ax.plot(output[0][-20:], output[1][-20:])\n",
    "                            ax.scatter(output[0][-1:],output[1][-1:])\n",
    "                            ax.scatter(output[0], output[1], s=5, alpha=.25, c='C0', edgecolors='none')\n",
    "                            pf.use_bigger_lims(ax, old_lims=old_lims)\n",
    "                            ax.set_title(name)\n",
    "\n",
    "                        last_draw_time = o.t\n",
    "                        am.grab_frame()\n",
    "\n",
    "                    if o.t > exit_time:\n",
    "                        break\n",
    "\n",
    "    except:\n",
    "        pass"
   ]
  }
 ],
 "metadata": {
  "kernelspec": {
   "display_name": "Python 3 (ipykernel)",
   "language": "python",
   "name": "python3"
  },
  "language_info": {
   "codemirror_mode": {
    "name": "ipython",
    "version": 3
   },
   "file_extension": ".py",
   "mimetype": "text/x-python",
   "name": "python",
   "nbconvert_exporter": "python",
   "pygments_lexer": "ipython3",
   "version": "3.9.20"
  }
 },
 "nbformat": 4,
 "nbformat_minor": 5
}
