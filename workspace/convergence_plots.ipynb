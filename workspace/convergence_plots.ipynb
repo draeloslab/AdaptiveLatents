{
 "cells": [
  {
   "cell_type": "markdown",
   "id": "0",
   "metadata": {},
   "source": [
    "# Imports and settings"
   ]
  },
  {
   "cell_type": "code",
   "execution_count": null,
   "id": "1",
   "metadata": {
    "ExecuteTime": {
     "end_time": "2024-08-12T15:12:55.872097Z",
     "start_time": "2024-08-12T15:12:55.863880Z"
    },
    "collapsed": true
   },
   "outputs": [],
   "source": [
    "import adaptive_latents as al\n",
    "from adaptive_latents import mmICA, sjPCA, proSVD, CenteringTransformer, Pipeline, NumpyTimedDataSource\n",
    "import matplotlib.pyplot as plt\n",
    "import numpy as np\n",
    "from datasets import Leventhal24uDataset\n",
    "from picard import permute\n",
    "import sklearn\n",
    "\n",
    "rng = np.random.default_rng(0)\n"
   ]
  },
  {
   "cell_type": "code",
   "execution_count": null,
   "id": "2",
   "metadata": {
    "ExecuteTime": {
     "end_time": "2024-08-12T15:12:55.907489Z",
     "start_time": "2024-08-12T15:12:55.902513Z"
    }
   },
   "outputs": [],
   "source": [
    "plt.rc('lines', linewidth=2)\n",
    "plt.rc('font', family='arial')\n"
   ]
  },
  {
   "cell_type": "markdown",
   "id": "3",
   "metadata": {},
   "source": [
    "# Simulated data"
   ]
  },
  {
   "cell_type": "code",
   "execution_count": null,
   "id": "4",
   "metadata": {
    "ExecuteTime": {
     "end_time": "2024-08-12T15:12:55.926814Z",
     "start_time": "2024-08-12T15:12:55.918029Z"
    }
   },
   "outputs": [],
   "source": [
    "dt = 0.03 # seconds\n",
    "log_y = True\n",
    "colors = [\"#F94B00\", \"#2FA194\", \"#903F65\"]"
   ]
  },
  {
   "cell_type": "markdown",
   "id": "5",
   "metadata": {},
   "source": [
    "## sjPCA"
   ]
  },
  {
   "cell_type": "code",
   "execution_count": null,
   "id": "6",
   "metadata": {
    "ExecuteTime": {
     "end_time": "2024-08-12T15:12:56.231654Z",
     "start_time": "2024-08-12T15:12:55.929339Z"
    }
   },
   "outputs": [],
   "source": [
    "X, _, true_variables = al.jpca.generate_circle_embedded_in_high_d(rng, m=500, n=8, stddev=1)\n",
    "jp = sjPCA(log_level=1)\n",
    "jp.offline_run_on(NumpyTimedDataSource(X, timepoints = np.arange(X.shape[0]) * dt))\n",
    "\n",
    "distances, t = jp.get_distance_from_subspace_over_time(true_variables['C'])\n",
    "\n",
    "\n",
    "\n",
    "fig, ax = plt.subplots()\n",
    "ax.plot(t, distances[:,0], color=colors[0])\n",
    "ax.set_xlabel('time (s)')\n",
    "ax.set_ylabel('error') # the error is the sum of (the absolute values of) the principal angles between the correct and discovered subspaces\n",
    "# ax.axhline(2 * np.pi/2, color='k', linestyle = '--')\n",
    "ax.set_xticks([0,5,10,15])\n",
    "\n",
    "if log_y:\n",
    "    ax.semilogy()\n",
    "    ax.set_yticks([1, .1, .01])\n",
    "    ax.minorticks_off()\n",
    "else:\n",
    "    ax.set_yticks([0,1,2,3])\n",
    "ax.set_title(\"sjPCA error\")\n",
    "ax.set_ylim([.01, 4])\n",
    "\n"
   ]
  },
  {
   "cell_type": "markdown",
   "id": "7",
   "metadata": {},
   "source": [
    "## mmICA"
   ]
  },
  {
   "cell_type": "code",
   "execution_count": null,
   "id": "8",
   "metadata": {
    "ExecuteTime": {
     "end_time": "2024-08-12T15:12:57.084090Z",
     "start_time": "2024-08-12T15:12:56.232232Z"
    }
   },
   "outputs": [],
   "source": [
    "\n",
    "ica = mmICA(alpha=.5, maxiter_cg=20, tol=1e-20, log_level=1)\n",
    "m = 1_000 # number of blocks\n",
    "n = 6 # size of each block\n",
    "\n",
    "X = rng.laplace(size=(m, n, n))\n",
    "input_data = NumpyTimedDataSource(X, timepoints = np.arange(m) * n * dt )\n",
    "\n",
    "ica.offline_run_on(input_data);\n",
    "\n",
    "\n",
    "\n",
    "ts = []\n",
    "errors = []\n",
    "for W, t in zip(ica.log['W'], ica.log['t'], strict=True):\n",
    "    ts.append(t)\n",
    "    error = permute(W) - np.eye(W.shape[0])\n",
    "    errors.append(np.linalg.norm(error))\n",
    "ts = np.squeeze(ts)\n",
    "errors = np.squeeze(errors)\n",
    "\n",
    "fig, ax = plt.subplots()\n",
    "ax.plot(ts, errors, color=colors[1])\n",
    "ax.set_xlabel('time (s)')\n",
    "ax.set_ylabel('error')\n",
    "ax.set_xticks([0,50,100,150])\n",
    "\n",
    "W = sklearn.decomposition.FastICA(max_iter=5000).fit(X.transpose([0,2,1]).reshape(-1,n)).components_\n",
    "offline_error = np.linalg.norm(permute(W) - np.eye(W.shape[0]))\n",
    "\n",
    "if log_y:\n",
    "    ax.semilogy()\n",
    "    ax.set_yticks([1, .1, .01])\n",
    "    ax.minorticks_off()\n",
    "else:\n",
    "    ax.set_yticks([0,1,2])\n",
    "\n",
    "ax.set_title(\"mmICA error\")\n",
    "ax.set_ylim([.01, 4])\n",
    "ax.axhline(offline_error, color='k', linestyle = '--')\n",
    "\n"
   ]
  },
  {
   "cell_type": "markdown",
   "id": "9",
   "metadata": {},
   "source": [
    "## proSVD"
   ]
  },
  {
   "cell_type": "code",
   "execution_count": null,
   "id": "10",
   "metadata": {
    "ExecuteTime": {
     "end_time": "2024-08-12T15:12:57.181677Z",
     "start_time": "2024-08-12T15:12:57.084611Z"
    }
   },
   "outputs": [],
   "source": [
    "X, _, true_variables = al.jpca.generate_circle_embedded_in_high_d(rng, m=500, n=8, stddev=1)\n",
    "pro = proSVD(k=4, log_level=1)\n",
    "\n",
    "pro.offline_run_on(NumpyTimedDataSource(X, timepoints=np.arange(X.shape[0]) * dt))\n",
    "\n",
    "fig, ax = plt.subplots()\n",
    "\n",
    "Q_error, t = pro.get_distance_from_subspace_over_time(true_variables['C'])\n",
    "\n",
    "\n",
    "\n",
    "ax.plot(t, Q_error, color=colors[2])\n",
    "ax.set_xticks([0,5,10,15])\n",
    "\n",
    "_, s, Vt = np.linalg.svd(X)\n",
    "V = Vt[np.argsort(s)[::-1], :].T[:,:pro.k]\n",
    "offline_error = al.utils.principle_angles(V,true_variables['C']).sum()\n",
    "ax.axhline(offline_error, color='k', linestyle = '--')\n",
    "\n",
    "\n",
    "if log_y:\n",
    "    ax.semilogy()\n",
    "    ax.set_yticks([1, .1, .01])\n",
    "    ax.minorticks_off()\n",
    "else:\n",
    "    ax.set_yticks([0,.5])\n",
    "\n",
    "ax.set_title(\"proSVD error\")\n",
    "ax.set_ylim([.01, 4])\n",
    "\n",
    "\n"
   ]
  },
  {
   "cell_type": "markdown",
   "id": "11",
   "metadata": {},
   "source": [
    "# Real data"
   ]
  },
  {
   "cell_type": "code",
   "execution_count": null,
   "id": "12",
   "metadata": {
    "ExecuteTime": {
     "end_time": "2024-08-12T15:12:57.603175Z",
     "start_time": "2024-08-12T15:12:57.189450Z"
    }
   },
   "outputs": [],
   "source": [
    "%%capture \n",
    "d = Leventhal24uDataset(); # the official function I found to load some of the files annoyingly has print statements"
   ]
  },
  {
   "cell_type": "code",
   "execution_count": null,
   "id": "13",
   "metadata": {
    "ExecuteTime": {
     "end_time": "2024-08-12T15:14:28.036645Z",
     "start_time": "2024-08-12T15:12:57.604290Z"
    }
   },
   "outputs": [],
   "source": [
    "jp = sjPCA(log_level=1)\n",
    "\n",
    "pipeline = Pipeline([\n",
    "    CenteringTransformer(),\n",
    "    proSVD(k=6),\n",
    "    jp\n",
    "])\n",
    "\n",
    "pipeline.offline_run_on(d.neural_data)\n",
    "\n",
    "distances, t = jp.get_distance_from_subspace_over_time(jp.log['U'][3000][:,0:2])\n",
    "plt.plot(t, distances)\n",
    "# plt.semilogy()\n"
   ]
  },
  {
   "cell_type": "code",
   "execution_count": null,
   "id": "14",
   "metadata": {
    "ExecuteTime": {
     "end_time": "2024-08-12T15:14:28.039526Z",
     "start_time": "2024-08-12T15:14:28.037165Z"
    }
   },
   "outputs": [],
   "source": [
    "d.neural_data.t[-1]"
   ]
  }
 ],
 "metadata": {
  "kernelspec": {
   "display_name": "Python 3",
   "language": "python",
   "name": "python3"
  },
  "language_info": {
   "codemirror_mode": {
    "name": "ipython",
    "version": 2
   },
   "file_extension": ".py",
   "mimetype": "text/x-python",
   "name": "python",
   "nbconvert_exporter": "python",
   "pygments_lexer": "ipython2",
   "version": "2.7.6"
  }
 },
 "nbformat": 4,
 "nbformat_minor": 5
}
