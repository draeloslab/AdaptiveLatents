{
 "cells": [
  {
   "cell_type": "markdown",
   "id": "0",
   "metadata": {},
   "source": [
    "# Imports and settings"
   ]
  },
  {
   "cell_type": "code",
   "execution_count": null,
   "id": "1",
   "metadata": {
    "ExecuteTime": {
     "end_time": "2024-08-09T20:06:23.006304Z",
     "start_time": "2024-08-09T20:06:23.000465Z"
    },
    "collapsed": true
   },
   "outputs": [],
   "source": [
    "import adaptive_latents as al\n",
    "from adaptive_latents import mmICA, sjPCA, proSVD, CenteringTransformer, Pipeline, NumpyTimedDataSource\n",
    "import matplotlib.pyplot as plt\n",
    "import numpy as np\n",
    "from datasets import Leventhal24uDataset\n",
    "from picard import permute\n",
    "\n",
    "rng = np.random.default_rng(0)\n"
   ]
  },
  {
   "cell_type": "code",
   "execution_count": null,
   "id": "2",
   "metadata": {
    "ExecuteTime": {
     "end_time": "2024-08-09T19:55:21.846092Z",
     "start_time": "2024-08-09T19:55:21.841547Z"
    }
   },
   "outputs": [],
   "source": [
    "plt.rc('lines', linewidth=2)\n",
    "plt.rc('font', family='arial')\n"
   ]
  },
  {
   "cell_type": "markdown",
   "id": "3",
   "metadata": {},
   "source": [
    "# Simulated data"
   ]
  },
  {
   "cell_type": "code",
   "execution_count": null,
   "id": "4",
   "metadata": {
    "ExecuteTime": {
     "end_time": "2024-08-09T20:43:45.847838Z",
     "start_time": "2024-08-09T20:43:45.842143Z"
    }
   },
   "outputs": [],
   "source": [
    "dt = 0.03 # seconds\n",
    "log_y = True\n",
    "colors = [\"#F94B00\", \"#2FA194\", \"#903F65\"]"
   ]
  },
  {
   "cell_type": "markdown",
   "id": "5",
   "metadata": {},
   "source": [
    "## sjPCA"
   ]
  },
  {
   "cell_type": "code",
   "execution_count": null,
   "id": "6",
   "metadata": {
    "ExecuteTime": {
     "end_time": "2024-08-09T20:44:20.339673Z",
     "start_time": "2024-08-09T20:44:19.926595Z"
    }
   },
   "outputs": [],
   "source": [
    "X, _, true_variables = al.jpca.generate_circle_embedded_in_high_d(rng, m=500, n=8, stddev=1)\n",
    "jp = sjPCA(log_level=1)\n",
    "jp.offline_run_on(NumpyTimedDataSource(X, timepoints = np.arange(X.shape[0]) * dt))\n",
    "\n",
    "distances, t = jp.get_distance_from_subspace_over_time(true_variables['C'])\n",
    "\n",
    "fig, ax = plt.subplots()\n",
    "ax.plot(t, distances[:,0], color=colors[0])\n",
    "ax.set_xlabel('time (s)')\n",
    "ax.set_ylabel('error') # the error is the sum of (the absolute values of) the principal angles between the correct and discovered subspaces\n",
    "ax.axhline(2 * np.pi/2, color='k', linestyle = '--')\n",
    "ax.set_xticks([0,5,10,15])\n",
    "\n",
    "if log_y:\n",
    "    ax.semilogy()\n",
    "    ax.set_yticks([1, .1])\n",
    "    ax.minorticks_off()\n",
    "else:\n",
    "    ax.set_yticks([0,1,2,3])\n",
    "ax.set_title(\"sjPCA error\")\n",
    "\n"
   ]
  },
  {
   "cell_type": "markdown",
   "id": "7",
   "metadata": {},
   "source": [
    "## mmICA"
   ]
  },
  {
   "cell_type": "code",
   "execution_count": null,
   "id": "8",
   "metadata": {
    "ExecuteTime": {
     "end_time": "2024-08-09T20:43:47.983656Z",
     "start_time": "2024-08-09T20:43:47.205632Z"
    }
   },
   "outputs": [],
   "source": [
    "ica = mmICA(alpha=.5, maxiter_cg=20, tol=1e-20, log_level=1)\n",
    "m = 1_000 # number of blocks\n",
    "n = 6 # size of each block\n",
    "input_data = NumpyTimedDataSource(rng.laplace(size=(m, n, n)), timepoints = np.arange(m) * n * dt )\n",
    "\n",
    "ica.offline_run_on(input_data);\n"
   ]
  },
  {
   "cell_type": "code",
   "execution_count": null,
   "id": "9",
   "metadata": {
    "ExecuteTime": {
     "end_time": "2024-08-09T20:47:51.088120Z",
     "start_time": "2024-08-09T20:47:50.890839Z"
    }
   },
   "outputs": [],
   "source": [
    "ts = []\n",
    "errors = []\n",
    "for W, t in zip(ica.log['W'], ica.log['t'], strict=True):\n",
    "    ts.append(t)\n",
    "    error = permute(W) - np.eye(W.shape[0])\n",
    "    errors.append(np.linalg.norm(error))\n",
    "ts = np.squeeze(ts)\n",
    "errors = np.squeeze(errors)\n",
    "\n",
    "fig, ax = plt.subplots()\n",
    "ax.plot(ts, errors, color=colors[1])\n",
    "ax.set_xlabel('time (s)')\n",
    "ax.set_ylabel('error')\n",
    "ax.set_xticks([0,50,100,150])\n",
    "\n",
    "if log_y:\n",
    "    ax.semilogy()\n",
    "    ax.set_yticks([1, .1])\n",
    "    ax.minorticks_off()\n",
    "else:\n",
    "    ax.set_yticks([0,1,2])\n",
    "\n",
    "ax.set_title(\"mmICA error\")\n"
   ]
  },
  {
   "cell_type": "markdown",
   "id": "10",
   "metadata": {},
   "source": [
    "## proSVD"
   ]
  },
  {
   "cell_type": "code",
   "execution_count": null,
   "id": "11",
   "metadata": {
    "ExecuteTime": {
     "end_time": "2024-08-09T20:45:51.326024Z",
     "start_time": "2024-08-09T20:45:51.110488Z"
    }
   },
   "outputs": [],
   "source": [
    "X, _, true_variables = al.jpca.generate_circle_embedded_in_high_d(rng, m=500, n=8, stddev=1)\n",
    "pro = proSVD(k=4, log_level=1)\n",
    "\n",
    "pro.offline_run_on(NumpyTimedDataSource(X, timepoints=np.arange(X.shape[0]) * dt))\n",
    "\n",
    "fig, ax = plt.subplots()\n",
    "\n",
    "dQ, t = pro.get_Q_stability()\n",
    "ax.plot(t, dQ, color=colors[2])\n",
    "ax.set_xticks([0,5,10,15])\n",
    "\n",
    "if log_y:\n",
    "    ax.semilogy()\n",
    "    ax.set_yticks([1e0, 1e-2, 1e-4])\n",
    "    ax.minorticks_off()\n",
    "else:\n",
    "    ax.set_yticks([0,.5])\n",
    "\n",
    "ax.set_title(\"proSVD error\")\n",
    "\n"
   ]
  },
  {
   "cell_type": "markdown",
   "id": "12",
   "metadata": {},
   "source": [
    "# Real data"
   ]
  },
  {
   "cell_type": "code",
   "execution_count": null,
   "id": "13",
   "metadata": {},
   "outputs": [],
   "source": [
    "%%capture \n",
    "d = Leventhal24uDataset(); # the official function I found to load some of the files annoyingly has print statements"
   ]
  },
  {
   "cell_type": "code",
   "execution_count": null,
   "id": "14",
   "metadata": {
    "ExecuteTime": {
     "end_time": "2024-08-09T18:38:04.398996Z",
     "start_time": "2024-08-09T18:37:34.192700Z"
    }
   },
   "outputs": [],
   "source": [
    "jp = sjPCA(log_level=1)\n",
    "\n",
    "pipeline = Pipeline([\n",
    "    CenteringTransformer(),\n",
    "    proSVD(k=6),\n",
    "    jp\n",
    "])\n",
    "\n",
    "pipeline.offline_run_on(d.neural_data)\n",
    "\n",
    "distances, t = jp.get_distance_from_subspace_over_time(jp.log['U'][-1][:,0:2])\n",
    "plt.plot(t, distances)\n",
    "# plt.semilogy()\n"
   ]
  },
  {
   "cell_type": "code",
   "execution_count": null,
   "id": "15",
   "metadata": {
    "ExecuteTime": {
     "end_time": "2024-08-09T18:41:37.967375Z",
     "start_time": "2024-08-09T18:41:37.960322Z"
    }
   },
   "outputs": [],
   "source": [
    "d.neural_data.t[-1]"
   ]
  }
 ],
 "metadata": {
  "kernelspec": {
   "display_name": "Python 3",
   "language": "python",
   "name": "python3"
  },
  "language_info": {
   "codemirror_mode": {
    "name": "ipython",
    "version": 2
   },
   "file_extension": ".py",
   "mimetype": "text/x-python",
   "name": "python",
   "nbconvert_exporter": "python",
   "pygments_lexer": "ipython2",
   "version": "2.7.6"
  }
 },
 "nbformat": 4,
 "nbformat_minor": 5
}
