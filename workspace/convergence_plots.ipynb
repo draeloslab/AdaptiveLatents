{
 "cells": [
  {
   "cell_type": "markdown",
   "id": "0",
   "metadata": {},
   "source": [
    "# Imports and settings"
   ]
  },
  {
   "cell_type": "code",
   "execution_count": null,
   "id": "1",
   "metadata": {
    "ExecuteTime": {
     "end_time": "2024-08-12T20:56:12.604764Z",
     "start_time": "2024-08-12T20:56:06.227206Z"
    },
    "collapsed": true
   },
   "outputs": [],
   "source": [
    "import adaptive_latents as al\n",
    "from adaptive_latents import mmICA, sjPCA, proSVD, CenteringTransformer, Pipeline, NumpyTimedDataSource\n",
    "import matplotlib.pyplot as plt\n",
    "import numpy as np\n",
    "from datasets import Leventhal24uDataset\n",
    "from picard import permute\n",
    "import sklearn\n",
    "import matlab.engine\n",
    "import scipy.stats as stats\n",
    "\n",
    "rng = np.random.default_rng(1)\n",
    "eng = matlab.engine.start_matlab()\n"
   ]
  },
  {
   "cell_type": "markdown",
   "id": "2",
   "metadata": {},
   "source": [
    "# Simulated data"
   ]
  },
  {
   "cell_type": "code",
   "execution_count": null,
   "id": "3",
   "metadata": {
    "ExecuteTime": {
     "end_time": "2024-08-12T20:56:12.618923Z",
     "start_time": "2024-08-12T20:56:12.610123Z"
    }
   },
   "outputs": [],
   "source": [
    "plt.rc('lines', linewidth=2)\n",
    "plt.rc('font', family='sans')\n",
    "\n",
    "dt = 0.03 # seconds\n",
    "T = 60 # seconds\n",
    "iterations_to_run = 1000\n",
    "\n",
    "colors = [\"#F94B00\", \"#2FA194\", \"#EC3C8E\"]\n",
    "common_ylim = [.005, 4]\n",
    "common_xticks = [0, 30, 60] \n"
   ]
  },
  {
   "cell_type": "code",
   "execution_count": null,
   "id": "4",
   "metadata": {
    "ExecuteTime": {
     "end_time": "2024-08-12T20:56:12.646696Z",
     "start_time": "2024-08-12T20:56:12.622758Z"
    }
   },
   "outputs": [],
   "source": [
    "def plot(offline_errors, trajectories, t, i, name):\n",
    "    fig, ax = plt.subplots()\n",
    "    fig: plt.Figure\n",
    "    lower = np.quantile(offline_errors, stats.norm(0,1).cdf(-1))\n",
    "    upper = np.quantile(offline_errors, stats.norm(0,1).cdf(1))\n",
    "    ax.axhline(np.quantile(offline_errors, .5), color='k', alpha=.75)\n",
    "    ax.fill_between([t[0], t[-1]], upper, lower, color='k', edgecolor=None,  alpha=.25)\n",
    "    ax.autoscale(False)\n",
    "\n",
    "    lower = np.quantile(trajectories, stats.norm(0,1).cdf(-1), axis=0)\n",
    "    upper = np.quantile(trajectories, stats.norm(0,1).cdf(1), axis=0)\n",
    "    trajectory = np.mean(trajectories, axis=0)\n",
    "    ax.plot(t, trajectory, color=colors[i])\n",
    "    ax.fill_between(t, upper, lower, color=colors[i], edgecolor=None,  alpha=.5)\n",
    "\n",
    "    ax.set_xlabel('time (s)')\n",
    "    ax.set_ylabel('error')\n",
    "    ax.set_xticks(common_xticks)\n",
    "\n",
    "    ax.semilogy()\n",
    "    ax.set_yticks([1, .1, .01])\n",
    "    ax.minorticks_off()\n",
    "    ax.set_ylim(common_ylim)\n",
    "    ax.set_xticks(common_xticks)\n",
    "\n",
    "    ax.set_title(f\"{name} error\")\n",
    "    fig.savefig(f\"{al.CONFIG['plot_save_path']}/{name}.svg\")\n",
    "\n",
    "    return fig, ax"
   ]
  },
  {
   "cell_type": "markdown",
   "id": "5",
   "metadata": {},
   "source": [
    "## sjPCA"
   ]
  },
  {
   "cell_type": "code",
   "execution_count": null,
   "id": "6",
   "metadata": {
    "ExecuteTime": {
     "end_time": "2024-08-12T21:06:54.861647Z",
     "start_time": "2024-08-12T20:56:12.650338Z"
    }
   },
   "outputs": [],
   "source": [
    "trajectories = []\n",
    "offline_errors = []\n",
    "for _ in range(iterations_to_run):\n",
    "    X, _, true_variables = al.jpca.generate_circle_embedded_in_high_d(rng, m=int(T/dt), n=6, stddev=1)\n",
    "\n",
    "    # matlab section\n",
    "    params = dict(\n",
    "        meanSubtract=False,\n",
    "        normalize=False,\n",
    "        suppressBWrosettes=True,\n",
    "        suppressHistograms=True,\n",
    "        suppressText=True,\n",
    "    )\n",
    "    proj, summary = eng.jPCA({'A':X}, [], params, nargout=2)\n",
    "    offline_U = np.array(summary['jPCs_highD'])\n",
    "    offline_error = np.abs(al.utils.principle_angles(offline_U[:,:2], true_variables['C'])).sum()\n",
    "    offline_errors.append(offline_error)\n",
    "\n",
    "    # my section\n",
    "    jp = sjPCA(log_level=1)\n",
    "    jp.offline_run_on(NumpyTimedDataSource(X, timepoints = np.arange(X.shape[0]) * dt))\n",
    "    distances, t = jp.get_distance_from_subspace_over_time(true_variables['C'])\n",
    "    trajectories.append(distances[:,0])\n",
    "\n",
    "fig, ax = plot(offline_errors, trajectories, t, 0, 'sjPCA')"
   ]
  },
  {
   "cell_type": "markdown",
   "id": "7",
   "metadata": {},
   "source": [
    "## mmICA"
   ]
  },
  {
   "cell_type": "code",
   "execution_count": null,
   "id": "8",
   "metadata": {
    "ExecuteTime": {
     "end_time": "2024-08-12T21:09:33.961626Z",
     "start_time": "2024-08-12T21:06:54.862726Z"
    }
   },
   "outputs": [],
   "source": [
    "trajectories = []\n",
    "offline_errors = []\n",
    "for _ in range(iterations_to_run):\n",
    "    n = 6\n",
    "    m = int((T/dt)//n) # number of blocks\n",
    "    X = rng.laplace(size=(m, n, n))\n",
    "\n",
    "    ica = mmICA(alpha=.5, maxiter_cg=20, tol=1e-20, log_level=1)\n",
    "    input_data = NumpyTimedDataSource(X, timepoints = np.arange(m) * n * dt )\n",
    "    ica.offline_run_on(input_data)\n",
    "    ts = []\n",
    "    errors = []\n",
    "    for W, t in zip(ica.log['W'], ica.log['t']):\n",
    "        ts.append(t)\n",
    "        error = permute(W) - np.eye(W.shape[0])\n",
    "        errors.append(np.linalg.norm(error))\n",
    "    t = np.squeeze(ts)\n",
    "    trajectories.append(np.squeeze(errors))\n",
    "    \n",
    "\n",
    "\n",
    "    W = sklearn.decomposition.FastICA(max_iter=5000).fit(X.transpose([0,2,1]).reshape(-1,n)).components_\n",
    "    offline_error = np.linalg.norm(permute(W) - np.eye(W.shape[0]))\n",
    "    offline_errors.append(offline_error)\n",
    "\n",
    "fig, ax = plot(offline_errors, trajectories, t, 1, 'mmICA')\n"
   ]
  },
  {
   "cell_type": "markdown",
   "id": "9",
   "metadata": {},
   "source": [
    "## proSVD"
   ]
  },
  {
   "cell_type": "code",
   "execution_count": null,
   "id": "10",
   "metadata": {
    "ExecuteTime": {
     "end_time": "2024-08-12T21:12:43.087029Z",
     "start_time": "2024-08-12T21:09:33.962426Z"
    }
   },
   "outputs": [],
   "source": [
    "trajectories = []\n",
    "offline_errors = []\n",
    "for _ in range(iterations_to_run):\n",
    "    X, _, true_variables = al.jpca.generate_circle_embedded_in_high_d(rng, m=int(T/dt), n=8, stddev=1)\n",
    "    pro = proSVD(k=4, log_level=1)\n",
    "    pro.offline_run_on(NumpyTimedDataSource(X, timepoints=np.arange(X.shape[0]) * dt))\n",
    "    Q_error, t = pro.get_distance_from_subspace_over_time(true_variables['C'])\n",
    "    trajectories.append(Q_error)\n",
    "\n",
    "    _, s, Vt = np.linalg.svd(X)\n",
    "    V = Vt[np.argsort(s)[::-1], :].T[:,:pro.k]\n",
    "    offline_error = np.abs(al.utils.principle_angles(V,true_variables['C'])).sum()\n",
    "    offline_errors.append(offline_error)\n",
    "\n",
    "fig, ax = plot(offline_errors, trajectories, t, 2, 'proSVD')"
   ]
  },
  {
   "cell_type": "markdown",
   "id": "11",
   "metadata": {},
   "source": [
    "# Real data"
   ]
  },
  {
   "cell_type": "code",
   "execution_count": null,
   "id": "12",
   "metadata": {
    "ExecuteTime": {
     "end_time": "2024-08-12T21:12:43.221005Z",
     "start_time": "2024-08-12T21:12:43.087806Z"
    }
   },
   "outputs": [],
   "source": [
    "raise Exception()"
   ]
  },
  {
   "cell_type": "code",
   "execution_count": null,
   "id": "13",
   "metadata": {
    "ExecuteTime": {
     "end_time": "2024-08-12T21:12:43.221739Z",
     "start_time": "2024-08-12T21:12:43.221689Z"
    }
   },
   "outputs": [],
   "source": [
    "%%capture \n",
    "d = Leventhal24uDataset(); # the official function I found to load some of the files annoyingly has print statements"
   ]
  },
  {
   "cell_type": "code",
   "execution_count": null,
   "id": "14",
   "metadata": {},
   "outputs": [],
   "source": [
    "jp = sjPCA(log_level=1)\n",
    "\n",
    "pipeline = Pipeline([\n",
    "    CenteringTransformer(),\n",
    "    proSVD(k=6),\n",
    "    jp\n",
    "])\n",
    "\n",
    "pipeline.offline_run_on(d.neural_data)\n",
    "\n",
    "distances, t = jp.get_distance_from_subspace_over_time(jp.log['U'][3000][:,0:2])\n",
    "plt.plot(t, distances)\n",
    "# plt.semilogy()\n"
   ]
  },
  {
   "cell_type": "code",
   "execution_count": null,
   "id": "15",
   "metadata": {},
   "outputs": [],
   "source": [
    "d.neural_data.t[-1]"
   ]
  }
 ],
 "metadata": {
  "kernelspec": {
   "display_name": "Python 3",
   "language": "python",
   "name": "python3"
  },
  "language_info": {
   "codemirror_mode": {
    "name": "ipython",
    "version": 2
   },
   "file_extension": ".py",
   "mimetype": "text/x-python",
   "name": "python",
   "nbconvert_exporter": "python",
   "pygments_lexer": "ipython2",
   "version": "2.7.6"
  }
 },
 "nbformat": 4,
 "nbformat_minor": 5
}
