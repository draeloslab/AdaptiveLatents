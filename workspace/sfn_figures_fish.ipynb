{
 "cells": [
  {
   "cell_type": "code",
   "execution_count": null,
   "id": "0",
   "metadata": {
    "ExecuteTime": {
     "end_time": "2024-10-23T21:56:04.781990Z",
     "start_time": "2024-10-23T21:56:02.931734Z"
    }
   },
   "outputs": [],
   "source": [
    "import numpy as np\n",
    "\n",
    "import adaptive_latents.input_sources.datasets as datasets\n",
    "import adaptive_latents.plotting_functions as pf\n",
    "import matplotlib.pyplot as plt\n",
    "import prediction_regression_pipeline as prp\n",
    "from adaptive_latents.plotting_functions import PredictionVideo\n",
    "from adaptive_latents import (\n",
    "    AnimationManager\n",
    ")\n",
    "import adaptive_latents\n",
    "import pandas as pd\n",
    "from importlib import reload\n",
    "from IPython import display\n",
    "from tqdm.notebook import tqdm\n",
    "from adaptive_latents.plotting_functions import plot_history_with_tail\n",
    "import matplotlib.cm as cm\n",
    "\n"
   ]
  },
  {
   "cell_type": "code",
   "execution_count": null,
   "id": "1",
   "metadata": {
    "ExecuteTime": {
     "end_time": "2024-10-23T21:50:11.359577Z",
     "start_time": "2024-10-23T21:50:11.353416Z"
    }
   },
   "outputs": [],
   "source": [
    "adaptive_latents.plotting_functions = reload(adaptive_latents.plotting_functions)"
   ]
  },
  {
   "cell_type": "markdown",
   "id": "2",
   "metadata": {},
   "source": [
    "# Intro Video"
   ]
  },
  {
   "cell_type": "code",
   "execution_count": null,
   "id": "3",
   "metadata": {
    "ExecuteTime": {
     "end_time": "2024-10-22T14:27:39.881999Z",
     "start_time": "2024-10-22T14:27:39.877216Z"
    }
   },
   "outputs": [],
   "source": [
    "def intro_plot_fish(d, tail_length=5, duration=10, start_time=10, fps=20):\n",
    "    with AnimationManager(n_cols=2, n_rows=1, figsize=(10, 5), filetype='gif', fps=fps) as am:\n",
    "        am.axs[0,1].scatter(d.tail_position[:,-1,0], d.tail_position[:,-1,1])\n",
    "        \n",
    "        for current_t in tqdm(np.linspace(start_time, start_time + duration, int(duration*fps))):\n",
    "            am.axs[0,0].cla()\n",
    "    \n",
    "            n_columns = np.floor(tail_length / np.median(np.diff(d.neural_data.t))).astype(int)\n",
    "            idx = np.nonzero(~(d.neural_data.t < current_t))[0][0]\n",
    "            \n",
    "            \n",
    "            am.axs[0,0].imshow(d.neural_data.a[idx-n_columns:idx,0,:200].T, aspect='auto', interpolation='none', extent=[current_t - tail_length, current_t, d.neural_data.a.shape[2], 0],\n",
    "                              vmin=d.neural_data.a.min(),vmax=d.neural_data.a.max())\n",
    "            am.axs[0,0].set_xticklabels([])\n",
    "    \n",
    "    \n",
    "    \n",
    "            old_lims = am.axs[0,1].axis()\n",
    "            am.axs[0,1].cla()\n",
    "            am.axs[0,1].axis('off')\n",
    "            \n",
    "            s = np.nonzero(((current_t - tail_length) < d.behavioral_data.t) & (d.behavioral_data.t < current_t))[0]\n",
    "            \n",
    "            for i, sample in enumerate(d.behavioral_data.a[s,...]):\n",
    "                am.axs[0,1].plot(sample[:,0], sample[:,1], color='gray', alpha=(i/s.size)*.5)\n",
    "                if i == s.size-1:\n",
    "                    am.axs[0,1].plot(sample[:,0], sample[:,1], color='w', linewidth=3)\n",
    "                    am.axs[0,1].plot(sample[:,0], sample[:,1], color=f'C{d.pose_class[s[i]]}', alpha=1)\n",
    "            pf.use_bigger_lims(am.axs[0,1], old_lims)\n",
    "            \n",
    "            am.grab_frame()\n",
    "    \n",
    "    display.display(display.Video(am.outfile, embed=True))\n",
    "    plt.close()"
   ]
  },
  {
   "cell_type": "code",
   "execution_count": null,
   "id": "4",
   "metadata": {
    "ExecuteTime": {
     "end_time": "2024-10-22T14:27:45.181567Z",
     "start_time": "2024-10-22T14:27:39.882399Z"
    }
   },
   "outputs": [],
   "source": [
    "d = datasets.Naumann24uDataset(datasets.Naumann24uDataset.sub_datasets[1], beh_type='whole tail')\n",
    "intro_plot_fish(d, start_time=315, duration=19, fps=50, tail_length=1.1)"
   ]
  },
  {
   "cell_type": "markdown",
   "id": "5",
   "metadata": {},
   "source": [
    "# Stim part"
   ]
  },
  {
   "cell_type": "code",
   "execution_count": null,
   "id": "6",
   "metadata": {
    "ExecuteTime": {
     "end_time": "2024-10-23T21:59:21.024577Z",
     "start_time": "2024-10-23T21:56:06.920453Z"
    }
   },
   "outputs": [],
   "source": [
    "fish_run = prp.PipelineRun(**(prp.PipelineRun.default_parameter_values['naumann24u'] | dict(exit_time=-1, beh_type='bout')))"
   ]
  },
  {
   "cell_type": "markdown",
   "id": "7",
   "metadata": {},
   "source": [
    "## Dimensionality reduction comparison"
   ]
  },
  {
   "cell_type": "code",
   "execution_count": null,
   "id": "8",
   "metadata": {
    "ExecuteTime": {
     "end_time": "2024-10-22T13:42:08.394626Z",
     "start_time": "2024-10-22T13:42:00.731764Z"
    }
   },
   "outputs": [],
   "source": [
    "run = fish_run\n",
    "fig, axs = plt.subplots(ncols=3, nrows=1, squeeze=False, figsize=(10,4), layout='tight')\n",
    "\n",
    "\n",
    "tail_length = 1\n",
    "with AnimationManager(fig=fig, make_axs=False, fps=30, filetype='webm') as am:\n",
    "    for current_t in np.linspace(1500, 1550, 100):\n",
    "        plot_history_with_tail(axs[0,0], run.pro_latents, current_t, tail_length=2)\n",
    "        plot_history_with_tail(axs[0,1], run.jpca_latents, current_t, tail_length=2)\n",
    "        plot_history_with_tail(axs[0,2], run.ica_latents, current_t, tail_length=2)\n",
    "        # axs[0,2].set_ylim([-3,5])\n",
    "        am.grab_frame()\n",
    "\n",
    "plt.close()\n",
    "am.display_video()"
   ]
  },
  {
   "cell_type": "code",
   "execution_count": null,
   "id": "9",
   "metadata": {
    "ExecuteTime": {
     "end_time": "2024-10-22T17:05:25.068468Z",
     "start_time": "2024-10-22T17:05:24.632188Z"
    }
   },
   "outputs": [],
   "source": [
    "run = fish_run\n",
    "fig, axs = plt.subplots(ncols=3, nrows=1, squeeze=False, figsize=(10,4), layout='tight')\n",
    "tail_length = 4\n",
    "\n",
    "current_t = 1580\n",
    "plot_history_with_tail(axs[0,0], run.pro_latents, current_t, tail_length=tail_length)\n",
    "plot_history_with_tail(axs[0,1], run.jpca_latents, current_t, tail_length=tail_length)\n",
    "plot_history_with_tail(axs[0,2], run.ica_latents, current_t, tail_length=tail_length)\n",
    "\n",
    "fig.savefig(adaptive_latents.CONFIG['plot_save_path'] / 'fish_clouds.svg')\n"
   ]
  },
  {
   "cell_type": "code",
   "execution_count": null,
   "id": "10",
   "metadata": {
    "ExecuteTime": {
     "end_time": "2024-10-22T17:08:26.433881Z",
     "start_time": "2024-10-22T17:08:25.909855Z"
    }
   },
   "outputs": [],
   "source": [
    "# run = zong_run\n",
    "run = fish_run\n",
    "grid_n=13\n",
    "square_radius=None\n",
    "arrow_alpha=0\n",
    "scatter_alpha=0\n",
    "current_t = 1580\n",
    "\n",
    "fig, axs = plt.subplots(nrows=1, ncols=3, squeeze=False, layout='tight', figsize=(10, 4))\n",
    "axs = axs.T\n",
    "e1, e2 = np.zeros(6), np.zeros(6)\n",
    "e1[0] = 1\n",
    "e2[1] = 1\n",
    "\n",
    "for idx, latents in enumerate([run.pro_latents, run.jpca_latents, run.ica_latents]):\n",
    "    ax: plt.Axes = axs[idx,0]\n",
    "    \n",
    "    plot_history_with_tail(ax, latents, current_t, tail_length=4, invisible=False)\n",
    "\n",
    "    if idx == 2:\n",
    "        ax.set_xlim([-6,6])\n",
    "        ax.set_ylim([-3,5])\n",
    "\n",
    "    d_latents = np.diff(latents, axis=0)\n",
    "    d_latents = d_latents / np.linalg.norm(d_latents, axis=1)[:, np.newaxis]\n",
    "    \n",
    "    x1, x2, y1, y2 = ax.axis()\n",
    "    x_points = np.linspace(x1, x2, grid_n)\n",
    "    y_points = np.linspace(y1, y2, grid_n)\n",
    "    if square_radius is not None:\n",
    "        x_points = np.linspace(-square_radius, square_radius, grid_n)\n",
    "        y_points = np.linspace(-square_radius, square_radius, grid_n)\n",
    "\n",
    "    origins = []\n",
    "    arrows = []\n",
    "    n_points = []\n",
    "    for i in range(len(x_points) - 1):\n",
    "        for j in range(len(y_points) - 1):\n",
    "            proj_1 = (latents[:-1] @ e1)\n",
    "            proj_2 = (latents[:-1] @ e2)\n",
    "            s = (x_points[i] <= proj_1) & (proj_1 < x_points[i + 1]) & (y_points[j] <= proj_2) & (\n",
    "                    proj_2 < y_points[j + 1])\n",
    "            if s.sum():\n",
    "                arrow = d_latents[s].mean(axis=0)\n",
    "                arrow = arrow / np.linalg.norm(arrow)\n",
    "                arrows.append(arrow)\n",
    "                origins.append([x_points[i:i + 2].mean(), y_points[j:j + 2].mean()])\n",
    "                n_points.append(s.sum())\n",
    "    origins, arrows, n_points = np.array(origins), np.array(arrows), np.array(n_points)\n",
    "    # n_points = n_points / 5\n",
    "    n_points = n_points > 15\n",
    "    # n_points = 1\n",
    "    ax.quiver(origins[:, 0], origins[:, 1], arrows @ e1, arrows @ e2, scale=1 / 20, alpha=n_points, units='dots', color='red')\n",
    "\n",
    "    # ax.axis('equal')\n",
    "    ax.axis('off')\n",
    "\n",
    "axs[0, 0].set_ylabel('pro')\n",
    "axs[1, 0].set_ylabel('jpca')\n",
    "axs[2, 0].set_ylabel('ica')\n",
    "fig.savefig(adaptive_latents.CONFIG['plot_save_path'] / 'fish_clouds_with_arrows.svg')"
   ]
  },
  {
   "cell_type": "code",
   "execution_count": null,
   "id": "11",
   "metadata": {
    "ExecuteTime": {
     "end_time": "2024-10-23T21:54:32.254826Z",
     "start_time": "2024-10-23T21:54:32.246908Z"
    }
   },
   "outputs": [],
   "source": [
    "locations = np.loadtxt(d.dataset_base_path/d.sub_dataset/'contours.txt')"
   ]
  },
  {
   "cell_type": "code",
   "execution_count": null,
   "id": "12",
   "metadata": {
    "ExecuteTime": {
     "end_time": "2024-10-22T17:10:32.526Z",
     "start_time": "2024-10-22T17:10:32.304678Z"
    }
   },
   "outputs": [],
   "source": [
    "plt.imshow(np.load(d.dataset_base_path/d.sub_dataset/'red_channel_image.npy'), cmap='gray', vmax=350)\n",
    "# plt.colorbar()\n",
    "plt.plot(locations[:,1], locations[:,0], 'r.')\n"
   ]
  },
  {
   "cell_type": "code",
   "execution_count": null,
   "id": "13",
   "metadata": {
    "ExecuteTime": {
     "end_time": "2024-10-22T16:54:49.063949Z",
     "start_time": "2024-10-22T16:54:48.946490Z"
    }
   },
   "outputs": [],
   "source": [
    "plt.matshow(np.loadtxt(d.dataset_base_path/d.sub_dataset/'image.txt'))"
   ]
  },
  {
   "cell_type": "markdown",
   "id": "14",
   "metadata": {},
   "source": [
    "## Stimulation figure"
   ]
  },
  {
   "cell_type": "code",
   "execution_count": null,
   "id": "15",
   "metadata": {
    "ExecuteTime": {
     "end_time": "2024-10-23T22:02:52.079094Z",
     "start_time": "2024-10-23T22:02:51.873337Z"
    }
   },
   "outputs": [],
   "source": [
    "run = fish_run\n",
    "d = fish_run.d\n",
    "latents = run.jpca_latents\n",
    "\n",
    "\n",
    "fig, axs = plt.subplots(ncols=2,figsize=(8,4), layout='tight')\n",
    "\n",
    "\n",
    "dim_1, dim_2 = 0,1\n",
    "\n",
    "\n",
    "im = np.loadtxt(d.dataset_base_path/d.sub_dataset/'image.txt')\n",
    "means = np.mean(latents, axis=0)\n",
    "ax = axs[0]\n",
    "ax.cla()\n",
    "current_t = 1464\n",
    "adaptive_latents.plotting_functions.plot_history_with_tail(ax, latents, current_t, tail_length=12, invisible=False, scatter_alpha=.05, scatter_s=20)\n",
    "s = latents.t <= current_t\n",
    "current_state = latents[s][-1]\n",
    "ax.arrow( current_state[dim_1], current_state[dim_2], means[dim_1] - current_state[dim_1], means[dim_2] - current_state[dim_2], zorder=5, color='k', length_includes_head=True,  width=0.001, head_width=.5, )\n",
    "ax.set_ylim([-10, 10])\n",
    "ax.set_ylim([-10, 10])\n",
    "# ax.axis('equal')\n",
    "ax = axs[1]\n",
    "ax.cla()\n",
    "desired_state = means - current_state\n",
    "desired_stim = (desired_state @ run.pro.Q.T)[:run.d.neural_data.a.shape[-1]]\n",
    "desired_stim = np.abs(desired_stim)\n",
    "desired_stim[np.abs(desired_stim) < .5] = np.nan\n",
    "ax.imshow(im, cmap=cm.gray, vmin=15, vmax=50)\n",
    "ax.scatter(d.neuron_locations[:,1], d.neuron_locations[:,0], s=desired_stim*50, color='red')\n",
    "ax.axis('off')\n",
    "axs[1].set_ylim([350, 0])\n",
    "fig.savefig(adaptive_latents.CONFIG['plot_save_path'] / 'fish_stim.svg')"
   ]
  },
  {
   "cell_type": "code",
   "execution_count": null,
   "id": "16",
   "metadata": {
    "ExecuteTime": {
     "end_time": "2024-10-22T18:08:58.943714Z",
     "start_time": "2024-10-22T18:08:58.739852Z"
    }
   },
   "outputs": [],
   "source": [
    "plt.hist((im).flatten(), 100);"
   ]
  },
  {
   "cell_type": "code",
   "execution_count": null,
   "id": "17",
   "metadata": {
    "ExecuteTime": {
     "end_time": "2024-10-04T16:55:39.633898Z",
     "start_time": "2024-10-04T16:55:39.558276Z"
    }
   },
   "outputs": [],
   "source": [
    "latents = run.jpca_latents\n",
    "\n",
    "\n",
    "fig, axs = plt.subplots(ncols=2,figsize=(8,4), layout='tight')\n",
    "\n",
    "\n",
    "dim_1, dim_2 = 0,1\n",
    "\n",
    "\n",
    "planes = []\n",
    "for i in range(500):\n",
    "    run.d.raw_images.seek(i)\n",
    "    planes.append(np.array(run.d.raw_images))\n",
    "\n",
    "im = np.mean(planes, axis=0)\n",
    "\n",
    "means = np.mean(latents, axis=0)\n",
    "\n",
    "tail_length = 1\n",
    "with AnimationManager(fig=fig, make_axs=False, fps=20, filetype='mp4', dpi=400) as am:\n",
    "    a = 500 + 10.5\n",
    "    l = 3\n",
    "    for current_t in np.linspace(a, a+l, int(round(l*20))):\n",
    "        last_frame = current_t == a+l\n",
    "        \n",
    "        ax = axs[0]\n",
    "        ax.cla()\n",
    "        # plot_history_with_tail(ax, latents, current_t, tail_length=1)\n",
    "        plot_history_with_tail(ax, latents, current_t, tail_length=1, invisible=False)\n",
    "\n",
    "        s = latents.t <= current_t\n",
    "        current_state = latents[s][-1]\n",
    "\n",
    "        if last_frame:\n",
    "            ax.arrow(\n",
    "            current_state[dim_1], current_state[dim_2], means[dim_1] - current_state[dim_1], means[dim_2] - current_state[dim_2], \n",
    "            zorder=5, color='k', length_includes_head=True,  width=0.001, head_width=.04,\n",
    "            )\n",
    "        ax.axis('equal');\n",
    "        # ax.set_title(f'{current_t:.2f}')\n",
    "\n",
    "\n",
    "        \n",
    "        ax = axs[1]\n",
    "        ax.cla()\n",
    "        if last_frame:\n",
    "            desired_state = means - current_state\n",
    "            desired_stim = (desired_state @ run.pro.Q.T)[:run.d.neural_data.a.shape[-1]]\n",
    "    \n",
    "            desired_stim = np.abs(desired_stim)\n",
    "            desired_stim[np.abs(desired_stim) < .1] = np.nan\n",
    "    \n",
    "            ax.matshow(-im, cmap='Grays')\n",
    "            xs, ys = list(zip(*[cell['med'] for cell in run.d.stat]))\n",
    "            \n",
    "    \n",
    "            ax.scatter(ys, xs, s=desired_stim*30, color='red')\n",
    "        ax.axis('off')\n",
    "\n",
    "        am.grab_frame()"
   ]
  }
 ],
 "metadata": {
  "kernelspec": {
   "display_name": "Python 3 (ipykernel)",
   "language": "python",
   "name": "python3"
  },
  "language_info": {
   "codemirror_mode": {
    "name": "ipython",
    "version": 3
   },
   "file_extension": ".py",
   "mimetype": "text/x-python",
   "name": "python",
   "nbconvert_exporter": "python",
   "pygments_lexer": "ipython3",
   "version": "3.9.20"
  }
 },
 "nbformat": 4,
 "nbformat_minor": 5
}
