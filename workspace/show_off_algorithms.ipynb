{
 "cells": [
  {
   "cell_type": "code",
   "execution_count": null,
   "id": "0",
   "metadata": {
    "ExecuteTime": {
     "end_time": "2024-08-26T18:03:08.647161Z",
     "start_time": "2024-08-26T18:03:08.639091Z"
    },
    "collapsed": true
   },
   "outputs": [],
   "source": [
    "import numpy as np\n",
    "import matplotlib.pyplot as plt\n",
    "from adaptive_latents import CenteringTransformer, Pipeline, proSVD, sjPCA, mmICA, AnimationManager, KernelSmoother, proPLS, Bubblewrap\n",
    "import adaptive_latents as al\n",
    "from scipy.stats import special_ortho_group\n",
    "from adaptive_latents import datasets\n",
    "from tqdm.notebook import tqdm\n",
    "import IPython.display as ipd\n",
    "\n",
    "\n",
    "TostadoMarcos24Dataset = datasets.TostadoMarcos24Dataset\n",
    "rng = np.random.default_rng(0)"
   ]
  },
  {
   "cell_type": "markdown",
   "id": "1",
   "metadata": {},
   "source": [
    "## Runs proPLS"
   ]
  },
  {
   "cell_type": "code",
   "execution_count": null,
   "id": "2",
   "metadata": {
    "ExecuteTime": {
     "end_time": "2024-08-26T18:03:25.689416Z",
     "start_time": "2024-08-26T18:03:20.058198Z"
    }
   },
   "outputs": [],
   "source": [
    "d = TostadoMarcos24Dataset(TostadoMarcos24Dataset.sub_datasets[0])\n",
    "\n",
    "pls = proPLS(k=20)\n",
    "p = Pipeline([\n",
    "    CenteringTransformer(input_streams={0:'X'}),\n",
    "    CenteringTransformer(input_streams={1:'X'}),\n",
    "    pls,\n",
    "])\n",
    "streams = p.offline_run_on([d.neural_data, d.behavioral_data], convinient_return=False)\n",
    "ts = {}\n",
    "for stream in streams:\n",
    "    while np.isnan(streams[stream][0]).any():\n",
    "        streams[stream].pop(0)\n",
    "    ts[stream] = np.array([x.t for x in streams[stream]])\n",
    "    streams[stream] = np.squeeze(streams[stream])\n",
    "    "
   ]
  },
  {
   "cell_type": "markdown",
   "id": "3",
   "metadata": {},
   "source": [
    "## jPCA plane convergence in simulated data"
   ]
  },
  {
   "cell_type": "code",
   "execution_count": null,
   "id": "4",
   "metadata": {
    "ExecuteTime": {
     "end_time": "2024-08-26T18:03:35.156928Z",
     "start_time": "2024-08-26T18:03:29.925690Z"
    }
   },
   "outputs": [],
   "source": [
    "%matplotlib qt\n",
    "\n",
    "m= 50\n",
    "n = 3\n",
    "t = np.linspace(0, (m / 50) * np.pi * 2, m)\n",
    "circle = np.column_stack([np.cos(t), np.sin(t)]) @ np.diag([10, 10])\n",
    "C = special_ortho_group(dim=n, seed=rng).rvs()[:, :2]\n",
    "orth = np.cross(*C.T)\n",
    "X = (circle @ C.T) + rng.normal(size=(m, n)) + rng.normal(size=(m, 1)) * orth * 0\n",
    "\n",
    "jpca = sjPCA()\n",
    "p = Pipeline([\n",
    "    jpca\n",
    "])\n",
    "\n",
    "with AnimationManager(projection='3d', figsize=(5,5)) as am:\n",
    "    ax = am.axs[0,0]\n",
    "    outputs = np.zeros_like(X)\n",
    "    for i, output in enumerate(p.streaming_run_on(X)):\n",
    "        outputs[i] = output\n",
    "        \n",
    "        ax.cla()\n",
    "        ax.scatter(X[:i,0], X[:i,1], X[:i,2])\n",
    "\n",
    "        U = jpca.get_U()[:,:2]\n",
    "        mesh_a, mesh_b = np.meshgrid(np.linspace(-10,10,2), np.linspace(-10,10,2))\n",
    "\n",
    "        mesh_X, mesh_Y, mesh_Z = (mesh_a[None,:,:].T * U[:,0] + mesh_b[None,:,:].T * U[:,1]).T\n",
    "\n",
    "        ax.plot_surface(mesh_X, mesh_Y, mesh_Z, alpha=.1)\n",
    "                \n",
    "                \n",
    "        U = U * 10\n",
    "        ax.plot([0, U[0,0]], [0, U[1,0]], [0, U[2,0]], color='k')\n",
    "        ax.plot([0, U[0,1]], [0, U[1,1]], [0, U[2,1]], color='r')\n",
    "\n",
    "        ax.axis('equal')\n",
    "        ax.set_xlim(-20,20)\n",
    "        ax.set_ylim(-20,20)\n",
    "        ax.set_zlim(-20,20)\n",
    "        \n",
    "        am.grab_frame()\n",
    "        \n",
    "        \n",
    "        "
   ]
  },
  {
   "cell_type": "markdown",
   "id": "5",
   "metadata": {},
   "source": [
    "## jPCA plane convergence in real data"
   ]
  },
  {
   "cell_type": "code",
   "execution_count": null,
   "id": "6",
   "metadata": {
    "ExecuteTime": {
     "end_time": "2024-08-19T17:33:51.679919Z",
     "start_time": "2024-08-19T17:33:50.835846Z"
    }
   },
   "outputs": [],
   "source": [
    "%%capture\n",
    "d = datsets.Leventhal24uDataset()\n",
    "\n",
    "centerer = CenteringTransformer()\n",
    "pro = proSVD(k=3, whiten=False)\n",
    "jpca = sjPCA()\n",
    "\n",
    "p = Pipeline([\n",
    "    KernelSmoother(tau=8),\n",
    "    centerer,\n",
    "    pro,\n",
    "    KernelSmoother(tau=8),\n",
    "])\n",
    "X = p.offline_run_on(d.neural_data.a[1000:2000])"
   ]
  },
  {
   "cell_type": "code",
   "execution_count": null,
   "id": "7",
   "metadata": {
    "ExecuteTime": {
     "end_time": "2024-08-19T17:42:54.840738Z",
     "start_time": "2024-08-19T17:33:52.411944Z"
    }
   },
   "outputs": [],
   "source": [
    "%matplotlib qt\n",
    "\"\"\"Shows off finding a plane in real data.\"\"\"\n",
    "\n",
    "sub_X = X\n",
    "\n",
    "with AnimationManager(figsize=(10,5), make_axs=False, fps=40) as am:\n",
    "    ax1 = am.fig.add_subplot(1,2,1, projection='3d')\n",
    "    ax2 = am.fig.add_subplot(1,2,2)\n",
    "    outputs = np.zeros_like(sub_X)\n",
    "    for i, output in enumerate(tqdm(jpca.streaming_run_on(sub_X))):\n",
    "        outputs[i] = output\n",
    "        \n",
    "        ax1.cla()\n",
    "        ax1.scatter(sub_X[:i,0], sub_X[:i,1], sub_X[:i,2], s=1, edgecolors=None)\n",
    "        \n",
    "        tail_points = sub_X[max(i-5,0):i]\n",
    "        ax1.plot(tail_points[:,0], tail_points[:i,1], tail_points[:i,2], color='C0')\n",
    "\n",
    "        U = jpca.get_U()[:,:2]\n",
    "        mesh_a, mesh_b = np.meshgrid(np.linspace(-1,1,2), np.linspace(-1,1,2))\n",
    "\n",
    "        mesh_X, mesh_Y, mesh_Z = (mesh_a[None,:,:].T * U[:,0] + mesh_b[None,:,:].T * U[:,1]).T\n",
    "\n",
    "        ax1.plot_surface(mesh_X, mesh_Y, mesh_Z, alpha=.1)\n",
    "\n",
    "\n",
    "        U = U * .1\n",
    "        ax1.plot([0, U[0,0]], [0, U[1,0]], [0, U[2,0]], color='k')\n",
    "        ax1.plot([0, U[0,1]], [0, U[1,1]], [0, U[2,1]], color='r')\n",
    "\n",
    "        ax1.axis('equal')\n",
    "        ax1.set_xlim(-1,1)\n",
    "        ax1.set_ylim(-1,1)\n",
    "        ax1.set_zlim(-1,1)\n",
    "        \n",
    "        ax2.cla()\n",
    "        reprojected = jpca.transform(sub_X[:i])\n",
    "        ax2.scatter(reprojected[:i,0], reprojected[:i,1], s=2, edgecolors=None)\n",
    "\n",
    "        tail_points = reprojected[max(i-5,0):]\n",
    "        ax2.plot(tail_points[:,0], tail_points[:i,1], color='C0')\n",
    "\n",
    "        ax2.plot([0, .1], [0, 0], color='k')\n",
    "        ax2.plot([0, 0], [0, .1], color='r')\n",
    "        \n",
    "        ax2.set_xlim(-1,1)\n",
    "        ax2.set_ylim(-1,1)\n",
    "        ax2.set_xticks([])\n",
    "        ax2.set_yticks([])\n",
    "\n",
    "        am.grab_frame()\n",
    "        \n",
    "# ffmpeg -i movie_2024-08-19-13-33-52.mp4 -vf \"split[s0][s1];[s0]palettegen[p];[s1][p]paletteuse\" output.gif      \n",
    "        "
   ]
  }
 ],
 "metadata": {
  "kernelspec": {
   "display_name": "Python 3",
   "language": "python",
   "name": "python3"
  },
  "language_info": {
   "codemirror_mode": {
    "name": "ipython",
    "version": 2
   },
   "file_extension": ".py",
   "mimetype": "text/x-python",
   "name": "python",
   "nbconvert_exporter": "python",
   "pygments_lexer": "ipython2",
   "version": "2.7.6"
  }
 },
 "nbformat": 4,
 "nbformat_minor": 5
}
