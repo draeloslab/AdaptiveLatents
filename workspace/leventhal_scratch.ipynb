{
 "cells": [
  {
   "cell_type": "code",
   "execution_count": null,
   "id": "0",
   "metadata": {
    "ExecuteTime": {
     "end_time": "2024-08-13T18:07:05.599374Z",
     "start_time": "2024-08-13T18:07:05.590940Z"
    }
   },
   "outputs": [],
   "source": [
    "import numpy as np\n",
    "import matplotlib.pyplot as plt\n",
    "import adaptive_latents\n",
    "import itertools\n",
    "from adaptive_latents import CenteringTransformer, Pipeline, proSVD, KernelSmoother, sjPCA, mmICA, AnimationManager\n",
    "from datasets import Leventhal24uDataset\n",
    "from sklearn.decomposition import PCA\n",
    "from tqdm.notebook import tqdm\n",
    "import pandas as pd"
   ]
  },
  {
   "cell_type": "code",
   "execution_count": null,
   "id": "1",
   "metadata": {
    "ExecuteTime": {
     "end_time": "2024-08-13T18:07:05.881155Z",
     "start_time": "2024-08-13T18:07:05.623811Z"
    }
   },
   "outputs": [],
   "source": [
    "d = Leventhal24uDataset(bin_size=.2)"
   ]
  },
  {
   "cell_type": "code",
   "execution_count": null,
   "id": "2",
   "metadata": {
    "ExecuteTime": {
     "end_time": "2024-08-13T18:07:05.885203Z",
     "start_time": "2024-08-13T18:07:05.881820Z"
    }
   },
   "outputs": [],
   "source": [
    "d.trial_data[d.trial_data['correct']==True].tone"
   ]
  },
  {
   "cell_type": "markdown",
   "id": "3",
   "metadata": {},
   "source": [
    "* pretone is tone - centerIn\n",
    "* RT is centerOUt - tone\n",
    "* MT is sideIn - centerOut "
   ]
  },
  {
   "cell_type": "code",
   "execution_count": null,
   "id": "4",
   "metadata": {
    "ExecuteTime": {
     "end_time": "2024-08-13T18:07:06.710241Z",
     "start_time": "2024-08-13T18:07:05.885711Z"
    }
   },
   "outputs": [],
   "source": [
    "%matplotlib inline\n",
    "plt.scatter(d.spike_times, d.spike_clusters, marker='|')\n",
    "for i, row in d.trial_data.iterrows():\n",
    "    if row['valid']:\n",
    "        plt.axvline(row['cueOn'], color='k')\n",
    "        if row['correct']:\n",
    "            plt.axvline(row['tone'], color='green')\n",
    "        else:\n",
    "            plt.axvline(row['tone'], color='red')\n",
    "\n",
    "        # plt.axvline(row['centerOut'], color='C1')\n",
    "    # plt.axvline(row['Time'] + row['SideInToFood'], color='C2')\n",
    "    # plt.axvline(row['Time'] + row['MT'], color='C3')\n",
    "    # plt.axvline(row['Time'] + row['pretone'], color='C1')\n",
    "    "
   ]
  },
  {
   "cell_type": "code",
   "execution_count": null,
   "id": "5",
   "metadata": {
    "ExecuteTime": {
     "end_time": "2024-08-13T18:07:06.792283Z",
     "start_time": "2024-08-13T18:07:06.711293Z"
    }
   },
   "outputs": [],
   "source": [
    "fig, ax = plt.subplots()\n",
    "KernelSmoother(tau=1, kernel_length=5*1).plot_impulse_response(ax)"
   ]
  },
  {
   "cell_type": "code",
   "execution_count": null,
   "id": "6",
   "metadata": {
    "ExecuteTime": {
     "end_time": "2024-08-13T18:07:07.734833Z",
     "start_time": "2024-08-13T18:07:06.792915Z"
    }
   },
   "outputs": [],
   "source": [
    "%matplotlib inline\n",
    "a = np.squeeze(d.neural_data.a)\n",
    "plt.plot(PCA().fit(a).explained_variance_)\n",
    "print(a.sum())\n",
    "a = KernelSmoother(kernel_length=10, tau=2).offline_run_on(a)\n",
    "plt.plot(PCA().fit(a).explained_variance_)\n",
    "print(a.sum())\n",
    "\n"
   ]
  },
  {
   "cell_type": "code",
   "execution_count": null,
   "id": "7",
   "metadata": {
    "ExecuteTime": {
     "end_time": "2024-08-13T18:07:08.593771Z",
     "start_time": "2024-08-13T18:07:07.735583Z"
    }
   },
   "outputs": [],
   "source": [
    "%matplotlib inline\n",
    "a = np.squeeze(d.neural_data.a)\n",
    "plt.plot(a[:,0], '.')\n",
    "b = KernelSmoother(kernel_length=25, tau=8).offline_run_on(a, convinient_return=False)\n",
    "b = np.squeeze(b[0])\n",
    "plt.plot(b[:,0])\n",
    "plt.xlim([200, 400])"
   ]
  },
  {
   "cell_type": "code",
   "execution_count": null,
   "id": "8",
   "metadata": {
    "ExecuteTime": {
     "end_time": "2024-08-13T18:07:16.153080Z",
     "start_time": "2024-08-13T18:07:08.594340Z"
    }
   },
   "outputs": [],
   "source": [
    "d = Leventhal24uDataset(bin_size=.1)\n",
    "p = Pipeline([\n",
    "    KernelSmoother(tau=8),\n",
    "    CenteringTransformer(),\n",
    "    proSVD(k=6, init_size=50, whiten=False, log_level=0),\n",
    "    # mmICA()\n",
    "])\n",
    "output = p.offline_run_on(d.neural_data, convinient_return=True)"
   ]
  },
  {
   "cell_type": "code",
   "execution_count": null,
   "id": "9",
   "metadata": {
    "ExecuteTime": {
     "end_time": "2024-08-13T18:07:16.585008Z",
     "start_time": "2024-08-13T18:07:16.153976Z"
    }
   },
   "outputs": [],
   "source": [
    "%matplotlib inline\n",
    "fig = plt.figure()\n",
    "ax = fig.add_subplot(projection='3d')\n",
    "axes = (0,1,2)\n",
    "\n",
    "start = 2000\n",
    "time_slice = slice(start, start + 3000)\n",
    "\n",
    "ax.scatter(output[time_slice, axes[0]], output[time_slice, axes[1]], output[time_slice, axes[2]], alpha=.1, color='C1')\n",
    "ax.set_xlabel(f'dimension {axes[0]}')\n",
    "ax.set_ylabel(f'dimension {axes[1]}')\n",
    "ax.set_zlabel(f'dimension {axes[2]}')\n",
    "plt.tight_layout()\n",
    "plt.axis('equal');"
   ]
  },
  {
   "cell_type": "code",
   "execution_count": null,
   "id": "10",
   "metadata": {
    "ExecuteTime": {
     "end_time": "2024-08-13T18:07:16.762984Z",
     "start_time": "2024-08-13T18:07:16.588722Z"
    }
   },
   "outputs": [],
   "source": [
    "fig, ax = plt.subplots()\n",
    "# plt.scatter(output[100:, 0], output[100:, 1], alpha=.1)\n",
    "plt.plot(output[-500:, 0], output[-500:, 1], color='C1')\n",
    "plt.tight_layout()\n",
    "plt.axis('equal');"
   ]
  },
  {
   "cell_type": "code",
   "execution_count": null,
   "id": "11",
   "metadata": {},
   "outputs": [],
   "source": [
    "%matplotlib inline\n",
    "d = Leventhal24uDataset(bin_size=.1)\n",
    "p = Pipeline([\n",
    "    KernelSmoother(tau=8),\n",
    "    CenteringTransformer(),\n",
    "    proSVD(k=6, init_size=50, whiten=False, log_level=0),\n",
    "    KernelSmoother(tau=1),\n",
    "    mmICA()\n",
    "])\n",
    "\n",
    "start = 1238\n",
    "video_time = 40\n",
    "tq = tqdm(total=start+video_time)\n",
    "\n",
    "with AnimationManager(fps=40) as am:\n",
    "    output = []\n",
    "    for i, output_row in enumerate(p.streaming_run_on(d.neural_data, return_output_stream=False)):\n",
    "        if i < 100:\n",
    "            continue\n",
    "        output.append(output_row)\n",
    "        o = np.squeeze(output)\n",
    "\n",
    "        next_t = d.neural_data.current_sample_time()\n",
    "        if len(o.shape) == 2 and start < next_t < start + video_time:\n",
    "            am.ax[0,0].cla()\n",
    "            am.ax[0,0].autoscale(True)\n",
    "            \n",
    "            am.ax[0,0].scatter(o[:,0], o[:,1], alpha=.999**np.arange(o.shape[0])[::-1], color='C0', linewidth=0, s=5)\n",
    "            am.ax[0,0].plot(o[-10:,0], o[-10:,1], color='C1')\n",
    "            am.ax[0,0].set_title(f'{i}')\n",
    "            am.ax[0,0].axis('equal')\n",
    "\n",
    "            # if np.abs(next_t - (d.trial_data['Time'] + d.trial_data['preTone'])).min() < .5:\n",
    "            if np.abs(next_t - (d.trial_data['Time'])).min() < .5:\n",
    "                x = (am.ax[0,0].transAxes + am.ax[0,0].transData.inverted()).transform((.98,.98))\n",
    "                am.ax[0,0].autoscale(False)\n",
    "                am.ax[0,0].scatter(*x, color='green', s=100)\n",
    "\n",
    "            am.grab_frame()\n",
    "        elif next_t > start + video_time:\n",
    "            break\n",
    "        tq.update(np.floor(next_t - tq.n).astype(int))\n"
   ]
  },
  {
   "cell_type": "code",
   "execution_count": null,
   "id": "12",
   "metadata": {},
   "outputs": [],
   "source": [
    "%matplotlib inline\n",
    "\n",
    "d = Leventhal24uDataset(bin_size=.1)\n",
    "\n",
    "pipelines = [\n",
    "    Pipeline([\n",
    "        KernelSmoother(tau=8),\n",
    "        CenteringTransformer(),\n",
    "        proSVD(k=6),\n",
    "        KernelSmoother(tau=8),\n",
    "        mmICA()\n",
    "    ]),\n",
    "    # Pipeline([\n",
    "    #     KernelSmoother(tau=8),\n",
    "    #     CenteringTransformer(),\n",
    "    #     proSVD(k=6, whiten=True),\n",
    "    #     KernelSmoother(tau=8),\n",
    "    #     mmICA()\n",
    "    # ]),\n",
    "]\n",
    "\n",
    "start = 1238 # in s\n",
    "video_time = 80 # in s\n",
    "tq = tqdm(total=start+video_time)\n",
    "\n",
    "with AnimationManager(fps=40) as am:\n",
    "    \n",
    "    outputs = [[] for p in pipelines]\n",
    "    for i, output_rows in enumerate(zip(*[p.streaming_run_on(d.neural_data) for p in pipelines])):\n",
    "        if i < 100:\n",
    "            continue\n",
    "        \n",
    "        for j, row in enumerate(output_rows):\n",
    "            outputs[j].append(row)\n",
    "        os = [np.squeeze(o) for o in outputs]\n",
    "\n",
    "        next_ts = [p.mid_run_sources[0][0].current_sample_time() for p in pipelines]\n",
    "        assert all(t == next_ts[0] for t in next_ts)\n",
    "        next_t = next_ts[0]\n",
    "        o = os[0]\n",
    "        if len(o.shape) == 2 and start < next_t < start + video_time:\n",
    "            am.ax[0,0].cla()\n",
    "            am.ax[0,0].autoscale(True)\n",
    "            \n",
    "            for j, o in enumerate(os):\n",
    "                am.ax[0,0].scatter(o[:,0], o[:,1], alpha=.999**np.arange(o.shape[0])[::-1], color=f'C{j}', linewidth=0, s=5)\n",
    "                am.ax[0,0].plot(o[-10:,0], o[-10:,1], color=f'C{j}')\n",
    "            am.ax[0,0].set_title(f'frame={i}, time={next_t:.1f}')\n",
    "            am.ax[0,0].axis('equal')\n",
    "\n",
    "            # if np.abs(next_t - (d.trial_data['Time'] + d.trial_data['preTone'])).min() < .5:\n",
    "            if np.abs(next_t - (d.trial_data['Time'])).min() < .5:\n",
    "                dot_point = np.array([.98,.98])\n",
    "                # dot_point = (am.ax[0,0].transAxes + am.ax[0,0].transData.inverted()).transform(dot_point)\n",
    "                # am.ax[0,0].autoscale(False)\n",
    "                dot_point = dot_point * 10\n",
    "                am.ax[0,0].scatter(*dot_point, color='green', s=100)\n",
    "\n",
    "            am.ax[0,0].set_xlim([-10, 10])\n",
    "            am.ax[0,0].set_ylim([-10, 10])\n",
    "            am.grab_frame()\n",
    "        elif next_t > start + video_time:\n",
    "            break\n",
    "        tq.update(np.floor(next_t - tq.n).astype(int))\n"
   ]
  }
 ],
 "metadata": {
  "kernelspec": {
   "display_name": "Python 3 (ipykernel)",
   "language": "python",
   "name": "python3"
  },
  "language_info": {
   "codemirror_mode": {
    "name": "ipython",
    "version": 3
   },
   "file_extension": ".py",
   "mimetype": "text/x-python",
   "name": "python",
   "nbconvert_exporter": "python",
   "pygments_lexer": "ipython3",
   "version": "3.12.4"
  }
 },
 "nbformat": 4,
 "nbformat_minor": 5
}
