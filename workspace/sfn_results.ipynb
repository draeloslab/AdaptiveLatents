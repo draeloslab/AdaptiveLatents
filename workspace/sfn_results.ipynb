{
 "cells": [
  {
   "cell_type": "code",
   "execution_count": null,
   "id": "0",
   "metadata": {
    "ExecuteTime": {
     "end_time": "2024-10-22T19:15:17.072986Z",
     "start_time": "2024-10-22T19:15:15.031193Z"
    }
   },
   "outputs": [],
   "source": [
    "import numpy as np\n",
    "\n",
    "import adaptive_latents.input_sources.datasets as datasets\n",
    "import adaptive_latents\n",
    "from adaptive_latents.plotting_functions import AnimationManager\n",
    "import adaptive_latents.plotting_functions as pf\n",
    "import matplotlib.pyplot as plt\n",
    "from importlib import reload\n",
    "from IPython import display\n",
    "import time\n",
    "\n"
   ]
  },
  {
   "cell_type": "code",
   "execution_count": null,
   "id": "1",
   "metadata": {},
   "outputs": [],
   "source": [
    "o = adaptive_latents.plotting_functions.UpdatingOptimizationGraph()\n",
    "for v in o.suggest_values(0,6.28):\n",
    "    time.sleep(1)\n",
    "    o.register_result(v, {'beh':{'corr': [np.sin(v), np.cos(v)], 'nrmse': -np.cos(v)}, 'joint':{'corr': [-np.cos(v), -np.cos(v*2)], 'nrmse': np.cos(v)}})"
   ]
  },
  {
   "cell_type": "code",
   "execution_count": null,
   "id": "2",
   "metadata": {
    "ExecuteTime": {
     "end_time": "2024-10-22T19:15:17.428068Z",
     "start_time": "2024-10-22T19:15:17.074086Z"
    }
   },
   "outputs": [],
   "source": [
    "!echo $(hostname) $(git rev-parse --short HEAD)"
   ]
  },
  {
   "cell_type": "code",
   "execution_count": null,
   "id": "3",
   "metadata": {
    "ExecuteTime": {
     "end_time": "2024-10-22T19:15:17.439814Z",
     "start_time": "2024-10-22T19:15:17.430695Z"
    }
   },
   "outputs": [],
   "source": [
    "def binary_search_range(*args, n_samples=None, tried=()):\n",
    "    # usual args are min, max\n",
    "    tried = list(tried)\n",
    "\n",
    "    while n_samples is None or len(tried) < n_samples:\n",
    "        for new_x in args:\n",
    "            if new_x not in tried:\n",
    "                yield new_x\n",
    "                tried.append(new_x)\n",
    "                continue\n",
    "                \n",
    "        tried = sorted(tried)\n",
    "        idx = np.argmax(np.diff(tried))\n",
    "        new_x = (tried[idx] + tried[idx+1])/2\n",
    "        \n",
    "        yield new_x\n",
    "        tried.append(new_x)\n"
   ]
  },
  {
   "cell_type": "code",
   "execution_count": null,
   "id": "4",
   "metadata": {
    "ExecuteTime": {
     "end_time": "2024-10-22T19:22:20.684062Z",
     "start_time": "2024-10-22T19:22:20.674408Z"
    }
   },
   "outputs": [],
   "source": [
    "runs = []\n",
    "tried = []"
   ]
  },
  {
   "cell_type": "code",
   "execution_count": null,
   "id": "5",
   "metadata": {},
   "outputs": [],
   "source": [
    "%matplotlib inline\n",
    "fig, axs = None, None\n",
    "for x in binary_search_range(-3, 1, tried=tried):\n",
    "    parameters = dict(prp.PipelineRun.default_parameter_values['naumann24u'])\n",
    "    parameters['drop_behavior'] = True\n",
    "    parameters['neural_smoothing_tau'] = 10**-.25\n",
    "    parameters['beh_type'] = 'bout'\n",
    "    # parameters['exit_time'] = 600\n",
    "    run = prp.PipelineRun(**parameters)\n",
    "    runs.append(run)\n",
    "    tried.append(x)\n",
    "    \n",
    "    fig, axs = prp.PipelineRun.compare_metrics_across_runs(tried, runs, fig, axs)\n",
    "    display.clear_output()\n",
    "    display.display(fig)\n",
    "\n"
   ]
  },
  {
   "cell_type": "code",
   "execution_count": null,
   "id": "6",
   "metadata": {
    "ExecuteTime": {
     "end_time": "2024-10-22T19:09:48.911100Z",
     "start_time": "2024-10-22T19:09:48.315309Z"
    }
   },
   "outputs": [],
   "source": [
    "\n",
    "runs[2].plot_results()\n"
   ]
  },
  {
   "cell_type": "code",
   "execution_count": null,
   "id": "7",
   "metadata": {
    "ExecuteTime": {
     "end_time": "2024-10-22T19:09:48.952278Z",
     "start_time": "2024-10-22T19:09:48.911957Z"
    }
   },
   "outputs": [],
   "source": [
    "plt.plot(run.pro.Q[:,0])"
   ]
  },
  {
   "cell_type": "code",
   "execution_count": null,
   "id": "8",
   "metadata": {
    "ExecuteTime": {
     "end_time": "2024-10-22T19:09:49.453574Z",
     "start_time": "2024-10-22T19:09:48.952919Z"
    }
   },
   "outputs": [],
   "source": [
    "%matplotlib inline\n",
    " \n",
    "fig, axs = plt.subplots(nrows=3, ncols=2, squeeze=False, layout='tight', figsize=(10, 10))\n",
    "e1, e2 = np.zeros(6), np.zeros(6)\n",
    "e1[0] = 1\n",
    "e2[1] = 1\n",
    "\n",
    "for idx, latents in enumerate([run.pro_latents, run.jpca_latents, run.ica_latents]):\n",
    "    ax: plt.Axes = axs[idx, 0]\n",
    "    # ax.scatter(latents[:,0], latents[:,1], s=5)\n",
    "\n",
    "    d_latents = np.diff(latents, axis=0)\n",
    "    d_latents = d_latents / np.linalg.norm(d_latents, axis=1)[:, np.newaxis]\n",
    "    ax.quiver(latents[:-1] @ e1, latents[:-1]@e2, d_latents@e1, d_latents@e2, scale=1 / 20, units='dots', alpha=1)\n",
    "    x1, x2, y1, y2 = ax.axis()\n",
    "    x_points = np.linspace(x1, x2, 21)\n",
    "    y_points = np.linspace(y1, y2, 21)\n",
    "    # mgrid = np.meshgrid(*[np.linspace(latents[:, i].min(), latents[:, i].max(), 10) for i in range(2)])\n",
    "    origins = []\n",
    "    arrows = []\n",
    "    for i in range(len(x_points) - 1):\n",
    "        for j in range(len(y_points) - 1):\n",
    "            proj_1 = (latents[:-1] @ e1)\n",
    "            proj_2 = (latents[:-1] @ e2)\n",
    "            s = (x_points[i] <= proj_1) & (proj_1 < x_points[i + 1]) & (y_points[j] <= proj_2) & (\n",
    "                    proj_2 < y_points[j + 1])\n",
    "            if s.sum():\n",
    "                arrow = d_latents[s].mean(axis=0)\n",
    "                arrow = arrow / np.linalg.norm(arrow)\n",
    "                arrows.append(arrow)\n",
    "                origins.append([x_points[i:i + 2].mean(), y_points[j:j + 2].mean()])\n",
    "    origins, arrows = np.array(origins), np.array(arrows)\n",
    "    ax.quiver(origins[:, 0], origins[:, 1], arrows @ e1, arrows @ e2, scale=1 / 20, units='dots', color='red')\n",
    "\n",
    "    ax.axis('equal')\n",
    "\n",
    "axs[0, 1].plot(run.pro.inverse_transform(e1, 2))\n",
    "axs[0, 1].plot(run.pro.inverse_transform(e2, 2))\n",
    "axs[0, 0].set_ylabel('pro')\n",
    "\n",
    "axs[1, 1].plot(run.pro.inverse_transform(run.jpca.inverse_transform(e1, 2), 2))\n",
    "axs[1, 1].plot(run.pro.inverse_transform(run.jpca.inverse_transform(e2, 2), 2))\n",
    "axs[1, 0].set_ylabel('jpca')\n",
    "\n",
    "axs[2, 1].plot(run.pro.inverse_transform(run.ica.inverse_transform(e1, 2), 2))\n",
    "axs[2, 1].plot(run.pro.inverse_transform(run.ica.inverse_transform(e2, 2), 2))\n",
    "axs[2, 0].set_ylabel('ica')"
   ]
  },
  {
   "cell_type": "markdown",
   "id": "9",
   "metadata": {},
   "source": [
    "# Other Datasts"
   ]
  }
 ],
 "metadata": {
  "kernelspec": {
   "display_name": "Python 3 (ipykernel)",
   "language": "python",
   "name": "python3"
  },
  "language_info": {
   "codemirror_mode": {
    "name": "ipython",
    "version": 3
   },
   "file_extension": ".py",
   "mimetype": "text/x-python",
   "name": "python",
   "nbconvert_exporter": "python",
   "pygments_lexer": "ipython3",
   "version": "3.9.20"
  }
 },
 "nbformat": 4,
 "nbformat_minor": 5
}
