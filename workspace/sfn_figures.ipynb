{
 "cells": [
  {
   "cell_type": "code",
   "execution_count": null,
   "id": "0",
   "metadata": {
    "ExecuteTime": {
     "end_time": "2024-09-30T23:06:41.765477Z",
     "start_time": "2024-09-30T23:06:39.860925Z"
    }
   },
   "outputs": [],
   "source": [
    "import numpy as np\n",
    "\n",
    "import adaptive_latents.input_sources.datasets as datasets\n",
    "import adaptive_latents.plotting_functions as pf\n",
    "import matplotlib.pyplot as plt\n",
    "import prediction_regression_pipeline as prp\n",
    "from importlib import reload\n",
    "\n"
   ]
  },
  {
   "cell_type": "code",
   "execution_count": null,
   "id": "1",
   "metadata": {
    "ExecuteTime": {
     "end_time": "2024-09-30T23:06:42.054460Z",
     "start_time": "2024-09-30T23:06:41.766589Z"
    }
   },
   "outputs": [],
   "source": [
    "!echo $(hostname) $(git rev-parse --short HEAD)"
   ]
  },
  {
   "cell_type": "markdown",
   "id": "2",
   "metadata": {},
   "source": [
    "\n",
    "## Prediction tables\n"
   ]
  },
  {
   "cell_type": "code",
   "execution_count": null,
   "id": "3",
   "metadata": {
    "ExecuteTime": {
     "end_time": "2024-09-30T23:19:01.782118Z",
     "start_time": "2024-09-30T23:17:37.715819Z"
    }
   },
   "outputs": [],
   "source": [
    "%%time\n",
    "runs = []\n",
    "\n",
    "to_try = np.linspace(0, 0.25, 1)\n",
    "for x in to_try:\n",
    "    run = prp.PipelineRun(\n",
    "        neural_lag=x, dataset='zong22', exit_time=-1, \n",
    "        pos_scale=1, hd_scale=1, h2b_scale=1\n",
    "    )\n",
    "    runs.append(run)\n",
    "\n"
   ]
  },
  {
   "cell_type": "code",
   "execution_count": null,
   "id": "4",
   "metadata": {
    "ExecuteTime": {
     "end_time": "2024-09-30T23:19:01.982356Z",
     "start_time": "2024-09-30T23:19:01.788867Z"
    }
   },
   "outputs": [],
   "source": [
    "fig, axs = plt.subplots(nrows=3, ncols=2, squeeze=False, figsize=(4*2,5), sharex=True)\n",
    "for idx, target_str in enumerate(['beh', 'neural', 'joint']):\n",
    "    correlations = np.array([getattr(run, f'{target_str}_correlations') for run in runs])\n",
    "    mses = np.array([getattr(run, f'{target_str}_nrmses') for run in runs])\n",
    "    for jdx, metric in enumerate([correlations, mses]):\n",
    "        axs[idx,jdx].plot(to_try, metric)\n",
    "        metric = -metric if jdx == 1 else metric\n",
    "        best_tried = to_try[np.argmax(metric.sum(axis=1))]\n",
    "        axs[idx, jdx].axvline(best_tried, color='k')\n",
    "        axs[idx, jdx].text(.99, .99, f'{best_tried:.3f}', ha='right', va='top', transform=axs[idx, jdx].transAxes)\n"
   ]
  },
  {
   "cell_type": "code",
   "execution_count": null,
   "id": "5",
   "metadata": {
    "ExecuteTime": {
     "end_time": "2024-09-30T23:53:08.522281Z",
     "start_time": "2024-09-30T23:53:07.801667Z"
    }
   },
   "outputs": [],
   "source": [
    "%matplotlib inline\n",
    "runs[-1].plot_results()\n",
    "\n",
    "# plt.gcf().axes[-2].set_xlim([550, 600])\n"
   ]
  },
  {
   "cell_type": "code",
   "execution_count": null,
   "id": "6",
   "metadata": {},
   "outputs": [],
   "source": [
    "plt.hist(np.nanstd(run.d.behavioral_data.a[:,:,2], axis=0).flatten()) # 1200"
   ]
  },
  {
   "cell_type": "code",
   "execution_count": null,
   "id": "7",
   "metadata": {
    "ExecuteTime": {
     "end_time": "2024-09-30T23:53:14.481828Z",
     "start_time": "2024-09-30T23:53:13.582992Z"
    }
   },
   "outputs": [],
   "source": [
    "%matplotlib inline\n",
    " \n",
    "fig, axs = plt.subplots(nrows=3, ncols=2, squeeze=False, layout='tight', figsize=(10, 10))\n",
    "e1, e2 = np.zeros(6), np.zeros(6)\n",
    "e1[0] = 1\n",
    "e2[1] = 1\n",
    "\n",
    "for idx, latents in enumerate([run.pro_latents, run.jpca_latents, run.ica_latents]):\n",
    "    ax: plt.Axes = axs[idx, 0]\n",
    "    # ax.scatter(latents[:,0], latents[:,1], s=5)\n",
    "\n",
    "    d_latents = np.diff(latents, axis=0)\n",
    "    d_latents = d_latents / np.linalg.norm(d_latents, axis=1)[:, np.newaxis]\n",
    "    ax.quiver(latents[:-1] @ e1, latents[:-1]@e2, d_latents@e1, d_latents@e2, scale=1 / 20, units='dots', alpha=0)\n",
    "    x1, x2, y1, y2 = ax.axis()\n",
    "    x_points = np.linspace(x1, x2, 21)\n",
    "    y_points = np.linspace(y1, y2, 21)\n",
    "    # mgrid = np.meshgrid(*[np.linspace(latents[:, i].min(), latents[:, i].max(), 10) for i in range(2)])\n",
    "    origins = []\n",
    "    arrows = []\n",
    "    for i in range(len(x_points) - 1):\n",
    "        for j in range(len(y_points) - 1):\n",
    "            proj_1 = (latents[:-1] @ e1)\n",
    "            proj_2 = (latents[:-1] @ e2)\n",
    "            s = (x_points[i] <= proj_1) & (proj_1 < x_points[i + 1]) & (y_points[j] <= proj_2) & (\n",
    "                    proj_2 < y_points[j + 1])\n",
    "            if s.sum():\n",
    "                arrow = d_latents[s].mean(axis=0)\n",
    "                arrow = arrow / np.linalg.norm(arrow)\n",
    "                arrows.append(arrow)\n",
    "                origins.append([x_points[i:i + 2].mean(), y_points[j:j + 2].mean()])\n",
    "    origins, arrows = np.array(origins), np.array(arrows)\n",
    "    ax.quiver(origins[:, 0], origins[:, 1], arrows @ e1, arrows @ e2, scale=1 / 20, units='dots', color='red')\n",
    "\n",
    "    ax.axis('equal')\n",
    "\n",
    "axs[0, 1].plot(run.pro.inverse_transform(e1, 2))\n",
    "axs[0, 1].plot(run.pro.inverse_transform(e2, 2))\n",
    "axs[0, 0].set_ylabel('pro')\n",
    "\n",
    "axs[1, 1].plot(run.pro.inverse_transform(run.jpca.inverse_transform(e1, 2), 2))\n",
    "axs[1, 1].plot(run.pro.inverse_transform(run.jpca.inverse_transform(e2, 2), 2))\n",
    "axs[1, 0].set_ylabel('jpca')\n",
    "\n",
    "axs[2, 1].plot(run.pro.inverse_transform(run.ica.inverse_transform(e1, 2), 2))\n",
    "axs[2, 1].plot(run.pro.inverse_transform(run.ica.inverse_transform(e2, 2), 2))\n",
    "axs[2, 0].set_ylabel('ica')"
   ]
  },
  {
   "cell_type": "code",
   "execution_count": null,
   "id": "8",
   "metadata": {
    "ExecuteTime": {
     "end_time": "2024-09-30T23:19:03.138552Z",
     "start_time": "2024-09-30T23:19:02.874639Z"
    }
   },
   "outputs": [],
   "source": [
    "if isinstance(run.d, datasets.Zong22Dataset):\n",
    "    desired_pattern = np.mean(latents[-101:-1], axis=0)\n",
    "    current_pattern = latents[-1]\n",
    "    desired_stim = desired_pattern - current_pattern\n",
    "    \n",
    "    desired_pattern = (desired_stim @ run.pro.Q.T)[:run.d.neural_data.a.shape[-1]]\n",
    "    \n",
    "    near_zero = np.abs(desired_stim) < 100\n",
    "    print(near_zero.sum())\n",
    "    desired_stim[near_zero] = np.nan\n",
    "    \n",
    "    \n",
    "    fig, ax = plt.subplots()\n",
    "    run.d.show_stim_pattern(ax, np.abs(desired_pattern))\n"
   ]
  },
  {
   "cell_type": "code",
   "execution_count": null,
   "id": "9",
   "metadata": {},
   "outputs": [],
   "source": [
    "fig, ax = plt.subplots()\n",
    "\n",
    "latents = jpca_latents\n",
    "\n",
    "dim_1, dim_2 = 0,1\n",
    "pf.plot_history_with_tail(ax, latents, dim_1=dim_1, dim_2=dim_2)\n",
    "means = np.mean(latents, axis=0)\n",
    "\n",
    "ax.arrow(latents[-1,dim_1], latents[-1,dim_2], means[dim_1] - latents[-1,dim_1], means[dim_2] - latents[-1,dim_2], zorder=5, head_width=.1, color='k')\n",
    "\n",
    "ax.axis('equal');\n",
    "\n"
   ]
  },
  {
   "cell_type": "markdown",
   "id": "10",
   "metadata": {},
   "source": [
    "## Intro video"
   ]
  },
  {
   "cell_type": "code",
   "execution_count": null,
   "id": "11",
   "metadata": {},
   "outputs": [],
   "source": [
    "d = datasets.Odoherty21Dataset()\n",
    "\n",
    "tail_length = 5  # seconds\n",
    "\n",
    "with AnimationManager(n_cols=2, n_rows=1, figsize=(10, 5)) as am:\n",
    "    for current_t in np.linspace(100, 110, 51):\n",
    "        am.axs[0,0].cla()\n",
    "\n",
    "        n_columns = np.floor(tail_length / d.bin_width).astype(int)\n",
    "        idx = np.nonzero(~(d.neural_data.t < current_t))[0][0]\n",
    "        \n",
    "        \n",
    "        am.axs[0,0].imshow(d.neural_data.a[idx-n_columns:idx,0,:].T, aspect='auto', interpolation='none', extent=[current_t - tail_length, current_t, d.neural_data.a.shape[2], 0])\n",
    "\n",
    "\n",
    "\n",
    "        old_lims = am.axs[0,1].axis()\n",
    "        am.axs[0,1].cla()\n",
    "        am.axs[0,1].axis('off')\n",
    "        \n",
    "        s = ((current_t - tail_length) < d.behavioral_data.t) & (d.behavioral_data.t < current_t)\n",
    "        am.axs[0,1].plot(d.behavioral_data.a[s,0,0], d.behavioral_data.a[s,0,1])\n",
    "        pf.use_bigger_lims(am.axs[0,1], old_lims)\n",
    "        \n",
    "        am.grab_frame()"
   ]
  }
 ],
 "metadata": {
  "kernelspec": {
   "display_name": "Python 3 (ipykernel)",
   "language": "python",
   "name": "python3"
  },
  "language_info": {
   "codemirror_mode": {
    "name": "ipython",
    "version": 3
   },
   "file_extension": ".py",
   "mimetype": "text/x-python",
   "name": "python",
   "nbconvert_exporter": "python",
   "pygments_lexer": "ipython3",
   "version": "3.9.20"
  }
 },
 "nbformat": 4,
 "nbformat_minor": 5
}
