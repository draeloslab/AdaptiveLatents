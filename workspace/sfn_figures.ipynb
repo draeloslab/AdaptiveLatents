{
 "cells": [
  {
   "cell_type": "code",
   "execution_count": null,
   "id": "0",
   "metadata": {
    "ExecuteTime": {
     "end_time": "2024-09-17T17:18:26.767356Z",
     "start_time": "2024-09-17T17:18:24.603739Z"
    },
    "collapsed": true
   },
   "outputs": [],
   "source": [
    "import numpy as np\n",
    "\n",
    "import adaptive_latents\n",
    "from adaptive_latents import AnimationManager, Pipeline, CenteringTransformer, proSVD, Bubblewrap, VanillaOnlineRegressor, NumpyTimedDataSource, KernelSmoother, Concatenator\n",
    "import adaptive_latents.input_sources.datasets as datasets\n",
    "import adaptive_latents.plotting_functions as pf\n",
    "import matplotlib.pyplot as plt\n",
    "from tqdm.notebook import tqdm\n",
    "import copy\n"
   ]
  },
  {
   "cell_type": "markdown",
   "id": "1",
   "metadata": {},
   "source": [
    "## Intro video"
   ]
  },
  {
   "cell_type": "code",
   "execution_count": null,
   "id": "2",
   "metadata": {
    "ExecuteTime": {
     "end_time": "2024-09-13T15:45:54.373270Z",
     "start_time": "2024-09-13T15:45:48.530504Z"
    }
   },
   "outputs": [],
   "source": [
    "d = datasets.Odoherty21Dataset()\n",
    "\n",
    "tail_length = 5  # seconds\n",
    "\n",
    "with AnimationManager(n_cols=2, n_rows=1, figsize=(10, 5)) as am:\n",
    "    for current_t in np.linspace(100, 110, 51):\n",
    "        am.axs[0,0].cla()\n",
    "\n",
    "        n_columns = np.floor(tail_length / d.bin_width).astype(int)\n",
    "        idx = np.nonzero(~(d.neural_data.t < current_t))[0][0]\n",
    "        \n",
    "        \n",
    "        am.axs[0,0].imshow(d.neural_data.a[idx-n_columns:idx,0,:].T, aspect='auto', interpolation='none', extent=[current_t - tail_length, current_t, d.neural_data.a.shape[2], 0])\n",
    "\n",
    "\n",
    "\n",
    "        old_lims = am.axs[0,1].axis()\n",
    "        am.axs[0,1].cla()\n",
    "        am.axs[0,1].axis('off')\n",
    "        \n",
    "        s = ((current_t - tail_length) < d.behavioral_data.t) & (d.behavioral_data.t < current_t)\n",
    "        am.axs[0,1].plot(d.behavioral_data.a[s,0,0], d.behavioral_data.a[s,0,1])\n",
    "        pf.use_bigger_lims(am.axs[0,1], old_lims)\n",
    "        \n",
    "        am.grab_frame()"
   ]
  },
  {
   "cell_type": "markdown",
   "id": "3",
   "metadata": {},
   "source": [
    "## Regression video"
   ]
  },
  {
   "cell_type": "code",
   "execution_count": null,
   "id": "4",
   "metadata": {
    "ExecuteTime": {
     "end_time": "2024-09-17T17:18:53.779839Z",
     "start_time": "2024-09-17T17:18:52.789034Z"
    }
   },
   "outputs": [],
   "source": [
    "d = datasets.Temmar24uDataset()\n",
    "\n",
    "\n",
    "p = Pipeline([\n",
    "    proSVD(k=6, input_streams={0:'X'}, output_streams={0:0}),\n",
    "    KernelSmoother(tau=0.2/d.bin_width, input_streams={0:'X'}, output_streams={0:0}),\n",
    "    Concatenator(input_streams={0: 0, 1: 1}, output_streams={0:2, 1:2}),\n",
    "    Bubblewrap(\n",
    "        num=100,\n",
    "        eps=1e-3,\n",
    "        step=1,\n",
    "        num_grad_q=3,\n",
    "        input_streams={2:'X'}, \n",
    "        output_streams={2:2},\n",
    "    ),\n",
    "    VanillaOnlineRegressor(\n",
    "        log_level=1,\n",
    "        input_streams={2:'X', 3:'Y'},\n",
    "        output_streams={2:2},\n",
    "    ),\n",
    "])\n",
    "\n",
    "bw: Bubblewrap = p.steps[-2]\n",
    "reg: VanillaOnlineRegressor = p.steps[-1]\n",
    "\n",
    "streams = []\n",
    "streams.append( (d.neural_data, 0) )\n",
    "streams.append( (d.behavioral_data, 1) )\n",
    "streams.append( (d.behavioral_data, 3) )\n",
    "iterator = p.streaming_run_on(streams, return_output_stream=True)"
   ]
  },
  {
   "cell_type": "code",
   "execution_count": null,
   "id": "5",
   "metadata": {
    "ExecuteTime": {
     "end_time": "2024-09-17T17:19:18.020220Z",
     "start_time": "2024-09-17T17:18:54.355449Z"
    }
   },
   "outputs": [],
   "source": [
    "time_between_draws = .1\n",
    "time_of_last_draw = 100\n",
    "exit_time = 110\n",
    "prediction = []\n",
    "prediction_t = []\n",
    "pbar = tqdm(total=exit_time)\n",
    "\n",
    "with AnimationManager(n_cols=1, n_rows=1, figsize=(10, 5)) as am:\n",
    "    ax = am.axs[0,0]\n",
    "    ax.text(.01, .01, \"\\n\".join([f\"{k}: {v}\" for k, v in p.get_params().items()]), transform=ax.transAxes, fontsize='xx-small', wrap=True)\n",
    "    am.grab_frame()\n",
    "    \n",
    "    for output, stream in iterator:\n",
    "        current_t = output.t\n",
    "        pbar.update(current_t - pbar.n)\n",
    "\n",
    "        if stream == 3 and current_t > time_of_last_draw - 10:\n",
    "            prediction_offset = .1\n",
    "            time_to_predict = bw.last_timepoint + prediction_offset\n",
    "            output = reg.predict(bw.get_alpha_at_t(time_to_predict)) # todo: why doesn't transform work?\n",
    "            prediction.append(output)\n",
    "            prediction_t.append(time_to_predict)\n",
    "\n",
    "        if current_t > time_of_last_draw + time_between_draws:\n",
    "            old_axes = ax.axis()\n",
    "            ax.cla()\n",
    "\n",
    "            s = (current_t-5 < d.behavioral_data.t) & (d.behavioral_data.t < current_t)\n",
    "            ax.plot(d.behavioral_data.t[s], d.behavioral_data.a[s,0,0])\n",
    "            ax.plot(d.behavioral_data.t[s], d.behavioral_data.a[s,0,1])\n",
    "\n",
    "            if len(prediction):\n",
    "                pt = np.array(prediction_t)\n",
    "                s = (current_t-5 < pt) & (pt < current_t)\n",
    "                pred = np.squeeze(prediction)[s]\n",
    "                ax.plot(pt[s], pred[:, 0], 'k')\n",
    "                ax.plot(pt[s], pred[:, 1], 'k')\n",
    "\n",
    "            pf.use_bigger_lims(ax, old_axes, x=False)\n",
    "            am.grab_frame()\n",
    "            time_of_last_draw = current_t\n",
    "\n",
    "        if current_t > exit_time:\n",
    "            break\n",
    "\n"
   ]
  },
  {
   "cell_type": "code",
   "execution_count": null,
   "id": "6",
   "metadata": {
    "ExecuteTime": {
     "end_time": "2024-09-17T17:18:47.344637Z",
     "start_time": "2024-09-17T17:18:47.329531Z"
    }
   },
   "outputs": [],
   "source": [
    "\n",
    "reg = VanillaOnlineRegressor(log_level=1)\n",
    "\n",
    "reg.partial_fit_transform(np.array([0]),0)\n",
    "reg.partial_fit_transform(np.array([0]),1)\n",
    "\n",
    "reg.partial_fit_transform(np.array([0]),0)\n",
    "reg.partial_fit_transform(np.array([0]),1)\n",
    "\n",
    "reg.partial_fit_transform(np.array([0]),0)\n",
    "reg.partial_fit_transform(np.array([0]),1)\n",
    "\n",
    "reg.partial_fit_transform(np.array([0]),0)\n",
    "reg.partial_fit_transform(np.array([0]),1)\n",
    "\n",
    "reg.log\n"
   ]
  }
 ],
 "metadata": {
  "kernelspec": {
   "display_name": "Python 3",
   "language": "python",
   "name": "python3"
  },
  "language_info": {
   "codemirror_mode": {
    "name": "ipython",
    "version": 2
   },
   "file_extension": ".py",
   "mimetype": "text/x-python",
   "name": "python",
   "nbconvert_exporter": "python",
   "pygments_lexer": "ipython2",
   "version": "2.7.6"
  }
 },
 "nbformat": 4,
 "nbformat_minor": 5
}
