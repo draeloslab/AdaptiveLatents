{
 "cells": [
  {
   "cell_type": "code",
   "execution_count": null,
   "id": "0",
   "metadata": {
    "ExecuteTime": {
     "end_time": "2024-10-04T01:44:50.884700Z",
     "start_time": "2024-10-04T01:44:49.008192Z"
    }
   },
   "outputs": [],
   "source": [
    "import numpy as np\n",
    "\n",
    "import adaptive_latents.input_sources.datasets as datasets\n",
    "import adaptive_latents.plotting_functions as pf\n",
    "import matplotlib.pyplot as plt\n",
    "import prediction_regression_pipeline as prp\n",
    "from adaptive_latents.plotting_functions import PredictionVideo\n",
    "from adaptive_latents import (\n",
    "    AnimationManager\n",
    ")\n",
    "import pandas as pd\n",
    "from importlib import reload\n",
    "from IPython import display\n",
    "\n"
   ]
  },
  {
   "cell_type": "code",
   "execution_count": null,
   "id": "1",
   "metadata": {
    "ExecuteTime": {
     "end_time": "2024-10-04T01:09:07.140017Z",
     "start_time": "2024-10-04T01:09:06.785263Z"
    }
   },
   "outputs": [],
   "source": [
    "!echo $(hostname) $(git rev-parse --short HEAD)"
   ]
  },
  {
   "cell_type": "markdown",
   "id": "2",
   "metadata": {},
   "source": [
    "# Odoherty21 Portion"
   ]
  },
  {
   "cell_type": "markdown",
   "id": "3",
   "metadata": {},
   "source": [
    "## Intro video"
   ]
  },
  {
   "cell_type": "code",
   "execution_count": null,
   "id": "4",
   "metadata": {
    "ExecuteTime": {
     "end_time": "2024-10-04T01:09:12.822220Z",
     "start_time": "2024-10-04T01:09:07.916891Z"
    }
   },
   "outputs": [],
   "source": [
    "d = datasets.Odoherty21Dataset()\n",
    "\n",
    "tail_length = 5  # seconds\n",
    "\n",
    "with AnimationManager(n_cols=2, n_rows=1, figsize=(10, 5)) as am:\n",
    "    for current_t in np.linspace(100, 110, 51):\n",
    "        am.axs[0,0].cla()\n",
    "\n",
    "        n_columns = np.floor(tail_length / d.bin_width).astype(int)\n",
    "        idx = np.nonzero(~(d.neural_data.t < current_t))[0][0]\n",
    "        \n",
    "        \n",
    "        am.axs[0,0].imshow(d.neural_data.a[idx-n_columns:idx,0,:].T, aspect='auto', interpolation='none', extent=[current_t - tail_length, current_t, d.neural_data.a.shape[2], 0])\n",
    "\n",
    "\n",
    "\n",
    "        old_lims = am.axs[0,1].axis()\n",
    "        am.axs[0,1].cla()\n",
    "        am.axs[0,1].axis('off')\n",
    "        \n",
    "        s = ((current_t - tail_length) < d.behavioral_data.t) & (d.behavioral_data.t < current_t)\n",
    "        am.axs[0,1].plot(d.behavioral_data.a[s,0,0], d.behavioral_data.a[s,0,1])\n",
    "        pf.use_bigger_lims(am.axs[0,1], old_lims)\n",
    "        \n",
    "        am.grab_frame()\n",
    "        \n",
    "display.display(display.Video())\n"
   ]
  },
  {
   "cell_type": "markdown",
   "id": "5",
   "metadata": {},
   "source": [
    "## Trajectory with 2d histogram background"
   ]
  },
  {
   "cell_type": "code",
   "execution_count": null,
   "id": "6",
   "metadata": {
    "ExecuteTime": {
     "end_time": "2024-10-04T01:05:49.295595Z",
     "start_time": "2024-10-04T01:04:25.486122Z"
    }
   },
   "outputs": [],
   "source": [
    "run = prp.PipelineRun(**prp.PipelineRun.default_parameter_values['odoherty21'])"
   ]
  },
  {
   "cell_type": "code",
   "execution_count": null,
   "id": "7",
   "metadata": {
    "ExecuteTime": {
     "end_time": "2024-10-04T01:32:36.436970Z",
     "start_time": "2024-10-04T01:32:35.745728Z"
    }
   },
   "outputs": [],
   "source": [
    "fig, axs = plt.subplots(ncols=3, figsize=(15, 5))\n",
    "\n",
    "def plot_with_tail(ax, data, current_t, tail_length):\n",
    "    ax.cla()\n",
    "    # ax.axis('equal')\n",
    "    ax.hist2d(data[:,0], data[:,1], 40)\n",
    "    s = (current_t - tail_length < data.t) & (data.t < current_t)\n",
    "    ax.plot(data[s,0], data[s,1], color='black', linewidth=4)\n",
    "    ax.plot(data[s,0], data[s,1], color='white', linewidth=3)\n",
    "    ax.axis('off')\n",
    "    \n",
    "\n",
    "current_t = 35\n",
    "tail_length = 1\n",
    "\n",
    "plot_with_tail(axs[0], run.neural_target, current_t, tail_length)\n",
    "plot_with_tail(axs[1], run.jpca_latents,  current_t, tail_length)\n",
    "plot_with_tail(axs[2], run.beh_target, current_t, tail_length)\n",
    "\n"
   ]
  },
  {
   "cell_type": "markdown",
   "id": "8",
   "metadata": {},
   "source": [
    "## Data, Latent, Prediction graph"
   ]
  },
  {
   "cell_type": "code",
   "execution_count": null,
   "id": "9",
   "metadata": {
    "ExecuteTime": {
     "end_time": "2024-10-04T01:05:50.725435Z",
     "start_time": "2024-10-04T01:05:49.473189Z"
    }
   },
   "outputs": [],
   "source": [
    "pv = PredictionVideo(run.d)\n",
    "\n",
    "assert (run.next_bubble_joint_predictions.t == run.beh_predictions.t).all()\n",
    "with pv.am:\n",
    "    for current_t in np.linspace(35, 36, 10):\n",
    "        pv.plot_for_video_t(\n",
    "            current_t, \n",
    "            run.jpca_latents, run.jpca_latents.t, \n",
    "            run.next_bubble_joint_predictions, run.beh_predictions, run.beh_predictions.t,\n",
    "            run.streams\n",
    "        )"
   ]
  },
  {
   "cell_type": "markdown",
   "id": "10",
   "metadata": {},
   "source": [
    "## Stream table"
   ]
  },
  {
   "cell_type": "code",
   "execution_count": null,
   "id": "11",
   "metadata": {
    "ExecuteTime": {
     "end_time": "2024-10-04T01:21:57.868533Z",
     "start_time": "2024-10-04T01:20:52.284147Z"
    }
   },
   "outputs": [],
   "source": [
    "run_all = prp.PipelineRun(**(prp.PipelineRun.default_parameter_values['odoherty21']))\n",
    "run_no_neural = prp.PipelineRun(**(prp.PipelineRun.default_parameter_values['odoherty21'] | dict(concat_zero_streams=[0])))\n",
    "run_no_beh = prp.PipelineRun(**(prp.PipelineRun.default_parameter_values['odoherty21'] | dict(concat_zero_streams=[1])))\n"
   ]
  },
  {
   "cell_type": "code",
   "execution_count": null,
   "id": "12",
   "metadata": {
    "ExecuteTime": {
     "end_time": "2024-10-04T01:29:14.784468Z",
     "start_time": "2024-10-04T01:29:14.761677Z"
    }
   },
   "outputs": [],
   "source": [
    "def make_row(run):\n",
    "    return ({\n",
    "        'beh_x': run.beh_correlations[0],\n",
    "        'beh_y': run.beh_correlations[1],\n",
    "    } | {f'neural_{n}': run.neural_correlations[n] for n in range(len(run.neural_correlations))})\n",
    "    \n",
    "pd.DataFrame(\n",
    "    [\n",
    "        make_row(run_all),\n",
    "        make_row(run_no_neural),\n",
    "        make_row(run_no_beh)\n",
    "    ], \n",
    "    index = ['all', 'no_neural', 'no_beh']\n",
    ")"
   ]
  },
  {
   "cell_type": "markdown",
   "id": "13",
   "metadata": {},
   "source": [
    "# Zong22 Portion"
   ]
  },
  {
   "cell_type": "code",
   "execution_count": null,
   "id": "14",
   "metadata": {
    "ExecuteTime": {
     "end_time": "2024-10-04T01:46:21.021418Z",
     "start_time": "2024-10-04T01:44:59.806660Z"
    }
   },
   "outputs": [],
   "source": [
    "run = prp.PipelineRun(**prp.PipelineRun.default_parameter_values['zong22'])"
   ]
  },
  {
   "cell_type": "markdown",
   "id": "15",
   "metadata": {},
   "source": [
    "## Dimensionality reduction comparison"
   ]
  },
  {
   "cell_type": "code",
   "execution_count": null,
   "id": "16",
   "metadata": {
    "ExecuteTime": {
     "end_time": "2024-10-04T01:46:25.274906Z",
     "start_time": "2024-10-04T01:46:24.574295Z"
    }
   },
   "outputs": [],
   "source": [
    "fig, axs = plt.subplots(ncols=3, nrows=1, squeeze=False, figsize=(15, 10), layout='tight')\n",
    "\n",
    "current_t = run.neural_target.t.max()\n",
    "\n",
    "plot_with_tail(axs[0,0], run.pro_latents, current_t, tail_length=2)\n",
    "plot_with_tail(axs[0,1], run.jpca_latents, current_t, tail_length=2)\n",
    "plot_with_tail(axs[0,2], run.ica_latents, current_t, tail_length=2)\n",
    "\n"
   ]
  },
  {
   "cell_type": "code",
   "execution_count": null,
   "id": "17",
   "metadata": {
    "ExecuteTime": {
     "end_time": "2024-10-04T01:47:11.342604Z",
     "start_time": "2024-10-04T01:47:10.909475Z"
    }
   },
   "outputs": [],
   "source": [
    "run.plot_flow_fields(grid_n=10)"
   ]
  },
  {
   "cell_type": "markdown",
   "id": "18",
   "metadata": {},
   "source": [
    "## Stimulation figure"
   ]
  },
  {
   "cell_type": "code",
   "execution_count": null,
   "id": "19",
   "metadata": {},
   "outputs": [],
   "source": [
    "\n",
    "\n",
    "latents = run.jpca_latents\n",
    "\n",
    "desired_pattern = np.mean(latents[-101:-1], axis=0)\n",
    "current_pattern = latents[-1]\n",
    "desired_stim = desired_pattern - current_pattern\n",
    "\n",
    "desired_pattern = (desired_stim @ run.pro.Q.T)[:run.d.neural_data.a.shape[-1]]\n",
    "\n",
    "near_zero = np.abs(desired_stim) < 100\n",
    "print(near_zero.sum())\n",
    "desired_stim[near_zero] = np.nan\n",
    "\n",
    "\n",
    "fig, ax = plt.subplots()\n",
    "run.d.show_stim_pattern(ax, np.abs(desired_pattern))\n",
    "\n",
    "\n",
    "\n"
   ]
  },
  {
   "cell_type": "code",
   "execution_count": null,
   "id": "20",
   "metadata": {},
   "outputs": [],
   "source": [
    "fig, ax = plt.subplots()\n",
    "dim_1, dim_2 = 0,1\n",
    "pf.plot_history_with_tail(ax, latents, dim_1=dim_1, dim_2=dim_2)\n",
    "means = np.mean(latents, axis=0)\n",
    "ax.arrow(latents[-1,dim_1], latents[-1,dim_2], means[dim_1] - latents[-1,dim_1], means[dim_2] - latents[-1,dim_2], zorder=5, head_width=.1, color='k')\n",
    "ax.axis('equal');\n",
    "\n"
   ]
  }
 ],
 "metadata": {
  "kernelspec": {
   "display_name": "Python 3 (ipykernel)",
   "language": "python",
   "name": "python3"
  },
  "language_info": {
   "codemirror_mode": {
    "name": "ipython",
    "version": 3
   },
   "file_extension": ".py",
   "mimetype": "text/x-python",
   "name": "python",
   "nbconvert_exporter": "python",
   "pygments_lexer": "ipython3",
   "version": "3.9.20"
  }
 },
 "nbformat": 4,
 "nbformat_minor": 5
}
