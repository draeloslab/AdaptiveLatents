{
 "cells": [
  {
   "cell_type": "code",
   "execution_count": null,
   "id": "0",
   "metadata": {
    "ExecuteTime": {
     "end_time": "2024-09-26T17:35:13.225825Z",
     "start_time": "2024-09-26T17:35:11.746669Z"
    }
   },
   "outputs": [],
   "source": [
    "import numpy as np\n",
    "\n",
    "import adaptive_latents\n",
    "from adaptive_latents import AnimationManager, Pipeline, CenteringTransformer, proSVD, Bubblewrap, VanillaOnlineRegressor, NumpyTimedDataSource, KernelSmoother, Concatenator, sjPCA\n",
    "import adaptive_latents.input_sources.datasets as datasets\n",
    "import adaptive_latents.plotting_functions as pf\n",
    "import matplotlib.pyplot as plt\n",
    "from tqdm.notebook import tqdm\n",
    "from IPython.display import Video, Image, display\n"
   ]
  },
  {
   "cell_type": "code",
   "execution_count": null,
   "id": "1",
   "metadata": {},
   "outputs": [],
   "source": [
    "!hostname"
   ]
  },
  {
   "cell_type": "markdown",
   "id": "2",
   "metadata": {},
   "source": [
    "\n",
    "## Combination and prediction video\n"
   ]
  },
  {
   "cell_type": "code",
   "execution_count": null,
   "id": "3",
   "metadata": {
    "ExecuteTime": {
     "end_time": "2024-09-26T17:38:47.456219Z",
     "start_time": "2024-09-26T17:37:13.504589Z"
    }
   },
   "outputs": [],
   "source": [
    "%%time\n",
    "%matplotlib inline\n",
    "d = datasets.Odoherty21Dataset()\n",
    "\n",
    "streams = []\n",
    "streams.append( (d.neural_data,     0) )\n",
    "streams.append( (d.behavioral_data, 1) )\n",
    "streams.append( (d.behavioral_data, 3) )\n",
    "\n",
    "p1 = Pipeline([\n",
    "    CenteringTransformer(input_streams={0:'X'}, output_streams={0:0}),\n",
    "    KernelSmoother(tau=0.08/d.bin_width, input_streams={0:'X'}, output_streams={0:0}),\n",
    "    Concatenator(input_streams={0: 0, 1: 1}, output_streams={0:2, 1:2, 'skip':-1}),\n",
    "    pro:=proSVD(k=6, init_size=100, input_streams={2:'X'}, output_streams={2:2}),\n",
    "    sjPCA(init_size=100, input_streams={2:'X'}, output_streams={2:2}),\n",
    "])\n",
    "\n",
    "p2 = Pipeline([\n",
    "    bw:=Bubblewrap(\n",
    "        num=500,\n",
    "        eps=1e-6,\n",
    "        step=1e-3,\n",
    "        num_grad_q=1,\n",
    "        input_streams={2:'X'},\n",
    "        output_streams={2:2},\n",
    "        log_level=1,\n",
    "    ),\n",
    "    reg:=VanillaOnlineRegressor(\n",
    "        input_streams={2:'X', 3:'Y'},\n",
    "        output_streams={2:2},\n",
    "    ),\n",
    "])\n",
    "\n",
    "\n",
    "\n",
    "video_dt = 0.1\n",
    "video_ts = np.arange(50)*video_dt + 25\n",
    "streams.append( (NumpyTimedDataSource(np.nan * video_ts, video_ts), 'video') )\n",
    "\n",
    "\n",
    "pbar = tqdm(total=video_ts[-1])\n",
    "latents = []\n",
    "latent_ts = []\n",
    "\n",
    "latent_predictions = []\n",
    "beh_predictions = []\n",
    "prediction_ts = []\n",
    "\n",
    "pred_am = None\n",
    "bw_am = None\n",
    "with (\n",
    "    plt.ioff(),\n",
    "    AnimationManager(fps=1/video_dt, filetype='mp4') as bw_am, \n",
    "    (vid:=pf.PredictionVideo(d, fps=1/video_dt, filetype='mp4')).am as pred_am\n",
    "):\n",
    "    for output, stream in Pipeline().streaming_run_on(streams, return_output_stream=True):\n",
    "        # dim reduction part of pipeline\n",
    "        output, stream = p1.partial_fit_transform(output, stream, return_output_stream=True)\n",
    "        if stream == 2 and np.isfinite(output).all():\n",
    "            latents.append(output)\n",
    "            latent_ts.append(output.t)\n",
    "\n",
    "        # prediction part of pipeline\n",
    "        output, stream = p2.partial_fit_transform(output, stream, return_output_stream=True)\n",
    "        if stream == 2 and np.isfinite(output).all():\n",
    "            prediction_t = output.t+bw.dt*1\n",
    "            alpha_pred = bw.get_alpha_at_t(prediction_t)\n",
    "            latent_prediction = np.array(bw.mu[np.argmax(alpha_pred)])\n",
    "            beh_prediction = reg.predict(alpha_pred)\n",
    "\n",
    "            latent_predictions.append(latent_prediction)\n",
    "            beh_predictions.append(beh_prediction)\n",
    "            prediction_ts.append(prediction_t)\n",
    "            \n",
    "        \n",
    "        if stream == 'video':\n",
    "            \n",
    "            if bw_am is not None:\n",
    "                if output.t == video_ts[0]:\n",
    "                    ax: plt.Axes = bw_am.axs[0,0]\n",
    "                    ax.text(0,1, f\"p1={str(p1)}\\np2={str(p2)}\\nmin video t={video_ts.min()}\", transform=ax.transAxes, fontsize='xx-small', verticalalignment='top', wrap=True)\n",
    "                    bw_am.grab_frame()\n",
    "                    \n",
    "                ax: plt.Axes = bw_am.axs[0,0]\n",
    "                ax.cla()\n",
    "                bw.scatter_data_with_decay(ax,np.squeeze(latents))\n",
    "                bw.show_active_bubbles_and_connections_2d(ax, np.squeeze(latents))\n",
    "                bw_am.grab_frame()\n",
    "                \n",
    "            if pred_am is not None:\n",
    "                if output.t == video_ts[0]:\n",
    "                    ax = vid.neural_data_ax\n",
    "                    ax.text(0,1, f\"p1={str(p1)}\\np2={str(p2)}\\nmin video t={video_ts.min()}\", transform=ax.transAxes, fontsize='xx-small', verticalalignment='top', wrap=True)\n",
    "                    ax.set_zorder(1)\n",
    "                    pred_am.grab_frame()\n",
    "                \n",
    "                vid.plot_for_video_t(output.t, latents, latent_ts, latent_predictions, beh_predictions, prediction_ts)\n",
    "            \n",
    "            if output.t == video_ts[-1]:\n",
    "                break\n",
    "\n",
    "        pbar.update(output.t - pbar.n)\n",
    "\n",
    "\n",
    "latents = np.squeeze(latents)\n",
    "latent_predictions = np.squeeze(latent_predictions)\n",
    "beh_predictions = np.squeeze(beh_predictions)\n",
    "prediction_ts = np.squeeze(prediction_ts)\n",
    "\n",
    "plt.close()\n",
    "plt.close()\n",
    "Bubblewrap.compare_runs([bw]], t_in_samples=True)\n",
    "plt.show()\n",
    "\n",
    "if pred_am is not None:\n",
    "    display(Video(pred_am.outfile, embed=True, width=900))\n",
    "\n",
    "\n",
    "if bw_am is not None:\n",
    "    display(Video(bw_am.outfile, embed=True, width=700))\n",
    "\n",
    "fig, ax = plt.subplots()\n",
    "ax.matshow(bw.log['alpha'][-30:])\n",
    "ax.set_title('alpha')\n"
   ]
  },
  {
   "cell_type": "code",
   "execution_count": null,
   "id": "4",
   "metadata": {
    "ExecuteTime": {
     "end_time": "2024-09-25T17:30:59.363269Z",
     "start_time": "2024-09-25T17:30:59.121507Z"
    }
   },
   "outputs": [],
   "source": [
    "\n",
    "test_s = (\n",
    "    (d.behavioral_data.t > ((prediction_ts[0] + prediction_ts[1])/2))\n",
    "    &\n",
    "    (np.isfinite(d.behavioral_data.a).all(axis=2)[:,0])\n",
    ")\n",
    "\n",
    "# estimates = adaptive_latents.utils.resample_matched_timeseries(beh_predictions, prediction_ts, d.behavioral_data.t[test_s])\n",
    "# targets = d.behavioral_data.a[test_s,0,:]\n",
    "\n",
    "estimates = adaptive_latents.utils.resample_matched_timeseries(d.behavioral_data.a[test_s,0,:],d.behavioral_data.t[test_s],  prediction_ts)\n",
    "targets = beh_predictions\n",
    "\n",
    "errors = estimates - targets\n",
    "\n",
    "print([np.corrcoef(estimates[:,i], targets[:,i])[0,1] for i in range(3)])"
   ]
  },
  {
   "cell_type": "code",
   "execution_count": null,
   "id": "5",
   "metadata": {},
   "outputs": [],
   "source": [
    "for i in range(3):\n",
    "    plt.plot(prediction_ts/bw.dt, estimates[:,i], color=f'C{i}')\n",
    "    plt.plot(prediction_ts/bw.dt, targets[:,i], color=f'C{i}', alpha=.5, label=f'{np.corrcoef(estimates[:,i], targets[:,i])[0,1]:.3f}')\n",
    "plt.xlabel(\"time (samples)\")\n",
    "plt.ylabel(\"behavior\")\n",
    "plt.legend()"
   ]
  },
  {
   "cell_type": "code",
   "execution_count": null,
   "id": "6",
   "metadata": {
    "ExecuteTime": {
     "end_time": "2024-09-26T16:19:16.633853Z",
     "start_time": "2024-09-26T16:19:16.560851Z"
    }
   },
   "outputs": [],
   "source": [
    "\n",
    "%matplotlib inline\n",
    "fig, ax = plt.subplots()\n",
    "s = np.array(latent_ts) > 10\n",
    "# ax.scatter(latents[s,0], latents[s,1], s=5, alpha=.1, c='C0', edgecolors='none')\n",
    "sub_latents = latents[s]\n",
    "d_sub_latents = np.diff(sub_latents, axis=0)\n",
    "d_sub_latents = d_sub_latents / np.linalg.norm(d_sub_latents, axis=1)[:, np.newaxis]\n",
    "\n",
    "ax.quiver(sub_latents[:-1,0], sub_latents[:-1,1], d_sub_latents[:,0], d_sub_latents[:,1], scale=1/20, units='dots')\n",
    "\n",
    "x1, x2, y1, y2 = ax.axis()\n",
    "\n",
    "x_points = np.linspace(x1, x2, 10)\n",
    "y_points = np.linspace(y1, y2, 10)\n",
    "mgrid = np.meshgrid(*[np.linspace(sub_latents[:,i].min(),sub_latents[:,i].max(), 10) for i in range(sub_latents.shape[1])])\n",
    "\n",
    "# arrows = np.zeros(shape=(len(points), sub_latents.shape[1]))\n",
    "\n",
    "# ax.quiver(points[:,0], points[:,1])\n"
   ]
  },
  {
   "cell_type": "code",
   "execution_count": null,
   "id": "7",
   "metadata": {
    "ExecuteTime": {
     "end_time": "2024-09-26T16:19:18.836031Z",
     "start_time": "2024-09-26T16:19:18.679899Z"
    }
   },
   "outputs": [],
   "source": [
    "\n",
    "fig, ax = plt.subplots()\n",
    "\n",
    "pf.plot_history_with_tail(ax, latents)\n",
    "means = np.mean(latents, axis=0)\n",
    "ax.arrow(latents[-1,0], latents[-1,1], means[0] - latents[-1,0], means[1] - latents[-1,1], zorder=5, head_width=.1, color='k')\n",
    "\n",
    "ax.axis('off');\n",
    "\n"
   ]
  },
  {
   "cell_type": "code",
   "execution_count": null,
   "id": "8",
   "metadata": {
    "ExecuteTime": {
     "end_time": "2024-09-26T16:19:20.991881Z",
     "start_time": "2024-09-26T16:19:20.940572Z"
    }
   },
   "outputs": [],
   "source": [
    "assert isinstance(d, datasets.Zong22Dataset)\n",
    "desired_pattern = np.mean(latents[-101:-1], axis=0)\n",
    "current_pattern = latents[-1]\n",
    "desired_stim = desired_pattern - current_pattern\n",
    "\n",
    "desired_pattern = (desired_stim @ pro.Q.T)[:d.neural_data.a.shape[-1]]\n",
    "\n",
    "near_zero = np.abs(desired_stim) < 100\n",
    "print(near_zero.sum())\n",
    "desired_stim[near_zero] = np.nan\n",
    "\n",
    "\n",
    "fig, ax = plt.subplots()\n",
    "d.show_stim_pattern(ax, np.abs(desired_pattern))\n"
   ]
  },
  {
   "cell_type": "markdown",
   "id": "9",
   "metadata": {},
   "source": [
    "## Intro video"
   ]
  },
  {
   "cell_type": "code",
   "execution_count": null,
   "id": "10",
   "metadata": {},
   "outputs": [],
   "source": [
    "d = datasets.Odoherty21Dataset()\n",
    "\n",
    "tail_length = 5  # seconds\n",
    "\n",
    "with AnimationManager(n_cols=2, n_rows=1, figsize=(10, 5)) as am:\n",
    "    for current_t in np.linspace(100, 110, 51):\n",
    "        am.axs[0,0].cla()\n",
    "\n",
    "        n_columns = np.floor(tail_length / d.bin_width).astype(int)\n",
    "        idx = np.nonzero(~(d.neural_data.t < current_t))[0][0]\n",
    "        \n",
    "        \n",
    "        am.axs[0,0].imshow(d.neural_data.a[idx-n_columns:idx,0,:].T, aspect='auto', interpolation='none', extent=[current_t - tail_length, current_t, d.neural_data.a.shape[2], 0])\n",
    "\n",
    "\n",
    "\n",
    "        old_lims = am.axs[0,1].axis()\n",
    "        am.axs[0,1].cla()\n",
    "        am.axs[0,1].axis('off')\n",
    "        \n",
    "        s = ((current_t - tail_length) < d.behavioral_data.t) & (d.behavioral_data.t < current_t)\n",
    "        am.axs[0,1].plot(d.behavioral_data.a[s,0,0], d.behavioral_data.a[s,0,1])\n",
    "        pf.use_bigger_lims(am.axs[0,1], old_lims)\n",
    "        \n",
    "        am.grab_frame()"
   ]
  }
 ],
 "metadata": {
  "kernelspec": {
   "display_name": "Python 3 (ipykernel)",
   "language": "python",
   "name": "python3"
  },
  "language_info": {
   "codemirror_mode": {
    "name": "ipython",
    "version": 3
   },
   "file_extension": ".py",
   "mimetype": "text/x-python",
   "name": "python",
   "nbconvert_exporter": "python",
   "pygments_lexer": "ipython3",
   "version": "3.9.20"
  }
 },
 "nbformat": 4,
 "nbformat_minor": 5
}
