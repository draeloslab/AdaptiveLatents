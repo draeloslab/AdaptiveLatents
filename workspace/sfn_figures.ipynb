{
 "cells": [
  {
   "cell_type": "code",
   "execution_count": null,
   "id": "0",
   "metadata": {
    "ExecuteTime": {
     "end_time": "2024-09-25T10:55:46.661743Z",
     "start_time": "2024-09-25T10:55:44.006259Z"
    },
    "collapsed": true
   },
   "outputs": [],
   "source": [
    "import numpy as np\n",
    "\n",
    "import adaptive_latents\n",
    "from adaptive_latents import AnimationManager, Pipeline, CenteringTransformer, proSVD, Bubblewrap, VanillaOnlineRegressor, NumpyTimedDataSource, KernelSmoother, Concatenator, sjPCA\n",
    "import adaptive_latents.input_sources.datasets as datasets\n",
    "import adaptive_latents.plotting_functions as pf\n",
    "import matplotlib.pyplot as plt\n",
    "from tqdm.notebook import tqdm\n"
   ]
  },
  {
   "cell_type": "markdown",
   "id": "1",
   "metadata": {},
   "source": [
    "## Intro video"
   ]
  },
  {
   "cell_type": "code",
   "execution_count": null,
   "id": "2",
   "metadata": {
    "ExecuteTime": {
     "end_time": "2024-09-23T18:53:58.387738Z",
     "start_time": "2024-09-23T18:53:51.017850Z"
    }
   },
   "outputs": [],
   "source": [
    "d = datasets.Odoherty21Dataset()\n",
    "\n",
    "tail_length = 5  # seconds\n",
    "\n",
    "with AnimationManager(n_cols=2, n_rows=1, figsize=(10, 5)) as am:\n",
    "    for current_t in np.linspace(100, 110, 51):\n",
    "        am.axs[0,0].cla()\n",
    "\n",
    "        n_columns = np.floor(tail_length / d.bin_width).astype(int)\n",
    "        idx = np.nonzero(~(d.neural_data.t < current_t))[0][0]\n",
    "        \n",
    "        \n",
    "        am.axs[0,0].imshow(d.neural_data.a[idx-n_columns:idx,0,:].T, aspect='auto', interpolation='none', extent=[current_t - tail_length, current_t, d.neural_data.a.shape[2], 0])\n",
    "\n",
    "\n",
    "\n",
    "        old_lims = am.axs[0,1].axis()\n",
    "        am.axs[0,1].cla()\n",
    "        am.axs[0,1].axis('off')\n",
    "        \n",
    "        s = ((current_t - tail_length) < d.behavioral_data.t) & (d.behavioral_data.t < current_t)\n",
    "        am.axs[0,1].plot(d.behavioral_data.a[s,0,0], d.behavioral_data.a[s,0,1])\n",
    "        pf.use_bigger_lims(am.axs[0,1], old_lims)\n",
    "        \n",
    "        am.grab_frame()"
   ]
  },
  {
   "cell_type": "markdown",
   "id": "3",
   "metadata": {},
   "source": [
    "\n",
    "## Combination and prediction video\n"
   ]
  },
  {
   "cell_type": "code",
   "execution_count": null,
   "id": "4",
   "metadata": {
    "ExecuteTime": {
     "end_time": "2024-09-25T11:11:21.625554Z",
     "start_time": "2024-09-25T11:11:14.858288Z"
    }
   },
   "outputs": [],
   "source": [
    "\n",
    "d = datasets.Odoherty21Dataset()\n",
    "\n",
    "streams = []\n",
    "streams.append( (d.neural_data,     0) )\n",
    "streams.append( (d.behavioral_data, 1) )\n",
    "streams.append( (d.behavioral_data, 3) )\n",
    "\n",
    "p1 = Pipeline([\n",
    "    CenteringTransformer(input_streams={0:'X'}, output_streams={0:0}),\n",
    "    KernelSmoother(tau=0.08/d.bin_width, input_streams={0:'X'}, output_streams={0:0}),\n",
    "    Concatenator(input_streams={0: 0, 1: 1}, output_streams={0:2, 1:2, 'skip':-1}),\n",
    "    pro:=proSVD(k=6, input_streams={2:'X'}, output_streams={2:2}),\n",
    "    sjPCA(input_streams={2:'X'}, output_streams={2:2}),\n",
    "])\n",
    "\n",
    "p2 = Pipeline([\n",
    "    bw:=Bubblewrap(\n",
    "        num=100,\n",
    "        eps=1e-3,\n",
    "        step=1e-1,\n",
    "        num_grad_q=3,\n",
    "        sigma_orig_adjustment=5000,\n",
    "        input_streams={2:'X'},\n",
    "        output_streams={2:2},\n",
    "    ),\n",
    "    reg:=VanillaOnlineRegressor(\n",
    "        input_streams={2:'X', 3:'Y'},\n",
    "        output_streams={2:2},\n",
    "    ),\n",
    "])\n",
    "\n",
    "\n",
    "\n",
    "video_dt = 0.05\n",
    "video_ts = np.arange(200)*video_dt + 50 \n",
    "streams.append( (NumpyTimedDataSource(np.nan * video_ts, video_ts), 'video') )\n"
   ]
  },
  {
   "cell_type": "code",
   "execution_count": null,
   "id": "5",
   "metadata": {
    "ExecuteTime": {
     "start_time": "2024-09-25T11:11:21.629494Z"
    },
    "jupyter": {
     "is_executing": true
    }
   },
   "outputs": [],
   "source": [
    "# vid = pf.PredictionVideo(d, fps=1/video_dt)\n",
    "\n",
    "pbar = tqdm(total=video_ts[-1])\n",
    "latents = []\n",
    "latent_ts = []\n",
    "\n",
    "latent_predictions = []\n",
    "beh_predictions = []\n",
    "prediction_ts = []\n",
    "\n",
    "with AnimationManager(fps=1/video_dt) as am:\n",
    "    for output, stream in Pipeline().streaming_run_on(streams, return_output_stream=True):\n",
    "        # dim reduction part of pipeline\n",
    "        output, stream = p1.partial_fit_transform(output, stream, return_output_stream=True)\n",
    "        if stream == 2 and np.isfinite(output).all():\n",
    "            latents.append(output)\n",
    "            latent_ts.append(output.t)\n",
    "\n",
    "        # prediction part of pipeline\n",
    "        output, stream = p2.partial_fit_transform(output, stream, return_output_stream=True)\n",
    "        if stream == 2 and np.isfinite(output).all():\n",
    "            prediction_t = output.t+bw.dt*1\n",
    "            alpha_pred = bw.get_alpha_at_t(prediction_t)\n",
    "            latent_prediction = np.array(bw.mu[np.argmax(alpha_pred)])\n",
    "            beh_prediction = reg.predict(alpha_pred)\n",
    "\n",
    "            latent_predictions.append(latent_prediction)\n",
    "            beh_predictions.append(beh_prediction)\n",
    "            prediction_ts.append(prediction_t)\n",
    "            \n",
    "        \n",
    "        if stream == 'video':\n",
    "            ax: plt.Axes = am.axs[0,0]\n",
    "            ax.cla()\n",
    "            \n",
    "            bw.scatter_data_with_decay(ax,np.squeeze(latents)[np.array(latent_ts) > 10])\n",
    "            bw.show_bubbles_2d(ax)\n",
    "            \n",
    "            am.grab_frame()\n",
    "            \n",
    "            if output.t == video_ts[-1]:\n",
    "                break\n",
    "\n",
    "        pbar.update(output.t - pbar.n)\n",
    "\n",
    "\n",
    "latents = np.squeeze(latents)\n",
    "latent_predictions = np.squeeze(latent_predictions)\n",
    "beh_predictions = np.squeeze(beh_predictions)\n",
    "prediction_ts = np.squeeze(prediction_ts)\n",
    "\n"
   ]
  },
  {
   "cell_type": "code",
   "execution_count": null,
   "id": "6",
   "metadata": {
    "ExecuteTime": {
     "end_time": "2024-09-25T11:07:29.491154Z",
     "start_time": "2024-09-25T11:07:29.369589Z"
    }
   },
   "outputs": [],
   "source": [
    "\n",
    "fig, ax = plt.subplots()\n",
    "# ax.hist2d(latents[:,0], latents[:,1], bins=50);\n",
    "s = np.array(latent_ts) > 10\n",
    "ax.scatter(latents[s,0], latents[s,1], s=5, alpha=.1, c='C0', edgecolors='none')\n",
    "\n"
   ]
  },
  {
   "cell_type": "code",
   "execution_count": null,
   "id": "7",
   "metadata": {
    "ExecuteTime": {
     "end_time": "2024-09-24T19:18:00.502867Z",
     "start_time": "2024-09-24T19:18:00.115321Z"
    }
   },
   "outputs": [],
   "source": [
    "\n",
    "fig, ax = plt.subplots()\n",
    "\n",
    "pf.plot_history_with_tail(ax, latents)\n",
    "means = np.mean(latents, axis=0)\n",
    "ax.arrow(latents[-1,0], latents[-1,1], means[0] - latents[-1,0], means[1] - latents[-1,1], zorder=5, head_width=.1, color='k')\n",
    "\n",
    "ax.axis('off');\n",
    "\n"
   ]
  },
  {
   "cell_type": "code",
   "execution_count": null,
   "id": "8",
   "metadata": {
    "ExecuteTime": {
     "end_time": "2024-09-24T19:18:10.152180Z",
     "start_time": "2024-09-24T19:18:09.742439Z"
    }
   },
   "outputs": [],
   "source": [
    "assert isinstance(d, datasets.Zong22Dataset)\n",
    "desired_pattern = np.mean(latents[-101:-1], axis=0)\n",
    "current_pattern = latents[-1]\n",
    "desired_stim = desired_pattern - current_pattern\n",
    "\n",
    "desired_pattern = (desired_stim @ pro.Q.T)[:d.neural_data.a.shape[-1]]\n",
    "\n",
    "near_zero = np.abs(desired_stim) < 100\n",
    "print(near_zero.sum())\n",
    "desired_stim[near_zero] = np.nan\n",
    "\n",
    "\n",
    "fig, ax = plt.subplots()\n",
    "d.show_stim_pattern(ax, np.abs(desired_pattern))\n",
    "\n"
   ]
  }
 ],
 "metadata": {
  "kernelspec": {
   "display_name": "Python 3",
   "language": "python",
   "name": "python3"
  },
  "language_info": {
   "codemirror_mode": {
    "name": "ipython",
    "version": 2
   },
   "file_extension": ".py",
   "mimetype": "text/x-python",
   "name": "python",
   "nbconvert_exporter": "python",
   "pygments_lexer": "ipython2",
   "version": "2.7.6"
  }
 },
 "nbformat": 4,
 "nbformat_minor": 5
}
