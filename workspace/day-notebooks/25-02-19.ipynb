{
 "cells": [
  {
   "cell_type": "code",
   "execution_count": null,
   "id": "0",
   "metadata": {},
   "outputs": [],
   "source": [
    "import numpy as np\n",
    "import matplotlib.pyplot as plt\n",
    "\n",
    "rng = np.random.default_rng()"
   ]
  },
  {
   "cell_type": "code",
   "execution_count": null,
   "id": "1",
   "metadata": {},
   "outputs": [],
   "source": [
    "%matplotlib qt\n",
    "dt = 0.05\n",
    "\n",
    "A = np.array([\n",
    "    [np.cos(dt),  -np.sin(dt), 0],\n",
    "    [np.sin(dt),   np.cos(dt), 0],\n",
    "    [         0,            0, .99]\n",
    "])\n",
    "\n",
    "\n",
    "ts = np.arange(0, 50*2.1*np.pi, dt)\n",
    "\n",
    "stims = ts * 0\n",
    "stims[rng.choice(stims.shape[0], size=10, replace=False)] = 1\n",
    "\n",
    "X_true = np.zeros((ts.size, 3))\n",
    "X_true[0,1] = 1\n",
    "\n",
    "for i, t in enumerate(ts):\n",
    "    if i == 0:\n",
    "        continue\n",
    "    X_true[i] = A @ X_true[i-1]\n",
    "    X_true[i] += rng.normal(0, 0.01, X_true[i].shape)\n",
    "    X_true[i,2] += stims[i] * X_true[i,0] / np.linalg.norm(X_true[i,:2])\n",
    "\n",
    "X = X_true + rng.normal(0, 0.01, X_true.shape)\n",
    "\n",
    "\n",
    "fig, ax = plt.subplots(subplot_kw={'projection': '3d'})\n",
    "ax.plot(X[:,0], X[:,1], X[:,2])\n",
    "ax.axis('equal');"
   ]
  },
  {
   "cell_type": "code",
   "execution_count": null,
   "id": "2",
   "metadata": {},
   "outputs": [],
   "source": [
    "A"
   ]
  }
 ],
 "metadata": {
  "kernelspec": {
   "display_name": "Python 3",
   "language": "python",
   "name": "python3"
  },
  "language_info": {
   "codemirror_mode": {
    "name": "ipython",
    "version": 2
   },
   "file_extension": ".py",
   "mimetype": "text/x-python",
   "name": "python",
   "nbconvert_exporter": "python",
   "pygments_lexer": "ipython2",
   "version": "2.7.6"
  }
 },
 "nbformat": 4,
 "nbformat_minor": 5
}
