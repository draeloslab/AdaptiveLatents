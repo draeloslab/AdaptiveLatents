{
 "cells": [
  {
   "cell_type": "code",
   "execution_count": null,
   "id": "0",
   "metadata": {},
   "outputs": [],
   "source": [
    "import numpy as np\n",
    "import adaptive_latents as al\n",
    "import warnings\n",
    "import matplotlib.pyplot as plt\n",
    "import scipy.signal as signal\n",
    "\n",
    "rng = np.random.default_rng()"
   ]
  },
  {
   "cell_type": "code",
   "execution_count": null,
   "id": "1",
   "metadata": {},
   "outputs": [],
   "source": [
    "# load dataset\n",
    "sub_dataset_identifier = 2\n",
    "\n",
    "\n",
    "with warnings.catch_warnings():\n",
    "    warnings.filterwarnings(\"ignore\", category=UserWarning)\n",
    "    d = al.datasets.Naumann24uDataset(sub_dataset_identifier=sub_dataset_identifier)"
   ]
  },
  {
   "cell_type": "code",
   "execution_count": null,
   "id": "2",
   "metadata": {},
   "outputs": [],
   "source": [
    "# extract a rectangular block\n",
    "\n",
    "def get_rectangular_block(neural_data, n_neurons=150):\n",
    "    # type: (al.ArrayWithTime, int) -> al.ArrayWithTime\n",
    "    cutoff1 = np.nonzero(np.nancumsum(neural_data[:,n_neurons]) > 0)[0][0]\n",
    "    cutoff2 = np.nonzero(np.nancumsum(neural_data[cutoff1,::-1]))[0][0]\n",
    "    neural_data = neural_data.slice(cutoff1, -1)[:,:-cutoff2]\n",
    "    cutoff3 = np.where(np.isnan(neural_data).any(axis=1))[0][-1] + 1\n",
    "    neural_data = neural_data.slice(cutoff3, -1)\n",
    "    assert not np.isnan(neural_data).any()\n",
    "    return neural_data.copy()\n",
    "\n",
    "neural_data = get_rectangular_block(d.neural_data, 100)"
   ]
  },
  {
   "cell_type": "markdown",
   "id": "3",
   "metadata": {},
   "source": [
    "## visual psth"
   ]
  },
  {
   "cell_type": "code",
   "execution_count": null,
   "id": "4",
   "metadata": {},
   "outputs": [],
   "source": [
    "psths = []\n",
    "for s in d.visual_stimuli.loc[:,'sample']:\n",
    "    psths.append(d.neural_data[s-50:s+50, :neural_data.shape[1]])\n",
    "psths = np.array(psths)"
   ]
  },
  {
   "cell_type": "code",
   "execution_count": null,
   "id": "5",
   "metadata": {},
   "outputs": [],
   "source": [
    "responses = psths - np.quantile(neural_data, 0.05, axis=0)\n",
    "\n",
    "plt.matshow(responses[6])"
   ]
  },
  {
   "cell_type": "code",
   "execution_count": null,
   "id": "6",
   "metadata": {},
   "outputs": [],
   "source": [
    "plt.plot(np.quantile(neural_data.as_array(), 0.05, axis=0))"
   ]
  },
  {
   "cell_type": "code",
   "execution_count": null,
   "id": "7",
   "metadata": {},
   "outputs": [],
   "source": [
    "%matplotlib qt\n",
    "fig, ax = plt.subplots()\n",
    "\n",
    "custom_kernel = np.zeros(10)\n",
    "\n",
    "# smoothed = al.Pipeline([al.KernelSmoother(tau=6), al.KernelSmoother(custom_kernel=)]).offline_run_on(neural_data)\n",
    "# ax.plot(smoothed.t, smoothed[:,10].as_array());\n",
    "ax.plot(neural_data.t, neural_data.as_array())\n",
    "\n",
    "for t in d.visual_stimuli.time:\n",
    "    ax.axvline(t, color='k')\n"
   ]
  },
  {
   "cell_type": "code",
   "execution_count": null,
   "id": "8",
   "metadata": {},
   "outputs": [],
   "source": [
    "\n",
    "def plot_single_group_responses(group_n, responses_by_group):\n",
    "    single_group_responses = responses_by_group[group_n]\n",
    "    target_neuron = target_neurons[group_n]\n",
    "\n",
    "    fig, axs = plt.subplots(ncols=max(single_group_responses.shape[0],2), nrows=2,  figsize=(10, 5), sharey='row')\n",
    "    gs = axs[1,0].get_gridspec()\n",
    "    for ax in axs[1, :4]:\n",
    "        ax.remove()\n",
    "    axs[1,0] = fig.add_subplot(gs[1,:2])\n",
    "\n",
    "    stimuli_in_previous_groups = sum([r.shape[0] for r in responses_by_group[:group_n]])\n",
    "    for i, ax in enumerate(axs[0,:]):\n",
    "        stimulus_number = stimuli_in_previous_groups + i\n",
    "        ax.plot(single_group_responses[i,:,:])\n",
    "        ax.set_xlabel('samples from stim')\n",
    "        ax.set_title(f'stim {stimulus_number}, neuron = {d.opto_stimulations.loc[stimulus_number,\"target_neuron\"]}', fontsize='small')\n",
    "\n",
    "    mean_responses = single_group_responses.mean(axis=0)\n",
    "    axs[1,0].plot(mean_responses)\n",
    "\n",
    "    axs[0,0].set_ylabel('response magnitude (a.u.)')\n",
    "\n",
    "    axs[1,0].set_ylabel('response magnitude (a.u.)')\n",
    "    axs[1,0].set_title(f'average response for group {group_n}')\n",
    "    axs[1,0].set_xlabel('samples from stim')\n",
    "\n",
    "    sizes = np.mean(mean_responses, axis=0)\n",
    "    sizes = np.abs(sizes / 7.3) * 15\n",
    "    sizes[sizes < 5]  = np.nan\n",
    "    plot_per_neuron(axs[1,4], sizes, d)\n",
    "    axs[1,4].scatter(d.neuron_df.loc[target_neuron, 'x'], d.neuron_df.loc[target_neuron, 'y'], s=10, color='blue')\n",
    "    fig.tight_layout()\n",
    "\n",
    "    print(f\"Neuron with the highest average peak: {np.unravel_index(np.nanargmax(mean_responses), mean_responses.shape)[1]}\")\n"
   ]
  },
  {
   "cell_type": "markdown",
   "id": "9",
   "metadata": {},
   "source": [
    "## make latents"
   ]
  },
  {
   "cell_type": "code",
   "execution_count": null,
   "id": "10",
   "metadata": {},
   "outputs": [],
   "source": [
    "latents = neural_data"
   ]
  },
  {
   "cell_type": "code",
   "execution_count": null,
   "id": "11",
   "metadata": {},
   "outputs": [],
   "source": [
    "\n",
    "b,a = signal.butter(N=10, Wn=[1/20, 1/2], fs=1/neural_data.dt, btype='band', output='ba')\n",
    "latents=signal.filtfilt(b,a, latents, axis=0)\n"
   ]
  },
  {
   "cell_type": "code",
   "execution_count": null,
   "id": "12",
   "metadata": {},
   "outputs": [],
   "source": [
    "pro = None\n",
    "jpca = None\n",
    "centerer = None\n",
    "p = al.Pipeline([\n",
    "    # al.KernelSmoother(tau=2),\n",
    "    # centerer:=al.CenteringTransformer(init_size=50),\n",
    "    pro:=al.proSVD(k=3),\n",
    "    # ica:=al.mmICA(init_size=200),\n",
    "    # jpca:=al.sjPCA()\n",
    "])\n",
    "\n",
    "\n",
    "online_output = p.offline_run_on(latents)\n",
    "\n",
    "# freeze the pipeline\n",
    "for i, step in enumerate(p.steps):\n",
    "    if isinstance(step, al.KernelSmoother):\n",
    "        p.steps[i] = step.blank_copy()\n",
    "    else:\n",
    "        step.freeze()\n",
    "        \n",
    "offline_output = p.offline_run_on(latents)\n",
    "\n",
    "\n",
    "latents = [online_output, offline_output][1]"
   ]
  },
  {
   "cell_type": "code",
   "execution_count": null,
   "id": "13",
   "metadata": {},
   "outputs": [],
   "source": [
    "plt.figure()\n",
    "plt.plot(pro.Q)"
   ]
  },
  {
   "cell_type": "code",
   "execution_count": null,
   "id": "14",
   "metadata": {},
   "outputs": [],
   "source": [
    "%matplotlib qt\n",
    "fig, ax = plt.subplots(subplot_kw={'projection': '3d'})\n",
    "ax.plot(latents[:,0], latents[:,1], latents[:,2])"
   ]
  },
  {
   "cell_type": "code",
   "execution_count": null,
   "id": "15",
   "metadata": {},
   "outputs": [],
   "source": [
    "fig, ax = plt.subplots()\n",
    "ax.matshow(neural_data.T)"
   ]
  },
  {
   "cell_type": "code",
   "execution_count": null,
   "id": "16",
   "metadata": {},
   "outputs": [],
   "source": [
    "fig, ax = plt.subplots(subplot_kw={'projection': '3d'})\n",
    "ax.plot(latents[:,0], latents[:,1], latents[:,2])\n",
    "\n",
    "i = 0\n",
    "for _, stim_t in enumerate(d.visual_stimuli.time[:-1]):\n",
    "    if stim_t > latents.t.min():\n",
    "        stim = np.nonzero(latents.t > stim_t)[0][0]\n",
    "        s = slice(stim +15,  stim + 20)\n",
    "        response = latents[s] - latents[s.start]\n",
    "        response = latents[s] \n",
    "        ax.plot(response[:, 0], response[:, 1], response[:, 2], 'C2')\n",
    "        # ax.text(o[s.start,0], o[s.start,1], o[s.start,2], s=d.opto_stimulations.loc[i,'stim_name'])\n",
    "        i += 1\n",
    "\n",
    "for i, stim_t in enumerate(d.opto_stimulations.time):\n",
    "    stim = np.nonzero(latents.t > stim_t)[0][0]\n",
    "    s = slice(stim + 13, stim + 15)\n",
    "    response = latents[s] - latents[s.start]\n",
    "    response = latents[s] \n",
    "    ax.plot(response[:, 0], response[:, 1], response[:, 2], 'C1')\n",
    "    # ax.scatter(o[s.start, 0], o[s.start, 1], o[s.start, 2], color='k', s=2)\n",
    "    # ax.text(o[s.start,0], o[s.start,1], o[s.start,2], s=d.opto_stimulations.loc[i,'stim_name'])\n",
    "\n",
    "\n",
    "ax.scatter(0,0,0, color='k')\n",
    "\n",
    "\n",
    "# arrow = np.vstack([np.zeros(3), np.ones(151) @ pro.Q]).T\n",
    "# ax.plot(arrow[0], arrow[1], arrow[2], color='C6', label='1s vector')\n"
   ]
  },
  {
   "cell_type": "code",
   "execution_count": null,
   "id": "17",
   "metadata": {},
   "outputs": [],
   "source": []
  },
  {
   "cell_type": "code",
   "execution_count": null,
   "id": "18",
   "metadata": {},
   "outputs": [],
   "source": []
  },
  {
   "cell_type": "code",
   "execution_count": null,
   "id": "19",
   "metadata": {},
   "outputs": [],
   "source": [
    "%matplotlib qt\n",
    "fig, ax = plt.subplots(figsize=(18, 5))\n",
    "\n",
    "# N is order\n",
    "# sos = butter(N=5, Wn=[1/20, 1/2], fs=1/neural_data.dt, btype='band', output='sos')\n",
    "# sos = butter(N=5, Wn=1/2, fs=1/neural_data.dt, btype='low', output='sos')\n",
    "# filtered = sosfiltfilt(sos, neural_data, axis=0)\n",
    "\n",
    "# b,a = butter(N=5, Wn=1/5, fs=1/neural_data.dt, btype='low', output='ba')\n",
    "# filtered=lfilter(b,a, neural_data, axis=0)\n",
    "\n",
    "b,a = signal.butter(N=5, Wn=[1/20, 1/5], fs=1/neural_data.dt, btype='band', output='ba')\n",
    "# filtered=lfilter(b,a, neural_data, axis=0)\n",
    "filtered=signal.filtfilt(b,a, neural_data, axis=0)\n",
    "\n",
    "# ax.plot(filtered)\n",
    "ax.plot(neural_data.t,filtered[:,:])\n",
    "# ax.plot(neural_data.t, neural_data[:,83])\n",
    "# plt.plot(neural_data.t, neural_data.as_array())\n",
    "\n",
    "for stim_s in d.visual_stimuli.loc[:,'time']:\n",
    "    ax.axvline(stim_s, color='k')\n",
    "\n",
    "for stim_s in d.opto_stimulations.loc[:,'time']:\n",
    "    ax.axvline(stim_s, color='k')\n",
    "\n",
    "ax.set_xlim([500,800])"
   ]
  },
  {
   "cell_type": "code",
   "execution_count": null,
   "id": "20",
   "metadata": {},
   "outputs": [],
   "source": [
    "fig, ax = plt.subplots()\n",
    "ax.matshow(filtered)"
   ]
  }
 ],
 "metadata": {
  "kernelspec": {
   "display_name": "Python 3",
   "language": "python",
   "name": "python3"
  },
  "language_info": {
   "codemirror_mode": {
    "name": "ipython",
    "version": 2
   },
   "file_extension": ".py",
   "mimetype": "text/x-python",
   "name": "python",
   "nbconvert_exporter": "python",
   "pygments_lexer": "ipython2",
   "version": "2.7.6"
  }
 },
 "nbformat": 4,
 "nbformat_minor": 5
}
