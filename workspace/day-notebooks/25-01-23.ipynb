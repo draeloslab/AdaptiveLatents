{
 "cells": [
  {
   "cell_type": "code",
   "execution_count": null,
   "id": "0",
   "metadata": {},
   "outputs": [],
   "source": [
    "import numpy as np\n",
    "import matplotlib.pyplot as plt\n",
    "import warnings\n",
    "import adaptive_latents as al\n",
    "import scipy.signal as signal\n",
    "\n",
    "\n",
    "rng = np.random.default_rng()"
   ]
  },
  {
   "cell_type": "code",
   "execution_count": null,
   "id": "1",
   "metadata": {},
   "outputs": [],
   "source": [
    "from dataclasses import dataclass\n",
    "from typing import Literal\n",
    "\n",
    "@dataclass\n",
    "class Options:\n",
    "    sub_dataset: Literal[1,2]\n",
    "    n_neurons: int\n",
    "\n",
    "options = Options(\n",
    "    sub_dataset=1,\n",
    "    n_neurons=100,\n",
    ")"
   ]
  },
  {
   "cell_type": "code",
   "execution_count": null,
   "id": "2",
   "metadata": {},
   "outputs": [],
   "source": [
    "with warnings.catch_warnings():\n",
    "    warnings.filterwarnings(\"ignore\", category=UserWarning)\n",
    "    d = al.datasets.Naumann24uDataset(sub_dataset_identifier=options.sub_dataset)"
   ]
  },
  {
   "cell_type": "code",
   "execution_count": null,
   "id": "3",
   "metadata": {},
   "outputs": [],
   "source": [
    "def get_rectangular_block(neural_data, n_neurons=150):\n",
    "    # type: (al.ArrayWithTime, int) -> al.ArrayWithTime\n",
    "    cutoff1 = np.nonzero(np.nancumsum(neural_data[:,n_neurons]) > 0)[0][0]\n",
    "    cutoff2 = np.nonzero(np.nancumsum(neural_data[cutoff1,::-1]))[0][0]\n",
    "    neural_data = neural_data.slice(cutoff1, -1)[:,:-cutoff2]\n",
    "    additional_cutoff_info = np.where(np.isnan(neural_data).any(axis=1))[0]\n",
    "    if additional_cutoff_info.size > 0:\n",
    "        cutoff3 = additional_cutoff_info[-1] + 1\n",
    "        neural_data = neural_data.slice(cutoff3, -1)\n",
    "    assert not np.isnan(neural_data).any()\n",
    "    return neural_data.copy()\n"
   ]
  },
  {
   "cell_type": "code",
   "execution_count": null,
   "id": "4",
   "metadata": {},
   "outputs": [],
   "source": [
    "neural_data = get_rectangular_block(d.neural_data, options.n_neurons)\n",
    "\n",
    "\n",
    "b, a = signal.butter(N=10, Wn=1/2, fs=1/neural_data.dt, btype='low', output='ba')\n",
    "neural_data = signal.filtfilt(b, a, neural_data, axis=0)\n",
    "\n",
    "\n",
    "pro = al.proSVD(k=10)\n",
    "neural_data = pro.offline_fit_then_transform(neural_data)\n"
   ]
  },
  {
   "cell_type": "code",
   "execution_count": null,
   "id": "5",
   "metadata": {},
   "outputs": [],
   "source": [
    "def predict_closest(query, training_data, offset=1):\n",
    "    training_data = np.vstack(training_data)\n",
    "    idx = np.argmin(np.linalg.norm(training_data - query, axis=1))\n",
    "    return training_data[min(idx+offset, len(training_data)-1)]\n",
    "\n",
    "def predict_closest_with_offset(query, training_data, offset=1):\n",
    "    training_data = np.vstack(training_data)\n",
    "    idx = np.argmin(np.linalg.norm(training_data - query, axis=1))\n",
    "    delta = training_data[min(idx+offset, len(training_data)-1)] - training_data[idx]\n",
    "    return query + delta\n",
    "\n",
    "def predict_query(query, training_data, offset=1):\n",
    "    return query\n",
    "\n",
    "def predict_random(query, training_data, offset=1):\n",
    "    training_data = np.vstack(training_data)\n",
    "    return rng.choice(training_data)\n",
    "\n",
    "\n"
   ]
  },
  {
   "cell_type": "code",
   "execution_count": null,
   "id": "6",
   "metadata": {},
   "outputs": [],
   "source": [
    "def evaluate(p, data, folds=5, offset=5):\n",
    "    edges = np.floor(np.linspace(0, neural_data.shape[0], folds+1)).astype(int)\n",
    "\n",
    "    mses = []\n",
    "    for start, end in zip(edges[:-1], edges[1:]):\n",
    "        to_predict = data[start:end]\n",
    "        training_data = [data[:start], data[end:]]\n",
    "        \n",
    "        predictions = []\n",
    "        for i in np.arange(to_predict.shape[0]):\n",
    "            prediction = p(query=to_predict[i], training_data=training_data, offset=offset)\n",
    "            predictions.append(prediction)\n",
    "        mses.append(float(((np.array(predictions[offset:]) - to_predict[:-offset])**2).mean()))\n",
    "    return mses\n",
    "\n",
    "\n",
    "fig, ax = plt.subplots()\n",
    "for k, v in {'identity': predict_query, 'close':predict_closest, 'close plus offset':predict_closest_with_offset, 'rand':predict_random}.items():\n",
    "    ax.plot(evaluate(v, neural_data, folds=10, offset=39), label=k)\n",
    "ax.legend()\n",
    "\n"
   ]
  },
  {
   "cell_type": "code",
   "execution_count": null,
   "id": "7",
   "metadata": {},
   "outputs": [],
   "source": []
  }
 ],
 "metadata": {
  "kernelspec": {
   "display_name": "Python 3",
   "language": "python",
   "name": "python3"
  },
  "language_info": {
   "codemirror_mode": {
    "name": "ipython",
    "version": 2
   },
   "file_extension": ".py",
   "mimetype": "text/x-python",
   "name": "python",
   "nbconvert_exporter": "python",
   "pygments_lexer": "ipython2",
   "version": "2.7.6"
  }
 },
 "nbformat": 4,
 "nbformat_minor": 5
}
