{
 "cells": [
  {
   "cell_type": "code",
   "execution_count": null,
   "id": "0",
   "metadata": {},
   "outputs": [],
   "source": [
    "from adaptive_latents.input_sources.datasets import DandiDataset, ModelOrganism\n",
    "import matplotlib.pyplot as plt\n",
    "import numpy as np"
   ]
  },
  {
   "cell_type": "code",
   "execution_count": null,
   "id": "1",
   "metadata": {},
   "outputs": [],
   "source": [
    "class Nair24(DandiDataset):\n",
    "    doi = 'https://doi.org/10.48324/dandi.001131/0.240826.1647'\n",
    "    model_organism = ModelOrganism.MOUSE\n",
    "    dandiset_id = \"001131\"\n",
    "    version_id = \"0.240826.1647\"\n",
    "n = Nair24()"
   ]
  },
  {
   "cell_type": "code",
   "execution_count": null,
   "id": "2",
   "metadata": {},
   "outputs": [],
   "source": [
    "with n.acquire(\"sub-ControlMouse/sub-ControlMouse_ses-20230201_behavior.nwb\") as fhan:\n",
    "    ds = fhan.read()\n",
    "    A = ds.processing['ophys'].data_interfaces['NeuralTrace'].data[:]\n",
    "    # be = ds.processing['behavior'].data_interfaces['BehavioralEpochs'].interval_series['Ch1: sniffing'].interval"
   ]
  },
  {
   "cell_type": "code",
   "execution_count": null,
   "id": "3",
   "metadata": {},
   "outputs": [],
   "source": [
    "plt.plot(np.arange(A.shape[0])/10, A);"
   ]
  }
 ],
 "metadata": {
  "kernelspec": {
   "display_name": "Python 3",
   "language": "python",
   "name": "python3"
  },
  "language_info": {
   "codemirror_mode": {
    "name": "ipython",
    "version": 2
   },
   "file_extension": ".py",
   "mimetype": "text/x-python",
   "name": "python",
   "nbconvert_exporter": "python",
   "pygments_lexer": "ipython2",
   "version": "2.7.6"
  }
 },
 "nbformat": 4,
 "nbformat_minor": 5
}
