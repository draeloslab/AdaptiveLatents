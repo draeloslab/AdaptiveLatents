{
 "cells": [
  {
   "cell_type": "code",
   "execution_count": null,
   "id": "0",
   "metadata": {},
   "outputs": [],
   "source": [
    "import numpy as np\n",
    "import jax\n",
    "from matplotlib import pyplot as plt\n",
    "from adaptive_latents.input_sources.autoregressor import AR_K\n",
    "\n",
    "jax.config.update('jax_enable_x64', True)\n",
    "import adaptive_latents as al\n",
    "rng = np.random.default_rng()"
   ]
  },
  {
   "cell_type": "code",
   "execution_count": null,
   "id": "1",
   "metadata": {},
   "outputs": [],
   "source": [
    "d = al.datasets.Naumann24uDataset(1)"
   ]
  },
  {
   "cell_type": "code",
   "execution_count": null,
   "id": "2",
   "metadata": {},
   "outputs": [],
   "source": [
    "a = d.get_rectangular_block(60)\n",
    "\n",
    "targets = np.sort(np.unique(d.opto_stimulations.target_neuron))\n",
    "opto_stims = np.zeros((a.shape[0], targets.size))\n",
    "for idx, row in d.opto_stimulations.iterrows():\n",
    "    assert (a.t == row.time).sum() == 1\n",
    "    neuron_index = np.nonzero((targets == row.target_neuron))[0][0]\n",
    "    opto_stims[(a.t == row.time), neuron_index] = 1\n",
    "\n",
    "\n",
    "angles = np.sort(np.unique(d.visual_stimuli.l_angle))\n",
    "visual_stimuli = np.zeros((a.shape[0], angles.size))\n",
    "for idx, row in d.visual_stimuli.iterrows():\n",
    "    assert (a.t == row.time).sum() == 1\n",
    "    angle_index = np.nonzero((angles == row.l_angle))[0][0]\n",
    "    visual_stimuli[(a.t == row.time), angle_index] = 1\n",
    "\n",
    "stims = np.hstack([opto_stims, visual_stimuli])\n",
    "\n",
    "ar = AR_K(k=7, rank_limit=None)\n",
    "ar.fit(a, stims)\n"
   ]
  },
  {
   "cell_type": "code",
   "execution_count": null,
   "id": "3",
   "metadata": {},
   "outputs": [],
   "source": [
    "n_steps = 50\n",
    "new_stims = np.zeros((n_steps+ar.k, stims.shape[1]))\n",
    "new_stims[1, 10] = 1\n",
    "starting_state = a[-ar.k:] * 0 + ar.v\n",
    "out = ar.predict(starting_state, new_stims, n_steps=n_steps)\n",
    "plt.plot(out);\n",
    "# plt.ylim([-5,5])\n"
   ]
  },
  {
   "cell_type": "code",
   "execution_count": null,
   "id": "4",
   "metadata": {},
   "outputs": [],
   "source": [
    "plt.matshow(np.vstack(ar.As))"
   ]
  },
  {
   "cell_type": "code",
   "execution_count": null,
   "id": "5",
   "metadata": {},
   "outputs": [],
   "source": [
    "fig, axs = plt.subplots(nrows=5, figsize=(5, 5), tight_layout=True)\n",
    "\n",
    "for idx, start_t in enumerate(d.opto_stimulations[d.opto_stimulations.target_neuron == targets[0]].time):\n",
    "    trial = a.slice_by_time(start_t, start_t + 20) \n",
    "    axs[idx].plot(trial.t, trial.as_array() - trial[0].as_array())\n",
    "    axs[idx].set_xticks([])"
   ]
  }
 ],
 "metadata": {
  "kernelspec": {
   "display_name": "Python 3",
   "language": "python",
   "name": "python3"
  },
  "language_info": {
   "codemirror_mode": {
    "name": "ipython",
    "version": 2
   },
   "file_extension": ".py",
   "mimetype": "text/x-python",
   "name": "python",
   "nbconvert_exporter": "python",
   "pygments_lexer": "ipython2",
   "version": "2.7.6"
  }
 },
 "nbformat": 4,
 "nbformat_minor": 5
}
