{
 "cells": [
  {
   "cell_type": "code",
   "execution_count": null,
   "id": "0",
   "metadata": {},
   "outputs": [],
   "source": [
    "import numpy as np\n",
    "from adaptive_latents.input_sources import LDS\n",
    "from adaptive_latents import ArrayWithTime\n",
    "import adaptive_latents\n",
    "from adaptive_latents import VJF\n",
    "from tqdm.notebook import trange, tqdm\n",
    "\n",
    "import matplotlib.pyplot as plt\n"
   ]
  },
  {
   "cell_type": "code",
   "execution_count": null,
   "id": "1",
   "metadata": {},
   "outputs": [],
   "source": [
    "rng = np.random.default_rng(0)"
   ]
  },
  {
   "cell_type": "code",
   "execution_count": null,
   "id": "2",
   "metadata": {},
   "outputs": [],
   "source": [
    "transitions_per_rotation = 30\n",
    "radius = 10\n",
    "_, Y, _ = LDS.run_nest_dynamical_system(rotations=1000, transitions_per_rotation=transitions_per_rotation, radius=radius, u_function=lambda **_: np.zeros(3), rng=rng)\n",
    "Y = Y\n",
    "\n",
    "predictor = VJF(latent_d=2, rng=rng)\n",
    "\n",
    "predictor.offline_run_on([(Y, 'X')], convinient_return=False, show_tqdm=True);\n"
   ]
  },
  {
   "cell_type": "code",
   "execution_count": null,
   "id": "3",
   "metadata": {},
   "outputs": [],
   "source": [
    "trajectory = []\n",
    "for i in trange(0, transitions_per_rotation+1):\n",
    "    stream = 'pred_obs_space'  # TODO: change this string\n",
    "    prediction = predictor.partial_fit_transform(ArrayWithTime([[i * Y.dt]], Y.t[-1]), stream=stream)\n",
    "    trajectory.append(prediction)\n",
    "\n",
    "trajectory = np.squeeze(trajectory)\n"
   ]
  },
  {
   "cell_type": "code",
   "execution_count": null,
   "id": "4",
   "metadata": {},
   "outputs": [],
   "source": [
    "%matplotlib qt\n",
    "plt.plot(Y[:, 0], Y[:, 1])\n",
    "plt.plot([Y[-1, 0], trajectory[0, 0]], [Y[-1, 1], trajectory[0, 1]], '--.', color='C2')\n",
    "plt.plot(trajectory[:, 0], trajectory[:, 1], '.-')\n",
    "plt.axis('equal')\n",
    "plt.show()\n"
   ]
  },
  {
   "cell_type": "code",
   "execution_count": null,
   "id": "5",
   "metadata": {},
   "outputs": [],
   "source": [
    "predictor.show_nstep_cloud(30)"
   ]
  }
 ],
 "metadata": {
  "kernelspec": {
   "display_name": "Python 3",
   "language": "python",
   "name": "python3"
  },
  "language_info": {
   "codemirror_mode": {
    "name": "ipython",
    "version": 2
   },
   "file_extension": ".py",
   "mimetype": "text/x-python",
   "name": "python",
   "nbconvert_exporter": "python",
   "pygments_lexer": "ipython2",
   "version": "2.7.6"
  }
 },
 "nbformat": 4,
 "nbformat_minor": 5
}
