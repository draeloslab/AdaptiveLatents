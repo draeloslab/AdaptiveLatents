{
 "cells": [
  {
   "cell_type": "code",
   "execution_count": null,
   "id": "0",
   "metadata": {},
   "outputs": [],
   "source": [
    "import numpy as np\n",
    "from adaptive_latents.input_sources import LDS\n",
    "import adaptive_latents\n",
    "from adaptive_latents import VJF\n",
    "from tqdm.autonotebook import trange\n",
    "\n",
    "import matplotlib.pyplot as plt\n"
   ]
  },
  {
   "cell_type": "code",
   "execution_count": null,
   "id": "1",
   "metadata": {},
   "outputs": [],
   "source": [
    "rng = np.random.default_rng(1)"
   ]
  },
  {
   "cell_type": "code",
   "execution_count": null,
   "id": "2",
   "metadata": {},
   "outputs": [],
   "source": [
    "transitions_per_rotation = 30\n",
    "radius = 5\n",
    "_, Y, stim = LDS.nest_dynamical_system(1000, u_function=lambda **_: np.zeros(3), rng=rng)\n",
    "\n",
    "one_step_distance = np.linalg.norm(Y[0] - Y[1])\n",
    "\n",
    "predictor = VJF(latent_d=2, rng=rng)\n",
    "\n",
    "# mu = predictor.offline_run_on(Y, show_tqdm=True)\n",
    "\n"
   ]
  },
  {
   "cell_type": "code",
   "execution_count": null,
   "id": "3",
   "metadata": {},
   "outputs": [],
   "source": [
    "print(Y.sum())\n",
    "\n"
   ]
  },
  {
   "cell_type": "code",
   "execution_count": null,
   "id": "4",
   "metadata": {},
   "outputs": [],
   "source": [
    "predictions = []\n",
    "for i in trange(transitions_per_rotation+1):\n",
    "    prediction = predictor.partial_fit_transform(adaptive_latents.ArrayWithTime([[i]], Y.t[-1]), stream='pred_obs_space')\n",
    "    predictions.append(prediction)\n",
    "\n",
    "trajectory = np.squeeze(predictions)\n"
   ]
  },
  {
   "cell_type": "code",
   "execution_count": null,
   "id": "5",
   "metadata": {},
   "outputs": [],
   "source": [
    "plt.plot(Y[:, 0], Y[:, 1])\n",
    "# plt.plot([initial_point[0, 0], X_hat[0, 0]], [initial_point[0, 1], X_hat[0, 1]], '--.', color='C2')\n",
    "plt.plot(trajectory[:, 0], trajectory[:, 1], '.-')\n",
    "plt.axis('equal')\n",
    "plt.show()\n"
   ]
  },
  {
   "cell_type": "code",
   "execution_count": null,
   "id": "6",
   "metadata": {},
   "outputs": [],
   "source": [
    "predictor.show_nstep_cloud(0)"
   ]
  }
 ],
 "metadata": {
  "kernelspec": {
   "display_name": "Python 3",
   "language": "python",
   "name": "python3"
  },
  "language_info": {
   "codemirror_mode": {
    "name": "ipython",
    "version": 2
   },
   "file_extension": ".py",
   "mimetype": "text/x-python",
   "name": "python",
   "nbconvert_exporter": "python",
   "pygments_lexer": "ipython2",
   "version": "2.7.6"
  }
 },
 "nbformat": 4,
 "nbformat_minor": 5
}
