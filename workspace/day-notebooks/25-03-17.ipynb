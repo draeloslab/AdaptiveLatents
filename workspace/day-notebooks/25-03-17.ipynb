{
 "cells": [
  {
   "cell_type": "code",
   "execution_count": null,
   "id": "0",
   "metadata": {},
   "outputs": [],
   "source": [
    "import adaptive_latents as al\n",
    "from adaptive_latents import ArrayWithTime\n",
    "from collections import deque\n",
    "from adaptive_latents.input_sources import LDS, KalmanFilter\n",
    "from adaptive_latents.transformer import StreamingTransformer\n",
    "import matplotlib.pyplot as plt\n",
    "from adaptive_latents import VJF, Bubblewrap, StreamingKalmanFilter\n",
    "from adaptive_latents.regressions import BaseKNearestNeighborRegressor\n",
    "import numpy as np\n",
    "\n",
    "rng = np.random.default_rng()\n"
   ]
  },
  {
   "cell_type": "code",
   "execution_count": null,
   "id": "1",
   "metadata": {},
   "outputs": [],
   "source": [
    "_, X, stim = LDS.nest_dynamical_system(100, transitions_per_rotation=60 + 1/np.pi, u_function='constant')\n",
    "# _, X, stim = LDS.nest_dynamical_system(100, transitions_per_rotation=60 + 1/np.pi, u_function=lambda **k: np.zeros(3))\n",
    "stim.t = stim.t"
   ]
  },
  {
   "cell_type": "code",
   "execution_count": null,
   "id": "2",
   "metadata": {},
   "outputs": [],
   "source": [
    "%matplotlib inline\n",
    "fig, axs = plt.subplots(ncols=2, subplot_kw={'projection': '3d'})\n",
    "for ax in axs:\n",
    "    ax.plot(X[:,0], X[:,1], X[:,2])\n",
    "    ax.axis('equal')\n",
    "axs[0].view_init(elev=90, azim=0, roll=0)\n",
    "axs[1].view_init(elev=0, azim=0, roll=0)\n",
    "plt.show()\n"
   ]
  },
  {
   "cell_type": "code",
   "execution_count": null,
   "id": "3",
   "metadata": {},
   "outputs": [],
   "source": [
    "class StimRegressor(StreamingTransformer):\n",
    "    def __init__(self, autoreg=None, attempt_correction=True, input_streams=None, output_streams=None, log_level=None):\n",
    "        input_streams = input_streams or {2:'X', 1:'stim', 0:'dt_X'}\n",
    "        super().__init__(input_streams=input_streams, output_streams=output_streams, log_level=log_level)\n",
    "        if autoreg is None:\n",
    "            autoreg = StreamingKalmanFilter()\n",
    "        self.autoreg = autoreg\n",
    "        self.attempt_correction = attempt_correction\n",
    "        self.stim_reg = BaseKNearestNeighborRegressor(k=2)\n",
    "        self.last_seen_stims = deque(maxlen=1)\n",
    "\n",
    "\n",
    "    def _partial_fit_transform(self, data, stream, return_output_stream):\n",
    "        if self.input_streams[stream] == 'X':\n",
    "            if self.last_seen_stims and np.array(self.last_seen_stims).any():\n",
    "                prediction = self.autoreg.partial_fit_transform(np.array([[X.dt]]), 'dt_X')\n",
    "                self.stim_reg.observe(self.autoreg.state, prediction - data)\n",
    "            self.autoreg.partial_fit_transform(data, 'X')\n",
    "        \n",
    "        if self.input_streams[stream] == 'dt_X':\n",
    "            data = self.autoreg.partial_fit_transform(data, 'dt_X')\n",
    "            if self.last_seen_stims and np.array(self.last_seen_stims).any() and self.attempt_correction:\n",
    "                # raise  Exception()\n",
    "                pred = self.stim_reg.predict(self.autoreg.state)\n",
    "                data = data * np.nan\n",
    "            \n",
    "\n",
    "        if self.input_streams[stream] == 'stim':\n",
    "            self.last_seen_stims.append(data)\n",
    "\n",
    "        return (data, stream) if return_output_stream else data\n",
    "\n",
    "\n",
    "    def get_params(self, deep=True):\n",
    "        return super().get_params(deep) | dict(autoreg=self.autoreg)\n",
    "\n",
    "\n",
    "\n",
    "# StimRegressor().test_if_api_compatible();\n",
    "        \n"
   ]
  },
  {
   "cell_type": "code",
   "execution_count": null,
   "id": "4",
   "metadata": {},
   "outputs": [],
   "source": [
    "n_steps = 1\n",
    "qX = ArrayWithTime(X.dt * n_steps * np.ones((len(X),1)), (X.t + stim.t) / 2)\n",
    "\n",
    "s1 = StimRegressor(autoreg=StreamingKalmanFilter(), attempt_correction=False)\n",
    "o1 = s1.offline_run_on([qX, stim, X], show_tqdm=True)\n",
    "\n",
    "s2 = StimRegressor(autoreg=StreamingKalmanFilter(), attempt_correction=True)\n",
    "o2 = s2.offline_run_on([qX, stim, X], show_tqdm=True)\n",
    "\n"
   ]
  },
  {
   "cell_type": "code",
   "execution_count": null,
   "id": "5",
   "metadata": {},
   "outputs": [],
   "source": [
    "%matplotlib inline\n",
    "_, axs = plt.subplots(squeeze=False)\n",
    "\n",
    "for o in [o1, o2]:\n",
    "    o = ArrayWithTime(o, o.t + o.dt*n_steps)\n",
    "    error = ArrayWithTime.subtract_aligned_indices(o, X)\n",
    "    s = error.time_to_sample(stim.t[stim.flatten() == 1])+0\n",
    "    axs[0,0].plot(error.t[s], error[s,2], '.')\n",
    "    "
   ]
  },
  {
   "cell_type": "code",
   "execution_count": null,
   "id": "6",
   "metadata": {},
   "outputs": [],
   "source": []
  }
 ],
 "metadata": {
  "kernelspec": {
   "display_name": "Python 3",
   "language": "python",
   "name": "python3"
  },
  "language_info": {
   "codemirror_mode": {
    "name": "ipython",
    "version": 2
   },
   "file_extension": ".py",
   "mimetype": "text/x-python",
   "name": "python",
   "nbconvert_exporter": "python",
   "pygments_lexer": "ipython2",
   "version": "2.7.6"
  }
 },
 "nbformat": 4,
 "nbformat_minor": 5
}
