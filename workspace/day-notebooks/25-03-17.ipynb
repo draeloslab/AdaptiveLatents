{
 "cells": [
  {
   "cell_type": "code",
   "execution_count": null,
   "id": "0",
   "metadata": {},
   "outputs": [],
   "source": [
    "import adaptive_latents as al\n",
    "from adaptive_latents import ArrayWithTime\n",
    "from adaptive_latents.input_sources import LDS\n",
    "import matplotlib.pyplot as plt\n",
    "from adaptive_latents import VJF, Bubblewrap, KalmanFilter\n",
    "import numpy as np\n",
    "\n",
    "rng = np.random.default_rng()\n"
   ]
  },
  {
   "cell_type": "code",
   "execution_count": null,
   "id": "1",
   "metadata": {},
   "outputs": [],
   "source": [
    "b = Bubblewrap()\n",
    "\n",
    "b.input_streams"
   ]
  },
  {
   "cell_type": "code",
   "execution_count": null,
   "id": "2",
   "metadata": {},
   "outputs": [],
   "source": [
    "v = VJF()"
   ]
  },
  {
   "cell_type": "code",
   "execution_count": null,
   "id": "3",
   "metadata": {},
   "outputs": [],
   "source": [
    "_, X, stim = LDS.nest_dynamical_system(100, transitions_per_rotation=60 + 1/np.pi)\n",
    "stim.t = stim.t"
   ]
  },
  {
   "cell_type": "code",
   "execution_count": null,
   "id": "4",
   "metadata": {},
   "outputs": [],
   "source": [
    "%matplotlib inline\n",
    "fig, axs = plt.subplots(ncols=2, subplot_kw={'projection': '3d'})\n",
    "for ax in axs:\n",
    "    ax.plot(X[:,0], X[:,1], X[:,2])\n",
    "    ax.axis('equal')\n",
    "axs[0].view_init(elev=90, azim=0, roll=0)\n",
    "axs[1].view_init(elev=0, azim=0, roll=0)\n",
    "plt.show()\n"
   ]
  },
  {
   "cell_type": "code",
   "execution_count": null,
   "id": "5",
   "metadata": {},
   "outputs": [],
   "source": [
    "from adaptive_latents.transformer import DecoupledTransformer\n",
    "from adaptive_latents.regressions import BaseVanillaOnlineRegressor, BaseKNearestNeighborRegressor"
   ]
  },
  {
   "cell_type": "code",
   "execution_count": null,
   "id": "6",
   "metadata": {},
   "outputs": [],
   "source": [
    "class StimRegressor(DecoupledTransformer):\n",
    "    def __init__(self, input_streams=None, spatial_stim_response=True, *args, **kwargs):\n",
    "        input_streams = input_streams or {}\n",
    "        super().__init__(input_streams=input_streams, *args, **kwargs)\n",
    "        self.reg = BaseVanillaOnlineRegressor()\n",
    "        self.stim_reg = BaseKNearestNeighborRegressor(k=2)\n",
    "        self.spatial_stim_response = spatial_stim_response\n",
    "        self.last_seen = None\n",
    "        self.last_seen_stim = None\n",
    "        self.predictions = []\n",
    "        self.auto_pred = []\n",
    "        self.stim_pred = []\n",
    "\n",
    "    def _partial_fit(self, data, stream):\n",
    "        if self.input_streams[stream] == 'X':\n",
    "            if self.last_seen is not None:\n",
    "                auto_pred = ArrayWithTime(self.reg.predict(self.last_seen), data.t)\n",
    "\n",
    "                stim_pred = np.zeros(shape=data.shape)\n",
    "                if self.last_seen_stim.any() and self.spatial_stim_response:\n",
    "                    stim_pred += self.stim_reg.predict(self.last_seen)\n",
    "                stim_pred = ArrayWithTime(stim_pred, data.t)\n",
    "\n",
    "                prediction = auto_pred + stim_pred\n",
    "                self.predictions.append(prediction)\n",
    "                self.auto_pred.append(auto_pred)\n",
    "                self.stim_pred.append(stim_pred)\n",
    "\n",
    "                if not self.last_seen_stim.any():\n",
    "                    self.reg.observe(self.last_seen, data)\n",
    "                else:\n",
    "                    prediction = self.reg.predict(self.last_seen)\n",
    "                    self.stim_reg.observe(self.last_seen, data-prediction)\n",
    "\n",
    "                    prediction = ArrayWithTime(prediction, data.t)\n",
    "\n",
    "            self.last_seen = data\n",
    "\n",
    "        if self.input_streams[stream] == 'stim':\n",
    "            self.last_seen_stim = data\n",
    "\n",
    "\n",
    "    def transform(self, data, stream=0, return_output_stream=False):\n",
    "        return data, stream\n",
    "        \n"
   ]
  },
  {
   "cell_type": "code",
   "execution_count": null,
   "id": "7",
   "metadata": {},
   "outputs": [],
   "source": [
    "s1 = StimRegressor(input_streams={0:'X', 1:'stim'}, spatial_stim_response=True)\n",
    "s1.offline_run_on([X, stim], show_tqdm=True)\n",
    "\n",
    "s2 = StimRegressor(input_streams={0:'X', 1:'stim'}, spatial_stim_response=False)\n",
    "s2.offline_run_on([X, stim], show_tqdm=True);\n"
   ]
  },
  {
   "cell_type": "code",
   "execution_count": null,
   "id": "8",
   "metadata": {},
   "outputs": [],
   "source": [
    "%matplotlib inline\n",
    "_, axs = plt.subplots(squeeze=False)\n",
    "\n",
    "\n",
    "def operation(x):\n",
    "    return al.ArrayWithTime.from_list(x, drop_early_nans=True, squeeze_type='to_2d')[:, slice(-1,None)]\n",
    "\n",
    "for s in [s2,s1]:\n",
    "    pred = operation(s.predictions)\n",
    "    sl = stim[-pred.shape[0]:]==1\n",
    "    error = (pred - X[-pred.shape[0]:])\n",
    "    axs[0,0].plot(error.t[sl], error[sl,-1], '.')\n",
    "axs[0,0].legend(['no stim regression', 'with stim regression'])\n",
    "axs[0,0].set_title('Error comparison for timepoints with stimulation')\n"
   ]
  },
  {
   "cell_type": "code",
   "execution_count": null,
   "id": "9",
   "metadata": {},
   "outputs": [],
   "source": []
  }
 ],
 "metadata": {
  "kernelspec": {
   "display_name": "Python 3",
   "language": "python",
   "name": "python3"
  },
  "language_info": {
   "codemirror_mode": {
    "name": "ipython",
    "version": 2
   },
   "file_extension": ".py",
   "mimetype": "text/x-python",
   "name": "python",
   "nbconvert_exporter": "python",
   "pygments_lexer": "ipython2",
   "version": "2.7.6"
  }
 },
 "nbformat": 4,
 "nbformat_minor": 5
}
