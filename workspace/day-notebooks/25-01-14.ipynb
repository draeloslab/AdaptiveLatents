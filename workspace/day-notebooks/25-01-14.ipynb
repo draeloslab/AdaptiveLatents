{
 "cells": [
  {
   "cell_type": "code",
   "execution_count": null,
   "id": "0",
   "metadata": {},
   "outputs": [],
   "source": [
    "import adaptive_latents as al\n",
    "import numpy as np\n",
    "import warnings\n",
    "import scipy.signal as signal\n",
    "import matplotlib.pyplot as plt\n",
    "import naumann_utility_functions as nuf\n",
    "\n",
    "rng = np.random.default_rng()"
   ]
  },
  {
   "cell_type": "code",
   "execution_count": null,
   "id": "1",
   "metadata": {},
   "outputs": [],
   "source": [
    "from dataclasses import dataclass\n",
    "from typing import Literal\n",
    "\n",
    "@dataclass\n",
    "class Options:\n",
    "    sub_dataset: Literal[1,2]\n",
    "    n_neurons: int\n",
    "    shuffle: set\n",
    "    highpass: Literal[None, 'centering', 'filter']\n",
    "    lowpass: Literal[None, 'smoothing', 'filter']\n",
    "    zscore: Literal[None, 'streaming' , 'batch']\n",
    "    space_train_on: Literal['both', 'vis', 'opto']\n",
    "    zscore_per: Literal['whole', 'half'] = 'whole'\n",
    "    causal:bool = False\n",
    "    offline:bool = True\n",
    "    high_f:float = 1/2\n",
    "    low_f:float = 1/50\n",
    "\n",
    "\n",
    "options = Options(\n",
    "    sub_dataset=2,\n",
    "    n_neurons=150,\n",
    "    shuffle=set(),\n",
    "    highpass=None,\n",
    "    lowpass='filter',\n",
    "    zscore=None,\n",
    "    zscore_per = 'whole',\n",
    "    space_train_on='both',\n",
    ")"
   ]
  },
  {
   "cell_type": "code",
   "execution_count": null,
   "id": "2",
   "metadata": {},
   "outputs": [],
   "source": [
    "with warnings.catch_warnings():\n",
    "    warnings.filterwarnings(\"ignore\", category=UserWarning)\n",
    "    d = al.datasets.Naumann24uDataset(sub_dataset_identifier=options.sub_dataset)"
   ]
  },
  {
   "cell_type": "code",
   "execution_count": null,
   "id": "3",
   "metadata": {},
   "outputs": [],
   "source": [
    "def get_rectangular_block(neural_data, n_neurons=150):\n",
    "    # type: (al.ArrayWithTime, int) -> al.ArrayWithTime\n",
    "    cutoff1 = np.nonzero(np.nancumsum(neural_data[:,n_neurons]) > 0)[0][0]\n",
    "    cutoff2 = np.nonzero(np.nancumsum(neural_data[cutoff1,::-1]))[0][0]\n",
    "    neural_data = neural_data.slice(cutoff1, -1)[:,:-cutoff2]\n",
    "    additional_cutoff_info = np.where(np.isnan(neural_data).any(axis=1))[0]\n",
    "    if additional_cutoff_info.size > 0:\n",
    "        cutoff3 = additional_cutoff_info[-1] + 1\n",
    "        neural_data = neural_data.slice(cutoff3, -1)\n",
    "    assert not np.isnan(neural_data).any()\n",
    "    return neural_data.copy()\n",
    "\n",
    "neural_data = get_rectangular_block(d.neural_data, options.n_neurons)\n"
   ]
  },
  {
   "cell_type": "code",
   "execution_count": null,
   "id": "4",
   "metadata": {},
   "outputs": [],
   "source": [
    "if isinstance(options.shuffle, str):\n",
    "    options.shuffle = {options.shuffle}\n",
    "    \n",
    "if 'row' in options.shuffle:\n",
    "    rng.shuffle(neural_data, axis=1)\n",
    "\n",
    "if 'column' in options.shuffle:\n",
    "    rng.shuffle(neural_data, axis=0)\n"
   ]
  },
  {
   "cell_type": "code",
   "execution_count": null,
   "id": "5",
   "metadata": {},
   "outputs": [],
   "source": [
    "\n",
    "filt = signal.filtfilt if options.causal else signal.lfilter\n",
    "old_t = neural_data.t\n"
   ]
  },
  {
   "cell_type": "code",
   "execution_count": null,
   "id": "6",
   "metadata": {},
   "outputs": [],
   "source": [
    "if options.highpass == 'centering':\n",
    "    centerer = al.CenteringTransformer(init_size=50)\n",
    "    if options.offline:\n",
    "        neural_data = centerer.offline_fit_then_transform(neural_data)\n",
    "    else:\n",
    "        neural_data = centerer.offline_run_on(neural_data)\n",
    "        \n",
    "elif options.highpass == 'filter' and not options.lowpass == 'filter':\n",
    "    \n",
    "    b, a = signal.butter(N=10, Wn=options.low_f, fs=1/neural_data.dt, btype='high', output='ba')\n",
    "    neural_data = filt(b, a, neural_data, axis=0)\n"
   ]
  },
  {
   "cell_type": "code",
   "execution_count": null,
   "id": "7",
   "metadata": {},
   "outputs": [],
   "source": [
    "if options.lowpass == 'smoothing':\n",
    "    smoother = al.KernelSmoother(tau=2)\n",
    "    neural_data = smoother.offline_run_on(neural_data)\n",
    "    \n",
    "elif options.lowpass == 'filter' and not options.highpass == 'filter':\n",
    "    b, a = signal.butter(N=10, Wn=options.high_f, fs=1/neural_data.dt, btype='low', output='ba')\n",
    "    neural_data = filt(b, a, neural_data, axis=0)\n"
   ]
  },
  {
   "cell_type": "code",
   "execution_count": null,
   "id": "8",
   "metadata": {},
   "outputs": [],
   "source": [
    "if options.highpass == options.lowpass == 'filter':\n",
    "    b, a = signal.butter(N=10, Wn=[options.low_f, options.high_f], fs=1/neural_data.dt, btype='band', output='ba')\n",
    "    neural_data = filt(b, a, neural_data, axis=0)"
   ]
  },
  {
   "cell_type": "code",
   "execution_count": null,
   "id": "9",
   "metadata": {},
   "outputs": [],
   "source": [
    "neural_data = al.ArrayWithTime(neural_data, old_t)"
   ]
  },
  {
   "cell_type": "code",
   "execution_count": null,
   "id": "10",
   "metadata": {},
   "outputs": [],
   "source": [
    "to_zscore = []\n",
    "if options.zscore_per == 'whole':\n",
    "    to_zscore = [neural_data]\n",
    "elif options.zscore_per == 'half':\n",
    "    to_zscore = [\n",
    "        neural_data.slice_by_time(None, d.end_of_visual_period_time),\n",
    "        neural_data.slice_by_time(d.end_of_visual_period_time, None)\n",
    "    ]\n",
    "else:\n",
    "    raise ValueError()\n",
    "\n",
    "zscored = []\n",
    "for to_score in to_zscore:\n",
    "    if options.zscore == 'streaming':\n",
    "        zscorer = al.ZScoringTransformer()\n",
    "        if options.offline:\n",
    "            scored = zscorer.offline_fit_then_transform(to_score)\n",
    "        else:\n",
    "            scored = zscorer.offline_run_on(to_score)\n",
    "    elif options.zscore == 'batch':\n",
    "        to_score = to_score - to_score.mean(axis=0)\n",
    "        scored = to_score / to_score.std(axis=0, ddof=1)\n",
    "    elif options.zscore is None:\n",
    "        scored = to_score\n",
    "    else:\n",
    "        raise ValueError()\n",
    "    zscored.append(scored)\n",
    "\n",
    "neural_data = al.ArrayWithTime(np.vstack(zscored), np.hstack([np.array(x.t[-x.shape[0]:]).flatten() for x in zscored]))\n"
   ]
  },
  {
   "cell_type": "code",
   "execution_count": null,
   "id": "11",
   "metadata": {},
   "outputs": [],
   "source": [
    "assert options.offline is True or options.space_train_on == 'both'\n",
    "\n",
    "pro = al.proSVD(k=3)\n",
    "\n",
    "if options.offline:\n",
    "    if options.space_train_on == 'both':\n",
    "        train_data = neural_data\n",
    "    elif options.space_train_on == 'vis':\n",
    "        train_data = neural_data.slice_by_time(None, d.end_of_visual_period_time)\n",
    "    elif options.space_train_on == 'opto':\n",
    "        train_data = neural_data.slice_by_time(d.end_of_visual_period_time, None)\n",
    "    else:\n",
    "        raise ValueError()\n",
    "\n",
    "    pro.offline_run_on(train_data)\n",
    "    pro.freeze()\n",
    "    latents = pro.offline_run_on(neural_data)\n",
    "else:\n",
    "    latents = pro.offline_run_on(neural_data)\n",
    "    \n"
   ]
  },
  {
   "cell_type": "code",
   "execution_count": null,
   "id": "12",
   "metadata": {},
   "outputs": [],
   "source": []
  },
  {
   "cell_type": "code",
   "execution_count": null,
   "id": "13",
   "metadata": {},
   "outputs": [],
   "source": [
    "%matplotlib qt\n",
    "\n",
    "def plot_for_times(data):\n",
    "    fig, axs = plt.subplots(figsize=(15, 10), nrows=3)\n",
    "    for ax in axs:\n",
    "        ax.plot(data.t, data.as_array())\n",
    "        for t in d.visual_stimuli.time:\n",
    "            ax.axvline(t, color='k')\n",
    "\n",
    "        for t in d.opto_stimulations.time:\n",
    "            ax.axvline(t, color='k', linestyle='--')\n",
    "\n",
    "    xrange = np.array([0,100])\n",
    "    axs[0].set_xlim(d.end_of_visual_period_time /2 + xrange)\n",
    "    axs[1].set_xlim(d.end_of_visual_period_time + xrange - 50)\n",
    "    axs[2].set_xlim((data.t[-1] + d.end_of_visual_period_time)/2 + xrange)\n",
    "    return fig, axs\n",
    "\n",
    "plot_for_times(neural_data);\n"
   ]
  },
  {
   "cell_type": "code",
   "execution_count": null,
   "id": "14",
   "metadata": {},
   "outputs": [],
   "source": [
    "plot_for_times(latents);\n"
   ]
  },
  {
   "cell_type": "code",
   "execution_count": null,
   "id": "15",
   "metadata": {},
   "outputs": [],
   "source": [
    "%matplotlib qt\n",
    "fig, axs = plt.subplots(subplot_kw={'projection': '3d'}, ncols=2, figsize=(15, 10))\n",
    "\n",
    "vis_period = latents.slice_by_time(None, d.end_of_visual_period_time)\n",
    "opto_period = latents.slice_by_time(d.end_of_visual_period_time, None)\n",
    "\n",
    "axs[0].plot(vis_period[:,0], vis_period[:,1], vis_period[:,2], color='C0')\n",
    "axs[0].plot(opto_period[:,0], opto_period[:,1], opto_period[:,2], color='C0')\n",
    "axs[0].axis('equal')\n",
    "\n",
    "\n",
    "\n",
    "period = np.array([3, 9])\n",
    "for t in d.opto_stimulations.time:\n",
    "    sub = latents.slice_by_time(*(t + period))\n",
    "    axs[1].plot(sub[:,0], sub[:,1], sub[:,2], color='C1')\n",
    "    \n",
    "period = np.array([7, 12])\n",
    "for t in d.visual_stimuli.time:\n",
    "    sub = latents.slice_by_time(*(t + period))\n",
    "    axs[1].plot(sub[:,0], sub[:,1], sub[:,2], color='C2')\n",
    "\n",
    "\n",
    "axs[0].shareview(axs[1])\n"
   ]
  },
  {
   "cell_type": "code",
   "execution_count": null,
   "id": "16",
   "metadata": {},
   "outputs": [],
   "source": []
  }
 ],
 "metadata": {
  "kernelspec": {
   "display_name": "Python 3",
   "language": "python",
   "name": "python3"
  },
  "language_info": {
   "codemirror_mode": {
    "name": "ipython",
    "version": 2
   },
   "file_extension": ".py",
   "mimetype": "text/x-python",
   "name": "python",
   "nbconvert_exporter": "python",
   "pygments_lexer": "ipython2",
   "version": "2.7.6"
  }
 },
 "nbformat": 4,
 "nbformat_minor": 5
}
